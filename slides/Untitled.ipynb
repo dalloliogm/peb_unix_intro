{
 "cells": [
  {
   "cell_type": "code",
   "execution_count": 1,
   "metadata": {},
   "outputs": [
    {
     "name": "stdout",
     "output_type": "stream",
     "text": [
      "1_intro.ipynb\t\t\t3_grep.slides.html\n",
      "1_intro.pdf\t\t\t4_awk_make slides.pdf\n",
      "1_intro.slides.html\t\t4_awk_make.ipynb\n",
      "2_connect_Server.ipynb\t\t4_awk_make.pdf\n",
      "2_connect_Server.pdf\t\t4_awk_make.slides.html\n",
      "2_connect_Server.slides.html\tUntitled.ipynb\n",
      "3_grep.ipynb\t\t\timages\n",
      "3_grep.pdf\n"
     ]
    }
   ],
   "source": [
    "ls"
   ]
  }
 ],
 "metadata": {
  "kernelspec": {
   "display_name": "Bash",
   "language": "bash",
   "name": "bash"
  },
  "language_info": {
   "codemirror_mode": "shell",
   "file_extension": ".sh",
   "mimetype": "text/x-sh",
   "name": "bash"
  }
 },
 "nbformat": 4,
 "nbformat_minor": 2
}
