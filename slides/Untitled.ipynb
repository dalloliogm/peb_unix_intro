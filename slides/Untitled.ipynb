{
 "cells": [
  {
   "cell_type": "code",
   "execution_count": 12,
   "metadata": {},
   "outputs": [
    {
     "data": {
      "text/html": [
       "<table>\n",
       "<thead><tr><th scope=col>x</th><th scope=col>y</th><th scope=col>x == y</th></tr></thead>\n",
       "<tbody>\n",
       "\t<tr><td> 0.0000000</td><td> 0.0000000</td><td> TRUE     </td></tr>\n",
       "\t<tr><td> 3.8017840</td><td> 3.8017840</td><td>FALSE     </td></tr>\n",
       "\t<tr><td> 1.3933693</td><td> 1.3933693</td><td>FALSE     </td></tr>\n",
       "\t<tr><td>-0.8613531</td><td>-0.8613531</td><td> TRUE     </td></tr>\n",
       "\t<tr><td> 8.8274691</td><td> 8.8274691</td><td> TRUE     </td></tr>\n",
       "\t<tr><td> 2.2724875</td><td> 2.2724875</td><td> TRUE     </td></tr>\n",
       "\t<tr><td>-1.2090620</td><td>-1.2090620</td><td> TRUE     </td></tr>\n",
       "\t<tr><td>11.4053521</td><td>11.4053521</td><td> TRUE     </td></tr>\n",
       "\t<tr><td> 2.7867386</td><td> 2.7867386</td><td>FALSE     </td></tr>\n",
       "\t<tr><td>-1.4306766</td><td>-1.4306766</td><td>FALSE     </td></tr>\n",
       "</tbody>\n",
       "</table>\n"
      ],
      "text/latex": [
       "\\begin{tabular}{r|lll}\n",
       " x & y & x == y\\\\\n",
       "\\hline\n",
       "\t  0.0000000 &  0.0000000 &  TRUE     \\\\\n",
       "\t  3.8017840 &  3.8017840 & FALSE     \\\\\n",
       "\t  1.3933693 &  1.3933693 & FALSE     \\\\\n",
       "\t -0.8613531 & -0.8613531 &  TRUE     \\\\\n",
       "\t  8.8274691 &  8.8274691 &  TRUE     \\\\\n",
       "\t  2.2724875 &  2.2724875 &  TRUE     \\\\\n",
       "\t -1.2090620 & -1.2090620 &  TRUE     \\\\\n",
       "\t 11.4053521 & 11.4053521 &  TRUE     \\\\\n",
       "\t  2.7867386 &  2.7867386 & FALSE     \\\\\n",
       "\t -1.4306766 & -1.4306766 & FALSE     \\\\\n",
       "\\end{tabular}\n"
      ],
      "text/markdown": [
       "\n",
       "x | y | x == y | \n",
       "|---|---|---|---|---|---|---|---|---|---|\n",
       "|  0.0000000 |  0.0000000 |  TRUE      | \n",
       "|  3.8017840 |  3.8017840 | FALSE      | \n",
       "|  1.3933693 |  1.3933693 | FALSE      | \n",
       "| -0.8613531 | -0.8613531 |  TRUE      | \n",
       "|  8.8274691 |  8.8274691 |  TRUE      | \n",
       "|  2.2724875 |  2.2724875 |  TRUE      | \n",
       "| -1.2090620 | -1.2090620 |  TRUE      | \n",
       "| 11.4053521 | 11.4053521 |  TRUE      | \n",
       "|  2.7867386 |  2.7867386 | FALSE      | \n",
       "| -1.4306766 | -1.4306766 | FALSE      | \n",
       "\n",
       "\n"
      ],
      "text/plain": [
       "   x          y          x == y\n",
       "1   0.0000000  0.0000000  TRUE \n",
       "2   3.8017840  3.8017840 FALSE \n",
       "3   1.3933693  1.3933693 FALSE \n",
       "4  -0.8613531 -0.8613531  TRUE \n",
       "5   8.8274691  8.8274691  TRUE \n",
       "6   2.2724875  2.2724875  TRUE \n",
       "7  -1.2090620 -1.2090620  TRUE \n",
       "8  11.4053521 11.4053521  TRUE \n",
       "9   2.7867386  2.7867386 FALSE \n",
       "10 -1.4306766 -1.4306766 FALSE "
      ]
     },
     "metadata": {},
     "output_type": "display_data"
    },
    {
     "data": {
      "text/html": [
       "<table>\n",
       "<thead><tr><th scope=col>x</th><th scope=col>y</th><th scope=col>x == y</th></tr></thead>\n",
       "<tbody>\n",
       "\t<tr><td> 0.0000000 </td><td>       -Inf</td><td>FALSE      </td></tr>\n",
       "\t<tr><td> 3.8017840 </td><td> 0.26303441</td><td>FALSE      </td></tr>\n",
       "\t<tr><td> 1.3933693 </td><td> 0.71768482</td><td>FALSE      </td></tr>\n",
       "\t<tr><td>-0.8613531 </td><td>-1.16096405</td><td>FALSE      </td></tr>\n",
       "\t<tr><td> 8.8274691 </td><td> 0.11328275</td><td>FALSE      </td></tr>\n",
       "\t<tr><td> 2.2724875 </td><td> 0.44004643</td><td>FALSE      </td></tr>\n",
       "\t<tr><td>-1.2090620 </td><td>-0.82708748</td><td>FALSE      </td></tr>\n",
       "\t<tr><td>11.4053521 </td><td> 0.08767814</td><td>FALSE      </td></tr>\n",
       "\t<tr><td> 2.7867386 </td><td> 0.35884241</td><td>FALSE      </td></tr>\n",
       "\t<tr><td>-1.4306766 </td><td>-0.69897000</td><td>FALSE      </td></tr>\n",
       "</tbody>\n",
       "</table>\n"
      ],
      "text/latex": [
       "\\begin{tabular}{r|lll}\n",
       " x & y & x == y\\\\\n",
       "\\hline\n",
       "\t  0.0000000  &        -Inf & FALSE      \\\\\n",
       "\t  3.8017840  &  0.26303441 & FALSE      \\\\\n",
       "\t  1.3933693  &  0.71768482 & FALSE      \\\\\n",
       "\t -0.8613531  & -1.16096405 & FALSE      \\\\\n",
       "\t  8.8274691  &  0.11328275 & FALSE      \\\\\n",
       "\t  2.2724875  &  0.44004643 & FALSE      \\\\\n",
       "\t -1.2090620  & -0.82708748 & FALSE      \\\\\n",
       "\t 11.4053521  &  0.08767814 & FALSE      \\\\\n",
       "\t  2.7867386  &  0.35884241 & FALSE      \\\\\n",
       "\t -1.4306766  & -0.69897000 & FALSE      \\\\\n",
       "\\end{tabular}\n"
      ],
      "text/markdown": [
       "\n",
       "x | y | x == y | \n",
       "|---|---|---|---|---|---|---|---|---|---|\n",
       "|  0.0000000  |        -Inf | FALSE       | \n",
       "|  3.8017840  |  0.26303441 | FALSE       | \n",
       "|  1.3933693  |  0.71768482 | FALSE       | \n",
       "| -0.8613531  | -1.16096405 | FALSE       | \n",
       "|  8.8274691  |  0.11328275 | FALSE       | \n",
       "|  2.2724875  |  0.44004643 | FALSE       | \n",
       "| -1.2090620  | -0.82708748 | FALSE       | \n",
       "| 11.4053521  |  0.08767814 | FALSE       | \n",
       "|  2.7867386  |  0.35884241 | FALSE       | \n",
       "| -1.4306766  | -0.69897000 | FALSE       | \n",
       "\n",
       "\n"
      ],
      "text/plain": [
       "   x          y           x == y\n",
       "1   0.0000000        -Inf FALSE \n",
       "2   3.8017840  0.26303441 FALSE \n",
       "3   1.3933693  0.71768482 FALSE \n",
       "4  -0.8613531 -1.16096405 FALSE \n",
       "5   8.8274691  0.11328275 FALSE \n",
       "6   2.2724875  0.44004643 FALSE \n",
       "7  -1.2090620 -0.82708748 FALSE \n",
       "8  11.4053521  0.08767814 FALSE \n",
       "9   2.7867386  0.35884241 FALSE \n",
       "10 -1.4306766 -0.69897000 FALSE "
      ]
     },
     "metadata": {},
     "output_type": "display_data"
    },
    {
     "data": {
      "text/html": [
       "<table>\n",
       "<thead><tr><th scope=col>x</th><th scope=col>y</th><th scope=col>x == y</th></tr></thead>\n",
       "<tbody>\n",
       "\t<tr><td> 0.0000000 </td><td>       -Inf</td><td>FALSE      </td></tr>\n",
       "\t<tr><td> 3.8017840 </td><td> 0.26303441</td><td>FALSE      </td></tr>\n",
       "\t<tr><td> 1.3933693 </td><td> 0.71768482</td><td>FALSE      </td></tr>\n",
       "\t<tr><td>-0.8613531 </td><td>-1.16096405</td><td>FALSE      </td></tr>\n",
       "\t<tr><td> 8.8274691 </td><td> 0.11328275</td><td>FALSE      </td></tr>\n",
       "\t<tr><td> 2.2724875 </td><td> 0.44004643</td><td>FALSE      </td></tr>\n",
       "\t<tr><td>-1.2090620 </td><td>-0.82708748</td><td>FALSE      </td></tr>\n",
       "\t<tr><td>11.4053521 </td><td> 0.08767814</td><td>FALSE      </td></tr>\n",
       "\t<tr><td> 2.7867386 </td><td> 0.35884241</td><td>FALSE      </td></tr>\n",
       "\t<tr><td>-1.4306766 </td><td>-0.69897000</td><td>FALSE      </td></tr>\n",
       "</tbody>\n",
       "</table>\n"
      ],
      "text/latex": [
       "\\begin{tabular}{r|lll}\n",
       " x & y & x == y\\\\\n",
       "\\hline\n",
       "\t  0.0000000  &        -Inf & FALSE      \\\\\n",
       "\t  3.8017840  &  0.26303441 & FALSE      \\\\\n",
       "\t  1.3933693  &  0.71768482 & FALSE      \\\\\n",
       "\t -0.8613531  & -1.16096405 & FALSE      \\\\\n",
       "\t  8.8274691  &  0.11328275 & FALSE      \\\\\n",
       "\t  2.2724875  &  0.44004643 & FALSE      \\\\\n",
       "\t -1.2090620  & -0.82708748 & FALSE      \\\\\n",
       "\t 11.4053521  &  0.08767814 & FALSE      \\\\\n",
       "\t  2.7867386  &  0.35884241 & FALSE      \\\\\n",
       "\t -1.4306766  & -0.69897000 & FALSE      \\\\\n",
       "\\end{tabular}\n"
      ],
      "text/markdown": [
       "\n",
       "x | y | x == y | \n",
       "|---|---|---|---|---|---|---|---|---|---|\n",
       "|  0.0000000  |        -Inf | FALSE       | \n",
       "|  3.8017840  |  0.26303441 | FALSE       | \n",
       "|  1.3933693  |  0.71768482 | FALSE       | \n",
       "| -0.8613531  | -1.16096405 | FALSE       | \n",
       "|  8.8274691  |  0.11328275 | FALSE       | \n",
       "|  2.2724875  |  0.44004643 | FALSE       | \n",
       "| -1.2090620  | -0.82708748 | FALSE       | \n",
       "| 11.4053521  |  0.08767814 | FALSE       | \n",
       "|  2.7867386  |  0.35884241 | FALSE       | \n",
       "| -1.4306766  | -0.69897000 | FALSE       | \n",
       "\n",
       "\n"
      ],
      "text/plain": [
       "   x          y           x == y\n",
       "1   0.0000000        -Inf FALSE \n",
       "2   3.8017840  0.26303441 FALSE \n",
       "3   1.3933693  0.71768482 FALSE \n",
       "4  -0.8613531 -1.16096405 FALSE \n",
       "5   8.8274691  0.11328275 FALSE \n",
       "6   2.2724875  0.44004643 FALSE \n",
       "7  -1.2090620 -0.82708748 FALSE \n",
       "8  11.4053521  0.08767814 FALSE \n",
       "9   2.7867386  0.35884241 FALSE \n",
       "10 -1.4306766 -0.69897000 FALSE "
      ]
     },
     "metadata": {},
     "output_type": "display_data"
    }
   ],
   "source": [
    "library(tidyverse)\n",
    "a=1:10\n",
    "b=0.2:3\n",
    "tibble(x=log(a,b),y=(1/log(b,a)), x==y)\n",
    "tibble(x=log(a,b),y=(log(b,a)), x==y)\n",
    "tibble(x=log(a,b),y=(log(b,a)), x==y)\n"
   ]
  },
  {
   "cell_type": "code",
   "execution_count": 17,
   "metadata": {},
   "outputs": [
    {
     "data": {
      "text/html": [
       "2"
      ],
      "text/latex": [
       "2"
      ],
      "text/markdown": [
       "2"
      ],
      "text/plain": [
       "[1] 2"
      ]
     },
     "metadata": {},
     "output_type": "display_data"
    }
   ],
   "source": [
    "log(25, base=5)"
   ]
  },
  {
   "cell_type": "code",
   "execution_count": 15,
   "metadata": {},
   "outputs": [
    {
     "data": {
      "text/html": [
       "1"
      ],
      "text/latex": [
       "1"
      ],
      "text/markdown": [
       "1"
      ],
      "text/plain": [
       "[1] 1"
      ]
     },
     "metadata": {},
     "output_type": "display_data"
    }
   ],
   "source": [
    "x=20\n",
    "1/(log(x, base=5)) + 1/(log(x, base=4))"
   ]
  }
 ],
 "metadata": {
  "kernelspec": {
   "display_name": "R",
   "language": "R",
   "name": "ir"
  },
  "language_info": {
   "codemirror_mode": "r",
   "file_extension": ".r",
   "mimetype": "text/x-r-source",
   "name": "R",
   "pygments_lexer": "r",
   "version": "3.5.1"
  }
 },
 "nbformat": 4,
 "nbformat_minor": 2
}
