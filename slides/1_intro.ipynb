{
 "cells": [
  {
   "cell_type": "markdown",
   "metadata": {
    "toc": "true"
   },
   "source": [
    "# Table of Contents\n",
    " <p><div class=\"lev1 toc-item\"><a href=\"#Programming-for-Evolutionary-Biology-Leipzig---Introduction-to-Unix\" data-toc-modified-id=\"Programming-for-Evolutionary-Biology-Leipzig---Introduction-to-Unix-1\"><span class=\"toc-item-num\">1&nbsp;&nbsp;</span>Programming for Evolutionary Biology Leipzig - Introduction to Unix</a></div><div class=\"lev1 toc-item\"><a href=\"#What-is-the-command-line-and-why-should-we-use-it?\" data-toc-modified-id=\"What-is-the-command-line-and-why-should-we-use-it?-2\"><span class=\"toc-item-num\">2&nbsp;&nbsp;</span>What is the command line and why should we use it?</a></div><div class=\"lev1 toc-item\"><a href=\"#What-is-Unix?\" data-toc-modified-id=\"What-is-Unix?-3\"><span class=\"toc-item-num\">3&nbsp;&nbsp;</span>What is Unix?</a></div><div class=\"lev2 toc-item\"><a href=\"#Linux,-MacOs,-and-Unix\" data-toc-modified-id=\"Linux,-MacOs,-and-Unix-3.1\"><span class=\"toc-item-num\">3.1&nbsp;&nbsp;</span>Linux, MacOs, and Unix</a></div><div class=\"lev1 toc-item\"><a href=\"#The-Unix-Philosophy\" data-toc-modified-id=\"The-Unix-Philosophy-4\"><span class=\"toc-item-num\">4&nbsp;&nbsp;</span>The Unix Philosophy</a></div><div class=\"lev1 toc-item\"><a href=\"#TAs-and-support\" data-toc-modified-id=\"TAs-and-support-5\"><span class=\"toc-item-num\">5&nbsp;&nbsp;</span>TAs and support</a></div><div class=\"lev1 toc-item\"><a href=\"#Hands-on-Linux:-let's-login!\" data-toc-modified-id=\"Hands-on-Linux:-let's-login!-6\"><span class=\"toc-item-num\">6&nbsp;&nbsp;</span>Hands on Linux: let's login!</a></div><div class=\"lev2 toc-item\"><a href=\"#While-the-computer-loads:-make-yourself-comfortable!\" data-toc-modified-id=\"While-the-computer-loads:-make-yourself-comfortable!-6.1\"><span class=\"toc-item-num\">6.1&nbsp;&nbsp;</span>While the computer loads: make yourself comfortable!</a></div><div class=\"lev2 toc-item\"><a href=\"#This-is-how-the-desktop-should-look-like,-after-logging-in\" data-toc-modified-id=\"This-is-how-the-desktop-should-look-like,-after-logging-in-6.2\"><span class=\"toc-item-num\">6.2&nbsp;&nbsp;</span>This is how the desktop should look like, after logging in</a></div><div class=\"lev2 toc-item\"><a href=\"#The-Linux-desktop\" data-toc-modified-id=\"The-Linux-desktop-6.3\"><span class=\"toc-item-num\">6.3&nbsp;&nbsp;</span>The Linux desktop</a></div><div class=\"lev1 toc-item\"><a href=\"#Let's-open-the-terminal\" data-toc-modified-id=\"Let's-open-the-terminal-7\"><span class=\"toc-item-num\">7&nbsp;&nbsp;</span>Let's open the terminal</a></div><div class=\"lev2 toc-item\"><a href=\"#How-does-a-terminal-looks-like?\" data-toc-modified-id=\"How-does-a-terminal-looks-like?-7.1\"><span class=\"toc-item-num\">7.1&nbsp;&nbsp;</span>How does a terminal looks like?</a></div><div class=\"lev2 toc-item\"><a href=\"#More-definitions\" data-toc-modified-id=\"More-definitions-7.2\"><span class=\"toc-item-num\">7.2&nbsp;&nbsp;</span>More definitions</a></div><div class=\"lev1 toc-item\"><a href=\"#How-to-access-a-terminal-from-your-computer/laptop\" data-toc-modified-id=\"How-to-access-a-terminal-from-your-computer/laptop-8\"><span class=\"toc-item-num\">8&nbsp;&nbsp;</span>How to access a terminal from your computer/laptop</a></div><div class=\"lev2 toc-item\"><a href=\"#Windows\" data-toc-modified-id=\"Windows-8.1\"><span class=\"toc-item-num\">8.1&nbsp;&nbsp;</span>Windows</a></div><div class=\"lev2 toc-item\"><a href=\"#Mac\" data-toc-modified-id=\"Mac-8.2\"><span class=\"toc-item-num\">8.2&nbsp;&nbsp;</span>Mac</a></div><div class=\"lev2 toc-item\"><a href=\"#Linux\" data-toc-modified-id=\"Linux-8.3\"><span class=\"toc-item-num\">8.3&nbsp;&nbsp;</span>Linux</a></div><div class=\"lev1 toc-item\"><a href=\"#Basic-Unix-Commands:-ls,-cd\" data-toc-modified-id=\"Basic-Unix-Commands:-ls,-cd-9\"><span class=\"toc-item-num\">9&nbsp;&nbsp;</span>Basic Unix Commands: ls, cd</a></div><div class=\"lev1 toc-item\"><a href=\"#Getting-the-workshop-materials\" data-toc-modified-id=\"Getting-the-workshop-materials-10\"><span class=\"toc-item-num\">10&nbsp;&nbsp;</span>Getting the workshop materials</a></div><div class=\"lev3 toc-item\"><a href=\"#Advanced:-using-git-to-get-the-materials\" data-toc-modified-id=\"Advanced:-using-git-to-get-the-materials-10.0.1\"><span class=\"toc-item-num\">10.0.1&nbsp;&nbsp;</span>Advanced: using git to get the materials</a></div><div class=\"lev2 toc-item\"><a href=\"#ls--l\" data-toc-modified-id=\"ls--l-10.1\"><span class=\"toc-item-num\">10.1&nbsp;&nbsp;</span>ls -l</a></div><div class=\"lev1 toc-item\"><a href=\"#Accessing-the-contents-of-a-file:-head,-cat,-less\" data-toc-modified-id=\"Accessing-the-contents-of-a-file:-head,-cat,-less-11\"><span class=\"toc-item-num\">11&nbsp;&nbsp;</span>Accessing the contents of a file: head, cat, less</a></div>"
   ]
  },
  {
   "cell_type": "markdown",
   "metadata": {
    "slideshow": {
     "slide_type": "slide"
    }
   },
   "source": [
    "# Programming for Evolutionary Biology Leipzig - Introduction to Unix\n",
    "\n",
    "Giovanni M. Dall'Olio, GlaxoSmithKline, 20/02/2017. All materials available here: http://bit.ly/peb_unix\n",
    "\n",
    "```\n",
    " _______________\n",
    " / Welcome to    \\\n",
    " \\ PEB Leipzig! /\n",
    "  ---------------\n",
    "         \\   ^__^\n",
    "          \\  (oo)\\_______\n",
    "             (__)\\       )\\/\\\n",
    "                 ||----w |\n",
    "                 ||     ||\n",
    "```\n",
    "\n",
    "Welcome to the Programming for Evoluationary Biology workshop!!\n",
    "\n",
    "In this lesson we will review some basic Unix command, as well as bash usage.\n",
    "\n",
    "**How to use these slides**: Press Space to get to the next slide. Use arrows to navigate the subsections."
   ]
  },
  {
   "cell_type": "markdown",
   "metadata": {
    "slideshow": {
     "slide_type": "slide"
    }
   },
   "source": [
    "# What is the command line and why should we use it?\n",
    "\n",
    "Most computations in bioinformatics and data science are done from a command line interface, rather than from a point-and-click approach.\n",
    "\n",
    "This might seem less intuitive and quite cumbersome at the beginning, but it is actually very powerful and direct.\n",
    "\n",
    "Today we will make our first steps with the command line, learn the history and approach of the Unix systems, and see what are the advantages of this approach."
   ]
  },
  {
   "cell_type": "markdown",
   "metadata": {
    "slideshow": {
     "slide_type": "slide"
    }
   },
   "source": [
    "# What is Unix?\n",
    "\n",
    "\n",
    "First of all, let's clarify some definitions.\n",
    "\n",
    "**Unix** is the name of an operating system created in the '80s, which became popular for a variety of reasons:\n",
    "\n",
    " - it introduced a novel approach to programming and file managing\n",
    " - it run on any computer hardware independently of the maker\n",
    " - it was free for academic use\n"
   ]
  },
  {
   "cell_type": "markdown",
   "metadata": {
    "slideshow": {
     "slide_type": "subslide"
    }
   },
   "source": [
    "## Linux, MacOs, and Unix\n",
    "\n",
    "Nowadays the original Unix system does not run on modern computers, but we can use some of its descendants (Linux, Solaris, MacOs) \n",
    "\n",
    "<img src=\"https://raw.githubusercontent.com/dalloliogm/peb_unix_intro/master/slides/images/unix_linux_mac.png\" width=\"400\">\n",
    "\n"
   ]
  },
  {
   "cell_type": "markdown",
   "metadata": {
    "slideshow": {
     "slide_type": "slide"
    }
   },
   "source": [
    "# The Unix Philosophy"
   ]
  },
  {
   "cell_type": "markdown",
   "metadata": {
    "slideshow": {
     "slide_type": "fragment"
    }
   },
   "source": [
    "The Unix philosophy can be summarised as: \n",
    "\n",
    "- Make each program do one thing well.\n",
    "- Expect the output of every program to become the input to another, as yet unknown, program.\n",
    "- Work on file streams, reading one line at a time.\n",
    "\n",
    "Press Space to continue."
   ]
  },
  {
   "cell_type": "markdown",
   "metadata": {
    "slideshow": {
     "slide_type": "fragment"
    }
   },
   "source": [
    "We will see how each Unix tool is specialized on a single task, and how the piping system allows to combine these tool together.\n",
    "\n",
    "These principles can be useful to any person wishing to learn programming. You may use the same approach when learning programming, starting writing small programs and functions, and combining them together in bigger pipelines. "
   ]
  },
  {
   "cell_type": "markdown",
   "metadata": {
    "slideshow": {
     "slide_type": "slide"
    }
   },
   "source": [
    "# TAs and support\n",
    "\n",
    "Some practical information:\n",
    "\n",
    "- There are seven Teaching Assistants (TAs), to help you, approximately one every 4-5 students.\n",
    "- Use sticky notes during the exercises: a green note when you finished the exercise, and a red note if you need help\n",
    "- We will have a second projector where a TA will shows the commands to type"
   ]
  },
  {
   "cell_type": "markdown",
   "metadata": {
    "slideshow": {
     "slide_type": "slide"
    }
   },
   "source": [
    "# Hands on Linux: let's login!"
   ]
  },
  {
   "cell_type": "markdown",
   "metadata": {
    "slideshow": {
     "slide_type": "fragment"
    }
   },
   "source": [
    "In this workshop we will set two sets of computers:\n",
    "\n",
    "- the **classroom** computers (in front of you)\n",
    "- two remote compute clusters, evopserver and evopcompute.\n",
    "\n",
    "Let's focus on the classroom computers for now.\n",
    "\n",
    "Check the cheat sheet \"Password and Computer infrastructure\" with the course materials for login and password.\n",
    "\n",
    "\n"
   ]
  },
  {
   "cell_type": "markdown",
   "metadata": {
    "slideshow": {
     "slide_type": "subslide"
    }
   },
   "source": [
    "##  While the computer loads: make yourself comfortable!\n",
    "\n",
    "<img src=\"https://raw.githubusercontent.com/dalloliogm/peb_unix_intro/master/slides/images/peb_comfortable.png\" width=\"400\">"
   ]
  },
  {
   "cell_type": "markdown",
   "metadata": {
    "slideshow": {
     "slide_type": "subslide"
    }
   },
   "source": [
    "## This is how the desktop should look like, after logging in\n",
    "\n",
    "Once logged in, you will see a desktop very similar to a Windows or Mac environment:\n",
    "\n",
    "<img src=\"https://raw.githubusercontent.com/dalloliogm/peb_unix_intro/master/slides/images/peb_desktop.png\" width=\"400\" />\n",
    "\n",
    "(The wallpaper and desktop may be different)"
   ]
  },
  {
   "cell_type": "markdown",
   "metadata": {
    "slideshow": {
     "slide_type": "subslide"
    }
   },
   "source": [
    "## The Linux desktop\n",
    "\n",
    "The Linux interface may be different to Windows and Mac, but it should not be difficult to use:\n",
    "\n",
    "- you have a Launch menu, from where you can access all the applications installed\n",
    "- most applications are similar:\n",
    "  - firefox or chrome for web browsing\n",
    "  - kate, gedit for editing text\n",
    "  - libreoffice for documents, presentation, spreadsheet"
   ]
  },
  {
   "cell_type": "markdown",
   "metadata": {
    "slideshow": {
     "slide_type": "slide"
    }
   },
   "source": [
    "# Let's open the terminal\n",
    "\n",
    "Open the Launch menu and search for \"terminal\" or \"konsole\"\n",
    "\n",
    "<img src=\"https://raw.githubusercontent.com/dalloliogm/peb_unix_intro/master/slides/images/peb_terminal.png\" width=\"400\" />"
   ]
  },
  {
   "cell_type": "markdown",
   "metadata": {
    "slideshow": {
     "slide_type": "subslide"
    }
   },
   "source": [
    "## How does a terminal looks like?\n",
    "\n",
    "<img src=\"https://raw.githubusercontent.com/dalloliogm/peb_unix_intro/master/slides/images/peb_terminal2.png\" width=\"500\" />"
   ]
  },
  {
   "cell_type": "markdown",
   "metadata": {
    "slideshow": {
     "slide_type": "subslide"
    }
   },
   "source": [
    "## More definitions\n",
    "\n",
    "**Linux**: \n",
    "\n",
    "    A \"descendant\" of Unix, e.g. an operating system based on Unix that can run on modern computers\n",
    "\n",
    "**Terminal**:\n",
    "\n",
    "    A software that allows to input commands to the computer, by typing them rather than point-and-click\n",
    "        \n",
    "**Bash**: \n",
    "\n",
    "    A command-line interpreter, e.g. a software that interprets the commands given from the terminal, and execute them."
   ]
  },
  {
   "cell_type": "markdown",
   "metadata": {
    "slideshow": {
     "slide_type": "slide"
    }
   },
   "source": [
    "# How to access a terminal from your computer/laptop\n",
    "\n",
    "\n",
    "Press space or the down key to see what to install or launch."
   ]
  },
  {
   "cell_type": "markdown",
   "metadata": {
    "slideshow": {
     "slide_type": "subslide"
    }
   },
   "source": [
    "## Windows\n",
    "\n",
    "MS Windows doesn't have a terminal emulator (except the latest versions), but there are a few options available.\n",
    "\n",
    "- **Putty** (http://www.chiark.greenend.org.uk/~sgtatham/putty/latest.html) is the simplest and most lightweight option to connect to a remote Unix server.\n",
    "- **Putty Manager** (http://puttymanager.sourceforge.net/) extends putty and provides multiple tabs and options.\n",
    "- **Cygwin** (https://www.cygwin.com/) emulates a whole unix environment. You can execute commands on your computer, or connect to a remote server\n",
    "- **MobaXTerm** (http://mobaxterm.mobatek.net/) is a commercial solution (but the free version is usually enough) providing a Unix environment and some more options.\n",
    "\n",
    "<a href=\"http://mobaxterm.mobatek.net/\" target=\"_blank\"><img src=\"http://mobaxterm.mobatek.net/img/moba/features/feature-terminal.png\" width=\"400\"></a>\n",
    "\n",
    "To install new software in Cygwin or MobaXterm:, use (e.g. make):\n",
    "\n",
    "```\n",
    "apt-cyg install make\n",
    "```"
   ]
  },
  {
   "cell_type": "markdown",
   "metadata": {
    "slideshow": {
     "slide_type": "subslide"
    }
   },
   "source": [
    "## Mac\n",
    "\n",
    "MacOs is also a Unix system, and it comes with a teminal emulator already installed. You should be able to use the Console App in Mac.\n",
    "\n",
    "<img src=\"http://blog.teamtreehouse.com/wp-content/uploads/2012/09/Screen-Shot-2012-09-25-at-1.01.45-PM.png\" width=\"400\">"
   ]
  },
  {
   "cell_type": "markdown",
   "metadata": {
    "slideshow": {
     "slide_type": "subslide"
    }
   },
   "source": [
    "## Linux\n",
    "\n",
    "Congratulations on having Linux installed! There are several applications that you can use, from gnome-terminal to konsole.\n",
    "<img src=\"https://camo.githubusercontent.com/358e5e2206148280d127128499ad92e8621e5517/68747470733a2f2f7261772e6769746875622e636f6d2f63656d6d616e6f75696c696469732f6d6f6e6f6b61692d676e6f6d652d7465726d696e616c2f6d61737465722f73637265656e73686f742d30312e706e67\" width=\"400\">\n"
   ]
  },
  {
   "cell_type": "markdown",
   "metadata": {
    "slideshow": {
     "slide_type": "slide"
    }
   },
   "source": [
    "# Basic Unix Commands: ls, cd\n",
    "\n",
    "Let's have a look at the files we just downloaded.\n",
    "\n",
    "We will use two basic Unix commands:\n",
    "\n",
    " - **ls** list the number of files in the current directory\n",
    " - **cd** allows to move to a different directory.\n",
    " \n",
    " \n",
    "Typing **ls** will show all the files in the current directory. "
   ]
  },
  {
   "cell_type": "markdown",
   "metadata": {
    "slideshow": {
     "slide_type": "slide"
    }
   },
   "source": [
    "# Getting the workshop materials\n",
    "\n",
    "Among these you should see a folder called **belgrade_unix_intro-master**, created by the wget and unzip commands. \n",
    " \n",
    "Let's move to this new directory, and list the files in it:\n",
    " \n",
    "```\n",
    "$: cd belgrade_unix_intro-master/\n",
    "$: ls\n",
    "```\n",
    "\n",
    "This will show a list of files, including a file called **start_here.txt**, a README, a few folders (data/, src/), and some other files.\n",
    "\n",
    "The materials of this workshop are also available online.\n",
    "\n",
    "Open the terminal, and type the following commands (omitting the \"$:\"):\n",
    "\n",
    "```\n",
    "$: wget  https://github.com/dalloliogm/peb_unix_intro/archive/master.zip\n",
    "$: unzip master.zip\n",
    "\n",
    "```\n",
    "\n",
    "\n",
    "Explanation:\n",
    "\n",
    " - the **wget** command downloads a .zip file containing all the materials\n",
    " - the **unzip** command uncompresses the .zip file, creating a new folder in your home area."
   ]
  },
  {
   "cell_type": "markdown",
   "metadata": {
    "slideshow": {
     "slide_type": "fragment"
    }
   },
   "source": [
    "### Advanced: using git to get the materials\n",
    "\n",
    "If the software git is installed, you can get the materials by the following:\n",
    "\n",
    "```\n",
    "git clone git@github.com:dalloliogm/peb_unix_intro.git\n",
    "```"
   ]
  },
  {
   "cell_type": "code",
   "execution_count": 32,
   "metadata": {
    "collapsed": false,
    "run_control": {
     "frozen": false,
     "read_only": false
    },
    "slideshow": {
     "slide_type": "fragment"
    }
   },
   "outputs": [
    {
     "name": "stdout",
     "output_type": "stream",
     "text": [
      "\u001b[0m\u001b[01;34mdata\u001b[0m                     PEB Bash Workshop.slides.html    \u001b[01;34msrc\u001b[0m\r\n",
      "Makefile                 PEB Bioconductor workshop.ipynb  start_here.txt\r\n",
      "PEB Bash Workshop.ipynb  README.md\r\n"
     ]
    }
   ],
   "source": [
    "ls"
   ]
  },
  {
   "cell_type": "markdown",
   "metadata": {},
   "source": [
    "Press space or the down key to continue."
   ]
  },
  {
   "cell_type": "markdown",
   "metadata": {
    "slideshow": {
     "slide_type": "subslide"
    }
   },
   "source": [
    "## ls -l\n",
    "\n",
    "You can use the -l option of ls to visualize more details:"
   ]
  },
  {
   "cell_type": "code",
   "execution_count": 2,
   "metadata": {
    "collapsed": false,
    "run_control": {
     "frozen": false,
     "read_only": false
    },
    "slideshow": {
     "slide_type": "-"
    }
   },
   "outputs": [
    {
     "name": "stdout",
     "output_type": "stream",
     "text": [
      "total 160\r\n",
      "drwxrwxr-x 4 gioby gioby  4096 Sep  8 19:02 \u001b[0m\u001b[01;34mdata\u001b[0m\r\n",
      "-rw-rw-r-- 1 gioby gioby   929 Sep  8 21:57 Makefile\r\n",
      "-rw-rw-r-- 1 gioby gioby 83026 Sep  8 22:04 PEB Bash Workshop.ipynb\r\n",
      "-rw-rw-r-- 1 gioby gioby 56603 Sep  8 19:20 PEB Bioconductor workshop.ipynb\r\n",
      "-rw-rw-r-- 1 gioby gioby   260 Sep  5 18:23 README.md\r\n",
      "drwxrwxr-x 3 gioby gioby  4096 Sep  8 21:38 \u001b[01;34msrc\u001b[0m\r\n",
      "-rw-rw-r-- 1 gioby gioby  1877 Sep  5 18:23 start_here.txt\r\n"
     ]
    }
   ],
   "source": [
    "# Contents of the PEB workshop directory\n",
    "ls -l"
   ]
  },
  {
   "cell_type": "markdown",
   "metadata": {
    "slideshow": {
     "slide_type": "slide"
    }
   },
   "source": [
    "# Accessing the contents of a file: head, cat, less\n",
    "\n",
    "The new folder contains a file named start_here.txt, containing the first instructions for the workshop.\n",
    "\n",
    "To access the contents of a file, we can use several Unix commands:\n",
    "\n",
    "| command       | description                                   | example             |\n",
    "| :------------:|:-------------------------------------         |:------------------- |\n",
    "| **head**      | print the first lines of the file             | head start_here.txt |\n",
    "| **tail**      | print the last lines of the file              | tail start_here.txt |\n",
    "| **cat**       | print the contents of the file to the screen  | cat start_here.txt  |\n",
    "| **less**      | allows to navigate contents of the file       | less start_here.txt |"
   ]
  },
  {
   "cell_type": "markdown",
   "metadata": {},
   "source": [
    "For the first exercise, type \"head start_here.txt\" and follow the instructions:\n"
   ]
  },
  {
   "cell_type": "code",
   "execution_count": 1,
   "metadata": {
    "collapsed": false,
    "run_control": {
     "frozen": false,
     "read_only": false
    }
   },
   "outputs": [
    {
     "name": "stdout",
     "output_type": "stream",
     "text": [
      "head: cannot open ‘start_here.txt’ for reading: No such file or directory\r\n"
     ]
    }
   ],
   "source": [
    "head start_here.txt"
   ]
  }
 ],
 "metadata": {
  "celltoolbar": "Slideshow",
  "hide_input": false,
  "kernelspec": {
   "display_name": "Bash",
   "language": "bash",
   "name": "bash"
  },
  "language_info": {
   "codemirror_mode": "shell",
   "file_extension": ".sh",
   "mimetype": "text/x-sh",
   "name": "bash"
  },
  "nav_menu": {},
  "toc": {
   "navigate_menu": true,
   "number_sections": true,
   "sideBar": true,
   "threshold": 6,
   "toc_cell": true,
   "toc_section_display": "block",
   "toc_window_display": false
  }
 },
 "nbformat": 4,
 "nbformat_minor": 1
}
