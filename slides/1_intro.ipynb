{
 "cells": [
  {
   "cell_type": "markdown",
   "metadata": {
    "toc": "true"
   },
   "source": [
    "<h1>Table of Contents<span class=\"tocSkip\"></span></h1>\n",
    "<div class=\"toc\"><ul class=\"toc-item\"><li><span><a href=\"#Introduction-to-Unix,-Part-1---Intro-to-Unix-and-Terminal\" data-toc-modified-id=\"Introduction-to-Unix,-Part-1---Intro-to-Unix-and-Terminal-1\"><span class=\"toc-item-num\">1&nbsp;&nbsp;</span>Introduction to Unix, Part 1 - Intro to Unix and Terminal</a></span><ul class=\"toc-item\"><li><span><a href=\"#Summary-of-the-course-today\" data-toc-modified-id=\"Summary-of-the-course-today-1.1\"><span class=\"toc-item-num\">1.1&nbsp;&nbsp;</span>Summary of the course today</a></span></li></ul></li><li><span><a href=\"#What-is-the-command-line-and-why-should-we-use-it?\" data-toc-modified-id=\"What-is-the-command-line-and-why-should-we-use-it?-2\"><span class=\"toc-item-num\">2&nbsp;&nbsp;</span>What is the command line and why should we use it?</a></span></li><li><span><a href=\"#What-is-Unix?\" data-toc-modified-id=\"What-is-Unix?-3\"><span class=\"toc-item-num\">3&nbsp;&nbsp;</span>What is Unix?</a></span></li><li><span><a href=\"#The-Unix-Approach\" data-toc-modified-id=\"The-Unix-Approach-4\"><span class=\"toc-item-num\">4&nbsp;&nbsp;</span>The Unix Approach</a></span></li><li><span><a href=\"#Linux,-MacOs,-and-Unix\" data-toc-modified-id=\"Linux,-MacOs,-and-Unix-5\"><span class=\"toc-item-num\">5&nbsp;&nbsp;</span>Linux, MacOs, and Unix</a></span></li><li><span><a href=\"#TAs-and-support\" data-toc-modified-id=\"TAs-and-support-6\"><span class=\"toc-item-num\">6&nbsp;&nbsp;</span>TAs and support</a></span></li><li><span><a href=\"#Hands-on-Linux:-let's-login!\" data-toc-modified-id=\"Hands-on-Linux:-let's-login!-7\"><span class=\"toc-item-num\">7&nbsp;&nbsp;</span>Hands on Linux: let's login!</a></span><ul class=\"toc-item\"><li><span><a href=\"#While-the-computer-loads:-make-yourself-comfortable!\" data-toc-modified-id=\"While-the-computer-loads:-make-yourself-comfortable!-7.1\"><span class=\"toc-item-num\">7.1&nbsp;&nbsp;</span>While the computer loads: make yourself comfortable!</a></span></li><li><span><a href=\"#This-is-how-the-desktop-should-look-like,-after-login\" data-toc-modified-id=\"This-is-how-the-desktop-should-look-like,-after-login-7.2\"><span class=\"toc-item-num\">7.2&nbsp;&nbsp;</span>This is how the desktop should look like, after login</a></span></li><li><span><a href=\"#The-Linux-desktop\" data-toc-modified-id=\"The-Linux-desktop-7.3\"><span class=\"toc-item-num\">7.3&nbsp;&nbsp;</span>The Linux desktop</a></span></li></ul></li><li><span><a href=\"#Let's-open-the-terminal\" data-toc-modified-id=\"Let's-open-the-terminal-8\"><span class=\"toc-item-num\">8&nbsp;&nbsp;</span>Let's open the terminal</a></span><ul class=\"toc-item\"><li><span><a href=\"#How-does-a-terminal-looks-like?\" data-toc-modified-id=\"How-does-a-terminal-looks-like?-8.1\"><span class=\"toc-item-num\">8.1&nbsp;&nbsp;</span>How does a terminal looks like?</a></span></li><li><span><a href=\"#More-definitions\" data-toc-modified-id=\"More-definitions-8.2\"><span class=\"toc-item-num\">8.2&nbsp;&nbsp;</span>More definitions</a></span></li></ul></li><li><span><a href=\"#Launching-applications-from-the-Terminal\" data-toc-modified-id=\"Launching-applications-from-the-Terminal-9\"><span class=\"toc-item-num\">9&nbsp;&nbsp;</span>Launching applications from the Terminal</a></span><ul class=\"toc-item\"><li><span><a href=\"#Running-applications-in-the-background\" data-toc-modified-id=\"Running-applications-in-the-background-9.1\"><span class=\"toc-item-num\">9.1&nbsp;&nbsp;</span>Running applications in the background</a></span></li><li><span><a href=\"#Killing-an-application\" data-toc-modified-id=\"Killing-an-application-9.2\"><span class=\"toc-item-num\">9.2&nbsp;&nbsp;</span>Killing an application</a></span></li></ul></li><li><span><a href=\"#Your-first-command:-ls\" data-toc-modified-id=\"Your-first-command:-ls-10\"><span class=\"toc-item-num\">10&nbsp;&nbsp;</span>Your first command: ls</a></span><ul class=\"toc-item\"><li><span><a href=\"#Anatomy-of-a-command\" data-toc-modified-id=\"Anatomy-of-a-command-10.1\"><span class=\"toc-item-num\">10.1&nbsp;&nbsp;</span>Anatomy of a command</a></span></li><li><span><a href=\"#listing-all-files-and-their-details-(ls--l)\" data-toc-modified-id=\"listing-all-files-and-their-details-(ls--l)-10.2\"><span class=\"toc-item-num\">10.2&nbsp;&nbsp;</span>listing all files and their details (ls -l)</a></span></li><li><span><a href=\"#Listing-hidden-files-(ls--a;-ls--la)\" data-toc-modified-id=\"Listing-hidden-files-(ls--a;-ls--la)-10.3\"><span class=\"toc-item-num\">10.3&nbsp;&nbsp;</span>Listing hidden files (ls -a; ls -la)</a></span></li><li><span><a href=\"#Combining-multiple-ls-parameters-together\" data-toc-modified-id=\"Combining-multiple-ls-parameters-together-10.4\"><span class=\"toc-item-num\">10.4&nbsp;&nbsp;</span>Combining multiple ls parameters together</a></span></li><li><span><a href=\"#File-permissions-and-output-of-ls--l\" data-toc-modified-id=\"File-permissions-and-output-of-ls--l-10.5\"><span class=\"toc-item-num\">10.5&nbsp;&nbsp;</span>File permissions and output of ls -l</a></span></li><li><span><a href=\"#Arguments\" data-toc-modified-id=\"Arguments-10.6\"><span class=\"toc-item-num\">10.6&nbsp;&nbsp;</span>Arguments</a></span><ul class=\"toc-item\"><li><span><a href=\"#Exercise---ls\" data-toc-modified-id=\"Exercise---ls-10.6.1\"><span class=\"toc-item-num\">10.6.1&nbsp;&nbsp;</span>Exercise - ls</a></span></li></ul></li><li><span><a href=\"#Command-line-tip:-the-Tab-key-and-auto-completion\" data-toc-modified-id=\"Command-line-tip:-the-Tab-key-and-auto-completion-10.7\"><span class=\"toc-item-num\">10.7&nbsp;&nbsp;</span>Command-line tip: the Tab key and auto-completion</a></span></li></ul></li><li><span><a href=\"#How-to-get-documentation-of-a-command?\" data-toc-modified-id=\"How-to-get-documentation-of-a-command?-11\"><span class=\"toc-item-num\">11&nbsp;&nbsp;</span>How to get documentation of a command?</a></span><ul class=\"toc-item\"><li><span><a href=\"#ls---help\" data-toc-modified-id=\"ls---help-11.1\"><span class=\"toc-item-num\">11.1&nbsp;&nbsp;</span>ls --help</a></span></li><li><span><a href=\"#The-man-page-of-a-command\" data-toc-modified-id=\"The-man-page-of-a-command-11.2\"><span class=\"toc-item-num\">11.2&nbsp;&nbsp;</span>The man page of a command</a></span></li><li><span><a href=\"#The-man-page-of-ls\" data-toc-modified-id=\"The-man-page-of-ls-11.3\"><span class=\"toc-item-num\">11.3&nbsp;&nbsp;</span>The man page of ls</a></span></li><li><span><a href=\"#Navigating-a-man-page\" data-toc-modified-id=\"Navigating-a-man-page-11.4\"><span class=\"toc-item-num\">11.4&nbsp;&nbsp;</span>Navigating a man page</a></span></li><li><span><a href=\"#Other-useful-sections-in-a-man-page\" data-toc-modified-id=\"Other-useful-sections-in-a-man-page-11.5\"><span class=\"toc-item-num\">11.5&nbsp;&nbsp;</span>Other useful sections in a man page</a></span></li><li><span><a href=\"#Getting-documentation-via-info\" data-toc-modified-id=\"Getting-documentation-via-info-11.6\"><span class=\"toc-item-num\">11.6&nbsp;&nbsp;</span>Getting documentation via info</a></span></li></ul></li><li><span><a href=\"#Excercise-Time!\" data-toc-modified-id=\"Excercise-Time!-12\"><span class=\"toc-item-num\">12&nbsp;&nbsp;</span>Excercise Time!</a></span></li><li><span><a href=\"#Getting-help-from-Internet\" data-toc-modified-id=\"Getting-help-from-Internet-13\"><span class=\"toc-item-num\">13&nbsp;&nbsp;</span>Getting help from Internet</a></span></li><li><span><a href=\"#How-can-I-use-a-Unix-system-at-home/lab?\" data-toc-modified-id=\"How-can-I-use-a-Unix-system-at-home/lab?-14\"><span class=\"toc-item-num\">14&nbsp;&nbsp;</span>How can I use a Unix system at home/lab?</a></span><ul class=\"toc-item\"><li><span><a href=\"#The-Linux-distributions\" data-toc-modified-id=\"The-Linux-distributions-14.1\"><span class=\"toc-item-num\">14.1&nbsp;&nbsp;</span>The Linux distributions</a></span></li><li><span><a href=\"#What-is-the-difference-between-Linux-Distributions?\" data-toc-modified-id=\"What-is-the-difference-between-Linux-Distributions?-14.2\"><span class=\"toc-item-num\">14.2&nbsp;&nbsp;</span>What is the difference between Linux Distributions?</a></span></li></ul></li><li><span><a href=\"#Examples-of-Linux-Distributions\" data-toc-modified-id=\"Examples-of-Linux-Distributions-15\"><span class=\"toc-item-num\">15&nbsp;&nbsp;</span>Examples of Linux Distributions</a></span><ul class=\"toc-item\"><li><ul class=\"toc-item\"><li><span><a href=\"#Ubuntu\" data-toc-modified-id=\"Ubuntu-15.0.1\"><span class=\"toc-item-num\">15.0.1&nbsp;&nbsp;</span>Ubuntu</a></span></li></ul></li></ul></li><li><span><a href=\"#What-if-I-don't-want-to-install-a-new-operating-system?\" data-toc-modified-id=\"What-if-I-don't-want-to-install-a-new-operating-system?-16\"><span class=\"toc-item-num\">16&nbsp;&nbsp;</span>What if I don't want to install a new operating system?</a></span><ul class=\"toc-item\"><li><span><a href=\"#Windows\" data-toc-modified-id=\"Windows-16.1\"><span class=\"toc-item-num\">16.1&nbsp;&nbsp;</span>Windows</a></span></li><li><span><a href=\"#Mac\" data-toc-modified-id=\"Mac-16.2\"><span class=\"toc-item-num\">16.2&nbsp;&nbsp;</span>Mac</a></span></li><li><span><a href=\"#Linux\" data-toc-modified-id=\"Linux-16.3\"><span class=\"toc-item-num\">16.3&nbsp;&nbsp;</span>Linux</a></span></li></ul></li><li><span><a href=\"#Time-for-a-break!\" data-toc-modified-id=\"Time-for-a-break!-17\"><span class=\"toc-item-num\">17&nbsp;&nbsp;</span>Time for a break!</a></span></li></ul></div>"
   ]
  },
  {
   "cell_type": "markdown",
   "metadata": {
    "slideshow": {
     "slide_type": "slide"
    }
   },
   "source": [
    "\n",
    "# Introduction to Unix, Part 1 - Intro to Unix and Terminal\n",
    "\n",
    "**<font color='darkgreen'> Welcome to the Programming for Evolutionary Biology workshop!! </font>** \n",
    "\n",
    "\n",
    "Giovanni M. Dall'Olio. Data Strategy and Design, GSK. March 2020. \n",
    "\n",
    "Quick link to slides online: https://tinyurl.com/evop-unix\n",
    "\n",
    "\n",
    "\n",
    "All materials available here: https://github.com/dalloliogm/peb_unix_intro/archive/master.zip\n",
    "\n",
    "\n",
    "**How to use these slides**: Press Space to get to the next slide. Use arrows to navigate the subsections."
   ]
  },
  {
   "cell_type": "markdown",
   "metadata": {
    "slideshow": {
     "slide_type": "slide"
    }
   },
   "source": [
    "## Summary of the course today\n",
    "\n",
    "- <font color=\"blue\">Morning first half</font>: Basic Terminal commands, First Login to Linux\n",
    "- Morning second half: Login to a Remote Unix server, browsing file contents\n",
    "- Afternoon first half: Finding patterns in a file with grep; piping commands; cut, sort and uniq\n",
    "- Afternoon second half: awk and sed; makefiles"
   ]
  },
  {
   "cell_type": "markdown",
   "metadata": {
    "slideshow": {
     "slide_type": "slide"
    }
   },
   "source": [
    "# What is the command line and why should we use it?\n",
    "\n",
    "The Command Line is a User Interface, which allows to interact with a computing system using text commands.\n",
    "\n",
    "There is a steep learning curve at the beginning, but it is a very powerful approach.\n",
    "\n",
    "Compared to Graphical interfaces, it allows to execute certain tasks quicker and using fewer resources."
   ]
  },
  {
   "cell_type": "markdown",
   "metadata": {
    "slideshow": {
     "slide_type": "slide"
    }
   },
   "source": [
    "# What is Unix?\n",
    "\n",
    "\n",
    "`Unix` is the name of an operating system created in the '80s, which became popular for a variety of reasons:\n",
    "\n",
    " - it was free for academic use\n",
    " - it ran on any computer hardware independently of the maker\n",
    " - it introduced a novel approach to programming and file managing\n",
    "\n"
   ]
  },
  {
   "cell_type": "markdown",
   "metadata": {
    "slideshow": {
     "slide_type": "-"
    }
   },
   "source": [
    "# The Unix Approach\n",
    "\n",
    "Unix introduced some important principles to the design of an operating system: \n",
    "\n",
    "- Make each program do one thing well.\n",
    "- Expect the output of every program to become the input to another, as yet unknown, program.\n",
    "- Work on file streams, reading one line at a time.\n",
    "\n",
    "These principles have been written a long time ago, but learning them will make you a better programmer."
   ]
  },
  {
   "cell_type": "markdown",
   "metadata": {
    "slideshow": {
     "slide_type": "subslide"
    }
   },
   "source": [
    "# Linux, MacOs, and Unix\n",
    "\n",
    "The original Unix system does not run on modern computers, but we can use Unix-like systems such as  Linux and MacOsX.\n",
    "\n",
    "<img src=\"https://raw.githubusercontent.com/dalloliogm/peb_unix_intro/master/slides/images/UnixLinuxMacWin.jpg\" width=\"600\">\n",
    "\n"
   ]
  },
  {
   "cell_type": "markdown",
   "metadata": {
    "slideshow": {
     "slide_type": "slide"
    }
   },
   "source": [
    "# TAs and support\n",
    "\n",
    "Some practical information:\n",
    "\n",
    "- There are six Teaching Assistants (TAs), to help you, approximately one every five students.\n",
    "- Use sticky notes during the exercises: a green note when you finished the exercise, and a red note if you need help\n",
    "- We will have a second projector where a TA will shows the commands to type"
   ]
  },
  {
   "cell_type": "markdown",
   "metadata": {
    "slideshow": {
     "slide_type": "slide"
    }
   },
   "source": [
    "# Hands on Linux: let's login!"
   ]
  },
  {
   "cell_type": "markdown",
   "metadata": {
    "slideshow": {
     "slide_type": "fragment"
    }
   },
   "source": [
    "During this course we will use two sets of computers:\n",
    "\n",
    "- the `classroom` computers (in front of you)\n",
    "- A `remote login server`: <font color='blue'> `evop-login.imp.fu-berlin.de` </font> .\n",
    "\n",
    "Let's focus on the classroom computers for now.\n",
    "\n",
    "Check the **login information: Password and Computer infrastructure** that has been provided to you.\n",
    "\n",
    "<img src=\"https://raw.githubusercontent.com/dalloliogm/peb_unix_intro/master/slides/images/ComputerPool2019.png\" width=\"600\">\n",
    "\n",
    "\n"
   ]
  },
  {
   "cell_type": "markdown",
   "metadata": {
    "slideshow": {
     "slide_type": "subslide"
    }
   },
   "source": [
    "##  While the computer loads: make yourself comfortable!\n",
    "\n",
    "<img src=\"https://raw.githubusercontent.com/dalloliogm/peb_unix_intro/master/slides/images/peb_comfortable.png\" width=\"400\">"
   ]
  },
  {
   "cell_type": "markdown",
   "metadata": {
    "slideshow": {
     "slide_type": "subslide"
    }
   },
   "source": [
    "## This is how the desktop should look like, after login\n",
    "\n",
    "Once logged in, you will see a desktop very similar to a Windows or Mac environment:\n",
    "\n",
    "<img src=\"https://raw.githubusercontent.com/dalloliogm/peb_unix_intro/master/slides/images/Login.jpg\" width=\"600\" />\n",
    "\n",
    "(The wallpaper and desktop may be different)"
   ]
  },
  {
   "cell_type": "markdown",
   "metadata": {
    "slideshow": {
     "slide_type": "subslide"
    }
   },
   "source": [
    "## The Linux desktop\n",
    "\n",
    "The Linux interface may be different to Windows and Mac, but it should not be difficult to use:\n",
    "\n",
    "- you have a Launch menu, from where you can access all the applications installed\n",
    "- most applications are similar:\n",
    "  - `firefox` or `chrome` for web browsing\n",
    "  - `kate`, `gedit` for editing text\n",
    "  - `libreoffice` for documents, presentations, spreadsheets"
   ]
  },
  {
   "cell_type": "markdown",
   "metadata": {
    "slideshow": {
     "slide_type": "slide"
    }
   },
   "source": [
    "# Let's open the terminal\n",
    "\n",
    "Open the Launch menu and search for `terminal` or `konsole`\n",
    "\n",
    "<img src=\"https://raw.githubusercontent.com/dalloliogm/peb_unix_intro/master/slides/images/peb_terminal.png\" width=\"400\" />"
   ]
  },
  {
   "cell_type": "markdown",
   "metadata": {
    "slideshow": {
     "slide_type": "subslide"
    }
   },
   "source": [
    "## How does a terminal looks like?\n",
    "\n",
    "<img src=\"https://raw.githubusercontent.com/dalloliogm/peb_unix_intro/master/slides/images/peb_terminal2.png\" width=\"500\" />"
   ]
  },
  {
   "cell_type": "markdown",
   "metadata": {
    "slideshow": {
     "slide_type": "subslide"
    }
   },
   "source": [
    "## More definitions\n",
    "\n",
    "`Linux`: \n",
    "\n",
    "    A \"descendant\" and free modern version of Unix, developed by an Open Source Community\n",
    "    \n",
    "`Terminal`:\n",
    "\n",
    "    A software that allows to input commands to the computer, by typing them rather than point-and-click\n",
    "        \n",
    "`Bash`: \n",
    "\n",
    "    A command-line interpreter, e.g. a software that interprets the commands given from the terminal, and execute them."
   ]
  },
  {
   "cell_type": "markdown",
   "metadata": {
    "slideshow": {
     "slide_type": "subslide"
    }
   },
   "source": [
    "<img src=\"https://raw.githubusercontent.com/dalloliogm/peb_unix_intro/master/slides/images/terminal_bash_console.png\" width=\"600\">"
   ]
  },
  {
   "cell_type": "markdown",
   "metadata": {
    "slideshow": {
     "slide_type": "slide"
    }
   },
   "source": [
    "# Launching applications from the Terminal\n",
    "\n",
    "The terminal can be used any application installed in the computer, by typing its name instead of clicking on it.\n",
    "\n",
    "For example, type `firefox` to launch a web browser:\n",
    "\n",
    "```\n",
    "    $: firefox\n",
    "```\n",
    "\n",
    "\\* if this doesn't work, try: `google-chrome`"
   ]
  },
  {
   "cell_type": "markdown",
   "metadata": {
    "slideshow": {
     "slide_type": "subslide"
    }
   },
   "source": [
    "## Running applications in the background\n",
    "\n",
    "Some applications \"freeze\" the terminal when executed. For example, let's launch `kate`, a text editor\n",
    "\n",
    "```\n",
    "    $: kate\n",
    "```\n",
    "\n",
    "\\* if this doesn't work, try `gedit`"
   ]
  },
  {
   "cell_type": "markdown",
   "metadata": {
    "slideshow": {
     "slide_type": "fragment"
    }
   },
   "source": [
    "How to get back control:\n",
    "\n",
    "- after launching the application, press `CTRL-z`, then run the bg command\n",
    "- for future cases, before launching the application, add an & after the command ( `kate &` or `gedit &`)\n",
    "\n",
    "You can also type *jobs* for a list of all the application running in background."
   ]
  },
  {
   "cell_type": "markdown",
   "metadata": {
    "slideshow": {
     "slide_type": "subslide"
    }
   },
   "source": [
    "## Killing an application\n",
    "\n",
    "Sometimes it is useful to `Force-Quit` an application, when it doesn't respond to inputs, or we need to abort it.\n",
    "\n",
    "If the application is running in the foreground, we can press `CTRL-c` to abort its execution.\n",
    "\n",
    "If the application is in the background (previous slide), we can use:\n",
    "\n",
    "- `jobs` (to list all the jobs in background)\n",
    "- `kill %1` (to kill the first job in background)"
   ]
  },
  {
   "cell_type": "markdown",
   "metadata": {
    "slideshow": {
     "slide_type": "slide"
    }
   },
   "source": [
    "# Your first command: ls\n",
    "\n",
    "The most basic command is `ls`, which allows to list all the files in the current folder.\n",
    "\n",
    "The name is an abbreviation for \"list\"\n",
    "\n",
    "\n",
    "Typing `ls` will show all the files in the current directory. \n",
    "\n",
    "<img src=\"https://raw.githubusercontent.com/dalloliogm/peb_unix_intro/master/slides/images/ls.png\" width=\"700\">"
   ]
  },
  {
   "cell_type": "markdown",
   "metadata": {
    "slideshow": {
     "slide_type": "fragment"
    }
   },
   "source": [
    "Press space or the down key to continue."
   ]
  },
  {
   "cell_type": "markdown",
   "metadata": {
    "slideshow": {
     "slide_type": "subslide"
    }
   },
   "source": [
    "## Anatomy of a command\n",
    "\n",
    "A Unix command-line statement is composed of three parts:\n",
    "\n",
    "- the `command` itself\n",
    "- `parameters` (to alter the default behaviour of the command)\n",
    "- `arguments` (target of the command)"
   ]
  },
  {
   "cell_type": "markdown",
   "metadata": {
    "slideshow": {
     "slide_type": "subslide"
    }
   },
   "source": [
    "## listing all files and their details (ls -l)\n",
    "\n",
    "Parameters alter the behaviour of the command.\n",
    "\n",
    "For example adding `-l` parameter (lower case L) to `ls` will print more details:\n",
    "\n",
    "\n",
    "<img src=\"https://raw.githubusercontent.com/dalloliogm/peb_unix_intro/master/slides/images/ls-l.jpg\" width=\"600\">"
   ]
  },
  {
   "cell_type": "markdown",
   "metadata": {
    "slideshow": {
     "slide_type": "subslide"
    }
   },
   "source": [
    "## Listing hidden files (ls -a; ls -la)\n",
    "\n",
    "By convention, hidden files in Unix systems are prefixed by `.`\n",
    "\n",
    "The `-a` option of ls shows all the files, including the hidden ones.\n",
    "\n",
    "In general home folders contain several hidden configuration files (.e.g. `.bashrc`, `.conf`, `.cache`). We can ignore them for the moment.\n",
    "\n",
    "<img src=\"https://raw.githubusercontent.com/dalloliogm/peb_unix_intro/master/slides/images/ls-la.jpg\" width=\"700\">"
   ]
  },
  {
   "cell_type": "markdown",
   "metadata": {
    "slideshow": {
     "slide_type": "subslide"
    }
   },
   "source": [
    "## Combining multiple ls parameters together\n",
    "\n",
    "Multiple parameters can be combined together.\n",
    "\n",
    "For example, `ls -lt`, will print the list of files in the long format (`-l`), and sorted by modification date (`-t`)\n",
    "\n",
    "<img src=\"https://raw.githubusercontent.com/dalloliogm/peb_unix_intro/master/slides/images/ls-lt.jpg\" width=\"700\">"
   ]
  },
  {
   "cell_type": "markdown",
   "metadata": {
    "slideshow": {
     "slide_type": "subslide"
    }
   },
   "source": [
    "## File permissions and output of ls -l\n",
    "\n",
    "The first column in the ls -l output describes the permissions for the file (e.g. drwxr-xr-x.)\n",
    "\n",
    "- character `1`: whether the element is a directory (d) or a file (-)\n",
    "- characters `2-4`: whether the file is readable (r), writeable (w), or executable (x) by the user who owns it (fedora)\n",
    "- characters `5-7`: the same, but for the user group (also called fedora) \n",
    "- characters `8-10`: the same, for any user \n",
    "- character `11`: security settings (not in all systems)\n",
    "\n",
    "See `man chmod` to modify file permissions.\n",
    "\n",
    "<img src=\"https://raw.githubusercontent.com/dalloliogm/peb_unix_intro/master/slides/images/ls-l.jpg\" width=\"700\">"
   ]
  },
  {
   "cell_type": "markdown",
   "metadata": {
    "slideshow": {
     "slide_type": "subslide"
    }
   },
   "source": [
    "## Arguments\n",
    "\n",
    "The other component of a command is the argument, e.g. what is the target of the command.\n",
    "\n",
    "By default `ls` shows the contents of the current directory (also referred as `.`)\n",
    "\n",
    "To see the contents of another directory, just add its name to the command invocation:\n",
    "\n",
    "```\n",
    "    ls -l Desktop\n",
    "```"
   ]
  },
  {
   "cell_type": "markdown",
   "metadata": {},
   "source": [
    "### Exercise - ls\n",
    "\n",
    "- use `ls` to print the contents of the current folder\n",
    "- compare this with `ls .`\n",
    "- Type `ls -l Desktop` to show the contents of the Desktop folder"
   ]
  },
  {
   "cell_type": "markdown",
   "metadata": {
    "slideshow": {
     "slide_type": "subslide"
    }
   },
   "source": [
    "## Command-line tip: the Tab key and auto-completion\n",
    "\n",
    "We can use the Tab key on the keyboard (usually above Caps Lock) to automatically complete a command or a directory name.\n",
    "\n",
    "For example, try the following:\n",
    "\n",
    "```\n",
    "\n",
    "    ls Desk<press Tab key>\n",
    "```\n",
    "\n"
   ]
  },
  {
   "cell_type": "markdown",
   "metadata": {
    "slideshow": {
     "slide_type": "slide"
    }
   },
   "source": [
    "# How to get documentation of a command?\n",
    "\n",
    "How can we know all the possible options of a command?\n",
    "\n",
    "There are at least three options:\n",
    "\n",
    "    - --help\n",
    "    - man\n",
    "    - info"
   ]
  },
  {
   "cell_type": "markdown",
   "metadata": {
    "slideshow": {
     "slide_type": "subslide"
    }
   },
   "source": [
    "## ls --help\n",
    "\n",
    "Most command support a `--help` option (or `-h`, `-help`), which prints a summary of the most common parameters and options for the command:\n",
    "\n",
    "```\n",
    "    $: ls --help\n",
    "\n",
    "    Usage: ls [OPTION]... [FILE]...\n",
    "    List information about the FILEs (the current directory by default).\n",
    "    Sort entries alphabetically if none of -cftuvSUX nor --sort is specified.\n",
    "\n",
    "    Mandatory arguments to long options are mandatory for short options too.\n",
    "      -a, --all                  do not ignore entries starting with .\n",
    "      -A, --almost-all           do not list implied . and ..\n",
    "          --author               with -l, print the author of each file\n",
    "      -b, --escape               print C-style escapes for nongraphic characters\n",
    "          --block-size=SIZE      scale sizes by SIZE before printing them; e.g.,\n",
    " ```"
   ]
  },
  {
   "cell_type": "markdown",
   "metadata": {
    "slideshow": {
     "slide_type": "slide"
    }
   },
   "source": [
    "## The man page of a command\n",
    "\n",
    "The **man** command allows to access the manual of a command. \n",
    "\n",
    "Let's try it:\n",
    "\n",
    "```\n",
    "    man ls\n",
    "\n",
    "```"
   ]
  },
  {
   "cell_type": "markdown",
   "metadata": {
    "slideshow": {
     "slide_type": "subslide"
    }
   },
   "source": [
    "## The man page of ls\n",
    "\n",
    "Most man pages contain at least the following sections:\n",
    "\n",
    "- NAME: name of the command\n",
    "- SYNOPSIS: how to use it\n",
    "- DESCRIPTION/OPTIONS: what the command does, and "
   ]
  },
  {
   "cell_type": "markdown",
   "metadata": {
    "slideshow": {
     "slide_type": "fragment"
    }
   },
   "source": [
    "<img src=\"https://raw.githubusercontent.com/dalloliogm/peb_unix_intro/master/slides/images/manls.png\" width=\"600\">"
   ]
  },
  {
   "cell_type": "code",
   "execution_count": 2,
   "metadata": {
    "run_control": {
     "frozen": false,
     "read_only": false
    },
    "slideshow": {
     "slide_type": "subslide"
    }
   },
   "outputs": [
    {
     "name": "stdout",
     "output_type": "stream",
     "text": [
      "LS(1)                            User Commands                           LS(1)\n",
      "\n",
      "\n",
      "\n",
      "NAME\n",
      "       ls - list directory contents\n",
      "\n",
      "SYNOPSIS\n",
      "       ls [OPTION]... [FILE]...\n",
      "\n",
      "DESCRIPTION\n",
      "       List  information  about  the FILEs (the current directory by default).\n",
      "       Sort entries alphabetically if none of -cftuvSUX nor --sort  is  speci-\n",
      "       fied.\n",
      "\n",
      "       Mandatory  arguments  to  long  options are mandatory for short options\n",
      "       too.\n",
      "\n",
      "       -a, --all\n",
      "              do not ignore entries starting with .\n",
      "\n",
      "       -A, --almost-all\n",
      "              do not list implied . and ..\n",
      "\n",
      "       --author\n",
      "              with -l, print the author of each file\n",
      "\n",
      "       -b, --escape\n",
      "              print C-style escapes for nongraphic characters\n",
      "\n"
     ]
    }
   ],
   "source": [
    "    man ls | head -n 30"
   ]
  },
  {
   "cell_type": "markdown",
   "metadata": {
    "slideshow": {
     "slide_type": "subslide"
    }
   },
   "source": [
    "## Navigating a man page\n",
    "\n",
    "- Use the `arrows keys` or `PageUp`/`PageDown` to scroll the man page\n",
    "- Use `/` followed by a keyword to search text \n",
    "    - e.g. press `/sort<Enter>` to search for the word \"sort\"\n",
    "- press `q` to exit"
   ]
  },
  {
   "cell_type": "markdown",
   "metadata": {
    "slideshow": {
     "slide_type": "subslide"
    }
   },
   "source": [
    "## Other useful sections in a man page\n",
    "\n",
    "- SEE ALSO: references to similar commands\n",
    "- EXAMPLES: examples of how to use the command\n",
    "\n",
    "<img src=\"https://raw.githubusercontent.com/dalloliogm/peb_unix_intro/master/slides/images/u1_man_seealso.png\" width=\"400\">"
   ]
  },
  {
   "cell_type": "markdown",
   "metadata": {
    "slideshow": {
     "slide_type": "subslide"
    }
   },
   "source": [
    "<img src=\"https://raw.githubusercontent.com/dalloliogm/peb_unix_intro/master/slides/images/u1_man_examples.png\" width=\"400\">"
   ]
  },
  {
   "cell_type": "markdown",
   "metadata": {
    "slideshow": {
     "slide_type": "slide"
    }
   },
   "source": [
    "## Getting documentation via info\n",
    "\n",
    "The command `info` allows to access a more complete description of a command.\n",
    "\n",
    "<img src=\"https://raw.githubusercontent.com/dalloliogm/peb_unix_intro/master/slides/images/u1_info.png\" width=\"400\">\n",
    "\n",
    "Not all commands have an info page, though."
   ]
  },
  {
   "cell_type": "markdown",
   "metadata": {
    "slideshow": {
     "slide_type": "slide"
    }
   },
   "source": [
    "# Excercise Time!"
   ]
  },
  {
   "cell_type": "markdown",
   "metadata": {
    "slideshow": {
     "slide_type": "fragment"
    }
   },
   "source": [
    "\n",
    "- Open the documentation page for `ls`\n",
    "\n",
    "- Which parameter can be passed to `ls` to sort files by size?\n",
    "\n",
    "- How to show the contents of a directory recursively with `ls?`"
   ]
  },
  {
   "cell_type": "markdown",
   "metadata": {
    "slideshow": {
     "slide_type": "slide"
    }
   },
   "source": [
    "# Getting help from Internet\n",
    "\n",
    "Some tips to get better results when searching the documentation of a command on Internet:\n",
    "\n",
    "- add keywords such as `unix`, `bash, `fedora`\n",
    "- Use the `-` operator to remove junk results\n",
    "- if you get an error with a softawre or during an installation, copy and paste the message on google\n",
    "\n"
   ]
  },
  {
   "cell_type": "markdown",
   "metadata": {
    "slideshow": {
     "slide_type": "subslide"
    }
   },
   "source": [
    "<img src=\"https://raw.githubusercontent.com/dalloliogm/peb_unix_intro/master/slides/images/u1_google1.png\" width=\"600\">"
   ]
  },
  {
   "cell_type": "markdown",
   "metadata": {
    "slideshow": {
     "slide_type": "subslide"
    }
   },
   "source": [
    "<img src=\"https://raw.githubusercontent.com/dalloliogm/peb_unix_intro/master/slides/images/u1_google2.png\" width=\"600\">"
   ]
  },
  {
   "cell_type": "markdown",
   "metadata": {
    "slideshow": {
     "slide_type": "subslide"
    }
   },
   "source": [
    "<img src=\"https://raw.githubusercontent.com/dalloliogm/peb_unix_intro/master/slides/images/u1_google3.png\" width=\"600\">"
   ]
  },
  {
   "cell_type": "markdown",
   "metadata": {
    "slideshow": {
     "slide_type": "slide"
    }
   },
   "source": [
    "# How can I use a Unix system at home/lab?\n",
    "\n"
   ]
  },
  {
   "cell_type": "markdown",
   "metadata": {
    "slideshow": {
     "slide_type": "subslide"
    }
   },
   "source": [
    "## The Linux distributions\n",
    "\n",
    "One option to access a Unix system is to install a \"GNU/Linux\" operating system on your computer.\n",
    "\n",
    "However there is not a single \"GNU/Linux\" operating system, as different groups of people have created different distributions according to different needs or contexts\n"
   ]
  },
  {
   "cell_type": "markdown",
   "metadata": {
    "slideshow": {
     "slide_type": "subslide"
    }
   },
   "source": [
    "## What is the difference between Linux Distributions?\n",
    "\n",
    "- The software included by default when you install the system\n",
    "    - e.g. firefox or chrome, gedit or kate\n",
    "- Some distributions include only free software, other are less strict\n",
    "- Some distributions are aimed for new users, while other are designed for \"nerds, geeks, specialists.....\"\n",
    "\n",
    "Behind the scenes, distributions can differ for:\n",
    "- the system used to install new software\n",
    "- technical details such as libraries used to compile the software"
   ]
  },
  {
   "cell_type": "markdown",
   "metadata": {
    "slideshow": {
     "slide_type": "subslide"
    }
   },
   "source": [
    "# Examples of Linux Distributions\n",
    "\n",
    "- `Ubuntu`: a popular distribution aimed at beginners\n",
    "- `Fedora`: another general use distribution"
   ]
  },
  {
   "cell_type": "markdown",
   "metadata": {
    "slideshow": {
     "slide_type": "subslide"
    }
   },
   "source": [
    "### Ubuntu\n",
    "\n",
    "\n",
    "\n",
    "Ubuntu is one of the most user-friendly Linux distribution. Good for beginners, but also for most users.\n",
    "\n",
    "\n",
    "<img src=\"https://149366088.v2.pressablecdn.com/wp-content/uploads/2019/12/decade.jpg\" width=\"600\" />\n",
    "\n",
    "https://ubuntu.com/"
   ]
  },
  {
   "cell_type": "markdown",
   "metadata": {
    "slideshow": {
     "slide_type": "slide"
    }
   },
   "source": [
    "# What if I don't want to install a new operating system?\n",
    "\n",
    "There are options to access and use a command line even without having to install a new operating system in your computer. Let's see some of them."
   ]
  },
  {
   "cell_type": "markdown",
   "metadata": {
    "slideshow": {
     "slide_type": "subslide"
    }
   },
   "source": [
    "## Windows\n",
    "\n",
    "MS Windows doesn't have a terminal emulator (except the latest versions), but there are a few options available.\n",
    "\n",
    "- **Putty** (http://www.chiark.greenend.org.uk/~sgtatham/putty/latest.html) is the simplest and most lightweight option to connect to a remote Unix server.\n",
    "- **Putty Manager** (http://puttymanager.sourceforge.net/) extends putty and provides multiple tabs and options.\n",
    "- **Cygwin** (https://www.cygwin.com/) emulates a whole unix environment. You can execute commands on your computer, or connect to a remote server\n",
    "- **MobaXTerm** (http://mobaxterm.mobatek.net/) is a commercial solution (but the free version is usually enough) providing a Unix environment and some more options.\n",
    "\n",
    "<a href=\"http://mobaxterm.mobatek.net/\" target=\"_blank\"><img src=\"http://mobaxterm.mobatek.net/img/moba/features/feature-terminal.png\" width=\"400\"></a>\n",
    "\n",
    "To install new software in Cygwin or MobaXterm:, use (e.g. make):\n",
    "\n",
    "```\n",
    "apt-cyg install make\n",
    "```"
   ]
  },
  {
   "cell_type": "markdown",
   "metadata": {
    "slideshow": {
     "slide_type": "subslide"
    }
   },
   "source": [
    "## Mac\n",
    "\n",
    "MacOs is also a Unix system, and it comes with a teminal emulator already installed. You should be able to use the Console App in Mac.\n",
    "\n",
    "<img src=\"http://blog.teamtreehouse.com/wp-content/uploads/2012/09/Screen-Shot-2012-09-25-at-1.01.45-PM.png\" width=\"400\">"
   ]
  },
  {
   "cell_type": "markdown",
   "metadata": {
    "slideshow": {
     "slide_type": "subslide"
    }
   },
   "source": [
    "## Linux\n",
    "\n",
    "Congratulations on having Linux installed! There are several applications that you can use, from gnome-terminal to konsole.\n",
    "<img src=\"https://camo.githubusercontent.com/358e5e2206148280d127128499ad92e8621e5517/68747470733a2f2f7261772e6769746875622e636f6d2f63656d6d616e6f75696c696469732f6d6f6e6f6b61692d676e6f6d652d7465726d696e616c2f6d61737465722f73637265656e73686f742d30312e706e67\" width=\"600\">\n"
   ]
  },
  {
   "cell_type": "markdown",
   "metadata": {
    "slideshow": {
     "slide_type": "slide"
    }
   },
   "source": [
    "# Time for a break!"
   ]
  }
 ],
 "metadata": {
  "celltoolbar": "Slideshow",
  "hide_input": false,
  "kernelspec": {
   "display_name": "Bash",
   "language": "bash",
   "name": "bash"
  },
  "language_info": {
   "codemirror_mode": "shell",
   "file_extension": ".sh",
   "mimetype": "text/x-sh",
   "name": "bash"
  },
  "nav_menu": {},
  "toc": {
   "base_numbering": 1,
   "nav_menu": {},
   "number_sections": true,
   "sideBar": true,
   "skip_h1_title": false,
   "title_cell": "Table of Contents",
   "title_sidebar": "Contents",
   "toc_cell": true,
   "toc_position": {
    "height": "554px",
    "left": "812px",
    "top": "163.8px",
    "width": "307px"
   },
   "toc_section_display": true,
   "toc_window_display": false
  }
 },
 "nbformat": 4,
 "nbformat_minor": 1
}
