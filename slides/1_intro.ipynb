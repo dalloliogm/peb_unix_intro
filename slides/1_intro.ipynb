{
 "cells": [
  {
   "cell_type": "markdown",
   "metadata": {
    "toc": "true"
   },
   "source": [
    "# Table of Contents\n",
    " <p><div class=\"lev1 toc-item\"><a href=\"#Introduction-to-Unix,-Part-1---Intro-to-Unix-and-Terminal\" data-toc-modified-id=\"Introduction-to-Unix,-Part-1---Intro-to-Unix-and-Terminal-1\"><span class=\"toc-item-num\">1&nbsp;&nbsp;</span>Introduction to Unix, Part 1 - Intro to Unix and Terminal</a></div><div class=\"lev1 toc-item\"><a href=\"#What-is-the-command-line-and-why-should-we-use-it?\" data-toc-modified-id=\"What-is-the-command-line-and-why-should-we-use-it?-2\"><span class=\"toc-item-num\">2&nbsp;&nbsp;</span>What is the command line and why should we use it?</a></div><div class=\"lev1 toc-item\"><a href=\"#What-is-Unix?\" data-toc-modified-id=\"What-is-Unix?-3\"><span class=\"toc-item-num\">3&nbsp;&nbsp;</span>What is Unix?</a></div><div class=\"lev2 toc-item\"><a href=\"#Linux,-MacOs,-and-Unix\" data-toc-modified-id=\"Linux,-MacOs,-and-Unix-3.1\"><span class=\"toc-item-num\">3.1&nbsp;&nbsp;</span>Linux, MacOs, and Unix</a></div><div class=\"lev1 toc-item\"><a href=\"#The-Unix-Philosophy\" data-toc-modified-id=\"The-Unix-Philosophy-4\"><span class=\"toc-item-num\">4&nbsp;&nbsp;</span>The Unix Philosophy</a></div><div class=\"lev1 toc-item\"><a href=\"#TAs-and-support\" data-toc-modified-id=\"TAs-and-support-5\"><span class=\"toc-item-num\">5&nbsp;&nbsp;</span>TAs and support</a></div><div class=\"lev1 toc-item\"><a href=\"#Hands-on-Linux:-let's-login!\" data-toc-modified-id=\"Hands-on-Linux:-let's-login!-6\"><span class=\"toc-item-num\">6&nbsp;&nbsp;</span>Hands on Linux: let's login!</a></div><div class=\"lev2 toc-item\"><a href=\"#While-the-computer-loads:-make-yourself-comfortable!\" data-toc-modified-id=\"While-the-computer-loads:-make-yourself-comfortable!-6.1\"><span class=\"toc-item-num\">6.1&nbsp;&nbsp;</span>While the computer loads: make yourself comfortable!</a></div><div class=\"lev2 toc-item\"><a href=\"#This-is-how-the-desktop-should-look-like,-after-login\" data-toc-modified-id=\"This-is-how-the-desktop-should-look-like,-after-login-6.2\"><span class=\"toc-item-num\">6.2&nbsp;&nbsp;</span>This is how the desktop should look like, after login</a></div><div class=\"lev2 toc-item\"><a href=\"#The-Linux-desktop\" data-toc-modified-id=\"The-Linux-desktop-6.3\"><span class=\"toc-item-num\">6.3&nbsp;&nbsp;</span>The Linux desktop</a></div><div class=\"lev1 toc-item\"><a href=\"#Let's-open-the-terminal\" data-toc-modified-id=\"Let's-open-the-terminal-7\"><span class=\"toc-item-num\">7&nbsp;&nbsp;</span>Let's open the terminal</a></div><div class=\"lev2 toc-item\"><a href=\"#How-does-a-terminal-looks-like?\" data-toc-modified-id=\"How-does-a-terminal-looks-like?-7.1\"><span class=\"toc-item-num\">7.1&nbsp;&nbsp;</span>How does a terminal looks like?</a></div><div class=\"lev2 toc-item\"><a href=\"#More-definitions\" data-toc-modified-id=\"More-definitions-7.2\"><span class=\"toc-item-num\">7.2&nbsp;&nbsp;</span>More definitions</a></div><div class=\"lev1 toc-item\"><a href=\"#Launching-applications-from-the-Terminal\" data-toc-modified-id=\"Launching-applications-from-the-Terminal-8\"><span class=\"toc-item-num\">8&nbsp;&nbsp;</span>Launching applications from the Terminal</a></div><div class=\"lev2 toc-item\"><a href=\"#Running-applications-in-the-background\" data-toc-modified-id=\"Running-applications-in-the-background-8.1\"><span class=\"toc-item-num\">8.1&nbsp;&nbsp;</span>Running applications in the background</a></div><div class=\"lev2 toc-item\"><a href=\"#Killing-an-application\" data-toc-modified-id=\"Killing-an-application-8.2\"><span class=\"toc-item-num\">8.2&nbsp;&nbsp;</span>Killing an application</a></div><div class=\"lev1 toc-item\"><a href=\"#Your-first-command:-ls\" data-toc-modified-id=\"Your-first-command:-ls-9\"><span class=\"toc-item-num\">9&nbsp;&nbsp;</span>Your first command: ls</a></div><div class=\"lev2 toc-item\"><a href=\"#Anatomy-of-a-command\" data-toc-modified-id=\"Anatomy-of-a-command-9.1\"><span class=\"toc-item-num\">9.1&nbsp;&nbsp;</span>Anatomy of a command</a></div><div class=\"lev2 toc-item\"><a href=\"#listing-all-files-and-their-details-(ls--l)\" data-toc-modified-id=\"listing-all-files-and-their-details-(ls--l)-9.2\"><span class=\"toc-item-num\">9.2&nbsp;&nbsp;</span>listing all files and their details (ls -l)</a></div><div class=\"lev2 toc-item\"><a href=\"#Listing-hidden-files-(ls--a)\" data-toc-modified-id=\"Listing-hidden-files-(ls--a)-9.3\"><span class=\"toc-item-num\">9.3&nbsp;&nbsp;</span>Listing hidden files (ls -a)</a></div><div class=\"lev2 toc-item\"><a href=\"#Combining-multiple-ls-parameters-together\" data-toc-modified-id=\"Combining-multiple-ls-parameters-together-9.4\"><span class=\"toc-item-num\">9.4&nbsp;&nbsp;</span>Combining multiple ls parameters together</a></div><div class=\"lev2 toc-item\"><a href=\"#File-permissions-and-output-of-ls--l\" data-toc-modified-id=\"File-permissions-and-output-of-ls--l-9.5\"><span class=\"toc-item-num\">9.5&nbsp;&nbsp;</span>File permissions and output of ls -l</a></div><div class=\"lev2 toc-item\"><a href=\"#Arguments\" data-toc-modified-id=\"Arguments-9.6\"><span class=\"toc-item-num\">9.6&nbsp;&nbsp;</span>Arguments</a></div><div class=\"lev2 toc-item\"><a href=\"#Command-line-tip:-the-Tab-key-and-auto-completion\" data-toc-modified-id=\"Command-line-tip:-the-Tab-key-and-auto-completion-9.7\"><span class=\"toc-item-num\">9.7&nbsp;&nbsp;</span>Command-line tip: the Tab key and auto-completion</a></div><div class=\"lev1 toc-item\"><a href=\"#How-to-get-documentation-of-a-command?\" data-toc-modified-id=\"How-to-get-documentation-of-a-command?-10\"><span class=\"toc-item-num\">10&nbsp;&nbsp;</span>How to get documentation of a command?</a></div><div class=\"lev2 toc-item\"><a href=\"#ls---help\" data-toc-modified-id=\"ls---help-10.1\"><span class=\"toc-item-num\">10.1&nbsp;&nbsp;</span>ls --help</a></div><div class=\"lev2 toc-item\"><a href=\"#The-man-page-of-a-command\" data-toc-modified-id=\"The-man-page-of-a-command-10.2\"><span class=\"toc-item-num\">10.2&nbsp;&nbsp;</span>The man page of a command</a></div><div class=\"lev2 toc-item\"><a href=\"#The-man-page-of-ls\" data-toc-modified-id=\"The-man-page-of-ls-10.3\"><span class=\"toc-item-num\">10.3&nbsp;&nbsp;</span>The man page of ls</a></div><div class=\"lev2 toc-item\"><a href=\"#Navigating-a-man-page\" data-toc-modified-id=\"Navigating-a-man-page-10.4\"><span class=\"toc-item-num\">10.4&nbsp;&nbsp;</span>Navigating a man page</a></div><div class=\"lev2 toc-item\"><a href=\"#Other-useful-sections-in-a-man-page\" data-toc-modified-id=\"Other-useful-sections-in-a-man-page-10.5\"><span class=\"toc-item-num\">10.5&nbsp;&nbsp;</span>Other useful sections in a man page</a></div><div class=\"lev2 toc-item\"><a href=\"#Getting-documentation-via-info\" data-toc-modified-id=\"Getting-documentation-via-info-10.6\"><span class=\"toc-item-num\">10.6&nbsp;&nbsp;</span>Getting documentation via info</a></div><div class=\"lev2 toc-item\"><a href=\"#Quick-exercise\" data-toc-modified-id=\"Quick-exercise-10.7\"><span class=\"toc-item-num\">10.7&nbsp;&nbsp;</span>Quick exercise</a></div><div class=\"lev1 toc-item\"><a href=\"#Getting-help-from-Internet\" data-toc-modified-id=\"Getting-help-from-Internet-11\"><span class=\"toc-item-num\">11&nbsp;&nbsp;</span>Getting help from Internet</a></div><div class=\"lev1 toc-item\"><a href=\"#How-can-I-use-a-Unix-system-at-home-/-lab?\" data-toc-modified-id=\"How-can-I-use-a-Unix-system-at-home-/-lab?-12\"><span class=\"toc-item-num\">12&nbsp;&nbsp;</span>How can I use a Unix system at home / lab?</a></div><div class=\"lev2 toc-item\"><a href=\"#The-Linux-distributions\" data-toc-modified-id=\"The-Linux-distributions-12.1\"><span class=\"toc-item-num\">12.1&nbsp;&nbsp;</span>The Linux distributions</a></div><div class=\"lev2 toc-item\"><a href=\"#What-is-the-difference-between-Linux-Distributions?\" data-toc-modified-id=\"What-is-the-difference-between-Linux-Distributions?-12.2\"><span class=\"toc-item-num\">12.2&nbsp;&nbsp;</span>What is the difference between Linux Distributions?</a></div><div class=\"lev1 toc-item\"><a href=\"#Examples-of-Linux-Distributions\" data-toc-modified-id=\"Examples-of-Linux-Distributions-13\"><span class=\"toc-item-num\">13&nbsp;&nbsp;</span>Examples of Linux Distributions</a></div><div class=\"lev3 toc-item\"><a href=\"#BioLinux\" data-toc-modified-id=\"BioLinux-13.0.1\"><span class=\"toc-item-num\">13.0.1&nbsp;&nbsp;</span>BioLinux</a></div><div class=\"lev1 toc-item\"><a href=\"#What-if-I-don't-want-to-install-a-new-operating-system?\" data-toc-modified-id=\"What-if-I-don't-want-to-install-a-new-operating-system?-14\"><span class=\"toc-item-num\">14&nbsp;&nbsp;</span>What if I don't want to install a new operating system?</a></div><div class=\"lev2 toc-item\"><a href=\"#Windows\" data-toc-modified-id=\"Windows-14.1\"><span class=\"toc-item-num\">14.1&nbsp;&nbsp;</span>Windows</a></div><div class=\"lev2 toc-item\"><a href=\"#Mac\" data-toc-modified-id=\"Mac-14.2\"><span class=\"toc-item-num\">14.2&nbsp;&nbsp;</span>Mac</a></div><div class=\"lev2 toc-item\"><a href=\"#Linux\" data-toc-modified-id=\"Linux-14.3\"><span class=\"toc-item-num\">14.3&nbsp;&nbsp;</span>Linux</a></div><div class=\"lev1 toc-item\"><a href=\"#Time-for-a-break!\" data-toc-modified-id=\"Time-for-a-break!-15\"><span class=\"toc-item-num\">15&nbsp;&nbsp;</span>Time for a break!</a></div>"
   ]
  },
  {
   "cell_type": "markdown",
   "metadata": {
    "slideshow": {
     "slide_type": "slide"
    }
   },
   "source": [
    "# Introduction to Unix, Part 1 - Intro to Unix and Terminal\n",
    "\n",
    "Giovanni M. Dall'Olio, 20/02/2017. All materials available here: http://bit.ly/peb_unix\n",
    "\n",
    "```\n",
    "  ________________________\n",
    " / Part 1 - Welcome to    \\\n",
    " \\ PEB Leipzig!           /\n",
    "  ------------------------\n",
    "         \\   ^__^\n",
    "          \\  (oo)\\_______\n",
    "             (__)\\       )\\/\\\n",
    "                 ||----w |\n",
    "                 ||     ||\n",
    "```\n",
    "\n",
    "Welcome to the Programming for Evolutionary Biology workshop!!\n",
    "\n",
    "In this first part of the course we will see the basics of Unix and Terminal usage.\n",
    "\n",
    "**How to use these slides**: Press Space to get to the next slide. Use arrows to navigate the subsections."
   ]
  },
  {
   "cell_type": "markdown",
   "metadata": {
    "slideshow": {
     "slide_type": "slide"
    }
   },
   "source": [
    "# What is the command line and why should we use it?\n",
    "\n",
    "Most computations in bioinformatics and data science are done from a command line interface, rather than from a point-and-click approach.\n",
    "\n",
    "This might seem less intuitive and quite cumbersome at the beginning, but it is actually very powerful and direct.\n",
    "\n",
    "Today we will make our first steps with the command line, learn the history and approach of the Unix systems, and see what are the advantages of this approach."
   ]
  },
  {
   "cell_type": "markdown",
   "metadata": {
    "slideshow": {
     "slide_type": "slide"
    }
   },
   "source": [
    "# What is Unix?\n",
    "\n",
    "\n",
    "First of all, let's clarify some definitions.\n",
    "\n",
    "**Unix** is the name of an operating system created in the '80s, which became popular for a variety of reasons:\n",
    "\n",
    " - it introduced a novel approach to programming and file managing\n",
    " - it run on any computer hardware independently of the maker\n",
    " - it was free for academic use\n"
   ]
  },
  {
   "cell_type": "markdown",
   "metadata": {
    "slideshow": {
     "slide_type": "subslide"
    }
   },
   "source": [
    "## Linux, MacOs, and Unix\n",
    "\n",
    "The original Unix system does not run on modern computers, but we can use some of its descendants (Linux, Solaris, MacOs) \n",
    "\n",
    "<img src=\"https://raw.githubusercontent.com/dalloliogm/peb_unix_intro/master/slides/images/unix_linux_mac.png\" width=\"400\">\n",
    "\n"
   ]
  },
  {
   "cell_type": "markdown",
   "metadata": {
    "slideshow": {
     "slide_type": "slide"
    }
   },
   "source": [
    "# The Unix Philosophy"
   ]
  },
  {
   "cell_type": "markdown",
   "metadata": {
    "slideshow": {
     "slide_type": "fragment"
    }
   },
   "source": [
    "The Unix philosophy can be summarised as: \n",
    "\n",
    "- Make each program do one thing well.\n",
    "- Expect the output of every program to become the input to another, as yet unknown, program.\n",
    "- Work on file streams, reading one line at a time.\n",
    "\n",
    "Press Space to continue."
   ]
  },
  {
   "cell_type": "markdown",
   "metadata": {
    "slideshow": {
     "slide_type": "fragment"
    }
   },
   "source": [
    "We will see how each Unix tool is specialized on a single task, and how the piping system allows to combine these tool together.\n",
    "\n",
    "These principles can be useful to any person wishing to learn programming. You may use the same approach when learning programming, starting writing small programs and functions, and combining them together in bigger pipelines. "
   ]
  },
  {
   "cell_type": "markdown",
   "metadata": {
    "slideshow": {
     "slide_type": "slide"
    }
   },
   "source": [
    "# TAs and support\n",
    "\n",
    "Some practical information:\n",
    "\n",
    "- There are seven Teaching Assistants (TAs), to help you, approximately one every 4-5 students.\n",
    "- Use sticky notes during the exercises: a green note when you finished the exercise, and a red note if you need help\n",
    "- We will have a second projector where a TA will shows the commands to type"
   ]
  },
  {
   "cell_type": "markdown",
   "metadata": {
    "slideshow": {
     "slide_type": "slide"
    }
   },
   "source": [
    "# Hands on Linux: let's login!"
   ]
  },
  {
   "cell_type": "markdown",
   "metadata": {
    "slideshow": {
     "slide_type": "fragment"
    }
   },
   "source": [
    "During this course we will set two sets of computers:\n",
    "\n",
    "- the **classroom** computers (in front of you)\n",
    "- two remote compute clusters, **evopserver** and **evopcompute**.\n",
    "\n",
    "Let's focus on the classroom computers for now.\n",
    "\n",
    "Check the cheat sheet **Password and Computer infrastructure** with the course materials for login and password.\n",
    "\n",
    "\n"
   ]
  },
  {
   "cell_type": "markdown",
   "metadata": {
    "slideshow": {
     "slide_type": "subslide"
    }
   },
   "source": [
    "##  While the computer loads: make yourself comfortable!\n",
    "\n",
    "<img src=\"https://raw.githubusercontent.com/dalloliogm/peb_unix_intro/master/slides/images/peb_comfortable.png\" width=\"600\">"
   ]
  },
  {
   "cell_type": "markdown",
   "metadata": {
    "slideshow": {
     "slide_type": "subslide"
    }
   },
   "source": [
    "## This is how the desktop should look like, after login\n",
    "\n",
    "Once logged in, you will see a desktop very similar to a Windows or Mac environment:\n",
    "\n",
    "<img src=\"https://raw.githubusercontent.com/dalloliogm/peb_unix_intro/master/slides/images/peb_desktop.png\" width=\"400\" />\n",
    "\n",
    "(The wallpaper and desktop may be different)"
   ]
  },
  {
   "cell_type": "markdown",
   "metadata": {
    "slideshow": {
     "slide_type": "subslide"
    }
   },
   "source": [
    "## The Linux desktop\n",
    "\n",
    "The Linux interface may be different to Windows and Mac, but it should not be difficult to use:\n",
    "\n",
    "- you have a Launch menu, from where you can access all the applications installed\n",
    "- most applications are similar:\n",
    "  - firefox or chrome for web browsing\n",
    "  - kate, gedit for editing text\n",
    "  - libreoffice for documents, presentation, spreadsheet"
   ]
  },
  {
   "cell_type": "markdown",
   "metadata": {
    "slideshow": {
     "slide_type": "slide"
    }
   },
   "source": [
    "# Let's open the terminal\n",
    "\n",
    "Open the Launch menu and search for \"terminal\" or \"konsole\"\n",
    "\n",
    "<img src=\"https://raw.githubusercontent.com/dalloliogm/peb_unix_intro/master/slides/images/peb_terminal.png\" width=\"400\" />"
   ]
  },
  {
   "cell_type": "markdown",
   "metadata": {
    "slideshow": {
     "slide_type": "subslide"
    }
   },
   "source": [
    "## How does a terminal looks like?\n",
    "\n",
    "<img src=\"https://raw.githubusercontent.com/dalloliogm/peb_unix_intro/master/slides/images/peb_terminal2.png\" width=\"500\" />"
   ]
  },
  {
   "cell_type": "markdown",
   "metadata": {
    "slideshow": {
     "slide_type": "subslide"
    }
   },
   "source": [
    "## More definitions\n",
    "\n",
    "**Linux**: \n",
    "\n",
    "    A \"descendant\" of Unix, e.g. an operating system based on Unix that can run on modern computers\n",
    "\n",
    "**Terminal**:\n",
    "\n",
    "    A software that allows to input commands to the computer, by typing them rather than point-and-click\n",
    "        \n",
    "**Bash**: \n",
    "\n",
    "    A command-line interpreter, e.g. a software that interprets the commands given from the terminal, and execute them."
   ]
  },
  {
   "cell_type": "markdown",
   "metadata": {
    "slideshow": {
     "slide_type": "subslide"
    }
   },
   "source": [
    "<img src=\"https://raw.githubusercontent.com/dalloliogm/peb_unix_intro/master/slides/images/terminal_bash_console.png\" width=\"600\">"
   ]
  },
  {
   "cell_type": "markdown",
   "metadata": {
    "slideshow": {
     "slide_type": "slide"
    }
   },
   "source": [
    "# Launching applications from the Terminal\n",
    "\n",
    "The terminal can be used any application installed in the computer, by typing its name instead of clicking on it.\n",
    "\n",
    "For example, type *firefox* to launch a web browser:\n",
    "\n",
    "```\n",
    "    $: firefox\n",
    "```\n",
    "\n",
    "\\* if this doesn't work, try: google-chrome"
   ]
  },
  {
   "cell_type": "markdown",
   "metadata": {
    "slideshow": {
     "slide_type": "subslide"
    }
   },
   "source": [
    "## Running applications in the background\n",
    "\n",
    "Some applications \"freeze\" the terminal when executed. For example, let's launch *kate*, a text editor\n",
    "\n",
    "```\n",
    "    $: kate\n",
    "```\n",
    "\n",
    "\\* if this doesn't work, try *gedit*"
   ]
  },
  {
   "cell_type": "markdown",
   "metadata": {
    "slideshow": {
     "slide_type": "fragment"
    }
   },
   "source": [
    "There are two alternative solutions:\n",
    "\n",
    "- after launching the application, press CTRL-z, then run the bg command\n",
    "- for future cases, before launching the application, add an & after the command ( kate & )\n",
    "\n",
    "You can also type *jobs* for a list of all the application running in background."
   ]
  },
  {
   "cell_type": "markdown",
   "metadata": {
    "slideshow": {
     "slide_type": "subslide"
    }
   },
   "source": [
    "## Killing an application\n",
    "\n",
    "Sometimes an application gets stuck and doesn't respond to input. \n",
    "\n",
    "Or for some reasons we want to abort the execution of a long script, because we realize there is an error in the code.\n",
    "\n",
    "If the application is running in the foreground, we can press CTRL-c to abort its execution.\n",
    "\n",
    "If the application is in the background (previous slide), we can use:\n",
    "\n",
    "- jobs (to list all the jobs in background)\n",
    "- kill %1 (to kill the first job in background)"
   ]
  },
  {
   "cell_type": "markdown",
   "metadata": {
    "slideshow": {
     "slide_type": "slide"
    }
   },
   "source": [
    "# Your first command: ls\n",
    "\n",
    "The most basic command is **ls**, which allows to list all the files in the current folder.\n",
    "\n",
    "The name is an abbreviation for \"list\"\n",
    "\n",
    "\n",
    "Typing **ls** will show all the files in the current directory. \n",
    "\n",
    "<img src=\"https://raw.githubusercontent.com/dalloliogm/peb_unix_intro/master/slides/images/bash_ls1.png\" width=\"400\">"
   ]
  },
  {
   "cell_type": "markdown",
   "metadata": {
    "slideshow": {
     "slide_type": "fragment"
    }
   },
   "source": [
    "Press space or the down key to continue."
   ]
  },
  {
   "cell_type": "markdown",
   "metadata": {
    "slideshow": {
     "slide_type": "subslide"
    }
   },
   "source": [
    "## Anatomy of a command\n",
    "\n",
    "A command can be composed by three parts:\n",
    "\n",
    "- the command itself\n",
    "- parameters (to alter the default behaviour of the command)\n",
    "- arguments (target of the command)"
   ]
  },
  {
   "cell_type": "markdown",
   "metadata": {
    "slideshow": {
     "slide_type": "subslide"
    }
   },
   "source": [
    "## listing all files and their details (ls -l)\n",
    "\n",
    "You can use the -l parameter of ls to visualize more details:\n",
    "\n",
    "\n",
    "<img src=\"https://raw.githubusercontent.com/dalloliogm/peb_unix_intro/master/slides/images/bash_ls4_ls_l.png\" width=\"400\">"
   ]
  },
  {
   "cell_type": "markdown",
   "metadata": {
    "slideshow": {
     "slide_type": "subslide"
    }
   },
   "source": [
    "## Listing hidden files (ls -a)\n",
    "\n",
    "By convention, in Unix systems hidden files have a name beginning with a \".\"\n",
    "\n",
    "The -a option of ls shows all the files, including the hidden ones.\n",
    "\n",
    "In general your home folder contains several hidden configuration files (.e.g. .bashrc, .conf, .cache). We can ignore them for the moment.\n",
    "\n",
    "<img src=\"https://raw.githubusercontent.com/dalloliogm/peb_unix_intro/master/slides/images/bash_ls5_ls1.png\" width=\"400\">"
   ]
  },
  {
   "cell_type": "markdown",
   "metadata": {
    "slideshow": {
     "slide_type": "subslide"
    }
   },
   "source": [
    "## Combining multiple ls parameters together\n",
    "\n",
    "We can combine multiple parameters of a command line together.\n",
    "\n",
    "For example, by typing \"ls -lt\", we can show the files in the long format (-l), and sorted by modification date (-t)\n",
    "\n",
    "<img src=\"https://raw.githubusercontent.com/dalloliogm/peb_unix_intro/master/slides/images/bash_ls8_lslt.png\" width=\"400\">"
   ]
  },
  {
   "cell_type": "markdown",
   "metadata": {
    "slideshow": {
     "slide_type": "subslide"
    }
   },
   "source": [
    "## File permissions and output of ls -l\n",
    "\n",
    "The first column in the ls -l output describes the permissions for the file (e.g. drwxr-xr-x.)\n",
    "\n",
    "- character 1: whether the element is a directory (d) or a file (-)\n",
    "- characters 2-4: whether the file is readable (r), writeable (w), or executable (x) by the user who owns it (fedora)\n",
    "- characters 5-7: the same, but for the user group (also called fedora) \n",
    "- characters 8-10: the same, for any user \n",
    "- character 11: security settings (not in all systems)\n",
    "\n",
    "See **chmod** to modify file permissions.\n",
    "\n",
    "<img src=\"https://raw.githubusercontent.com/dalloliogm/peb_unix_intro/master/slides/images/bash_ls8_lslt.png\" width=\"400\">"
   ]
  },
  {
   "cell_type": "markdown",
   "metadata": {
    "slideshow": {
     "slide_type": "subslide"
    }
   },
   "source": [
    "## Arguments\n",
    "\n",
    "The other component of a command is the argument, e.g. what is the target of the command.\n",
    "\n",
    "When we type **ls**, by default the target of the command is the current directory (also referred as \".\")\n",
    "\n",
    "To see the contents of another directory, just add its name to the command invocation:\n",
    "\n",
    "```\n",
    "    ls -l Desktop\n",
    "```"
   ]
  },
  {
   "cell_type": "markdown",
   "metadata": {
    "slideshow": {
     "slide_type": "subslide"
    }
   },
   "source": [
    "## Command-line tip: the Tab key and auto-completion\n",
    "\n",
    "We can use the Tab key on the keyboard (usually above Caps Lock) to automatically complete a command or a directory name.\n",
    "\n",
    "For example, try the following:\n",
    "\n",
    "```\n",
    "\n",
    "    ls Desk<press Tab key>\n",
    "```\n",
    "\n"
   ]
  },
  {
   "cell_type": "markdown",
   "metadata": {
    "slideshow": {
     "slide_type": "slide"
    }
   },
   "source": [
    "# How to get documentation of a command?\n",
    "\n",
    "How can we know all the possible options of a command?\n",
    "\n",
    "There are at least three options:\n",
    "\n",
    "    - --help\n",
    "    - man\n",
    "    - info"
   ]
  },
  {
   "cell_type": "markdown",
   "metadata": {
    "slideshow": {
     "slide_type": "subslide"
    }
   },
   "source": [
    "## ls --help\n",
    "\n",
    "Most command support a \"--help\" option (or -h, -help), which prints a summary of the most common parameters and options for the command:\n",
    "\n",
    "```\n",
    "    $: ls --help\n",
    "\n",
    "    Usage: ls [OPTION]... [FILE]...\n",
    "    List information about the FILEs (the current directory by default).\n",
    "    Sort entries alphabetically if none of -cftuvSUX nor --sort is specified.\n",
    "\n",
    "    Mandatory arguments to long options are mandatory for short options too.\n",
    "      -a, --all                  do not ignore entries starting with .\n",
    "      -A, --almost-all           do not list implied . and ..\n",
    "          --author               with -l, print the author of each file\n",
    "      -b, --escape               print C-style escapes for nongraphic characters\n",
    "          --block-size=SIZE      scale sizes by SIZE before printing them; e.g.,\n",
    " ```"
   ]
  },
  {
   "cell_type": "markdown",
   "metadata": {
    "slideshow": {
     "slide_type": "slide"
    }
   },
   "source": [
    "## The man page of a command\n",
    "\n",
    "The **man** command allows to access the manual of a command. \n",
    "\n",
    "Let's try it:\n",
    "\n",
    "```\n",
    "    man ls\n",
    "\n",
    "```"
   ]
  },
  {
   "cell_type": "markdown",
   "metadata": {
    "slideshow": {
     "slide_type": "subslide"
    }
   },
   "source": [
    "## The man page of ls\n",
    "\n",
    "Most man pages contain at least the following sections:\n",
    "\n",
    "- NAME: name of the command\n",
    "- SYNOPSIS: how to use it\n",
    "- DESCRIPTION/OPTIONS: what the command does, and "
   ]
  },
  {
   "cell_type": "markdown",
   "metadata": {
    "slideshow": {
     "slide_type": "fragment"
    }
   },
   "source": [
    "<img src=\"https://raw.githubusercontent.com/dalloliogm/peb_unix_intro/master/slides/images/manls.png\" width=\"600\">"
   ]
  },
  {
   "cell_type": "code",
   "execution_count": 16,
   "metadata": {
    "collapsed": false,
    "run_control": {
     "frozen": false,
     "read_only": false
    },
    "slideshow": {
     "slide_type": "subslide"
    }
   },
   "outputs": [
    {
     "name": "stdout",
     "output_type": "stream",
     "text": [
      "LS(1)                            User Commands                           LS(1)\r\n",
      "\r\n",
      "\r\n",
      "\r\n",
      "NAME\r\n",
      "       ls - list directory contents\r\n",
      "\r\n",
      "SYNOPSIS\r\n",
      "       ls [OPTION]... [FILE]...\r\n",
      "\r\n",
      "DESCRIPTION\r\n",
      "       List  information  about  the FILEs (the current directory by default).\r\n",
      "       Sort entries alphabetically if none of -cftuvSUX nor --sort  is  speci‐\r\n",
      "       fied.\r\n",
      "\r\n",
      "       Mandatory  arguments  to  long  options are mandatory for short options\r\n",
      "       too.\r\n",
      "\r\n",
      "       -a, --all\r\n",
      "              do not ignore entries starting with .\r\n",
      "\r\n",
      "       -A, --almost-all\r\n",
      "              do not list implied . and ..\r\n",
      "\r\n",
      "       --author\r\n",
      "              with -l, print the author of each file\r\n",
      "\r\n",
      "       -b, --escape\r\n",
      "              print C-style escapes for nongraphic characters\r\n",
      "\r\n"
     ]
    }
   ],
   "source": [
    "    man ls | head -n 30"
   ]
  },
  {
   "cell_type": "markdown",
   "metadata": {
    "slideshow": {
     "slide_type": "subslide"
    }
   },
   "source": [
    "## Navigating a man page\n",
    "\n",
    "- Use the arrows keys or PageUp/PageDown to scroll the man page\n",
    "- Use \"/\" followed by a keyword to search text \n",
    "    - e.g. press /sort<Enter> to search for the word \"sort\"\n",
    "- press \"q\" to exit"
   ]
  },
  {
   "cell_type": "markdown",
   "metadata": {
    "slideshow": {
     "slide_type": "subslide"
    }
   },
   "source": [
    "## Other useful sections in a man page\n",
    "\n",
    "- SEE ALSO: references to similar commands\n",
    "- EXAMPLES: examples of how to use the command\n",
    "\n",
    "<img src=\"https://raw.githubusercontent.com/dalloliogm/peb_unix_intro/master/slides/images/u1_man_seealso.png\" width=\"400\">"
   ]
  },
  {
   "cell_type": "markdown",
   "metadata": {
    "slideshow": {
     "slide_type": "subslide"
    }
   },
   "source": [
    "<img src=\"https://raw.githubusercontent.com/dalloliogm/peb_unix_intro/master/slides/images/u1_man_examples.png\" width=\"400\">"
   ]
  },
  {
   "cell_type": "markdown",
   "metadata": {
    "slideshow": {
     "slide_type": "slide"
    }
   },
   "source": [
    "## Getting documentation via info\n",
    "\n",
    "The command \"info\" allows to access a more complete description of a command.\n",
    "\n",
    "<img src=\"https://raw.githubusercontent.com/dalloliogm/peb_unix_intro/master/slides/images/u1_info.png\" width=\"400\">\n",
    "\n",
    "Not all commands have an info page, though."
   ]
  },
  {
   "cell_type": "markdown",
   "metadata": {
    "slideshow": {
     "slide_type": "slide"
    }
   },
   "source": [
    "## Quick exercise\n",
    "\n",
    "- Which parameter can be passed to **ls** to sort files by size?\n",
    "\n",
    "- How to show the contents of a directory recursively with **ls?**"
   ]
  },
  {
   "cell_type": "markdown",
   "metadata": {
    "slideshow": {
     "slide_type": "slide"
    }
   },
   "source": [
    "# Getting help from Internet\n",
    "\n",
    "Some tips to get better results when searching the documentation of a command on Internet:\n",
    "\n",
    "- add keywords such as \"unix\", \"bash\", \"fedora\"\n",
    "- Use the \"-\" operator to remove junk results\n",
    "- if you get an error with a softawre or during an installation, copy and paste the message on google\n",
    "\n"
   ]
  },
  {
   "cell_type": "markdown",
   "metadata": {
    "slideshow": {
     "slide_type": "subslide"
    }
   },
   "source": [
    "<img src=\"https://raw.githubusercontent.com/dalloliogm/peb_unix_intro/master/slides/images/u1_google1.png\" width=\"600\">"
   ]
  },
  {
   "cell_type": "markdown",
   "metadata": {
    "slideshow": {
     "slide_type": "subslide"
    }
   },
   "source": [
    "<img src=\"https://raw.githubusercontent.com/dalloliogm/peb_unix_intro/master/slides/images/u1_google2.png\" width=\"600\">"
   ]
  },
  {
   "cell_type": "markdown",
   "metadata": {
    "slideshow": {
     "slide_type": "subslide"
    }
   },
   "source": [
    "<img src=\"https://raw.githubusercontent.com/dalloliogm/peb_unix_intro/master/slides/images/u1_google3.png\" width=\"600\">"
   ]
  },
  {
   "cell_type": "markdown",
   "metadata": {
    "slideshow": {
     "slide_type": "slide"
    }
   },
   "source": [
    "# How can I use a Unix system at home / lab?\n",
    "\n"
   ]
  },
  {
   "cell_type": "markdown",
   "metadata": {
    "slideshow": {
     "slide_type": "subslide"
    }
   },
   "source": [
    "## The Linux distributions\n",
    "\n",
    "One option to access a Unix system is to install a \"GNU/Linux\" operating system on your computer.\n",
    "\n",
    "However there is not a single \"GNU/Linux\" operating system, as different groups of people have created different distributions according to different needs or contexts\n"
   ]
  },
  {
   "cell_type": "markdown",
   "metadata": {
    "slideshow": {
     "slide_type": "subslide"
    }
   },
   "source": [
    "## What is the difference between Linux Distributions?\n",
    "\n",
    "- The software included by default when you install the system\n",
    "    - e.g. firefox or chrome, gedit or kate\n",
    "- Some distributions include only free software, other are less strict\n",
    "- Some distributions are aimed at new users, other at \"nerds\"\n",
    "\n",
    "Behind the scenes, distributions can differ for:\n",
    "- the system used to install new software\n",
    "- technical details such as libraries used to compile the software"
   ]
  },
  {
   "cell_type": "markdown",
   "metadata": {
    "slideshow": {
     "slide_type": "subslide"
    }
   },
   "source": [
    "# Examples of Linux Distributions\n",
    "\n",
    "- Ubuntu: a popular distribution aimed at beginners\n",
    "- BioLinux: a derivation of Ubuntu, including software for bioinformaticians\n",
    "- Fedora: another general use distribution"
   ]
  },
  {
   "cell_type": "markdown",
   "metadata": {
    "slideshow": {
     "slide_type": "subslide"
    }
   },
   "source": [
    "### BioLinux\n",
    "\n",
    "\n",
    "\n",
    "BioLinux is a distribution designed for bioinformaticians\n",
    "- Blast\n",
    "- bioperl\n",
    "- vcftools, samtools, ...\n",
    "\n",
    "You can install it as a new operating system, or upgrade to it from an Ubuntu distribution.\n",
    "\n",
    "http://environmentalomics.org/bio-linux/\n",
    "\n",
    "<img src=\"http://i1-linux.softpedia-static.com/screenshots/Bio-Linux_1.jpg\" width=\"400\" />"
   ]
  },
  {
   "cell_type": "markdown",
   "metadata": {
    "slideshow": {
     "slide_type": "slide"
    }
   },
   "source": [
    "# What if I don't want to install a new operating system?\n",
    "\n",
    "There are options to access and use a command line even without having to install a new operating system in your computer. Let's see some of them."
   ]
  },
  {
   "cell_type": "markdown",
   "metadata": {
    "slideshow": {
     "slide_type": "subslide"
    }
   },
   "source": [
    "## Windows\n",
    "\n",
    "MS Windows doesn't have a terminal emulator (except the latest versions), but there are a few options available.\n",
    "\n",
    "- **Putty** (http://www.chiark.greenend.org.uk/~sgtatham/putty/latest.html) is the simplest and most lightweight option to connect to a remote Unix server.\n",
    "- **Putty Manager** (http://puttymanager.sourceforge.net/) extends putty and provides multiple tabs and options.\n",
    "- **Cygwin** (https://www.cygwin.com/) emulates a whole unix environment. You can execute commands on your computer, or connect to a remote server\n",
    "- **MobaXTerm** (http://mobaxterm.mobatek.net/) is a commercial solution (but the free version is usually enough) providing a Unix environment and some more options.\n",
    "\n",
    "<a href=\"http://mobaxterm.mobatek.net/\" target=\"_blank\"><img src=\"http://mobaxterm.mobatek.net/img/moba/features/feature-terminal.png\" width=\"400\"></a>\n",
    "\n",
    "To install new software in Cygwin or MobaXterm:, use (e.g. make):\n",
    "\n",
    "```\n",
    "apt-cyg install make\n",
    "```"
   ]
  },
  {
   "cell_type": "markdown",
   "metadata": {
    "slideshow": {
     "slide_type": "subslide"
    }
   },
   "source": [
    "## Mac\n",
    "\n",
    "MacOs is also a Unix system, and it comes with a teminal emulator already installed. You should be able to use the Console App in Mac.\n",
    "\n",
    "<img src=\"http://blog.teamtreehouse.com/wp-content/uploads/2012/09/Screen-Shot-2012-09-25-at-1.01.45-PM.png\" width=\"400\">"
   ]
  },
  {
   "cell_type": "markdown",
   "metadata": {
    "slideshow": {
     "slide_type": "subslide"
    }
   },
   "source": [
    "## Linux\n",
    "\n",
    "Congratulations on having Linux installed! There are several applications that you can use, from gnome-terminal to konsole.\n",
    "<img src=\"https://camo.githubusercontent.com/358e5e2206148280d127128499ad92e8621e5517/68747470733a2f2f7261772e6769746875622e636f6d2f63656d6d616e6f75696c696469732f6d6f6e6f6b61692d676e6f6d652d7465726d696e616c2f6d61737465722f73637265656e73686f742d30312e706e67\" width=\"400\">\n"
   ]
  },
  {
   "cell_type": "markdown",
   "metadata": {
    "slideshow": {
     "slide_type": "slide"
    }
   },
   "source": [
    "# Time for a break!"
   ]
  }
 ],
 "metadata": {
  "celltoolbar": "Edit Metadata",
  "hide_input": false,
  "kernelspec": {
   "display_name": "Bash",
   "language": "bash",
   "name": "bash"
  },
  "language_info": {
   "codemirror_mode": "shell",
   "file_extension": ".sh",
   "mimetype": "text/x-sh",
   "name": "bash"
  },
  "nav_menu": {},
  "toc": {
   "navigate_menu": true,
   "number_sections": true,
   "sideBar": true,
   "threshold": 6,
   "toc_cell": true,
   "toc_section_display": "block",
   "toc_window_display": false
  }
 },
 "nbformat": 4,
 "nbformat_minor": 1
}
