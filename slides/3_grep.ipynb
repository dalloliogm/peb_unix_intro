{
 "cells": [
  {
   "cell_type": "markdown",
   "metadata": {
    "toc": "true"
   },
   "source": [
    "# Table of Contents\n",
    " <p><div class=\"lev1 toc-item\"><a href=\"#Programming-for-Evolutionary-Biology-Leipzig---Bash-workshop\" data-toc-modified-id=\"Programming-for-Evolutionary-Biology-Leipzig---Bash-workshop-1\"><span class=\"toc-item-num\">1&nbsp;&nbsp;</span>Programming for Evolutionary Biology Leipzig - Bash workshop</a></div><div class=\"lev1 toc-item\"><a href=\"#Searching-patterns-into-file:-grep\" data-toc-modified-id=\"Searching-patterns-into-file:-grep-2\"><span class=\"toc-item-num\">2&nbsp;&nbsp;</span>Searching patterns into file: grep</a></div><div class=\"lev2 toc-item\"><a href=\"#Accessing-grep-documentation\" data-toc-modified-id=\"Accessing-grep-documentation-2.1\"><span class=\"toc-item-num\">2.1&nbsp;&nbsp;</span>Accessing grep documentation</a></div><div class=\"lev2 toc-item\"><a href=\"#Searching-multiple-files\" data-toc-modified-id=\"Searching-multiple-files-2.2\"><span class=\"toc-item-num\">2.2&nbsp;&nbsp;</span>Searching multiple files</a></div><div class=\"lev2 toc-item\"><a href=\"#Searching-multiple-patterns-and-the-Unix-piping-system\" data-toc-modified-id=\"Searching-multiple-patterns-and-the-Unix-piping-system-2.3\"><span class=\"toc-item-num\">2.3&nbsp;&nbsp;</span>Searching multiple patterns and the Unix piping system</a></div><div class=\"lev2 toc-item\"><a href=\"#Regular-Expressions\" data-toc-modified-id=\"Regular-Expressions-2.4\"><span class=\"toc-item-num\">2.4&nbsp;&nbsp;</span>Regular Expressions</a></div><div class=\"lev2 toc-item\"><a href=\"#Regular-Expression-exercise\" data-toc-modified-id=\"Regular-Expression-exercise-2.5\"><span class=\"toc-item-num\">2.5&nbsp;&nbsp;</span>Regular Expression exercise</a></div><div class=\"lev1 toc-item\"><a href=\"#Working-with-tabular-files:-Awk\" data-toc-modified-id=\"Working-with-tabular-files:-Awk-3\"><span class=\"toc-item-num\">3&nbsp;&nbsp;</span>Working with tabular files: Awk</a></div><div class=\"lev2 toc-item\"><a href=\"#Example-of-tabular-file:-the-GFF3-format\" data-toc-modified-id=\"Example-of-tabular-file:-the-GFF3-format-3.1\"><span class=\"toc-item-num\">3.1&nbsp;&nbsp;</span>Example of tabular file: the GFF3 format</a></div><div class=\"lev2 toc-item\"><a href=\"#Basic-AWK-syntax:-filters\" data-toc-modified-id=\"Basic-AWK-syntax:-filters-3.2\"><span class=\"toc-item-num\">3.2&nbsp;&nbsp;</span>Basic AWK syntax: filters</a></div><div class=\"lev4 toc-item\"><a href=\"#Exercise\" data-toc-modified-id=\"Exercise-3.2.0.1\"><span class=\"toc-item-num\">3.2.0.1&nbsp;&nbsp;</span>Exercise</a></div>"
   ]
  },
  {
   "cell_type": "markdown",
   "metadata": {
    "slideshow": {
     "slide_type": "slide"
    }
   },
   "source": [
    "# Programming for Evolutionary Biology Leipzig - Bash workshop\n",
    "\n",
    "Giovanni M. Dall'Olio, GlaxoSmithKline, 20/02/2017. All materials available here: https://dalloliogm.github.io/ \n",
    "\n",
    "```\n",
    " _______________\n",
    " / Welcome to    \\\n",
    " \\ PEB Leipzig! /\n",
    "  ---------------\n",
    "         \\   ^__^\n",
    "          \\  (oo)\\_______\n",
    "             (__)\\       )\\/\\\n",
    "                 ||----w |\n",
    "                 ||     ||\n",
    "```\n",
    "\n",
    "Welcome to the Programming for Evoluationary Biology workshop!!\n",
    "\n",
    "In this workshop we will review some basic Unix command, as well as bash usage.\n",
    "\n",
    "Press Space or Down do continue."
   ]
  },
  {
   "cell_type": "code",
   "execution_count": 1,
   "metadata": {
    "collapsed": false,
    "run_control": {
     "frozen": false,
     "read_only": false
    },
    "slideshow": {
     "slide_type": "skip"
    }
   },
   "outputs": [
    {
     "name": "stdout",
     "output_type": "stream",
     "text": []
    }
   ],
   "source": [
    "# Configuration - this will not appear in the slideshow\n",
    "alias grep='grep --color'"
   ]
  },
  {
   "cell_type": "markdown",
   "metadata": {
    "slideshow": {
     "slide_type": "slide"
    }
   },
   "source": [
    "# Searching patterns into file: grep\n",
    "\n",
    "The instructions for the next exercises are stored in the **data/exercise1_grep.txt** file. \n",
    "\n",
    "However, if you look at this file with head or less, you will see that its contents have no meaning!"
   ]
  },
  {
   "cell_type": "code",
   "execution_count": 4,
   "metadata": {
    "collapsed": false,
    "run_control": {
     "frozen": false,
     "read_only": false
    },
    "slideshow": {
     "slide_type": "-"
    }
   },
   "outputs": [
    {
     "name": "stdout",
     "output_type": "stream",
     "text": [
      "PWapg3ZDqzNWF6v VocznrWXXLTi gIY7Tj0bVx     pmslXrBubMQeoEJXrF0OfHpcpxwTlktHSCm\r\n",
      "spf5840ZpMkpg4tZvgd3z4dxLVLiXnfmtrNaGL9d    BV04Lu18iLMugTwPHRRkLCADC8PKO8jXutZ\r\n",
      "zBTK9i8ya oe4IoxbCZhST4XvDe mrccT7cwYGAD    1SmSareQB5q8wNsAvaA79aqXlIpmBZgmUVR\r\n",
      "4gr mwZcxIg6pQwgddsJa4giM7hzjp8lit49D7kH    upYIZQr8MbyEk4CX Y7k0uMmW9kk1fNJDea\r\n",
      "DMj0BJp wJ8BF3xyd61euAWb4IjOv6paBlKGse3a    buZnpSOJv9PWhQpQnuxmZosVdYFw6TZF3RG\r\n",
      "yxArpyFCKt5637qiASyfadyheMBAp4bccq5furIx    EOgGCEnWGuJwLSmvoehnXBdlbqDS5YN f7k\r\n",
      "T016mr v0mzedsHTFReC3ZjqVuYXpPuTulu8F0Z3    pmr9l96nOUEVXckfdiidZUP6UvFNh4Doaqz\r\n",
      "B0zFnnWEFttxrUjyuHgU9U09wEt7HfHBP1MAstQb    WgxYhtDn3swa5fsmYgtxQKjjbIZzuVszEdl\r\n",
      "qByK4hFg7JQowOAXW60EBXQYSDHFgUWHlJAGYnjO    CoB6YKtvZPaS8H8BRdsuBwdqU3KRz O9oXk\r\n",
      "3Ntf9b6jv7hZsjtfEcaIzMuakpsEjl6i7Mra4M3U    MgWDXcpafKACEA0rUAro9DjHo4VgbBJ6tdj\r\n"
     ]
    }
   ],
   "source": [
    "head data/exercise1_grep.txt"
   ]
  },
  {
   "cell_type": "markdown",
   "metadata": {
    "slideshow": {
     "slide_type": "-"
    }
   },
   "source": [
    "This is because I've hidden all the instructions in the file, just to make things more interesting!\n",
    "\n",
    "Press space or the down key to see how to continue."
   ]
  },
  {
   "cell_type": "markdown",
   "metadata": {
    "slideshow": {
     "slide_type": "subslide"
    }
   },
   "source": [
    "I've hidden the instructions for the first exercise in the lines containing the word \"start\" somewhere.\n",
    "\n",
    "To find them, type:\n",
    "\n",
    "```\n",
    "$: grep start data/exercise1_grep\n",
    "```"
   ]
  },
  {
   "cell_type": "code",
   "execution_count": 5,
   "metadata": {
    "collapsed": false,
    "run_control": {
     "frozen": false,
     "read_only": false
    },
    "slideshow": {
     "slide_type": "fragment"
    }
   },
   "outputs": [
    {
     "name": "stdout",
     "output_type": "stream",
     "text": [
      "NjIM \u001b[01;31m\u001b[Kstart\u001b[m\u001b[KesMsuqZNWhowFxuSFX4IaLymKGYdef    \r\n",
      "McQYo6 umUY816rvtSGjAl \u001b[01;31m\u001b[Kstart\u001b[m\u001b[K DdBaWfylxrZ     ______________________________\r\n",
      "Ewu1xLvv7OrXNWu4otWYoF gdV4U3i\u001b[01;31m\u001b[Kstart\u001b[m\u001b[KdzYlJ    / Congrats!                    \\  \r\n",
      "kDDgWqtLBgY85 PQm8p1ajcAEzbQdb \u001b[01;31m\u001b[Kstart\u001b[m\u001b[K rMv    |  You've used grep correctly, |\r\n",
      "kCVqk6sGesHvBp6 pNLzStgdhKu \u001b[01;31m\u001b[Kstart\u001b[m\u001b[K 9YQQNI    \\  and found a cow.            /\r\n",
      "tLMfr \u001b[01;31m\u001b[Kstart\u001b[m\u001b[KUY36ToJEfE4uqIAQ3JboyoBOFyL8s     ------------------------------\r\n",
      " bWKJdeuL \u001b[01;31m\u001b[Kstart\u001b[m\u001b[KI4xvVOZxwyC7oMKHaoG5ePF4k            \\   ^__^\r\n",
      "fThKk5wk \u001b[01;31m\u001b[Kstart\u001b[m\u001b[KAo6IzNddHcxuj93oFRam0mneoF             \\  (oo)\\_______\r\n",
      "aw\u001b[01;31m\u001b[Kstart\u001b[m\u001b[Kyw5tH3FzetzVxhw8c VrV7Uyis 5q8Yvj                (__)\\       )\\/\\ \r\n",
      "QgF4gHcEbAz \u001b[01;31m\u001b[Kstart\u001b[m\u001b[K 9ZbzG90fUafm64BIlTEIIr                    ||----w |\r\n",
      "XKWA \u001b[01;31m\u001b[Kstart\u001b[m\u001b[K6DpuNhYTXTcmo0UtCGa4SUo4JvnwvD                    ||     ||\r\n",
      "ZA0BrMOyH99y7VY97lkomNXHUJUv8MWg \u001b[01;31m\u001b[Kstart\u001b[m\u001b[K R    \r\n",
      "YgOF6ahX0hEhMf \u001b[01;31m\u001b[Kstart\u001b[m\u001b[KTZd 1 wDtbgoa86I8Atk    \r\n",
      "vln0CxxjrcgeeQ5EtPdG0Spx7\u001b[01;31m\u001b[Kstart\u001b[m\u001b[KIAT35hzj 6    \r\n",
      "xglkzByTDeiIKyoZbCQbO4br\u001b[01;31m\u001b[Kstart\u001b[m\u001b[K rb39 ExT9F    The command grep allows to search\r\n",
      "5\u001b[01;31m\u001b[Kstart\u001b[m\u001b[K7zPVWugW3vb9 mYBIxsuIVxhHUdIxiTgFZ    for a pattern in a text file.\r\n",
      "CLcSSkWNF0tHLOluZr43qptA \u001b[01;31m\u001b[Kstart\u001b[m\u001b[KxojHnAwbmJ    \r\n",
      "Fp \u001b[01;31m\u001b[Kstart\u001b[m\u001b[K ZwtvOeMtDld9oahg9rdmBvKtIjPqXFQ    It will print all the matching \r\n",
      "VOsyrwG4UOEsdfYLOfGFGKZWEvtJse \u001b[01;31m\u001b[Kstart\u001b[m\u001b[K 9Ra    lines to the screen.\r\n",
      "Sv81TKcZ8Fx1lb7xPZVMxW4ODNoKg8p7IHZ\u001b[01;31m\u001b[Kstart\u001b[m\u001b[K    \r\n",
      "GlbV\u001b[01;31m\u001b[Kstart\u001b[m\u001b[KpQQ5eQDweIn0VAGC8bQLbQ0Dzw4Ggvt    =================\r\n",
      "kziTL5jTi\u001b[01;31m\u001b[Kstart\u001b[m\u001b[K pijnXXmWRApPCC 19SUNHN8n7    Next Exercise\r\n",
      "v768DQ0dRCix6 \u001b[01;31m\u001b[Kstart\u001b[m\u001b[Kc0me0SF qIsYfeC704lam    =================\r\n",
      "vebdjvHTd\u001b[01;31m\u001b[Kstart\u001b[m\u001b[K RxBxhJayFkmRXqyOvqg5khG4O    \r\n",
      "QorxdcpNP1utzB\u001b[01;31m\u001b[Kstart\u001b[m\u001b[K6WpDOX4YzyIFpkZEalKW4    In the next exercise we will see \r\n",
      "GipBzz4Ul5sj3hVmVkQvPg \u001b[01;31m\u001b[Kstart\u001b[m\u001b[Kz9v6AF91EirG    how to access grep's documentation.\r\n",
      "CC09wNO65rwuCqUgi8Skg1NZ0SGR7WDUoVT\u001b[01;31m\u001b[Kstart\u001b[m\u001b[K    \r\n",
      "fjT7Ag59 RuhusLFzU \u001b[01;31m\u001b[Kstart\u001b[m\u001b[KGHFvKsYSp bnNsLG    Grep the following word to continue:\r\n",
      "Zx6RINR3hk \u001b[01;31m\u001b[Kstart\u001b[m\u001b[K667gnhTiLYLiB30MxX7irwVP      _            _        \r\n",
      "T0aoAQpfbNkO8LkSzSLJkLVEaXNxzQ \u001b[01;31m\u001b[Kstart\u001b[m\u001b[KVoL3     | |          | |       \r\n",
      "Nv0hZYvh0pHN0AlT BN\u001b[01;31m\u001b[Kstart\u001b[m\u001b[K C8pMzkIs7usQUWd     | |__    ___ | | _ __  \r\n",
      "5  \u001b[01;31m\u001b[Kstart\u001b[m\u001b[K  9Rq5tBOFDxiExQrRlPgCXoWt43a3US     | '_ \\  / _ \\| || '_ \\ \r\n",
      "46unsRj3c4ClXQvcoFPyE9cnRHDQOHFNNZ\u001b[01;31m\u001b[Kstart\u001b[m\u001b[Kc     | | | ||  __/| || |_) |\r\n",
      "40H3 \u001b[01;31m\u001b[Kstart\u001b[m\u001b[Kj6glBCFXqOhMH3BEdgBsPPQuBbOt6D     |_| |_| \\___||_|| .__/ \r\n",
      "Qam1yoNK3BCpwSyhRX8Wb3rA1U\u001b[01;31m\u001b[Kstart\u001b[m\u001b[K djDiAHuT                     | |    \r\n",
      "PFW \u001b[01;31m\u001b[Kstart\u001b[m\u001b[KKxEzUChDZGSPQNj4gsTS5k1JMBvWuY                      |_|  \r\n",
      "1bS5w1uaq65\u001b[01;31m\u001b[Kstart\u001b[m\u001b[KnVRWYkojLFMSkMjui8YYz1A5    \r\n",
      "g0 g8iyP \u001b[01;31m\u001b[Kstart\u001b[m\u001b[KQqkz7F05ST C S73TpreeesnFm    \r\n"
     ]
    }
   ],
   "source": [
    "grep start data/exercise1_grep.txt"
   ]
  },
  {
   "cell_type": "markdown",
   "metadata": {
    "slideshow": {
     "slide_type": "slide"
    }
   },
   "source": [
    "## Accessing grep documentation\n",
    "\n",
    "To access the documentation of a command, we can use the **man** command.\n",
    "\n",
    "Let's type the following:\n",
    "\n",
    "```\n",
    "$: man grep\n",
    "```\n",
    "\n",
    "This will allow to navigate the documentation for grep, in the same modality as with the **less** command. Use the arrows to scroll, and q to exit.\n",
    "\n",
    "For the next exercise, you will have to identify two options in the man page, and use them to do a case-insensitive search for \"ignorecase\", and count the number of lines."
   ]
  },
  {
   "cell_type": "code",
   "execution_count": 6,
   "metadata": {
    "collapsed": false,
    "run_control": {
     "frozen": false,
     "read_only": false
    },
    "slideshow": {
     "slide_type": "subslide"
    }
   },
   "outputs": [
    {
     "name": "stdout",
     "output_type": "stream",
     "text": [
      "td4kwN6cV0kqU3qMkwYOHl9MqjTQ \u001b[01;31m\u001b[Khelp\u001b[m\u001b[K MP6MrF    \r\n",
      "GY \u001b[01;31m\u001b[Khelp\u001b[m\u001b[K yEvNL3RuVQYqiumisBftk8irLzXwt61y    The documentation for grep can \r\n",
      "MTEwA\u001b[01;31m\u001b[Khelp\u001b[m\u001b[KhQapljO9yUtucAiNpvZrKdbwc3KUcsu    be accessed through man:\r\n",
      "NVD5n5HKKKz6GgDmyOGMlKSMTd \u001b[01;31m\u001b[Khelp\u001b[m\u001b[K Rii BCjC    \r\n",
      "ku1GNL6IpSHBvcGroqpHgbMUNCg3Yz3l\u001b[01;31m\u001b[Khelp\u001b[m\u001b[KnOBy        $: man grep\r\n",
      "XkHkwMI\u001b[01;31m\u001b[Khelp\u001b[m\u001b[K hidg7uJURR6loj5IAwv9oyeIUmqT    \r\n",
      "sGKar9AKY \u001b[01;31m\u001b[Khelp\u001b[m\u001b[K VhNi3MlGzT3WjAQdpWbvtuWeb    Scroll down to see all the \r\n",
      "jHLbw4whFT1B\u001b[01;31m\u001b[Khelp\u001b[m\u001b[KDfqZqhjXRYPjF0y7pkM8g3z3    parameters for grep and their description.\r\n",
      "hZ1OQgKcsgZo \u001b[01;31m\u001b[Khelp\u001b[m\u001b[K m4s64C8nSR5zM gU4fYObu    \r\n",
      "9jlkynOW\u001b[01;31m\u001b[Khelp\u001b[m\u001b[KLTaeswR5UnouUc3Ipsd4OjVI5PFO    Use / to search for text.\r\n",
      "k4pjhosSNRgJlr7kt\u001b[01;31m\u001b[Khelp\u001b[m\u001b[KAvkWOHszFMoP yPEbgT    Press the q key to exit.\r\n",
      "DPdj3lg4P6 UtuibInP\u001b[01;31m\u001b[Khelp\u001b[m\u001b[K ErdkiRKtYHTKDAJ     \r\n",
      "5Ru8b5\u001b[01;31m\u001b[Khelp\u001b[m\u001b[K cCuwtAVpbxoqHtK70dT9vtw5NsZR8    \r\n",
      "O\u001b[01;31m\u001b[Khelp\u001b[m\u001b[K hL9xy8U77RDjkZsRX6WDZf8ywnBY83LiL5    \r\n",
      "8nhxNAlz3yHtfZFEBjwvnKPFB \u001b[01;31m\u001b[Khelp\u001b[m\u001b[K qUV YkeQX    ==============\r\n",
      "FU4nt\u001b[01;31m\u001b[Khelp\u001b[m\u001b[K RStwArEw6UGFM4O7kKlxItNqVfD8Jl    Next exercise\r\n",
      "IcOj \u001b[01;31m\u001b[Khelp\u001b[m\u001b[K P56z3xD7QRkE1admG5sNTulg7B38om    ==============\r\n",
      "FSnpSHWkiELodvyTu Tx\u001b[01;31m\u001b[Khelp\u001b[m\u001b[K uAWnw9UTW0ZPITU    \r\n",
      "iCu7cLxdU0vLMBo\u001b[01;31m\u001b[Khelp\u001b[m\u001b[K46htatY8jYJC6XXVNDHTF    For the next exercise, you will need to open \r\n",
      "qLbjcY\u001b[01;31m\u001b[Khelp\u001b[m\u001b[K cp8USrp6u51ainbnXsp DForAbOq3    grep's documentation and identify two options:\r\n",
      "LPTakIcUOWmROON8GPJ4szSpKqZn3c \u001b[01;31m\u001b[Khelp\u001b[m\u001b[K k5jK    \r\n",
      "graSN0 cI4H6Zl \u001b[01;31m\u001b[Khelp\u001b[m\u001b[K hCxcK0ynPImVu0Mogdcw    - the option for case-insensitive searches\r\n",
      "MSewEHXyuatdRzy9GSokR DaLKp\u001b[01;31m\u001b[Khelp\u001b[m\u001b[KfDDJd7u p    - the option for counting \r\n",
      "r7k6b1c9XDZcWnxH syn9peY uNq\u001b[01;31m\u001b[Khelp\u001b[m\u001b[KjKyOyg0T      the number of matching lines, \r\n",
      "zi4Rycq58rmxjH zW1AhCWAO1s\u001b[01;31m\u001b[Khelp\u001b[m\u001b[KSyViqAbyAC      instead of printing them to the screen.\r\n",
      "CNx6GsFSs\u001b[01;31m\u001b[Khelp\u001b[m\u001b[K iRQE6pdA0jJiStNjknOaoQPSD     \r\n",
      "ial36NIIePB7P5 \u001b[01;31m\u001b[Khelp\u001b[m\u001b[K tpJ6bnVvVv7gESXp1Apc    Once you have identified these options, \r\n",
      "A9HSI nKdCcuDp8WGEFkbWE8gJsUAZatatIO\u001b[01;31m\u001b[Khelp\u001b[m\u001b[K    do a case-insensitive search on this file for the word \r\n",
      "erU3 7ppIkaPoqBFCFkFFYMo\u001b[01;31m\u001b[Khelp\u001b[m\u001b[K HxVST S9fFj    \"ignorecase\", then count the number of lines.\r\n",
      "lwjWEVzMBJSZiRSXvJzQmePQPFKeL4OQdO\u001b[01;31m\u001b[Khelp\u001b[m\u001b[K R    \r\n",
      "8P5kONdSaqg0tolHUGq8nN9brT7k \u001b[01;31m\u001b[Khelp\u001b[m\u001b[K 6duGCw        \r\n"
     ]
    }
   ],
   "source": [
    "grep help data/exercise1_grep.txt"
   ]
  },
  {
   "cell_type": "code",
   "execution_count": 7,
   "metadata": {
    "collapsed": false,
    "run_control": {
     "frozen": false,
     "read_only": false
    },
    "slideshow": {
     "slide_type": "subslide"
    }
   },
   "outputs": [
    {
     "name": "stdout",
     "output_type": "stream",
     "text": [
      "p14PGGX\u001b[01;31m\u001b[Kignorecase\u001b[m\u001b[KDoCCJ9sYiegaozfL6LXxDmf    \r\n",
      "o6m1cg7C\u001b[01;31m\u001b[Kignorecase\u001b[m\u001b[KUJbpjD laYkpG6gdBHbJIM            \r\n",
      "aNqS0Tg4kVIeLlyDeYoBlalps0\u001b[01;31m\u001b[Kignorecase\u001b[m\u001b[Kw5dd    Remember that, to continue with the exercise, \r\n",
      "bRe7rR0sM8mcf8W1woMoReyj\u001b[01;31m\u001b[Kignorecase\u001b[m\u001b[KLtPrHA    you need to do a case-insensitive search for the word\r\n",
      "erU3 7ppIkaPoqBFCFkFFYMohelp HxVST S9fFj    \"\u001b[01;31m\u001b[Kignorecase\u001b[m\u001b[K\", then count the number of lines.\r\n",
      "w\u001b[01;31m\u001b[Kignorecase\u001b[m\u001b[KTt0lDGMb5KCFWEm4t8RmBNXtLvURX                    ||----w |\r\n"
     ]
    }
   ],
   "source": [
    "# If we do a search for \"ignorecase\" without any option, we only get some of the lines.\n",
    "# You can notice that the cow is not properly displayed :-)\n",
    "grep ignorecase data/exercise1_grep.txt"
   ]
  },
  {
   "cell_type": "code",
   "execution_count": 8,
   "metadata": {
    "collapsed": false,
    "run_control": {
     "frozen": false,
     "read_only": false
    },
    "slideshow": {
     "slide_type": "fragment"
    }
   },
   "outputs": [
    {
     "name": "stdout",
     "output_type": "stream",
     "text": [
      "p14PGGX\u001b[01;31m\u001b[Kignorecase\u001b[m\u001b[KDoCCJ9sYiegaozfL6LXxDmf    \r\n",
      "o6m1cg7C\u001b[01;31m\u001b[Kignorecase\u001b[m\u001b[KUJbpjD laYkpG6gdBHbJIM            \r\n",
      "aNqS0Tg4kVIeLlyDeYoBlalps0\u001b[01;31m\u001b[Kignorecase\u001b[m\u001b[Kw5dd    Remember that, to continue with the exercise, \r\n",
      "bRe7rR0sM8mcf8W1woMoReyj\u001b[01;31m\u001b[Kignorecase\u001b[m\u001b[KLtPrHA    you need to do a case-insensitive search for the word\r\n",
      "erU3 7ppIkaPoqBFCFkFFYMohelp HxVST S9fFj    \"\u001b[01;31m\u001b[Kignorecase\u001b[m\u001b[K\", then count the number of lines.\r\n",
      "1ofqHyPgr74Vx 0vUkETWFA\u001b[01;31m\u001b[KIGNORECASE\u001b[m\u001b[Ku8SJQ5C    \r\n",
      "1 vfC7\u001b[01;31m\u001b[KIGNORECASE\u001b[m\u001b[KMUtRWYq3KGKJpR8koi7FhtzX     _____________\r\n",
      "OTMODZfX1gD9l38Tu9PEQZrshVzL\u001b[01;31m\u001b[KIGNORECASE\u001b[m\u001b[KbI    / Good Job!   \\ \r\n",
      "u7YtPPNnVLSzB8HCBvtOcIHey0X8Wt\u001b[01;31m\u001b[KIgnorEcase\u001b[m\u001b[K    | You did a   |\r\n",
      "QfX1XYVyUHpwU\u001b[01;31m\u001b[KIgnorEcase\u001b[m\u001b[KpT fi6GkHvOkG LDb    | case-insens |\r\n",
      "Vw4ePnDoZ4KxNs58pWlGMoFVc\u001b[01;31m\u001b[KIgnorEcase\u001b[m\u001b[KpQj 6    | itive       |\r\n",
      "fN4SOVBxl6\u001b[01;31m\u001b[KIgnorEcase\u001b[m\u001b[KeJ5Ldyb0y4PLVSL1ZCv7    \\ search      /\r\n",
      "mmNqW04FRacds3eYb\u001b[01;31m\u001b[KIgnorEcase\u001b[m\u001b[KRk5rFhFpKahDt     -------------\r\n",
      "ZgQZAYDnIE7Jk4PLhZ10gx\u001b[01;31m\u001b[KIGNORECASE\u001b[m\u001b[KpxQqxB4t            \\   ^__^\r\n",
      "50FY1806\u001b[01;31m\u001b[KignOrecase\u001b[m\u001b[K6DzXRGwihWPeO3J gjHsDG             \\  (oo)\\_______\r\n",
      "QxAIpmflI jFcJ\u001b[01;31m\u001b[KignOrecase\u001b[m\u001b[KQM06LNCSX lftJUX                (__)\\       )\\/\\ \r\n",
      "w\u001b[01;31m\u001b[Kignorecase\u001b[m\u001b[KTt0lDGMb5KCFWEm4t8RmBNXtLvURX                    ||----w |\r\n",
      "w1EeylvQJWMF\u001b[01;31m\u001b[KIgnorEcase\u001b[m\u001b[KWavz4 ICR89dkvr6sf                    ||     ||\r\n",
      "wayAmo30uEjxkMyJvis\u001b[01;31m\u001b[KIGNORECASE\u001b[m\u001b[KkwshDQX DGB    \r\n",
      "45s7W ggf\u001b[01;31m\u001b[KignOrecase\u001b[m\u001b[KUYiHjY0F6BWSqqDfZ6c F    \r\n",
      "zmqy\u001b[01;31m\u001b[KIgnorEcase\u001b[m\u001b[Kqo5w9DIs0DGFlDayGlVaheoIlO        \r\n"
     ]
    }
   ],
   "source": [
    "# The -i option allows to do a case-insensitive search.\n",
    "# As you can see, some lines contain upper case characters:\n",
    "grep -i ignorecase data/exercise1_grep.txt"
   ]
  },
  {
   "cell_type": "code",
   "execution_count": 9,
   "metadata": {
    "collapsed": false,
    "run_control": {
     "frozen": false,
     "read_only": false
    },
    "slideshow": {
     "slide_type": "fragment"
    }
   },
   "outputs": [
    {
     "name": "stdout",
     "output_type": "stream",
     "text": [
      "21\r\n"
     ]
    }
   ],
   "source": [
    "# To solve the exercise, we also have to count the number of output lines.\n",
    "# This can be done with the \"-c\" option:\n",
    "grep -i -c ignorecase data/exercise1_grep.txt"
   ]
  },
  {
   "cell_type": "code",
   "execution_count": 10,
   "metadata": {
    "collapsed": false,
    "run_control": {
     "frozen": false,
     "read_only": false
    },
    "slideshow": {
     "slide_type": "fragment"
    }
   },
   "outputs": [
    {
     "name": "stdout",
     "output_type": "stream",
     "text": [
      "tidjh\u001b[01;31m\u001b[K21\u001b[m\u001b[KyvuMNPDEma8t6PksdgTVkimf6F8LHegXf    \r\n",
      "OllivZL3QFq8OiobDOQjdrPT1KeqT\u001b[01;31m\u001b[K21\u001b[m\u001b[K bRG WMRc    \r\n",
      "eCmkBM\u001b[01;31m\u001b[K21\u001b[m\u001b[KOATsb57fD9ao6czsMB1f7gtWvJCFAW3z     ____________________\r\n",
      "YCOQlk1yUmr8EjN3NBxEB0SSToh\u001b[01;31m\u001b[K21\u001b[m\u001b[KXfpm BiVHS7    / Congrats! Yes      \\ \r\n",
      "JCsq1gs3drLCHAerYroSp331AJMHr\u001b[01;31m\u001b[K21\u001b[m\u001b[Km9Atm4UMR    | the answer to the  |\r\n",
      "z3nfFTpzSKGHfdDwtIadMjgiYx\u001b[01;31m\u001b[K21\u001b[m\u001b[Kiiat3S9VVT8R    | case-insensitive   |\r\n",
      "0qBEpfp1dcTibKVwObda341CTH9zoYJpBFe8\u001b[01;31m\u001b[K21\u001b[m\u001b[Kyy    | and count question |\r\n",
      "KJIsvaofywLv6uz1\u001b[01;31m\u001b[K21\u001b[m\u001b[K6aZlUBQ3XBJd1jVC5bdHAE    | is \u001b[01;31m\u001b[K21\u001b[m\u001b[K.             /\r\n",
      "jy0FgakHM4Tq7ncjhUN\u001b[01;31m\u001b[K21\u001b[m\u001b[KggkNyZhNhJC4eyz ESN     --------------------\r\n",
      "xwwOmWdp5pJ8IsvtNMx9EnWOnjmuUEdt4o8d\u001b[01;31m\u001b[K21\u001b[m\u001b[Kzc            \\   ^__^\r\n",
      "k azZdXgjRGFYTHuMIp0SFkwjp4vHRG1lnlmSj\u001b[01;31m\u001b[K21\u001b[m\u001b[K             \\  (oo)\\_______\r\n",
      "jYe19iH7NaYtPGDC7mXoy5G7\u001b[01;31m\u001b[K21\u001b[m\u001b[Ks8EGrD8wFCZSlJ                (__)\\       )\\/\\  \r\n",
      "CXUYNxwnP8jr3NR5T9SCl5TQAwJI5ZjNCm zw\u001b[01;31m\u001b[K21\u001b[m\u001b[KY                    ||----w |\r\n",
      "l\u001b[01;31m\u001b[K21\u001b[m\u001b[KFpLp HaLHc1MaoMXflHI4wr981PUNefC0cKDC                    ||     ||\r\n",
      "fC1BsEyvpDm cCnceoQCj3\u001b[01;31m\u001b[K21\u001b[m\u001b[Kv36bmPx5u9Ht6qxs    \r\n",
      "VAAh4PTzYzWSbMxmtDE8XtwYqSu8KFq50\u001b[01;31m\u001b[K21\u001b[m\u001b[KycKLY    \r\n",
      "WmHhzfH8XzJ4Dd3PvgMoIXAnoJJG3G9HlGUtD\u001b[01;31m\u001b[K21\u001b[m\u001b[Kd    =============\r\n",
      "yCrjC\u001b[01;31m\u001b[K21\u001b[m\u001b[KuBDHKBR1P0XVXQp9XE6T7Nqa6C p8ZQ4H    Next exercise\r\n",
      "zfa7If6rzhvuv O6HFHU\u001b[01;31m\u001b[K21\u001b[m\u001b[KcbLnpW0Yipf3xSKJSS    =============\r\n",
      "FPgwt6n3mfTJtartXVwrMAtmn3ISF\u001b[01;31m\u001b[K21\u001b[m\u001b[KyiK0U9NH4    \r\n",
      "PnV\u001b[01;31m\u001b[K21\u001b[m\u001b[KlkRoTqqVP 9Hs4v4RlJLFdOx6LkhICM WW1    Searching in multiple files\r\n",
      "uaRh\u001b[01;31m\u001b[K21\u001b[m\u001b[K9wTTl0wCVin63cfrywW06LwQOb vx1k5Uu    \r\n",
      "FTOHCTMDFlKj cNVu\u001b[01;31m\u001b[K21\u001b[m\u001b[KDgKqN1EZxhU1iPyGRrko1    Grep can search the same pattern\r\n",
      "EfzALglVAh8cPso5WmyYi8v1QG0c\u001b[01;31m\u001b[K21\u001b[m\u001b[KLUTKPqw66N    in more than one file at the same time.\r\n",
      "rGWMTbnXJnehtyAY3vxTJWUdaUXH MxFnyA\u001b[01;31m\u001b[K21\u001b[m\u001b[KfUN    \r\n",
      "l0UcWWd0LG0GeFwNKlGEyj07pbUOPTee1\u001b[01;31m\u001b[K21\u001b[m\u001b[Kt0MsN    The folder data/multiplefiles/ contains hundreds of different files.\r\n",
      "Ow7gE6ZNvIGLP775npX6j5menzWz4\u001b[01;31m\u001b[K21\u001b[m\u001b[KHg00qDP3w    \r\n",
      "uWhIZ4kk6cI7d9503RXAniriZjemCOZ\u001b[01;31m\u001b[K21\u001b[m\u001b[KJ7BTCBt    Can you identify the file containing the word \"regex\"?\r\n",
      "Wxd46\u001b[01;31m\u001b[K21\u001b[m\u001b[KC JxW68aYMWbeCMY0eVMtTqF8iAfhqazV    \r\n",
      "iekhxfE5LpZ\u001b[01;31m\u001b[K21\u001b[m\u001b[KqUxwIjXpYtMchz489rzXtZ0 VOU        \r\n"
     ]
    }
   ],
   "source": [
    "# solution: how to find the instructions for the next exercise\n",
    "grep 21 data/exercise1_grep.txt"
   ]
  },
  {
   "cell_type": "markdown",
   "metadata": {
    "slideshow": {
     "slide_type": "slide"
    }
   },
   "source": [
    "## Searching multiple files\n",
    "\n",
    "Grep is useful to search over multiple files in a single command.\n",
    "\n",
    "The folder data/multiplefiles/ contains 50 randomly generated files. You can see their contents with head data/multiplefiles/\\* or with less.\n",
    "\n",
    "One of these files contains the word \"regex\" in it. Are you able to find it?"
   ]
  },
  {
   "cell_type": "code",
   "execution_count": 11,
   "metadata": {
    "collapsed": false,
    "run_control": {
     "frozen": false,
     "read_only": false
    },
    "slideshow": {
     "slide_type": "subslide"
    }
   },
   "outputs": [
    {
     "name": "stdout",
     "output_type": "stream",
     "text": [
      "\u001b[35m\u001b[Kdata/multiplefiles/file32.txt\u001b[m\u001b[K\u001b[36m\u001b[K:\u001b[m\u001b[K5gsumFTKbKEJv9dD8W94FhoEQU8qf8RMUc\u001b[01;31m\u001b[Kregex\u001b[m\u001b[KR    \r\n",
      "\u001b[35m\u001b[Kdata/multiplefiles/file32.txt\u001b[m\u001b[K\u001b[36m\u001b[K:\u001b[m\u001b[KYgDiqkA C1o\u001b[01;31m\u001b[Kregex\u001b[m\u001b[K9giqI66c3sOwfLirOsgPpSuq    \r\n",
      "\u001b[35m\u001b[Kdata/multiplefiles/file32.txt\u001b[m\u001b[K\u001b[36m\u001b[K:\u001b[m\u001b[KIsXSnp 8U8pKR0LsVuK\u001b[01;31m\u001b[Kregex\u001b[m\u001b[KO5GFegOtV4GW4fNQ    Good! You've found the \r\n",
      "\u001b[35m\u001b[Kdata/multiplefiles/file32.txt\u001b[m\u001b[K\u001b[36m\u001b[K:\u001b[m\u001b[Kl 4px8KhPRmfEJgi5uTuVO1XahG3H1sY\u001b[01;31m\u001b[Kregex\u001b[m\u001b[K4wt    file containing the word \"\u001b[01;31m\u001b[Kregex\u001b[m\u001b[K\"\r\n",
      "\u001b[35m\u001b[Kdata/multiplefiles/file32.txt\u001b[m\u001b[K\u001b[36m\u001b[K:\u001b[m\u001b[Kyz8P5 HC6N5D XRHPncZjTAeM\u001b[01;31m\u001b[Kregex\u001b[m\u001b[KT9bQUoZdsh    \r\n",
      "\u001b[35m\u001b[Kdata/multiplefiles/file32.txt\u001b[m\u001b[K\u001b[36m\u001b[K:\u001b[m\u001b[KeWUd18s0MVx5YYrEK KCKeF5hvO\u001b[01;31m\u001b[Kregex\u001b[m\u001b[KIiZbIGUX    To continue, \r\n",
      "\u001b[35m\u001b[Kdata/multiplefiles/file32.txt\u001b[m\u001b[K\u001b[36m\u001b[K:\u001b[m\u001b[KMLXiKZJ8KyHMou9lYsz4ZjFYJSfB 14t\u001b[01;31m\u001b[Kregex\u001b[m\u001b[KtpJ    grep file32.txt data/exercise1_grep.txt\r\n",
      "\u001b[35m\u001b[Kdata/multiplefiles/file32.txt\u001b[m\u001b[K\u001b[36m\u001b[K:\u001b[m\u001b[KveFQU\u001b[01;31m\u001b[Kregex\u001b[m\u001b[KfnQxwQw6POJRNvvAeYwToX6ptvN39m    \r\n",
      "\u001b[35m\u001b[Kdata/multiplefiles/file32.txt\u001b[m\u001b[K\u001b[36m\u001b[K:\u001b[m\u001b[KcHoNv\u001b[01;31m\u001b[Kregex\u001b[m\u001b[KiGjHkmptPVTjOzvWVGbrGoHoywV4Vy    \r\n"
     ]
    }
   ],
   "source": [
    "# solution: you can use the \"*\" character to specify multiple files:\n",
    "grep 'regex' data/multiplefiles/*"
   ]
  },
  {
   "cell_type": "markdown",
   "metadata": {
    "slideshow": {
     "slide_type": "slide"
    }
   },
   "source": [
    "## Searching multiple patterns and the Unix piping system\n",
    "\n",
    "How can we search that contain two or more patterns?\n",
    "\n",
    "One solution is to use the Unix piping system, executing one grep command, and then another grep on the output.\n",
    "\n",
    "This can be done using the pipe \"|\" symbol, like the following:\n",
    "\n",
    "```\n",
    "$: grep (first pattern) myfile.txt | grep (second pattern)\n",
    "```\n",
    "\n",
    "Press space or the down key for some examples."
   ]
  },
  {
   "cell_type": "markdown",
   "metadata": {
    "slideshow": {
     "slide_type": "subslide"
    }
   },
   "source": [
    "The file data/genes/mgat_genes.gb is a genbank file. Notice how this format is well suited for grep searches:"
   ]
  },
  {
   "cell_type": "code",
   "execution_count": 12,
   "metadata": {
    "collapsed": false,
    "run_control": {
     "frozen": false,
     "read_only": false
    }
   },
   "outputs": [
    {
     "name": "stdout",
     "output_type": "stream",
     "text": [
      "LOCUS       HUMUDPCNA               4705 bp    DNA     linear   PRI 19-SEP-1995\r\n",
      "DEFINITION  Human alpha-1,3-mannosyl-glycoprotein beta-1,\r\n",
      "            2-N-acetylglucosaminyltransferase (MGAT) gene, complete cds.\r\n",
      "ACCESSION   M61829\r\n",
      "VERSION     M61829.1  GI:340075\r\n",
      "KEYWORDS    alpha-1,3-mannosyl-glycoprotein beta-1,2-N-acetylglucosaminyltrae.\r\n",
      "SOURCE      Homo sapiens (human)\r\n",
      "  ORGANISM  Homo sapiens\r\n",
      "            Eukaryota; Metazoa; Chordata; Craniata; Vertebrata; Euteleostomi;\r\n",
      "            Mammalia; Eutheria; Euarchontoglires; Primates; Haplorrhini;\r\n"
     ]
    }
   ],
   "source": [
    "head data/genes/mgat_genes.gb"
   ]
  },
  {
   "cell_type": "markdown",
   "metadata": {
    "slideshow": {
     "slide_type": "fragment"
    }
   },
   "source": [
    "Let's say we want to search all the lines where \"ORGANISM\" is \"Homo sapiens\". \n",
    "\n",
    "We can do it with two grep commands:\n",
    "\n",
    "```\n",
    "grep ORGANISM data/genes/mgat_genes.gb | grep 'Homo sapiens'\n",
    "```\n",
    "Notice that searching for \"Homo sapiens\" alone would not be enough, as there are other lines where the word \"Homo sapiens\" is present."
   ]
  },
  {
   "cell_type": "code",
   "execution_count": 13,
   "metadata": {
    "collapsed": false,
    "run_control": {
     "frozen": false,
     "read_only": false
    }
   },
   "outputs": [
    {
     "name": "stdout",
     "output_type": "stream",
     "text": [
      "  ORGANISM  \u001b[01;31m\u001b[KHomo sapiens\u001b[m\u001b[K\r\n",
      "  ORGANISM  \u001b[01;31m\u001b[KHomo sapiens\u001b[m\u001b[K\r\n",
      "  ORGANISM  \u001b[01;31m\u001b[KHomo sapiens\u001b[m\u001b[K\r\n",
      "  ORGANISM  \u001b[01;31m\u001b[KHomo sapiens\u001b[m\u001b[K\r\n",
      "  ORGANISM  \u001b[01;31m\u001b[KHomo sapiens\u001b[m\u001b[K\r\n",
      "  ORGANISM  \u001b[01;31m\u001b[KHomo sapiens\u001b[m\u001b[K\r\n",
      "  ORGANISM  \u001b[01;31m\u001b[KHomo sapiens\u001b[m\u001b[K\r\n",
      "  ORGANISM  \u001b[01;31m\u001b[KHomo sapiens\u001b[m\u001b[K\r\n"
     ]
    }
   ],
   "source": [
    "grep ORGANISM data/genes/mgat_genes.gb | grep 'Homo sapiens'"
   ]
  },
  {
   "cell_type": "markdown",
   "metadata": {
    "slideshow": {
     "slide_type": "subslide"
    }
   },
   "source": [
    "The file contains sequences from two other organisms apart from Homo sapiens. Can you guess which one to search for the next exercise?"
   ]
  },
  {
   "cell_type": "code",
   "execution_count": 14,
   "metadata": {
    "collapsed": false,
    "run_control": {
     "frozen": false,
     "read_only": false
    },
    "slideshow": {
     "slide_type": "fragment"
    }
   },
   "outputs": [
    {
     "name": "stdout",
     "output_type": "stream",
     "text": [
      "  ORGANISM  Bos \u001b[01;31m\u001b[Ktaurus\u001b[m\u001b[K\r\n",
      "  ORGANISM  Bos \u001b[01;31m\u001b[Ktaurus\u001b[m\u001b[K\r\n",
      "  ORGANISM  Bos \u001b[01;31m\u001b[Ktaurus\u001b[m\u001b[K\r\n",
      "  ORGANISM  Bos \u001b[01;31m\u001b[Ktaurus\u001b[m\u001b[K\t\t\t   _______________\r\n",
      "  ORGANISM  Bos \u001b[01;31m\u001b[Ktaurus\u001b[m\u001b[K\t\t          < Well guessed! >\r\n",
      "  ORGANISM  Bos \u001b[01;31m\u001b[Ktaurus\u001b[m\u001b[K\t\t\t   ---------------\r\n",
      "  ORGANISM  Bos \u001b[01;31m\u001b[Ktaurus\u001b[m\u001b[K\t\t\t\t\t\\   ^__^\r\n",
      "  ORGANISM  Bos \u001b[01;31m\u001b[Ktaurus\u001b[m\u001b[K\t\t\t\t\t \\  (oo)\\_______\r\n",
      "  ORGANISM  Bos \u001b[01;31m\u001b[Ktaurus\u001b[m\u001b[K\t\t\t  \t\t    (__)\\       )\\/\\\r\n",
      "  ORGANISM  Bos \u001b[01;31m\u001b[Ktaurus\u001b[m\u001b[K\t\t\t\t\t\t||----w |\r\n",
      "  ORGANISM  Bos \u001b[01;31m\u001b[Ktaurus\u001b[m\u001b[K\t\t\t\t\t\t||     ||\r\n",
      "  ORGANISM  Bos \u001b[01;31m\u001b[Ktaurus\u001b[m\u001b[K\r\n",
      "  ORGANISM  Bos \u001b[01;31m\u001b[Ktaurus\u001b[m\u001b[K\r\n",
      "  ORGANISM  Bos \u001b[01;31m\u001b[Ktaurus\u001b[m\u001b[K\r\n",
      "  ORGANISM  Bos \u001b[01;31m\u001b[Ktaurus\u001b[m\u001b[K\r\n",
      "  ORGANISM  Bos \u001b[01;31m\u001b[Ktaurus\u001b[m\u001b[K\r\n",
      "  ORGANISM  Bos \u001b[01;31m\u001b[Ktaurus\u001b[m\u001b[K\t\t\t\t===============\r\n",
      "  ORGANISM  Bos \u001b[01;31m\u001b[Ktaurus\u001b[m\u001b[K\t\t\t\tNext Exercise\r\n",
      "  ORGANISM  Bos \u001b[01;31m\u001b[Ktaurus\u001b[m\u001b[K\t\t\t\t===============\r\n",
      "  ORGANISM  Bos \u001b[01;31m\u001b[Ktaurus\u001b[m\u001b[K\r\n",
      "  ORGANISM  Bos \u001b[01;31m\u001b[Ktaurus\u001b[m\u001b[K\t\t\t\tTo continue, grep\r\n",
      "  ORGANISM  Bos \u001b[01;31m\u001b[Ktaurus\u001b[m\u001b[K\t\t\t\t\"regex\" in\r\n",
      "  ORGANISM  Bos \u001b[01;31m\u001b[Ktaurus\u001b[m\u001b[K\t\t\t\tdata/exercise1_grep.txt\r\n",
      "  ORGANISM  Bos \u001b[01;31m\u001b[Ktaurus\u001b[m\u001b[K\r\n"
     ]
    }
   ],
   "source": [
    "# Solution: grep for \"bos taurus\":\n",
    "grep ORGANISM data/genes/mgat_genes.gb | grep taurus"
   ]
  },
  {
   "cell_type": "markdown",
   "metadata": {
    "slideshow": {
     "slide_type": "slide"
    }
   },
   "source": [
    "## Regular Expressions\n",
    "\n",
    "Regular expressions allow to search for more complex patterns. \n",
    "\n",
    "Here are some simple regular expression examples:\n",
    "\n",
    "| regex    | description |\n",
    "| -------- | ----------- |\n",
    "| .        | matches any character |\n",
    "| [A-Za-z] | matches any of the characters within parenthesis|\n",
    "| .\\*      | matches any character, any number of times| "
   ]
  },
  {
   "cell_type": "markdown",
   "metadata": {
    "slideshow": {
     "slide_type": "subslide"
    }
   },
   "source": [
    "## Regular Expression exercise\n",
    "\n",
    "Let's have a look at the file data/genes/sequences.fasta:"
   ]
  },
  {
   "cell_type": "code",
   "execution_count": 15,
   "metadata": {
    "collapsed": false,
    "run_control": {
     "frozen": false,
     "read_only": false
    }
   },
   "outputs": [
    {
     "name": "stdout",
     "output_type": "stream",
     "text": [
      ">seq000 sequence description\r\n",
      "NANTCNNNGNATNNCNTACNTGNTCGNCCG\r\n",
      ">seq001 sequence description\r\n",
      "TGTCAATTNTCNGCGTCNNACNNACTCGCN\r\n",
      ">seq002 sequence description\r\n",
      "TGGGCGNTCATGNANAATGTTACGCTCNGG\r\n",
      ">seq003 sequence description\r\n",
      "GCCTTTNGGNNCTCACTANGCANGTTTGAN\r\n",
      ">seq004 sequence description   \r\n",
      "CATNANNAAAccTTTAGGCACTCNACACNG\r\n"
     ]
    }
   ],
   "source": [
    "head data/genes/sequences.fasta "
   ]
  },
  {
   "cell_type": "markdown",
   "metadata": {},
   "source": [
    "Can you use grep to identify all the sequences containing three As, followed by any two characters, followed by three Ts?"
   ]
  },
  {
   "cell_type": "code",
   "execution_count": 16,
   "metadata": {
    "collapsed": false,
    "run_control": {
     "frozen": false,
     "read_only": false
    },
    "slideshow": {
     "slide_type": "subslide"
    }
   },
   "outputs": [
    {
     "name": "stdout",
     "output_type": "stream",
     "text": [
      "CATNANN\u001b[01;31m\u001b[KAAAccTTT\u001b[m\u001b[KAGGCACTCNACACNG\r\n",
      "AGGCCGCNGNGGTA\u001b[01;31m\u001b[KAAActTTT\u001b[m\u001b[KACNAAGAC\r\n",
      "GTGTNNGTCAAGCNCGNCGTTN\u001b[01;31m\u001b[KAAAGGTTT\u001b[m\u001b[K\r\n",
      "ATNCGNAGNNCANTNGAC\u001b[01;31m\u001b[KAAAccTTT\u001b[m\u001b[KTTGT\r\n",
      "NTACNTA\u001b[01;31m\u001b[KAAAgtTTT\u001b[m\u001b[KCCACTNTTTANTCAA\r\n",
      "CNNGAGCG\u001b[01;31m\u001b[KAAActTTT\u001b[m\u001b[KNGCAAGTCTGNNCN\r\n",
      "CATGGGC\u001b[01;31m\u001b[KAAAgtTTT\u001b[m\u001b[KATANATGTNAANCNT\r\n",
      "GGTGGGNNCCCAGNCGNC\u001b[01;31m\u001b[KAAAgtTTT\u001b[m\u001b[KNNCT\r\n",
      "GA\u001b[01;31m\u001b[KAAAgtTTT\u001b[m\u001b[KTCNAACTTTNNAATAANNCN\r\n",
      "GAACAAGCNGCCCTTGGCC\u001b[01;31m\u001b[KAAAgtTTT\u001b[m\u001b[KGNC\r\n",
      "NNTCGTNGNNNA\u001b[01;31m\u001b[KAAAaaTTT\u001b[m\u001b[KTAAGAGCACC\r\n",
      "NNNGNGTNG\u001b[01;31m\u001b[KAAActTTT\u001b[m\u001b[KTTGAACGANNAAT\r\n",
      "CC\u001b[01;31m\u001b[KAAAaaTTT\u001b[m\u001b[KNTAGNAGCCTGTAGAGCCGC\r\n"
     ]
    }
   ],
   "source": [
    "grep 'AAA..TTT' data/genes/sequences.fasta"
   ]
  },
  {
   "cell_type": "markdown",
   "metadata": {},
   "source": [
    "Bonus: if we use the -B 1 grep option, we can retrieve the names of these sequences:"
   ]
  },
  {
   "cell_type": "code",
   "execution_count": 17,
   "metadata": {
    "collapsed": false,
    "run_control": {
     "frozen": false,
     "read_only": false
    }
   },
   "outputs": [
    {
     "name": "stdout",
     "output_type": "stream",
     "text": [
      ">seq004 sequence description   \r\n",
      "CATNANN\u001b[01;31m\u001b[KAAAccTTT\u001b[m\u001b[KAGGCACTCNACACNG\r\n",
      "\u001b[36m\u001b[K--\u001b[m\u001b[K\r\n",
      ">seq012 sequence description    ________________\r\n",
      "AGGCCGCNGNGGTA\u001b[01;31m\u001b[KAAActTTT\u001b[m\u001b[KACNAAGAC\r\n",
      "\u001b[36m\u001b[K--\u001b[m\u001b[K\r\n",
      ">seq015 sequence description\r\n",
      "GTGTNNGTCAAGCNCGNCGTTN\u001b[01;31m\u001b[KAAAGGTTT\u001b[m\u001b[K\r\n",
      "\u001b[36m\u001b[K--\u001b[m\u001b[K\r\n",
      ">seq022 sequence description   / Congrats! This \\ \r\n",
      "ATNCGNAGNNCANTNGAC\u001b[01;31m\u001b[KAAAccTTT\u001b[m\u001b[KTTGT\r\n",
      ">seq023 sequence description   | was the last  |\r\n",
      "NTACNTA\u001b[01;31m\u001b[KAAAgtTTT\u001b[m\u001b[KCCACTNTTTANTCAA\r\n",
      "\u001b[36m\u001b[K--\u001b[m\u001b[K\r\n",
      ">seq029 sequence description   \\ grep exercise / \r\n",
      "CNNGAGCG\u001b[01;31m\u001b[KAAActTTT\u001b[m\u001b[KNGCAAGTCTGNNCN\r\n",
      ">seq030 sequence description    ----------------\r\n",
      "CATGGGC\u001b[01;31m\u001b[KAAAgtTTT\u001b[m\u001b[KATANATGTNAANCNT\r\n",
      ">seq031 sequence description       \\  ^__^\r\n",
      "GGTGGGNNCCCAGNCGNC\u001b[01;31m\u001b[KAAAgtTTT\u001b[m\u001b[KNNCT\r\n",
      "\u001b[36m\u001b[K--\u001b[m\u001b[K\r\n",
      ">seq033 sequence description        \\ (oo)\\_______\r\n",
      "GA\u001b[01;31m\u001b[KAAAgtTTT\u001b[m\u001b[KTCNAACTTTNNAATAANNCN\r\n",
      ">seq034 sequence description          (__)\\    )\\/\\ \r\n",
      "GAACAAGCNGCCCTTGGCC\u001b[01;31m\u001b[KAAAgtTTT\u001b[m\u001b[KGNC\r\n",
      "\u001b[36m\u001b[K--\u001b[m\u001b[K\r\n",
      ">seq038 sequence description           ||----w |\r\n",
      "NNTCGTNGNNNA\u001b[01;31m\u001b[KAAAaaTTT\u001b[m\u001b[KTAAGAGCACC\r\n",
      ">seq039 sequence description           ||    ||\r\n",
      "NNNGNGTNG\u001b[01;31m\u001b[KAAActTTT\u001b[m\u001b[KTTGAACGANNAAT\r\n",
      "\u001b[36m\u001b[K--\u001b[m\u001b[K\r\n",
      ">seq041 sequence description   \r\n",
      "CC\u001b[01;31m\u001b[KAAAaaTTT\u001b[m\u001b[KNTAGNAGCCTGTAGAGCCGC\r\n"
     ]
    }
   ],
   "source": [
    "grep -B1 'AAA..TTT' data/genes/sequences.fasta "
   ]
  },
  {
   "cell_type": "code",
   "execution_count": 18,
   "metadata": {
    "collapsed": false,
    "run_control": {
     "frozen": false,
     "read_only": false
    },
    "slideshow": {
     "slide_type": "fragment"
    }
   },
   "outputs": [
    {
     "name": "stdout",
     "output_type": "stream",
     "text": [
      "\u001b[01;31m\u001b[K>\u001b[m\u001b[Kseq004 sequence description   \r\n",
      "\u001b[01;31m\u001b[K>\u001b[m\u001b[Kseq012 sequence description    ________________\r\n",
      "\u001b[01;31m\u001b[K>\u001b[m\u001b[Kseq015 sequence description\r\n",
      "\u001b[01;31m\u001b[K>\u001b[m\u001b[Kseq022 sequence description   / Congrats! This \\ \r\n",
      "\u001b[01;31m\u001b[K>\u001b[m\u001b[Kseq023 sequence description   | was the last  |\r\n",
      "\u001b[01;31m\u001b[K>\u001b[m\u001b[Kseq029 sequence description   \\ grep exercise / \r\n",
      "\u001b[01;31m\u001b[K>\u001b[m\u001b[Kseq030 sequence description    ----------------\r\n",
      "\u001b[01;31m\u001b[K>\u001b[m\u001b[Kseq031 sequence description       \\  ^__^\r\n",
      "\u001b[01;31m\u001b[K>\u001b[m\u001b[Kseq033 sequence description        \\ (oo)\\_______\r\n",
      "\u001b[01;31m\u001b[K>\u001b[m\u001b[Kseq034 sequence description          (__)\\    )\\/\\ \r\n",
      "\u001b[01;31m\u001b[K>\u001b[m\u001b[Kseq038 sequence description           ||----w |\r\n",
      "\u001b[01;31m\u001b[K>\u001b[m\u001b[Kseq039 sequence description           ||    ||\r\n",
      "\u001b[01;31m\u001b[K>\u001b[m\u001b[Kseq041 sequence description   \r\n"
     ]
    }
   ],
   "source": [
    "# Bonus: pipe an additional grep '>' to see a cow:\n",
    "grep -B1 'AAA..TTT' data/genes/sequences.fasta  | grep '>'"
   ]
  }
 ],
 "metadata": {
  "celltoolbar": "Slideshow",
  "hide_input": false,
  "kernelspec": {
   "display_name": "Bash",
   "language": "bash",
   "name": "bash"
  },
  "language_info": {
   "codemirror_mode": "shell",
   "file_extension": ".sh",
   "mimetype": "text/x-sh",
   "name": "bash"
  },
  "nav_menu": {},
  "toc": {
   "navigate_menu": true,
   "number_sections": true,
   "sideBar": true,
   "threshold": 6,
   "toc_cell": true,
   "toc_section_display": "block",
   "toc_window_display": false
  }
 },
 "nbformat": 4,
 "nbformat_minor": 1
}
