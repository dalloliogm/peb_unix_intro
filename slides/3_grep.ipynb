{
 "cells": [
  {
   "cell_type": "markdown",
   "metadata": {
    "toc": "true"
   },
   "source": [
    "<h1>Table of Contents<span class=\"tocSkip\"></span></h1>\n",
    "<div class=\"toc\"><ul class=\"toc-item\"><li><span><a href=\"#Introduction-to-Unix,-Part-3---grep-and-regular-expressions\" data-toc-modified-id=\"Introduction-to-Unix,-Part-3---grep-and-regular-expressions-1\"><span class=\"toc-item-num\">1&nbsp;&nbsp;</span>Introduction to Unix, Part 3 - grep and regular expressions</a></span></li><li><span><a href=\"#Searching-patterns-into-file:-grep\" data-toc-modified-id=\"Searching-patterns-into-file:-grep-2\"><span class=\"toc-item-num\">2&nbsp;&nbsp;</span>Searching patterns into file: grep</a></span><ul class=\"toc-item\"><li><span><a href=\"#Accessing-grep-documentation\" data-toc-modified-id=\"Accessing-grep-documentation-2.1\"><span class=\"toc-item-num\">2.1&nbsp;&nbsp;</span>Accessing grep documentation</a></span></li><li><span><a href=\"#Searching-multiple-files\" data-toc-modified-id=\"Searching-multiple-files-2.2\"><span class=\"toc-item-num\">2.2&nbsp;&nbsp;</span>Searching multiple files</a></span></li><li><span><a href=\"#Searching-multiple-patterns-and-the-Unix-piping-system\" data-toc-modified-id=\"Searching-multiple-patterns-and-the-Unix-piping-system-2.3\"><span class=\"toc-item-num\">2.3&nbsp;&nbsp;</span>Searching multiple patterns and the Unix piping system</a></span></li></ul></li><li><span><a href=\"#The-Unix-Philosophy-and-Approach-to-programming\" data-toc-modified-id=\"The-Unix-Philosophy-and-Approach-to-programming-3\"><span class=\"toc-item-num\">3&nbsp;&nbsp;</span>The Unix Philosophy and Approach to programming</a></span></li><li><span><a href=\"#Applying-the-Unix-Philosophy-to-your-programming\" data-toc-modified-id=\"Applying-the-Unix-Philosophy-to-your-programming-4\"><span class=\"toc-item-num\">4&nbsp;&nbsp;</span>Applying the Unix Philosophy to your programming</a></span><ul class=\"toc-item\"><li><span><a href=\"#Example-of-Unix-Approach\" data-toc-modified-id=\"Example-of-Unix-Approach-4.1\"><span class=\"toc-item-num\">4.1&nbsp;&nbsp;</span>Example of Unix Approach</a></span></li></ul></li><li><span><a href=\"#Regular-Expressions\" data-toc-modified-id=\"Regular-Expressions-5\"><span class=\"toc-item-num\">5&nbsp;&nbsp;</span>Regular Expressions</a></span><ul class=\"toc-item\"><li><span><a href=\"#Regular-Expression-exercise\" data-toc-modified-id=\"Regular-Expression-exercise-5.1\"><span class=\"toc-item-num\">5.1&nbsp;&nbsp;</span>Regular Expression exercise</a></span></li></ul></li><li><span><a href=\"#Time-for-a-break!\" data-toc-modified-id=\"Time-for-a-break!-6\"><span class=\"toc-item-num\">6&nbsp;&nbsp;</span>Time for a break!</a></span></li></ul></div>"
   ]
  },
  {
   "cell_type": "markdown",
   "metadata": {
    "slideshow": {
     "slide_type": "slide"
    }
   },
   "source": [
    "# Introduction to Unix, Part 3 - grep and regular expressions\n",
    "\n",
    "**<font color='darkgreen'> Welcome to the Programming for Evolutionary Biology workshop!! </font>** \n",
    "\n",
    "Giovanni M. Dall'Olio and Alvaro Perdomo-Sabogal, 03/03/2019. Quick link to slides online: http://tinyurl.com/evop2019\n",
    "\n",
    "\n",
    "All materials available here: https://github.com/dalloliogm/evop2019/archive/master.zip\n",
    "\n",
    "\n",
    "\n",
    "In this third part we will see the **grep** command to search the contents of files, and some basic regular expressions.\n",
    "\n",
    "Press space or down key to continue."
   ]
  },
  {
   "cell_type": "code",
   "execution_count": 1,
   "metadata": {
    "run_control": {
     "frozen": false,
     "read_only": false
    },
    "slideshow": {
     "slide_type": "skip"
    }
   },
   "outputs": [],
   "source": [
    "# Configuration - please ignore - this should not appear in the slideshow\n",
    "alias grep='grep --color'\n",
    "cd\n",
    "cd workspace/Peb2019/exercises/\n"
   ]
  },
  {
   "cell_type": "markdown",
   "metadata": {
    "slideshow": {
     "slide_type": "slide"
    }
   },
   "source": [
    "# Searching patterns into file: grep\n",
    "\n",
    "The instructions for the next exercises are stored in the <font color='blue'> **2_searching_patterns.txt** </font> file. \n",
    "\n",
    "However, if you look at this file with head or less, you will see that its contents have no meaning!"
   ]
  },
  {
   "cell_type": "code",
   "execution_count": 28,
   "metadata": {
    "run_control": {
     "frozen": false,
     "read_only": false
    },
    "slideshow": {
     "slide_type": "-"
    }
   },
   "outputs": [
    {
     "name": "stdout",
     "output_type": "stream",
     "text": [
      "P8mW50b1cJWpWZgKFJFwM0s7qC4Zyy    lfNoCAcqioPMpafokl1qbLeviYz8PHay3RG\n",
      "DtfEl1liowE hxskxdy95cmWsVPlFT    PvZ0A0olHEKKofWXaLFRjRMKGwceCEHg144\n",
      "k8g99AzeTeKmOtxbg8Zqd9sPReQ4IV    OgJdwlpzORBuRr9VyMy0Dsqu9 ab743qVIZ\n",
      "cDfibnWrkZtLbJtUgQ6VBtu47Efutj    OPsz9joHgjVsMxXT4wKkrDKJ0K8R09UsegE\n",
      "dLWKo0BZITViH835P88sVxcfDUBkEH    BD8J80icxMHHXxfIgWuHkv5Gw1JajrE8blt\n",
      "tD x0OwbI3BceM6OsnB5z30N7PhzjJ    3Jp8vADVNptAfc3T5DBGUUg1V7BJi4A3NPF\n",
      "AgUGZnR1NvC5kBKQF4fXakZKUJSn1e    EBil5kDuu3DfN6Aiod0Ye3JVKlNyTQY3XE7\n",
      "T89m9 4lo5lrih3sleSItTGRrOqGvH    lZ0G0New O3foaoTzDktlusrewqo6BauYxX\n",
      "FtyTsL9gi7I93hkO8aEODXSngRUNkp    fzXUYW08 jdrc3pvBrRNi4gSSm4iNdwrJMU\n",
      "9hphNi41uXoyi4gXcgC6GhQGDTAbIR    qNGuxDKJ0n9EExyxgFuRxNUW5bDXLxUxCkc\n"
     ]
    }
   ],
   "source": [
    "head 2_searching_patterns.txt"
   ]
  },
  {
   "cell_type": "markdown",
   "metadata": {
    "slideshow": {
     "slide_type": "-"
    }
   },
   "source": [
    "This is because the instructions are hidden in the file, just to make things more interesting!\n",
    "\n",
    "Press space or the down key to see how to continue."
   ]
  },
  {
   "cell_type": "markdown",
   "metadata": {
    "slideshow": {
     "slide_type": "subslide"
    }
   },
   "source": [
    "The first instruction for the first exercise is in the lines containing the word \"start\" somewhere.\n",
    "\n",
    "To find them, type:\n",
    "\n",
    "```\n",
    "$: grep start 2_searching_patterns.txt\n",
    "```"
   ]
  },
  {
   "cell_type": "code",
   "execution_count": 31,
   "metadata": {
    "run_control": {
     "frozen": false,
     "read_only": false
    },
    "slideshow": {
     "slide_type": "fragment"
    }
   },
   "outputs": [
    {
     "name": "stdout",
     "output_type": "stream",
     "text": [
      "7fJCrbDr7DLtfJWveW\u001b[01;31m\u001b[Kstart\u001b[m\u001b[KhL74o1h    \n",
      "qhgW \u001b[01;31m\u001b[Kstart\u001b[m\u001b[K hTRnNmxXg6 kGBzkblr     ______________________________\n",
      "8cd \u001b[01;31m\u001b[Kstart\u001b[m\u001b[K ZTcMbuwb6uLSp5ne1xlN    / Congrats!                    \\  \n",
      "eeGNJy0Bpis07pPWFPVz4o \u001b[01;31m\u001b[Kstart\u001b[m\u001b[K c    |  You've used grep correctly, |\n",
      "BOqAUjUyE\u001b[01;31m\u001b[Kstart\u001b[m\u001b[KNxNmNMFffaCZBxz8    \\  and found a cow.            /\n",
      "AmHTrLmexhknVNTOY4a \u001b[01;31m\u001b[Kstart\u001b[m\u001b[K 5twO     ------------------------------\n",
      "SJVFTaWdslT0 \u001b[01;31m\u001b[Kstart\u001b[m\u001b[K NKyluwBCkW7            \\   ^__^\n",
      "hUUkV \u001b[01;31m\u001b[Kstart\u001b[m\u001b[KLnJEPKVhgpcZBE03IyA             \\  (oo)\\_______\n",
      "MktM1nrJN070b\u001b[01;31m\u001b[Kstart\u001b[m\u001b[K 3gblKgoXGtT                (__)\\       )\\/\\ \n",
      "m \u001b[01;31m\u001b[Kstart\u001b[m\u001b[KQUb5dmMP7g8Qgj4Ddujwm6q                    ||----w |\n",
      "9\u001b[01;31m\u001b[Kstart\u001b[m\u001b[KUxjf1wcSvST44uLa5uj3EqK7                    ||     ||\n",
      "luD9dPnmva \u001b[01;31m\u001b[Kstart\u001b[m\u001b[K wYKeYCxJPkW7e    \n",
      "AGldtqmouPUUkIQkDn8MS \u001b[01;31m\u001b[Kstart\u001b[m\u001b[K AG    \n",
      "SF0gAZaOT0BF NRmYocCe4Al\u001b[01;31m\u001b[Kstart\u001b[m\u001b[Kt    \n",
      "jP8wri  \u001b[01;31m\u001b[Kstart\u001b[m\u001b[K nGtfuBd4Llqg6ffY    The command grep allows to search\n",
      "ctLAoukXdWPlw5\u001b[01;31m\u001b[Kstart\u001b[m\u001b[K XQUe9nUuzY    for a pattern in a text file.\n",
      "VhR PxIHQtCH0q \u001b[01;31m\u001b[Kstart\u001b[m\u001b[KKpfN MFVXw    \n",
      "YE ompcM7r07X \u001b[01;31m\u001b[Kstart\u001b[m\u001b[K bHUQSQqRbf    It will print all the matching \n",
      "PQZzoD7ut1uD9STr3T4 \u001b[01;31m\u001b[Kstart\u001b[m\u001b[K APwT    lines to the screen.\n",
      "LlOtzZfGLOeRkFvCVrIbBJ \u001b[01;31m\u001b[Kstart\u001b[m\u001b[KHA    \n",
      "6qSv NOG9\u001b[01;31m\u001b[Kstart\u001b[m\u001b[Kv6YoVLHJ7snR69tx    =================\n",
      "PLx5n7xFc3Hh5iwdfarA\u001b[01;31m\u001b[Kstart\u001b[m\u001b[KYNL4A    Next Exercise\n",
      "Qd\u001b[01;31m\u001b[Kstart\u001b[m\u001b[K ZIEshPHzz1usx3ALvEDkeZ    =================\n",
      "SMfbBaI0F\u001b[01;31m\u001b[Kstart\u001b[m\u001b[K EHiw3ISlKRyE Sg    \n",
      "\u001b[01;31m\u001b[Kstart\u001b[m\u001b[KskOYYZ1WOCQcN1os5fg9itzj9    In the next exercise we will see \n",
      "x\u001b[01;31m\u001b[Kstart\u001b[m\u001b[KCyNu6cHxBW0N6pYd9SLPDVuP    how to access grep's documentation.\n",
      "SRw9OvAPFurRTtnfrTPtMik \u001b[01;31m\u001b[Kstart\u001b[m\u001b[Kl    \n",
      "kbmeUmSwdCcR3e81HJl\u001b[01;31m\u001b[Kstart\u001b[m\u001b[Kz4bFgs    Grep the following word to continue:\n",
      "IPW6cn0R4iMTeqUp5lNFT\u001b[01;31m\u001b[Kstart\u001b[m\u001b[K kaZ      _            _        \n",
      " SWyblovzEHStB\u001b[01;31m\u001b[Kstart\u001b[m\u001b[K0Lr5 OzObgD     | |          | |       \n",
      "lhxeRXeOaEFFItdP9MxYvGnp\u001b[01;31m\u001b[Kstart\u001b[m\u001b[K      | |__    ___ | | _ __  \n",
      "4yN0AdOSIB8DG3 \u001b[01;31m\u001b[Kstart\u001b[m\u001b[KGYAs3E5smu     | '_ \\  / _ \\| || '_ \\ \n",
      "h1m68FwK \u001b[01;31m\u001b[Kstart\u001b[m\u001b[K3El5ZEp0qRgW9Raw     | | | ||  __/| || |_) |\n",
      "dEaUW VR0od \u001b[01;31m\u001b[Kstart\u001b[m\u001b[K kKL4SZ3t7Jkj     |_| |_| \\___||_|| .__/ \n",
      "5Q \u001b[01;31m\u001b[Kstart\u001b[m\u001b[K 41c3YSmRKwNvZ1mqqVw6L                     | |    \n",
      "g yGpLHWZWuL \u001b[01;31m\u001b[Kstart\u001b[m\u001b[K BdjB3Z34m7U                     |_|  \n",
      "DUIAnQiz AmLTtwb3sDtZK5 \u001b[01;31m\u001b[Kstart\u001b[m\u001b[K     \n",
      "zq0B\u001b[01;31m\u001b[Kstart\u001b[m\u001b[K lw40BCkw 70AwRVFZn6O    \n"
     ]
    }
   ],
   "source": [
    "grep start 2_searching_patterns.txt"
   ]
  },
  {
   "cell_type": "markdown",
   "metadata": {
    "slideshow": {
     "slide_type": "slide"
    }
   },
   "source": [
    "## Accessing grep documentation\n",
    "\n",
    "To access the documentation of a command, we can use the **man** command.\n",
    "\n",
    "Let's type the following:\n",
    "\n",
    "```\n",
    "$: man grep\n",
    "```\n",
    "\n",
    "This will allow to navigate the documentation for grep, in the same modality as with the **less** command. Use the arrows to scroll, and q to exit.\n",
    "\n",
    "For the next exercise, you will have to identify two options in the man page, and use them to do a case-insensitive search for \"ignorecase\", and count the number of lines."
   ]
  },
  {
   "cell_type": "code",
   "execution_count": 32,
   "metadata": {
    "run_control": {
     "frozen": false,
     "read_only": false
    },
    "slideshow": {
     "slide_type": "subslide"
    }
   },
   "outputs": [
    {
     "name": "stdout",
     "output_type": "stream",
     "text": [
      "B9cFVKf9uA3DkI1PnJC\u001b[01;31m\u001b[Khelp\u001b[m\u001b[KkTNm1dd    \n",
      "3Z0anUCaVbirdioBij\u001b[01;31m\u001b[Khelp\u001b[m\u001b[K7kAVJFxY    The documentation for grep can \n",
      "8KKQR \u001b[01;31m\u001b[Khelp\u001b[m\u001b[K VQsY47 sL9toQT8EY5D    be accessed through man:\n",
      "iyG\u001b[01;31m\u001b[Khelp\u001b[m\u001b[K6dhyXuyWHSaYNtEvoDex Cc    \n",
      "mcKWtNHTui1guXDA EK\u001b[01;31m\u001b[Khelp\u001b[m\u001b[KPWuOIxH        $: man grep\n",
      "UBBMDm0C8l\u001b[01;31m\u001b[Khelp\u001b[m\u001b[KzkZEOBgSXfjXNgrf    \n",
      " \u001b[01;31m\u001b[Khelp\u001b[m\u001b[K 4M TGfdzHR8Yk9i9PwhNn 39    Scroll down to see all the \n",
      "W1cSpeejraQCD1pu \u001b[01;31m\u001b[Khelp\u001b[m\u001b[K WEXDH8 I    parameters for grep and their description.\n",
      "neCvTNSySVYpt0E8SGnXGIc\u001b[01;31m\u001b[Khelp\u001b[m\u001b[K9na    \n",
      "rfwiuKsJtjeHrHoBX9 \u001b[01;31m\u001b[Khelp\u001b[m\u001b[K 0hicjc    Use / to search for text.\n",
      "aMUp4FGgcAHAMoj pzlNQ7Oz9\u001b[01;31m\u001b[Khelp\u001b[m\u001b[Ko    Press the q key to exit.\n",
      "7j \u001b[01;31m\u001b[Khelp\u001b[m\u001b[K rXptYF5IRAXjdK7lukHJWd    \n",
      "YwauUPotI0 \u001b[01;31m\u001b[Khelp\u001b[m\u001b[K ivkaPxkiNvbJrt    \n",
      "FZE \u001b[01;31m\u001b[Khelp\u001b[m\u001b[K lvPb0Yp11UT63FWV586j0    \n",
      "ecQayY\u001b[01;31m\u001b[Khelp\u001b[m\u001b[K FWjb4HhwoHh7eek3yEX    ==============\n",
      "WGj1R9df3ibXDa1exNL\u001b[01;31m\u001b[Khelp\u001b[m\u001b[KY7K9U00    Next exercise\n",
      "OdrqEGoZakN\u001b[01;31m\u001b[Khelp\u001b[m\u001b[K uEm4w7UkGYEkIG    ==============\n",
      "JSKk13GFy \u001b[01;31m\u001b[Khelp\u001b[m\u001b[K hBbPLplm7s5kQSg    \n",
      "g9zHZpIMSthWbx4pU \u001b[01;31m\u001b[Khelp\u001b[m\u001b[K HuIH8GJ    For the next exercise, you will need to open \n",
      "JBDAk9BEjrgSBtOmDgjpwzt9ip\u001b[01;31m\u001b[Khelp\u001b[m\u001b[K    grep's documentation and identify two options:\n",
      "LrYA\u001b[01;31m\u001b[Khelp\u001b[m\u001b[K Uqy7pyCubW73LxjQcGof8    \n",
      "k16pOXOgBlOWKEhOp8iKO \u001b[01;31m\u001b[Khelp\u001b[m\u001b[K 06Y    - the option for case-insensitive searches\n",
      "cMmgFjclS3tGXfAdOwaYu7xgf\u001b[01;31m\u001b[Khelp\u001b[m\u001b[KS    - the option for counting \n",
      "\u001b[01;31m\u001b[Khelp\u001b[m\u001b[K fmv KM614XJ TpZ7QvlfdByjP      the number of matching lines, \n",
      "kF \u001b[01;31m\u001b[Khelp\u001b[m\u001b[K Iz1oBVA3hydzZ8cpW9TMRJ      instead of printing them to the screen.\n",
      "iB5yneSru 5oAis nfaW \u001b[01;31m\u001b[Khelp\u001b[m\u001b[KZtknE    \n",
      "cIZkYsvp5rQN \u001b[01;31m\u001b[Khelp\u001b[m\u001b[K rzRI9iwDL4a5    Once you have identified these options, \n",
      "kX16x7a9PpjXQtoto9zV\u001b[01;31m\u001b[Khelp\u001b[m\u001b[K 9HZij    do a case-insensitive search on this file for the word \n",
      "Ryi5\u001b[01;31m\u001b[Khelp\u001b[m\u001b[KEZziizUlktMJnAEA4IMsnn    \"ignorecase\", then count the number of lines.\n",
      "Up8sg ldoZcxZ3IaxA \u001b[01;31m\u001b[Khelp\u001b[m\u001b[K IepzrB    \n",
      "4FdfFqlAqY93holNMkcmHd7Ni\u001b[01;31m\u001b[Khelp\u001b[m\u001b[K         \n",
      "s9UGvUvcQQxss1ETq21leshRaftsUQ    This will also \u001b[01;31m\u001b[Khelp\u001b[m\u001b[K you reading this\n"
     ]
    }
   ],
   "source": [
    "grep help 2_searching_patterns.txt"
   ]
  },
  {
   "cell_type": "code",
   "execution_count": 33,
   "metadata": {
    "run_control": {
     "frozen": false,
     "read_only": false
    },
    "slideshow": {
     "slide_type": "subslide"
    }
   },
   "outputs": [
    {
     "name": "stdout",
     "output_type": "stream",
     "text": [
      "bp6vV3Fz6zWALIMHr\u001b[01;31m\u001b[Kignorecase\u001b[m\u001b[KXsK    \n",
      "kJodjykBTRy5UsvkN\u001b[01;31m\u001b[Kignorecase\u001b[m\u001b[KlCJ            \n",
      "IQNr\u001b[01;31m\u001b[Kignorecase\u001b[m\u001b[Kt3sSkwItlBqtJ97X    Remember that, to continue with the exercise, \n",
      "\u001b[01;31m\u001b[Kignorecase\u001b[m\u001b[KTiN1A5LE8JprmmIFPtlY    you need to do a case-insensitive search for the word\n",
      "Ryi5helpEZziizUlktMJnAEA4IMsnn    \"\u001b[01;31m\u001b[Kignorecase\u001b[m\u001b[K\", then count the number of lines.\n",
      "gBHJnHXdOKPCuNtl\u001b[01;31m\u001b[Kignorecase\u001b[m\u001b[K0Lhg             \\  (oo)\\_______\n",
      "JpSx4YnQPBZYH\u001b[01;31m\u001b[Kignorecase\u001b[m\u001b[KyAhXUnf    \n",
      "rSncrRqC3QweV\u001b[01;31m\u001b[Kignorecase\u001b[m\u001b[KCJLnZUZ    \n"
     ]
    }
   ],
   "source": [
    "# If we do a search for \"ignorecase\" without any option, we only get some of the lines.\n",
    "# You can notice that the cow is not properly displayed :-)\n",
    "grep ignorecase 2_searching_patterns.txt"
   ]
  },
  {
   "cell_type": "code",
   "execution_count": 34,
   "metadata": {
    "run_control": {
     "frozen": false,
     "read_only": false
    },
    "slideshow": {
     "slide_type": "fragment"
    }
   },
   "outputs": [
    {
     "name": "stdout",
     "output_type": "stream",
     "text": [
      "bp6vV3Fz6zWALIMHr\u001b[01;31m\u001b[Kignorecase\u001b[m\u001b[KXsK    \n",
      "kJodjykBTRy5UsvkN\u001b[01;31m\u001b[Kignorecase\u001b[m\u001b[KlCJ            \n",
      "IQNr\u001b[01;31m\u001b[Kignorecase\u001b[m\u001b[Kt3sSkwItlBqtJ97X    Remember that, to continue with the exercise, \n",
      "\u001b[01;31m\u001b[Kignorecase\u001b[m\u001b[KTiN1A5LE8JprmmIFPtlY    you need to do a case-insensitive search for the word\n",
      "Ryi5helpEZziizUlktMJnAEA4IMsnn    \"\u001b[01;31m\u001b[Kignorecase\u001b[m\u001b[K\", then count the number of lines.\n",
      "uRpe\u001b[01;31m\u001b[KIGNORECASE\u001b[m\u001b[Kwt6VeQSyNEyd7cgV    \n",
      "G19VrSq1\u001b[01;31m\u001b[KignOrecase\u001b[m\u001b[KFl4RySa6iLJi     _____________\n",
      "h1WDPz4C7\u001b[01;31m\u001b[KIgnorEcase\u001b[m\u001b[KvfD0uiSnmxw    / Good Job!   \\ \n",
      "BxTunYQn1giOZdBUuhG\u001b[01;31m\u001b[KIgnorEcase\u001b[m\u001b[K4    | You did a   |\n",
      "\u001b[01;31m\u001b[KignOrecase\u001b[m\u001b[KSWU8Gagvfy vt9SdNj8j    | case-insens |\n",
      "\u001b[01;31m\u001b[KignOrecase\u001b[m\u001b[KyrPZmYffV1 M9djtfz9k    | itive       |\n",
      "3O54VIX8fd3rW\u001b[01;31m\u001b[KIGNORECASE\u001b[m\u001b[KuqpGiSR    \\ search      /\n",
      "ACo8r0nvOfg5iee 7\u001b[01;31m\u001b[KIGNORECASE\u001b[m\u001b[K cF     -------------\n",
      "GajDz7WpdCXaxYC\u001b[01;31m\u001b[KIgnorEcase\u001b[m\u001b[KnHiHl            \\   ^__^\n",
      "gBHJnHXdOKPCuNtl\u001b[01;31m\u001b[Kignorecase\u001b[m\u001b[K0Lhg             \\  (oo)\\_______\n",
      "PHqOtUJp\u001b[01;31m\u001b[KIgnorEcase\u001b[m\u001b[KbiNPUz9HQCdp                (__)\\       )\\/\\ \n",
      "t7w\u001b[01;31m\u001b[KIgnorEcase\u001b[m\u001b[KpUUcgUe1fQSD KGDC                    ||----w |\n",
      "HtdRU3U0sl\u001b[01;31m\u001b[KignOrecase\u001b[m\u001b[KqNi0E0von5                    ||     ||\n",
      "JpSx4YnQPBZYH\u001b[01;31m\u001b[Kignorecase\u001b[m\u001b[KyAhXUnf    \n",
      "rSncrRqC3QweV\u001b[01;31m\u001b[Kignorecase\u001b[m\u001b[KCJLnZUZ    \n",
      "94\u001b[01;31m\u001b[KignOrecase\u001b[m\u001b[KaWpKKR1ND0i5h7bejh        \n"
     ]
    }
   ],
   "source": [
    "# The -i option allows to do a case-insensitive search.\n",
    "# As you can see, some lines contain upper case characters:\n",
    "grep -i ignorecase 2_searching_patterns.txt"
   ]
  },
  {
   "cell_type": "code",
   "execution_count": 8,
   "metadata": {
    "run_control": {
     "frozen": false,
     "read_only": false
    },
    "slideshow": {
     "slide_type": "fragment"
    }
   },
   "outputs": [
    {
     "name": "stdout",
     "output_type": "stream",
     "text": [
      "21\r\n"
     ]
    }
   ],
   "source": [
    "# To solve the exercise, we also have to count the number of output lines.\n",
    "# This can be done with the \"-c\" option:\n",
    "grep -i -c ignorecase 2_searching_patterns.txt"
   ]
  },
  {
   "cell_type": "code",
   "execution_count": 35,
   "metadata": {
    "run_control": {
     "frozen": false,
     "read_only": false
    },
    "slideshow": {
     "slide_type": "fragment"
    }
   },
   "outputs": [
    {
     "name": "stdout",
     "output_type": "stream",
     "text": [
      "CtDB RLr3x3do9\u001b[01;31m\u001b[K21\u001b[m\u001b[KSqu8iOvohs7vk4    \n",
      "4kUkCECIiM\u001b[01;31m\u001b[K21\u001b[m\u001b[KOY8EcY4TIsPkKLBOmj    \n",
      "Qjk\u001b[01;31m\u001b[K21\u001b[m\u001b[KMQpAeF4VyA8cAlEXfl8wWJzDY     ____________________\n",
      "B363B5byCj1\u001b[01;31m\u001b[K21\u001b[m\u001b[KrzXGoQIiRahUq9zqz    / Congrats! Yes      \\ \n",
      "La8Ku9mjSIpSfVrAgi \u001b[01;31m\u001b[K21\u001b[m\u001b[KDb5puhK65    | the answer to the  |\n",
      "Gc9kKOst\u001b[01;31m\u001b[K21\u001b[m\u001b[KABdPUU5Y6yxvMFbmBEr5    | case-insensitive   |\n",
      "X9ihXj3yFmi\u001b[01;31m\u001b[K21\u001b[m\u001b[KYQ1tRg6pnqhTLWclL    | and count question |\n",
      "Zax\u001b[01;31m\u001b[K21\u001b[m\u001b[K3Y1OJbXitxdyPlXFu0hnNoi6i    | is \u001b[01;31m\u001b[K21\u001b[m\u001b[K.             /\n",
      "tAWUDnEbN1stlEw\u001b[01;31m\u001b[K21\u001b[m\u001b[KJmzgr1mwcr9Ok     --------------------\n",
      "efc\u001b[01;31m\u001b[K21\u001b[m\u001b[K9TYASVKMmFWPOpMXaYCYnN5Nu            \\   ^__^\n",
      "kkzt8YaRyVAtaXiQC7Q9LlFLzFj\u001b[01;31m\u001b[K21\u001b[m\u001b[Ka             \\  (oo)\\_______\n",
      "eELR\u001b[01;31m\u001b[K21\u001b[m\u001b[KQbUm1wLGgQQGN8F A 6HJTq3                (__)\\       )\\/\\  \n",
      "BEN sRlcDIOQPyADwCy3\u001b[01;31m\u001b[K21\u001b[m\u001b[K7naBh8TU                    ||----w |\n",
      "saR SuoPzf5eV\u001b[01;31m\u001b[K21\u001b[m\u001b[Kw5v6sccKkqTJy9U                    ||     ||\n",
      "iYVLEcMjQF\u001b[01;31m\u001b[K21\u001b[m\u001b[KMF1n lvFrFqXfQu1kG    \n",
      "4yQdcMZY97LVuLc9Y4\u001b[01;31m\u001b[K21\u001b[m\u001b[K7zYEzC4ceK    \n",
      "NZdPx\u001b[01;31m\u001b[K21\u001b[m\u001b[K6fVVJ6tc3WMzeIR6f4cHDad    =============\n",
      "Q07zhV\u001b[01;31m\u001b[K21\u001b[m\u001b[Kz1OTJazhH03k4aCpGydFEn    Next topic\n",
      "\u001b[01;31m\u001b[K21\u001b[m\u001b[KPaFNZKqvVZq6bwr6FGI4TA9cy5Zr    =============\n",
      "xGKrwF3tpNVzq8ipAPxPD\u001b[01;31m\u001b[K21\u001b[m\u001b[KpkSJ3XU    \n",
      "3u1FTmdrtZUFB5TAcm9lxbKgdBM\u001b[01;31m\u001b[K21\u001b[m\u001b[Km    We are going to make a break from\n",
      "JsBQ\u001b[01;31m\u001b[K21\u001b[m\u001b[Kj6EGfYMsvRwTfmD Kv8wDJuI    the exercises to talk about the Unix\n",
      "8ay3N5uRdYncy0B8RHV4XcP\u001b[01;31m\u001b[K21\u001b[m\u001b[KsNvak    piping system. \n",
      "s9UGvUvcQQxss1ETq\u001b[01;31m\u001b[K21\u001b[m\u001b[KleshRaftsUQ    This will also help you reading this\n",
      "\u001b[01;31m\u001b[K21\u001b[m\u001b[K7SnZXPGgtIIwQPeyGQ6nYZgZq4wr    output more easily, by piping it into\n",
      "xtSyHNFsQZijEC\u001b[01;31m\u001b[K21\u001b[m\u001b[KckUdzDjaJDboxQ    another Unix command such as less or\n",
      "\u001b[01;31m\u001b[K21\u001b[m\u001b[KdPvDB6tpt7c5eKNz3voR7HbqvVEG    head. \n",
      "8CRaMViZ9m5hQXko\u001b[01;31m\u001b[K21\u001b[m\u001b[KpwgHT6wurX39    \n",
      "QR\u001b[01;31m\u001b[K21\u001b[m\u001b[KgbuUOy67xAVKYyUOeXasfj3L9O    For example, try \n",
      "iLgB tGHDkYZ\u001b[01;31m\u001b[K21\u001b[m\u001b[K iLhgjbFj9GE thp    $: grep \u001b[01;31m\u001b[K21\u001b[m\u001b[K 2_searching_patterns.txt    \n",
      "iLgB dsadaGZ\u001b[01;31m\u001b[K21\u001b[m\u001b[K iLhgjbFj9GE thp    to read this output easily.\n"
     ]
    }
   ],
   "source": [
    "# solution: how to find the instructions for the next exercise\n",
    "grep 21 2_searching_patterns.txt"
   ]
  },
  {
   "cell_type": "markdown",
   "metadata": {
    "slideshow": {
     "slide_type": "slide"
    }
   },
   "source": [
    "# The Unix Philosophy and Approach to programming\n",
    "\n",
    "Earlier this morning we mentioned the Unix Philosophy:\n",
    "\n",
    "- Make each program do one thing well.\n",
    "- Expect the output of every program to become the input to another, as yet unknown, program.\n",
    "- Work on file streams, reading one line at a time."
   ]
  },
  {
   "cell_type": "markdown",
   "metadata": {
    "slideshow": {
     "slide_type": "fragment"
    }
   },
   "source": [
    "All the commands we saw today follow the Unix philosophy:\n",
    "\n",
    "- **ls** is for listing files\n",
    "- **grep** is for searching patterns in files\n",
    "- **less**, **head**, and others are for seeing the contents of a file\n",
    "\n",
    "So, they all do one single thing, and they do it extremely well. Each tool is well documented and has several parameter options to alter the default behaviour; but overall, each tool focuses on one things only."
   ]
  },
  {
   "cell_type": "markdown",
   "metadata": {
    "slideshow": {
     "slide_type": "slide"
    }
   },
   "source": [
    "## Combining multiple Unix commands with the pipe symbol (|)\n",
    "\n",
    "We can combine multiple commands together using the piping symbol, |.\n",
    "\n",
    "For example, we have seen that the output of grep can be very long and difficult to read on the screen.\n",
    "\n",
    "Thus, we can combine it together with head or less, to read it more easily:\n",
    "\n",
    "```\n",
    "$: grep (first pattern) myfile.txt | head\n",
    "$: grep (first pattern) myfile.txt | less\n",
    "\n",
    "```\n",
    "\n"
   ]
  },
  {
   "cell_type": "code",
   "execution_count": 2,
   "metadata": {
    "slideshow": {
     "slide_type": "fragment"
    }
   },
   "outputs": [
    {
     "name": "stdout",
     "output_type": "stream",
     "text": [
      "CtDB RLr3x3do921Squ8iOvohs7vk4    \n",
      "4kUkCECIiM21OY8EcY4TIsPkKLBOmj    \n",
      "Qjk21MQpAeF4VyA8cAlEXfl8wWJzDY     ____________________\n",
      "B363B5byCj121rzXGoQIiRahUq9zqz    / Congrats! Yes      \\ \n",
      "La8Ku9mjSIpSfVrAgi 21Db5puhK65    | the answer to the  |\n",
      "Gc9kKOst21ABdPUU5Y6yxvMFbmBEr5    | case-insensitive   |\n",
      "X9ihXj3yFmi21YQ1tRg6pnqhTLWclL    | and count question |\n",
      "Zax213Y1OJbXitxdyPlXFu0hnNoi6i    | is 21.             /\n",
      "tAWUDnEbN1stlEw21Jmzgr1mwcr9Ok     --------------------\n",
      "efc219TYASVKMmFWPOpMXaYCYnN5Nu            \\   ^__^\n"
     ]
    }
   ],
   "source": [
    "# \n",
    "grep 21 2_searching_patterns.txt | head\n",
    "#grep 21 2_searching_patterns.txt | less"
   ]
  },
  {
   "cell_type": "markdown",
   "metadata": {
    "slideshow": {
     "slide_type": "slide"
    }
   },
   "source": [
    "## Exercise on Unix pipe: Searching multiple patterns with grep\n",
    "\n",
    "How can we search that contain two or more patterns?\n",
    "\n",
    "One solution is to use the Unix piping system, executing one grep command, and then another grep on the output.\n",
    "\n",
    "This can be done using the pipe \"|\" symbol, like the following:\n",
    "\n",
    "```\n",
    "$: grep (first pattern) myfile.txt | grep (second pattern)\n",
    "```\n",
    "\n",
    "Press space or the down key for some examples."
   ]
  },
  {
   "cell_type": "markdown",
   "metadata": {
    "slideshow": {
     "slide_type": "subslide"
    }
   },
   "source": [
    "The file data/genes/mgat_genes.gb is a genbank file. Notice how this format is well suited for grep searches:"
   ]
  },
  {
   "cell_type": "code",
   "execution_count": 12,
   "metadata": {
    "run_control": {
     "frozen": false,
     "read_only": false
    }
   },
   "outputs": [
    {
     "name": "stdout",
     "output_type": "stream",
     "text": [
      "LOCUS       HUMUDPCNA               4705 bp    DNA     linear   PRI 19-SEP-1995\r\n",
      "DEFINITION  Human alpha-1,3-mannosyl-glycoprotein beta-1,\r\n",
      "            2-N-acetylglucosaminyltransferase (MGAT) gene, complete cds.\r\n",
      "ACCESSION   M61829\r\n",
      "VERSION     M61829.1  GI:340075\r\n",
      "KEYWORDS    alpha-1,3-mannosyl-glycoprotein beta-1,2-N-acetylglucosaminyltrae.\r\n",
      "SOURCE      Homo sapiens (human)\r\n",
      "  ORGANISM  Homo sapiens\r\n",
      "            Eukaryota; Metazoa; Chordata; Craniata; Vertebrata; Euteleostomi;\r\n",
      "            Mammalia; Eutheria; Euarchontoglires; Primates; Haplorrhini;\r\n"
     ]
    }
   ],
   "source": [
    "head genes/mgat_genes.gb"
   ]
  },
  {
   "cell_type": "markdown",
   "metadata": {
    "slideshow": {
     "slide_type": "fragment"
    }
   },
   "source": [
    "Let's say we want to search all the lines where \"ORGANISM\" is \"Homo sapiens\". \n",
    "\n",
    "We can do it with two grep commands:\n",
    "\n",
    "```\n",
    "grep ORGANISM genes/mgat_genes.gb | grep 'Homo sapiens'\n",
    "```\n",
    "Notice that searching for \"Homo sapiens\" alone would not be enough, as there are other lines where the word \"Homo sapiens\" is present."
   ]
  },
  {
   "cell_type": "code",
   "execution_count": 3,
   "metadata": {
    "run_control": {
     "frozen": false,
     "read_only": false
    }
   },
   "outputs": [
    {
     "name": "stdout",
     "output_type": "stream",
     "text": [
      "  ORGANISM  \u001b[01;31m\u001b[KHomo sapiens\u001b[m\u001b[K\n",
      "  ORGANISM  \u001b[01;31m\u001b[KHomo sapiens\u001b[m\u001b[K\n",
      "  ORGANISM  \u001b[01;31m\u001b[KHomo sapiens\u001b[m\u001b[K\n",
      "  ORGANISM  \u001b[01;31m\u001b[KHomo sapiens\u001b[m\u001b[K\n",
      "  ORGANISM  \u001b[01;31m\u001b[KHomo sapiens\u001b[m\u001b[K\n",
      "  ORGANISM  \u001b[01;31m\u001b[KHomo sapiens\u001b[m\u001b[K\n",
      "  ORGANISM  \u001b[01;31m\u001b[KHomo sapiens\u001b[m\u001b[K\n",
      "  ORGANISM  \u001b[01;31m\u001b[KHomo sapiens\u001b[m\u001b[K\n"
     ]
    }
   ],
   "source": [
    "grep ORGANISM genes/mgat_genes.gb | grep 'Homo sapiens'"
   ]
  },
  {
   "cell_type": "markdown",
   "metadata": {
    "slideshow": {
     "slide_type": "subslide"
    }
   },
   "source": [
    "The file contains sequences from two other organisms apart from Homo sapiens. Can you guess which one to search for the next exercise?"
   ]
  },
  {
   "cell_type": "code",
   "execution_count": 28,
   "metadata": {
    "run_control": {
     "frozen": false,
     "read_only": false
    },
    "slideshow": {
     "slide_type": "subslide"
    }
   },
   "outputs": [
    {
     "name": "stdout",
     "output_type": "stream",
     "text": [
      "  ORGANISM  Bos \u001b[01;31m\u001b[Ktaurus\u001b[m\u001b[K\n",
      "  ORGANISM  Bos \u001b[01;31m\u001b[Ktaurus\u001b[m\u001b[K\n",
      "  ORGANISM  Bos \u001b[01;31m\u001b[Ktaurus\u001b[m\u001b[K\n",
      "  ORGANISM  Bos \u001b[01;31m\u001b[Ktaurus\u001b[m\u001b[K\t\t\t   _______________\n",
      "  ORGANISM  Bos \u001b[01;31m\u001b[Ktaurus\u001b[m\u001b[K\t\t          < Well Guessed! >\n",
      "  ORGANISM  Bos \u001b[01;31m\u001b[Ktaurus\u001b[m\u001b[K\t\t\t   ---------------\n",
      "  ORGANISM  Bos \u001b[01;31m\u001b[Ktaurus\u001b[m\u001b[K\t\t\t\t\t\\   ^__^\n",
      "  ORGANISM  Bos \u001b[01;31m\u001b[Ktaurus\u001b[m\u001b[K\t\t\t\t\t \\  (oo)\\_______\n",
      "  ORGANISM  Bos \u001b[01;31m\u001b[Ktaurus\u001b[m\u001b[K\t\t\t  \t\t    (__)\\       )\\/\\\n",
      "  ORGANISM  Bos \u001b[01;31m\u001b[Ktaurus\u001b[m\u001b[K\t\t\t\t\t\t||----w |\n",
      "  ORGANISM  Bos \u001b[01;31m\u001b[Ktaurus\u001b[m\u001b[K\t\t\t\t\t\t||     ||\n",
      "  ORGANISM  Bos \u001b[01;31m\u001b[Ktaurus\u001b[m\u001b[K\n",
      "  ORGANISM  Bos \u001b[01;31m\u001b[Ktaurus\u001b[m\u001b[K\n",
      "  ORGANISM  Bos \u001b[01;31m\u001b[Ktaurus\u001b[m\u001b[K\n",
      "  ORGANISM  Bos \u001b[01;31m\u001b[Ktaurus\u001b[m\u001b[K\n",
      "  ORGANISM  Bos \u001b[01;31m\u001b[Ktaurus\u001b[m\u001b[K\n",
      "  ORGANISM  Bos \u001b[01;31m\u001b[Ktaurus\u001b[m\u001b[K\t\t\t\t===============\n",
      "  ORGANISM  Bos \u001b[01;31m\u001b[Ktaurus\u001b[m\u001b[K\t\t\t\tNext Exercise\n",
      "  ORGANISM  Bos \u001b[01;31m\u001b[Ktaurus\u001b[m\u001b[K\t\t\t\t===============\n",
      "  ORGANISM  Bos \u001b[01;31m\u001b[Ktaurus\u001b[m\u001b[K\n",
      "  ORGANISM  Bos \u001b[01;31m\u001b[Ktaurus\u001b[m\u001b[K\t\t\t\tLet's talk about \n",
      "  ORGANISM  Bos \u001b[01;31m\u001b[Ktaurus\u001b[m\u001b[K\t\t\t\tthe Unix Piping system (|, > and >>), \n",
      "  ORGANISM  Bos \u001b[01;31m\u001b[Ktaurus\u001b[m\u001b[K\t\t\t\tbefore searching multiple files\n",
      "  ORGANISM  Bos \u001b[01;31m\u001b[Ktaurus\u001b[m\u001b[K\n"
     ]
    }
   ],
   "source": [
    "# Solution: grep for \"bos taurus\":\n",
    "grep ORGANISM genes/mgat_genes.gb | grep taurus"
   ]
  },
  {
   "cell_type": "markdown",
   "metadata": {
    "slideshow": {
     "slide_type": "slide"
    }
   },
   "source": [
    "## Redirecting the output to a file, using the redirection symbol (>)\n",
    "\n",
    "Another component of the Unix piping system is the redirection symbol, \">\"\n",
    "\n",
    "This is used to save the output of a command to a file. For example:"
   ]
  },
  {
   "cell_type": "code",
   "execution_count": 30,
   "metadata": {
    "slideshow": {
     "slide_type": "fragment"
    }
   },
   "outputs": [],
   "source": [
    "# Note that no output is shown to the terminal. \n",
    "grep ORGANISM genes/mgat_genes.gb | grep taurus > bos_taurus.txt"
   ]
  },
  {
   "cell_type": "markdown",
   "metadata": {
    "slideshow": {
     "slide_type": "fragment"
    }
   },
   "source": [
    "Note how this creates a new file called **bos_taurus.txt**. If we do \"ls\" again, we will see it:"
   ]
  },
  {
   "cell_type": "code",
   "execution_count": 26,
   "metadata": {
    "slideshow": {
     "slide_type": "fragment"
    }
   },
   "outputs": [
    {
     "name": "stdout",
     "output_type": "stream",
     "text": [
      "total 280\n",
      "-rw-r--r--   1 gmd78366  staff    831 Mar 11 10:23 bos_taurus.txt\n",
      "drwxr-xr-x@  7 gmd78366  staff    224 Mar 11 10:22 genes\n",
      "-rw-r--r--   1 gmd78366  staff     74 Mar 11 09:56 redirect_me_here.txt\n",
      "-rw-r--r--@  1 gmd78366  staff  37758 Mar 11 09:55 2_searching_patterns.txt\n",
      "drwxr-xr-x@ 52 gmd78366  staff   1664 Mar 11 09:25 multiplefiles\n",
      "-rw-r--r--@  1 gmd78366  staff   2642 Sep 14 16:31 1_browsing_textfiles.txt\n",
      "-rw-r--r--@  1 gmd78366  staff  89462 Sep 14 16:31 chr8.gff\n",
      "drwxr-xr-x@  9 gmd78366  staff    288 Sep 14 16:31 old_files\n"
     ]
    }
   ],
   "source": [
    "# The -t option in ls sorts the output by modification date\n",
    "ls -l -t"
   ]
  },
  {
   "cell_type": "markdown",
   "metadata": {
    "slideshow": {
     "slide_type": "fragment"
    }
   },
   "source": [
    "we can even use less, head or cat to see its contents:"
   ]
  },
  {
   "cell_type": "code",
   "execution_count": 31,
   "metadata": {
    "slideshow": {
     "slide_type": "-"
    }
   },
   "outputs": [
    {
     "name": "stdout",
     "output_type": "stream",
     "text": [
      "  ORGANISM  Bos taurus\n",
      "  ORGANISM  Bos taurus\n",
      "  ORGANISM  Bos taurus\n",
      "  ORGANISM  Bos taurus\t\t\t   _______________\n",
      "  ORGANISM  Bos taurus\t\t          < Well Guessed! >\n",
      "  ORGANISM  Bos taurus\t\t\t   ---------------\n",
      "  ORGANISM  Bos taurus\t\t\t\t\t\\   ^__^\n",
      "  ORGANISM  Bos taurus\t\t\t\t\t \\  (oo)\\_______\n",
      "  ORGANISM  Bos taurus\t\t\t  \t\t    (__)\\       )\\/\\\n",
      "  ORGANISM  Bos taurus\t\t\t\t\t\t||----w |\n",
      "  ORGANISM  Bos taurus\t\t\t\t\t\t||     ||\n",
      "  ORGANISM  Bos taurus\n",
      "  ORGANISM  Bos taurus\n",
      "  ORGANISM  Bos taurus\n",
      "  ORGANISM  Bos taurus\n",
      "  ORGANISM  Bos taurus\n",
      "  ORGANISM  Bos taurus\t\t\t\t===============\n",
      "  ORGANISM  Bos taurus\t\t\t\tNext Exercise\n",
      "  ORGANISM  Bos taurus\t\t\t\t===============\n",
      "  ORGANISM  Bos taurus\n",
      "  ORGANISM  Bos taurus\t\t\t\tLet's talk about \n",
      "  ORGANISM  Bos taurus\t\t\t\tthe Unix Piping system (|, > and >>), \n",
      "  ORGANISM  Bos taurus\t\t\t\tbefore searching multiple files\n",
      "  ORGANISM  Bos taurus\n"
     ]
    }
   ],
   "source": [
    "# cat (concatenate) prints the whole contents to the screen:\n",
    "cat bos_taurus.txt"
   ]
  },
  {
   "cell_type": "markdown",
   "metadata": {
    "slideshow": {
     "slide_type": "subslide"
    }
   },
   "source": [
    "**Note on file extensions**: Unix is agnostic to file extensions (e.g. .txt, .png, .exe). \n",
    "\n",
    "Here we've added the .txt extension to the file, as this is a convention to indicate a text file.\n",
    "\n",
    "However you can run **grep** and any unix command on any file type, and no errors will be shown. However, if you try to run them on binary formats like Word of Excel, you will get back un unintelegible output."
   ]
  },
  {
   "cell_type": "markdown",
   "metadata": {
    "slideshow": {
     "slide_type": "subslide"
    }
   },
   "source": [
    "### Warning on File Redirection and overwriting files\n",
    "\n",
    "Warning - the redirection symbol will overwrite any existing file content, without asking confirmation.\n",
    "\n",
    "The next command uses \"echo\" to print a simple message, which is then redirected to the bos_taurus.txt files created previously."
   ]
  },
  {
   "cell_type": "code",
   "execution_count": 32,
   "metadata": {
    "slideshow": {
     "slide_type": "fragment"
    }
   },
   "outputs": [
    {
     "name": "stdout",
     "output_type": "stream",
     "text": [
      "Simple Text message\n"
     ]
    }
   ],
   "source": [
    "# The echo command prints a message to the screen - or wherever you redirect it\n",
    "echo \"Simple Text message\""
   ]
  },
  {
   "cell_type": "code",
   "execution_count": 22,
   "metadata": {
    "slideshow": {
     "slide_type": "fragment"
    }
   },
   "outputs": [],
   "source": [
    "echo \"All previous contents have been deleted\" > bos_taurus.txt"
   ]
  },
  {
   "cell_type": "code",
   "execution_count": 23,
   "metadata": {
    "slideshow": {
     "slide_type": "fragment"
    }
   },
   "outputs": [
    {
     "name": "stdout",
     "output_type": "stream",
     "text": [
      "All previous contents have been deleted\n"
     ]
    }
   ],
   "source": [
    "head bos_taurus.txt"
   ]
  },
  {
   "cell_type": "markdown",
   "metadata": {
    "slideshow": {
     "slide_type": "fragment"
    }
   },
   "source": [
    "There is now way to retrieve the previous contents of the file, except if you used a version control system (e.g. git) to store them."
   ]
  },
  {
   "cell_type": "markdown",
   "metadata": {
    "slideshow": {
     "slide_type": "slide"
    }
   },
   "source": [
    "## Appending contents to a file, using the double redirection symbol (>>)\n",
    "\n",
    "If we want to append content to a file without deleting the previous contents, we can use the double redirection symbol, **>>**.\n",
    "\n",
    "This will store the new output at the end of the file. Let's try it:"
   ]
  },
  {
   "cell_type": "code",
   "execution_count": 17,
   "metadata": {
    "slideshow": {
     "slide_type": "fragment"
    }
   },
   "outputs": [
    {
     "name": "stdout",
     "output_type": "stream",
     "text": [
      "1_browsing_textfiles.txt\tgenes\n",
      "2_searching_patterns.txt\tmultiplefiles\n",
      "bos_taurus.txt\t\t\told_files\n",
      "chr8.gff\t\t\tredirect_me_here.txt\n",
      "My first message\n"
     ]
    }
   ],
   "source": [
    "echo \"My first message\" > redirect_me_here.txt\n",
    "ls\n",
    "cat redirect_me_here.txt # cat is similar to head, but prints the whole contents"
   ]
  },
  {
   "cell_type": "markdown",
   "metadata": {
    "slideshow": {
     "slide_type": "subslide"
    }
   },
   "source": [
    "Let's keep adding messages:"
   ]
  },
  {
   "cell_type": "code",
   "execution_count": 18,
   "metadata": {
    "slideshow": {
     "slide_type": "fragment"
    }
   },
   "outputs": [],
   "source": [
    "echo \"My second message\" >> redirect_me_here.txt\n",
    "echo \"My third message\" >> redirect_me_here.txt\n",
    "echo \"My fourteenth message\" >> redirect_me_here.txt\n"
   ]
  },
  {
   "cell_type": "code",
   "execution_count": 16,
   "metadata": {
    "slideshow": {
     "slide_type": "fragment"
    }
   },
   "outputs": [
    {
     "name": "stdout",
     "output_type": "stream",
     "text": [
      "My first message\n",
      "My second message\n",
      "My second message\n",
      "My third message\n",
      "My fourteenth message\n"
     ]
    }
   ],
   "source": [
    "cat redirect_me_here.txt"
   ]
  },
  {
   "cell_type": "markdown",
   "metadata": {
    "slideshow": {
     "slide_type": "slide"
    }
   },
   "source": [
    "## Searching multiple files\n",
    "\n",
    "Let's go back to our grep exericises.\n",
    "\n",
    "Grep is useful to search over multiple files in a single command.\n",
    "\n",
    "The folder data/multiplefiles/ contains 50 randomly generated files. You can see their contents with head data/multiplefiles/\\* or with less.\n",
    "\n",
    "One of these files contains the word \"regex\" in it. Are you able to find it?"
   ]
  },
  {
   "cell_type": "code",
   "execution_count": 23,
   "metadata": {
    "run_control": {
     "frozen": false,
     "read_only": false
    },
    "slideshow": {
     "slide_type": "subslide"
    }
   },
   "outputs": [
    {
     "name": "stdout",
     "output_type": "stream",
     "text": [
      "multiplefiles/file32.txt:5gsumFTKbKEJv9dD8W94FhoEQU8qf8RMUc\u001b[01;31m\u001b[Kregex\u001b[m\u001b[KR    \n",
      "multiplefiles/file32.txt:YgDiqkA C1o\u001b[01;31m\u001b[Kregex\u001b[m\u001b[K9giqI66c3sOwfLirOsgPpSuq    \n",
      "multiplefiles/file32.txt:IsXSnp 8U8pKR0LsVuK\u001b[01;31m\u001b[Kregex\u001b[m\u001b[KO5GFegOtV4GW4fNQ    Good! You've found the \n",
      "multiplefiles/file32.txt:l 4px8KhPRmfEJgi5uTuVO1XahG3H1sY\u001b[01;31m\u001b[Kregex\u001b[m\u001b[K4wt    file containing the word \"\u001b[01;31m\u001b[Kregex\u001b[m\u001b[K\"\n",
      "multiplefiles/file32.txt:yz8P5 HC6N5D XRHPncZjTAeM\u001b[01;31m\u001b[Kregex\u001b[m\u001b[KT9bQUoZdsh    \n",
      "multiplefiles/file32.txt:eWUd18s0MVx5YYrEK KCKeF5hvO\u001b[01;31m\u001b[Kregex\u001b[m\u001b[KIiZbIGUX    To continue, \n",
      "multiplefiles/file32.txt:MLXiKZJ8KyHMou9lYsz4ZjFYJSfB 14t\u001b[01;31m\u001b[Kregex\u001b[m\u001b[KtpJ    grep file32 2_searching_patterns.txt\n",
      "multiplefiles/file32.txt:veFQU\u001b[01;31m\u001b[Kregex\u001b[m\u001b[KfnQxwQw6POJRNvvAeYwToX6ptvN39m    \n",
      "multiplefiles/file32.txt:cHoNv\u001b[01;31m\u001b[Kregex\u001b[m\u001b[KiGjHkmptPVTjOzvWVGbrGoHoywV4Vy    \n"
     ]
    }
   ],
   "source": [
    "# solution: you can use the \"*\" character to specify multiple files:\n",
    "grep 'regex' multiplefiles/*"
   ]
  },
  {
   "cell_type": "markdown",
   "metadata": {
    "slideshow": {
     "slide_type": "slide"
    }
   },
   "source": [
    "# Regular Expressions\n",
    "\n",
    "Regular expressions allow to search for more complex patterns. \n",
    "\n",
    "Here are some simple regular expression examples:\n",
    "\n",
    "| regex    | description |\n",
    "| -------- | ----------- |\n",
    "| .        | matches any character |\n",
    "| [A-Za-z] | matches any of the characters within parenthesis|\n",
    "| .\\*      | matches any character, any number of times| "
   ]
  },
  {
   "cell_type": "markdown",
   "metadata": {
    "slideshow": {
     "slide_type": "subslide"
    }
   },
   "source": [
    "## Regular Expression exercise\n",
    "\n",
    "Let's have a look at the file data/genes/sequences.fasta:"
   ]
  },
  {
   "cell_type": "code",
   "execution_count": 15,
   "metadata": {
    "run_control": {
     "frozen": false,
     "read_only": false
    }
   },
   "outputs": [
    {
     "name": "stdout",
     "output_type": "stream",
     "text": [
      ">seq000 sequence description\r\n",
      "CGNTTTNTAATTATATANNTAGCGTGATCC\r\n",
      ">seq001 sequence description\r\n",
      "NNCGNANAGCTNGACCTAGTTGAAATTGTG\r\n",
      ">seq002 sequence description\r\n",
      "CGGTATGCAGCCCNNGCGTNGCNTNAATNA\r\n",
      ">seq003 sequence description\r\n",
      "CGCNTCNTNCTTCACCACGCCAGCTTTANC\r\n",
      ">seq004 sequence description\r\n",
      "CGTNGCGNNCGNGAGCCATTANTAGNNCCT\r\n"
     ]
    }
   ],
   "source": [
    "head genes/sequences.fasta "
   ]
  },
  {
   "cell_type": "markdown",
   "metadata": {},
   "source": [
    "Can you use grep to identify all the sequences containing three As, followed by any two characters, followed by three Ts?"
   ]
  },
  {
   "cell_type": "code",
   "execution_count": 16,
   "metadata": {
    "run_control": {
     "frozen": false,
     "read_only": false
    },
    "slideshow": {
     "slide_type": "subslide"
    }
   },
   "outputs": [
    {
     "name": "stdout",
     "output_type": "stream",
     "text": [
      "TCGACCTGCNNANGGCTNTGT\u001b[01;31m\u001b[KAAAccTTT\u001b[m\u001b[KG\r\n",
      "TNCGTCCGGCCAAA\u001b[01;31m\u001b[KAAAgtTTT\u001b[m\u001b[KNGNGCTTG\r\n",
      "NAAGTTTAAG\u001b[01;31m\u001b[KAAAaaTTT\u001b[m\u001b[KCATGAGCNCGAG\r\n",
      "NCTGCGCNGCGAGCCACAACN\u001b[01;31m\u001b[KAAAgtTTT\u001b[m\u001b[KG\r\n",
      "TAGNGTACTCCTTNTN\u001b[01;31m\u001b[KAAAaaTTT\u001b[m\u001b[KTTCTCG\r\n",
      "ACTNGACGCTTCNCTN\u001b[01;31m\u001b[KAAAccTTT\u001b[m\u001b[KGCNTNT\r\n",
      "GGGN\u001b[01;31m\u001b[KAAAaaTTT\u001b[m\u001b[KCGGCTGNNTGCNCNNTNN\r\n",
      "TNGAACCCNGTNCGGTC\u001b[01;31m\u001b[KAAAccTTT\u001b[m\u001b[KTCNTA\r\n",
      "NGGTACAAAGCNCCCANNNTT\u001b[01;31m\u001b[KAAAgtTTT\u001b[m\u001b[KC\r\n",
      "\u001b[01;31m\u001b[KAAAccTTT\u001b[m\u001b[KNCNGCCNTNCTCANNCGTGNTT\r\n",
      "NTTCACTC\u001b[01;31m\u001b[KAAActTTT\u001b[m\u001b[KNGNGNATTNGGAAT\r\n",
      "GGATG\u001b[01;31m\u001b[KAAAaaTTT\u001b[m\u001b[KNCCAGCCAANNCTTGNA\r\n"
     ]
    }
   ],
   "source": [
    "grep 'AAA..TTT' genes/sequences.fasta"
   ]
  },
  {
   "cell_type": "markdown",
   "metadata": {
    "slideshow": {
     "slide_type": "fragment"
    }
   },
   "source": [
    "Bonus: if we use the -B 1 grep option, we can retrieve the names of these sequences:"
   ]
  },
  {
   "cell_type": "code",
   "execution_count": 17,
   "metadata": {
    "run_control": {
     "frozen": false,
     "read_only": false
    },
    "slideshow": {
     "slide_type": "fragment"
    }
   },
   "outputs": [
    {
     "name": "stdout",
     "output_type": "stream",
     "text": [
      ">seq009 sequence description   \r\n",
      "TCGACCTGCNNANGGCTNTGT\u001b[01;31m\u001b[KAAAccTTT\u001b[m\u001b[KG\r\n",
      "\u001b[36m\u001b[K--\u001b[m\u001b[K\r\n",
      ">seq012 sequence description    ________________\r\n",
      "TNCGTCCGGCCAAA\u001b[01;31m\u001b[KAAAgtTTT\u001b[m\u001b[KNGNGCTTG\r\n",
      "\u001b[36m\u001b[K--\u001b[m\u001b[K\r\n",
      ">seq024 sequence description   / Congrats! This \\ \r\n",
      "NAAGTTTAAG\u001b[01;31m\u001b[KAAAaaTTT\u001b[m\u001b[KCATGAGCNCGAG\r\n",
      ">seq025 sequence description   | was the last  |\r\n",
      "NCTGCGCNGCGAGCCACAACN\u001b[01;31m\u001b[KAAAgtTTT\u001b[m\u001b[KG\r\n",
      ">seq026 sequence description   \\ grep exercise / \r\n",
      "TAGNGTACTCCTTNTN\u001b[01;31m\u001b[KAAAaaTTT\u001b[m\u001b[KTTCTCG\r\n",
      "\u001b[36m\u001b[K--\u001b[m\u001b[K\r\n",
      ">seq030 sequence description    ----------------\r\n",
      "ACTNGACGCTTCNCTN\u001b[01;31m\u001b[KAAAccTTT\u001b[m\u001b[KGCNTNT\r\n",
      "\u001b[36m\u001b[K--\u001b[m\u001b[K\r\n",
      ">seq032 sequence description       \\  ^__^\r\n",
      "GGGN\u001b[01;31m\u001b[KAAAaaTTT\u001b[m\u001b[KCGGCTGNNTGCNCNNTNN\r\n",
      ">seq033 sequence description        \\ (oo)\\_______\r\n",
      "TNGAACCCNGTNCGGTC\u001b[01;31m\u001b[KAAAccTTT\u001b[m\u001b[KTCNTA\r\n",
      "\u001b[36m\u001b[K--\u001b[m\u001b[K\r\n",
      ">seq038 sequence description          (__)\\    )\\/\\ \r\n",
      "NGGTACAAAGCNCCCANNNTT\u001b[01;31m\u001b[KAAAgtTTT\u001b[m\u001b[KC\r\n",
      "\u001b[36m\u001b[K--\u001b[m\u001b[K\r\n",
      ">seq043 sequence description           ||----w |\r\n",
      "\u001b[01;31m\u001b[KAAAccTTT\u001b[m\u001b[KNCNGCCNTNCTCANNCGTGNTT\r\n",
      "\u001b[36m\u001b[K--\u001b[m\u001b[K\r\n",
      ">seq046 sequence description           ||    ||\r\n",
      "NTTCACTC\u001b[01;31m\u001b[KAAActTTT\u001b[m\u001b[KNGNGNATTNGGAAT\r\n",
      "\u001b[36m\u001b[K--\u001b[m\u001b[K\r\n",
      ">seq049 sequence description   \r\n",
      "GGATG\u001b[01;31m\u001b[KAAAaaTTT\u001b[m\u001b[KNCCAGCCAANNCTTGNA\r\n"
     ]
    }
   ],
   "source": [
    "grep -B1 'AAA..TTT' genes/sequences.fasta "
   ]
  },
  {
   "cell_type": "markdown",
   "metadata": {
    "slideshow": {
     "slide_type": "subslide"
    }
   },
   "source": [
    "## How do we search for the \">\" symbol?\n",
    "\n",
    "From the previous output, it seems like we could see something more in the output, if we manage to print only the lines containing a \">\" at the beginning.\n",
    "\n",
    "However, > is also the redirection symbol, and we are not careful with it, we may overwrite some file or do something even worst.\n",
    "\n",
    "The solution in this case is the quotation. Use '>' to search for a literal >:"
   ]
  },
  {
   "cell_type": "code",
   "execution_count": 19,
   "metadata": {
    "run_control": {
     "frozen": false,
     "read_only": false
    },
    "slideshow": {
     "slide_type": "fragment"
    }
   },
   "outputs": [
    {
     "name": "stdout",
     "output_type": "stream",
     "text": [
      "\u001b[01;31m\u001b[K>\u001b[m\u001b[Kseq009 sequence description   \n",
      "\u001b[01;31m\u001b[K>\u001b[m\u001b[Kseq012 sequence description    ________________\n",
      "\u001b[01;31m\u001b[K>\u001b[m\u001b[Kseq024 sequence description   / Congrats! This \\ \n",
      "\u001b[01;31m\u001b[K>\u001b[m\u001b[Kseq025 sequence description   | was the last  |\n",
      "\u001b[01;31m\u001b[K>\u001b[m\u001b[Kseq026 sequence description   \\ grep exercise / \n",
      "\u001b[01;31m\u001b[K>\u001b[m\u001b[Kseq030 sequence description    ----------------\n",
      "\u001b[01;31m\u001b[K>\u001b[m\u001b[Kseq032 sequence description       \\  ^__^\n",
      "\u001b[01;31m\u001b[K>\u001b[m\u001b[Kseq033 sequence description        \\ (oo)\\_______\n",
      "\u001b[01;31m\u001b[K>\u001b[m\u001b[Kseq038 sequence description          (__)\\    )\\/\\ \n",
      "\u001b[01;31m\u001b[K>\u001b[m\u001b[Kseq043 sequence description           ||----w |\n",
      "\u001b[01;31m\u001b[K>\u001b[m\u001b[Kseq046 sequence description           ||    ||\n",
      "\u001b[01;31m\u001b[K>\u001b[m\u001b[Kseq049 sequence description   \n"
     ]
    }
   ],
   "source": [
    "# To search for a literal >, remember to quote it correctly:\n",
    "grep -B1 'AAA..TTT' genes/sequences.fasta  | grep \">\""
   ]
  },
  {
   "cell_type": "markdown",
   "metadata": {
    "slideshow": {
     "slide_type": "subslide"
    }
   },
   "source": [
    "# Applying the Unix Philosophy to your programming\n",
    "\n",
    "In the following days, when you will learn the basics of Python and R programming, you will be faced with the dilemma of how to organize your scripts.\n",
    "\n",
    "You can use the Unix Philosophy as a guideline to have more versatile files and scripts."
   ]
  },
  {
   "cell_type": "markdown",
   "metadata": {
    "slideshow": {
     "slide_type": "fragment"
    }
   },
   "source": [
    "## Example of Unix Approach\n",
    "\n",
    "Let's immagine we want to plot the CG content of a genome:\n",
    "\n",
    "- **Approach 1 (non-Unix)**: write a single script that downloads the genome, calculates the GC content, and draws a plot\n",
    "- **Approach 2 (Unix)**: write three separate scripts or functions, then pipe them together using the Unix Pipe or with a wrapper script.\n",
    "\n",
    "The Unix Approach requires a bit of extra work, but it is more versatile in case you want to reuse the same scripts."
   ]
  },
  {
   "cell_type": "markdown",
   "metadata": {
    "slideshow": {
     "slide_type": "slide"
    }
   },
   "source": [
    "# Time for a break!"
   ]
  },
  {
   "cell_type": "code",
   "execution_count": null,
   "metadata": {
    "collapsed": true,
    "run_control": {
     "frozen": false,
     "read_only": false
    }
   },
   "outputs": [],
   "source": []
  }
 ],
 "metadata": {
  "celltoolbar": "Slideshow",
  "hide_input": false,
  "kernelspec": {
   "display_name": "Bash",
   "language": "bash",
   "name": "bash"
  },
  "language_info": {
   "codemirror_mode": "shell",
   "file_extension": ".sh",
   "mimetype": "text/x-sh",
   "name": "bash"
  },
  "nav_menu": {},
  "toc": {
   "nav_menu": {},
   "number_sections": true,
   "sideBar": true,
   "skip_h1_title": false,
   "title_cell": "Table of Contents",
   "title_sidebar": "Contents",
   "toc_cell": true,
   "toc_position": {},
   "toc_section_display": "block",
   "toc_window_display": true
  }
 },
 "nbformat": 4,
 "nbformat_minor": 1
}
