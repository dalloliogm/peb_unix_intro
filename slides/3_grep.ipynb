{
 "cells": [
  {
   "cell_type": "markdown",
   "metadata": {
    "toc": "true"
   },
   "source": [
    "# Table of Contents\n",
    " <p><div class=\"lev1 toc-item\"><a href=\"#Introduction-to-Unix,-Part-3---grep-and-regular-expressions\" data-toc-modified-id=\"Introduction-to-Unix,-Part-3---grep-and-regular-expressions-1\"><span class=\"toc-item-num\">1&nbsp;&nbsp;</span>Introduction to Unix, Part 3 - grep and regular expressions</a></div><div class=\"lev1 toc-item\"><a href=\"#Searching-patterns-into-file:-grep\" data-toc-modified-id=\"Searching-patterns-into-file:-grep-2\"><span class=\"toc-item-num\">2&nbsp;&nbsp;</span>Searching patterns into file: grep</a></div><div class=\"lev2 toc-item\"><a href=\"#Accessing-grep-documentation\" data-toc-modified-id=\"Accessing-grep-documentation-2.1\"><span class=\"toc-item-num\">2.1&nbsp;&nbsp;</span>Accessing grep documentation</a></div><div class=\"lev2 toc-item\"><a href=\"#Searching-multiple-files\" data-toc-modified-id=\"Searching-multiple-files-2.2\"><span class=\"toc-item-num\">2.2&nbsp;&nbsp;</span>Searching multiple files</a></div><div class=\"lev2 toc-item\"><a href=\"#Searching-multiple-patterns-and-the-Unix-piping-system\" data-toc-modified-id=\"Searching-multiple-patterns-and-the-Unix-piping-system-2.3\"><span class=\"toc-item-num\">2.3&nbsp;&nbsp;</span>Searching multiple patterns and the Unix piping system</a></div><div class=\"lev2 toc-item\"><a href=\"#Regular-Expressions\" data-toc-modified-id=\"Regular-Expressions-2.4\"><span class=\"toc-item-num\">2.4&nbsp;&nbsp;</span>Regular Expressions</a></div><div class=\"lev2 toc-item\"><a href=\"#Regular-Expression-exercise\" data-toc-modified-id=\"Regular-Expression-exercise-2.5\"><span class=\"toc-item-num\">2.5&nbsp;&nbsp;</span>Regular Expression exercise</a></div><div class=\"lev1 toc-item\"><a href=\"#Time-for-a-break!\" data-toc-modified-id=\"Time-for-a-break!-3\"><span class=\"toc-item-num\">3&nbsp;&nbsp;</span>Time for a break!</a></div>"
   ]
  },
  {
   "cell_type": "markdown",
   "metadata": {
    "slideshow": {
     "slide_type": "slide"
    }
   },
   "source": [
    "# Introduction to Unix, Part 3 - grep and regular expressions\n",
    "\n",
    "Giovanni M. Dall'Olio, 20/02/2017. All materials available here: https://dalloliogm.github.io/ \n",
    "\n",
    "```\n",
    "  ________________\n",
    " / Part 3         \\\n",
    " \\ grep and regex /\n",
    "  ----------------\n",
    "         \\   ^__^\n",
    "          \\  (oo)\\_______\n",
    "             (__)\\       )\\/\\\n",
    "                 ||----w |\n",
    "                 ||     ||\n",
    "```\n",
    "\n",
    "Welcome to the Programming for Evolutionary Biology workshop!!\n",
    "\n",
    "In this third part we will see the **grep** command to search the contents of files, and some basic regular expressions.\n",
    "\n",
    "Press Space or Down do continue."
   ]
  },
  {
   "cell_type": "code",
   "execution_count": 2,
   "metadata": {
    "collapsed": false,
    "run_control": {
     "frozen": false,
     "read_only": false
    },
    "slideshow": {
     "slide_type": "skip"
    }
   },
   "outputs": [
    {
     "name": "stdout",
     "output_type": "stream",
     "text": []
    }
   ],
   "source": [
    "# Configuration - this will not appear in the slideshow\n",
    "alias grep='grep --color'\n",
    "cd\n",
    "cd workspace/peb_unix_intro/exercises/\n"
   ]
  },
  {
   "cell_type": "markdown",
   "metadata": {
    "slideshow": {
     "slide_type": "slide"
    }
   },
   "source": [
    "# Searching patterns into file: grep\n",
    "\n",
    "The instructions for the next exercises are stored in the **data/exercise1_grep.txt** file. \n",
    "\n",
    "However, if you look at this file with head or less, you will see that its contents have no meaning!"
   ]
  },
  {
   "cell_type": "code",
   "execution_count": 3,
   "metadata": {
    "collapsed": false,
    "run_control": {
     "frozen": false,
     "read_only": false
    },
    "slideshow": {
     "slide_type": "-"
    }
   },
   "outputs": [
    {
     "name": "stdout",
     "output_type": "stream",
     "text": [
      "N6jorDR84qO1Wm9oQSwq NFP5fuIUt    dicCiojstp  RVFEDyvlCiQgJludpQz3Dmh\r\n",
      "mfsFAdF6K87GCcFxIuPJU3KV bOqbM    nl1Kliq0kejysuyzQjjHD4uLwCiz9uDfGJ8\r\n",
      "k8KXugdUgQWis6TJj5Bs3r0O zhucJ    Jdrh5eLocvbvx3c1nOECQLPX3Zxoed RdWF\r\n",
      "a55O3BZvOWND7NgRpTGYNvagOPftki    QwYSIr6uFambWWjUyHWSc3ayRD6dovvuBAr\r\n",
      "0LJ4YFDvRbpOz DBcKgo45oRKFFN83    T6fRFSpMzZUbXz lwpT6LC98uiNSdFXRrdV\r\n",
      "YpGM8k5BhVkL FSAlpKaF1aOjKOX9K    Z5ov kGnjbKosQQeRmHt0KlrobawghapA8f\r\n",
      "51WCoVFad 5NUN8cd9MKOkSmqHkEAy    bTKIT3Xl9zZkwXpflOG0Ka0CiS77Q3Nq9Bn\r\n",
      "wIZTwypDgNcFN3JxFrJuOHJxsdIKPD    hnTBOWnngoVfOrNeR6af7mZKCFLHLov7pPF\r\n",
      " lVzzIoSD03ll3peasKZyaLEsRW1er    GAI9wh7LzYicG647nz1KA9Rv3TuHujuJaDZ\r\n",
      "ocuB5qUMrxMbopSc6IymtjPCVmhhFd    Mdh8d7kTkAqMP0Fqutt6B33Etn93XAcXDnV\r\n"
     ]
    }
   ],
   "source": [
    "head 2_searching_patterns.txt"
   ]
  },
  {
   "cell_type": "markdown",
   "metadata": {
    "slideshow": {
     "slide_type": "-"
    }
   },
   "source": [
    "This is because I've hidden all the instructions in the file, just to make things more interesting!\n",
    "\n",
    "Press space or the down key to see how to continue."
   ]
  },
  {
   "cell_type": "markdown",
   "metadata": {
    "slideshow": {
     "slide_type": "subslide"
    }
   },
   "source": [
    "I've hidden the instructions for the first exercise in the lines containing the word \"start\" somewhere.\n",
    "\n",
    "To find them, type:\n",
    "\n",
    "```\n",
    "$: grep start 2_searching_patterns.txt\n",
    "```"
   ]
  },
  {
   "cell_type": "code",
   "execution_count": 4,
   "metadata": {
    "collapsed": false,
    "run_control": {
     "frozen": false,
     "read_only": false
    },
    "slideshow": {
     "slide_type": "fragment"
    }
   },
   "outputs": [
    {
     "name": "stdout",
     "output_type": "stream",
     "text": [
      "cyiywNQhsTaFvrX3F0 \u001b[01;31m\u001b[Kstart\u001b[m\u001b[K6473DC    \r\n",
      "DRyKuiS dTekI3ctr\u001b[01;31m\u001b[Kstart\u001b[m\u001b[Kv7VXoOCC     ______________________________\r\n",
      "S4xFQNhv0ipsyg75yCoxA3he\u001b[01;31m\u001b[Kstart\u001b[m\u001b[KJ    / Congrats!                    \\  \r\n",
      "t \u001b[01;31m\u001b[Kstart\u001b[m\u001b[K e6YBF5VeAJd1niRCAm54fv    |  You've used grep correctly, |\r\n",
      "UQh\u001b[01;31m\u001b[Kstart\u001b[m\u001b[K S6CADhyFEGtamLmgUw5mN    \\  and found a cow.            /\r\n",
      "na3xDyV \u001b[01;31m\u001b[Kstart\u001b[m\u001b[K nEn FcDkDoHlJ5U8     ------------------------------\r\n",
      "vB64co0qVmDSfMy \u001b[01;31m\u001b[Kstart\u001b[m\u001b[KHBRBNmMou            \\   ^__^\r\n",
      "Ucm64KuL6ci0HB \u001b[01;31m\u001b[Kstart\u001b[m\u001b[Kg3B91ubyVR             \\  (oo)\\_______\r\n",
      "dmATFfwkAnvmm  \u001b[01;31m\u001b[Kstart\u001b[m\u001b[KhJsUB7Zhpa                (__)\\       )\\/\\ \r\n",
      "x \u001b[01;31m\u001b[Kstart\u001b[m\u001b[KdyxGG 530mUC7MDaokCAKkP                    ||----w |\r\n",
      "TnuS 6WyvWQff\u001b[01;31m\u001b[Kstart\u001b[m\u001b[K bhC8FgngIfA                    ||     ||\r\n",
      "Lpjd8fy4HwOj3\u001b[01;31m\u001b[Kstart\u001b[m\u001b[K KFmLWhcpH1D    \r\n",
      "qrcD DUVmU67qIN\u001b[01;31m\u001b[Kstart\u001b[m\u001b[K eimdNwsk7    \r\n",
      "x \u001b[01;31m\u001b[Kstart\u001b[m\u001b[KYmyFAMljNGPoBZxWvdugLOE    \r\n",
      "Egmqh5pXm ee\u001b[01;31m\u001b[Kstart\u001b[m\u001b[K 5JkazumfP9      The command grep allows to search\r\n",
      "T0Zq6 \u001b[01;31m\u001b[Kstart\u001b[m\u001b[KfnvP8cIXnfqbB4q5la0    for a pattern in a text file.\r\n",
      "0apOeBLv7YvlPA \u001b[01;31m\u001b[Kstart\u001b[m\u001b[K gkQLhw5LJ    \r\n",
      "CxfzRe541y\u001b[01;31m\u001b[Kstart\u001b[m\u001b[KJj68PrNKawesz08    It will print all the matching \r\n",
      "bd7175m w \u001b[01;31m\u001b[Kstart\u001b[m\u001b[K 5YFVqNF1A8ZJS6    lines to the screen.\r\n",
      "Hj6BoO \u001b[01;31m\u001b[Kstart\u001b[m\u001b[KsRWuvPNGBg4ZSxdy5K    \r\n",
      "FrowUgP0Rww \u001b[01;31m\u001b[Kstart\u001b[m\u001b[KD56jcTvQQWEMt    =================\r\n",
      "f6exIg44GXvkBKEj5O0sPt \u001b[01;31m\u001b[Kstart\u001b[m\u001b[KuT    Next Exercise\r\n",
      "pUasyifskH\u001b[01;31m\u001b[Kstart\u001b[m\u001b[K AA4QhdNI5CYOqp    =================\r\n",
      "WpEr7I1I7ajn3Vb \u001b[01;31m\u001b[Kstart\u001b[m\u001b[KyV77kLktG    \r\n",
      "PULXHsnrjVtqGQJP0T \u001b[01;31m\u001b[Kstart\u001b[m\u001b[K x  mT    In the next exercise we will see \r\n",
      "e94IRW6tna8G9gzXnMFeyeWiM\u001b[01;31m\u001b[Kstart\u001b[m\u001b[K    how to access grep's documentation.\r\n",
      "Yj7ItSnjwa xpIIJ6Pn\u001b[01;31m\u001b[Kstart\u001b[m\u001b[Ky4c9pv    \r\n",
      "amG5UYNApOEml0 \u001b[01;31m\u001b[Kstart\u001b[m\u001b[KgehiEmraPN    Grep the following word to continue:\r\n",
      "c5zgU3wsG\u001b[01;31m\u001b[Kstart\u001b[m\u001b[KLXkuSEU5X6htL4vh      _            _        \r\n",
      "nYoEzZOnC18fdKoy \u001b[01;31m\u001b[Kstart\u001b[m\u001b[K SwGylYg     | |          | |       \r\n",
      "vEj5 \u001b[01;31m\u001b[Kstart\u001b[m\u001b[K qFNICtaBpVNgDRpfaJk     | |__    ___ | | _ __  \r\n",
      "ik7aYCKUtVVn4s3mQS8NEKx6 \u001b[01;31m\u001b[Kstart\u001b[m\u001b[K     | '_ \\  / _ \\| || '_ \\ \r\n",
      "LscAgVef\u001b[01;31m\u001b[Kstart\u001b[m\u001b[KXT3xEhEESN8qzhyU0     | | | ||  __/| || |_) |\r\n",
      "r4XFj\u001b[01;31m\u001b[Kstart\u001b[m\u001b[Kez4gqwdMPsmjysywXiW5     |_| |_| \\___||_|| .__/ \r\n",
      "KQS1yymt0dfm \u001b[01;31m\u001b[Kstart\u001b[m\u001b[K 6IRkDDywzwg                     | |    \r\n",
      "Y5XQOdrDQ1uU 8uexqOkpQy \u001b[01;31m\u001b[Kstart\u001b[m\u001b[K                      |_|  \r\n",
      "cUhpfXSO \u001b[01;31m\u001b[Kstart\u001b[m\u001b[KWCjg6ImRVLQoLcwx    \r\n",
      "1PKSKJRIAYZ65HBu\u001b[01;31m\u001b[Kstart\u001b[m\u001b[K6yeNy4ti6    \r\n"
     ]
    }
   ],
   "source": [
    "grep start 2_searching_patterns.txt"
   ]
  },
  {
   "cell_type": "markdown",
   "metadata": {
    "slideshow": {
     "slide_type": "slide"
    }
   },
   "source": [
    "## Accessing grep documentation\n",
    "\n",
    "To access the documentation of a command, we can use the **man** command.\n",
    "\n",
    "Let's type the following:\n",
    "\n",
    "```\n",
    "$: man grep\n",
    "```\n",
    "\n",
    "This will allow to navigate the documentation for grep, in the same modality as with the **less** command. Use the arrows to scroll, and q to exit.\n",
    "\n",
    "For the next exercise, you will have to identify two options in the man page, and use them to do a case-insensitive search for \"ignorecase\", and count the number of lines."
   ]
  },
  {
   "cell_type": "code",
   "execution_count": 5,
   "metadata": {
    "collapsed": false,
    "run_control": {
     "frozen": false,
     "read_only": false
    },
    "slideshow": {
     "slide_type": "subslide"
    }
   },
   "outputs": [
    {
     "name": "stdout",
     "output_type": "stream",
     "text": [
      "3rC1S7O m\u001b[01;31m\u001b[Khelp\u001b[m\u001b[K uDa8dTWUinNSVSDX    \r\n",
      "aeda4XBrj7YzD \u001b[01;31m\u001b[Khelp\u001b[m\u001b[K xnpmxY3J1I0    The documentation for grep can \r\n",
      "kFRgBPrGHX9GLsjfWYQ \u001b[01;31m\u001b[Khelp\u001b[m\u001b[K A3QIf    be accessed through man:\r\n",
      "GJD8rk1Aa\u001b[01;31m\u001b[Khelp\u001b[m\u001b[K rFvCwxsfVGy8 YJy    \r\n",
      "DJoDl10eVzXkHLo7\u001b[01;31m\u001b[Khelp\u001b[m\u001b[KDTfeA3GYvX        $: man grep\r\n",
      "I \u001b[01;31m\u001b[Khelp\u001b[m\u001b[K FGSlQgjeD7MN6Z13g1x0vNs    \r\n",
      "3RT8c1IHNBSaYmEGoN\u001b[01;31m\u001b[Khelp\u001b[m\u001b[K PCfxdsz    Scroll down to see all the \r\n",
      "O Z DWnhzuyIoPw9BQKz\u001b[01;31m\u001b[Khelp\u001b[m\u001b[KaJKm6c    parameters for grep and their description.\r\n",
      "hRomqLnWx4geJlErVCz0X ZVv\u001b[01;31m\u001b[Khelp\u001b[m\u001b[K     \r\n",
      "aPP69R8T5oHzJa0C W \u001b[01;31m\u001b[Khelp\u001b[m\u001b[K WUMyv4    Use / to search for text.\r\n",
      "ot1fC vOE1 \u001b[01;31m\u001b[Khelp\u001b[m\u001b[K BbP6Fp1jjli63x    Press the q key to exit.\r\n",
      "haluPmj\u001b[01;31m\u001b[Khelp\u001b[m\u001b[K kO1Hqxi5OXE5g1Z6Vu    \r\n",
      "ZLpjYjWAZAj\u001b[01;31m\u001b[Khelp\u001b[m\u001b[K fAEFHYQ4rO7bFS    \r\n",
      "9qPAKjaYfUFosjNaEgIIjqcx\u001b[01;31m\u001b[Khelp\u001b[m\u001b[KUC    \r\n",
      "rXMAdAeVM1N6S1wIXM\u001b[01;31m\u001b[Khelp\u001b[m\u001b[K ri5Hzua    ==============\r\n",
      "Z1wBOjpWKjii3Vl9YNTX\u001b[01;31m\u001b[Khelp\u001b[m\u001b[K AZyGD    Next exercise\r\n",
      "BRdO1AiB9TGVw6bhTo\u001b[01;31m\u001b[Khelp\u001b[m\u001b[KLvzl7ncH    ==============\r\n",
      "PVW6VrjQ \u001b[01;31m\u001b[Khelp\u001b[m\u001b[K pkWdQ6V8MUlBb4mm    \r\n",
      "M48fL93YM\u001b[01;31m\u001b[Khelp\u001b[m\u001b[KYdAsUIvJ49XZeu6Em    For the next exercise, you will need to open \r\n",
      "Y5xGjZqOSOr0KgGv1dB\u001b[01;31m\u001b[Khelp\u001b[m\u001b[KqwLgkag    grep's documentation and identify two options:\r\n",
      "RUkLYcn67CO8vdJP \u001b[01;31m\u001b[Khelp\u001b[m\u001b[K dgdyAbkr    \r\n",
      "uk4qm4NtrDwxoifclE5zu\u001b[01;31m\u001b[Khelp\u001b[m\u001b[K QZBj    - the option for case-insensitive searches\r\n",
      "f9kFTlhQQAm\u001b[01;31m\u001b[Khelp\u001b[m\u001b[K qWaQWrvPWGz eL    - the option for counting \r\n",
      "cfGAsfmlGnBaDu4YdoRM\u001b[01;31m\u001b[Khelp\u001b[m\u001b[KSY0oUv      the number of matching lines, \r\n",
      "Ij3Fv\u001b[01;31m\u001b[Khelp\u001b[m\u001b[KhbMeRlx 7tydUBcaCznjF      instead of printing them to the screen.\r\n",
      "\u001b[01;31m\u001b[Khelp\u001b[m\u001b[KeoAiKHpCi9jT 4iNxf9UucLfG0    \r\n",
      "EJVr l\u001b[01;31m\u001b[Khelp\u001b[m\u001b[K jkJcVXqoiITMrAgC00c    Once you have identified these options, \r\n",
      "hXissBPNstqPwJrL\u001b[01;31m\u001b[Khelp\u001b[m\u001b[K eb7g0BOHl    do a case-insensitive search on this file for the word \r\n",
      "y3CwhA0YH3v \u001b[01;31m\u001b[Khelp\u001b[m\u001b[K 0huOOdCCSiWyb    \"ignorecase\", then count the number of lines.\r\n",
      "pQun5zSme6 \u001b[01;31m\u001b[Khelp\u001b[m\u001b[K 80vwKy oy4Ti X    \r\n",
      "AA6\u001b[01;31m\u001b[Khelp\u001b[m\u001b[KovE0Iw4f1CeWrTzC1nwpb4u        \r\n"
     ]
    }
   ],
   "source": [
    "grep help 2_searching_patterns.txt"
   ]
  },
  {
   "cell_type": "code",
   "execution_count": 6,
   "metadata": {
    "collapsed": false,
    "run_control": {
     "frozen": false,
     "read_only": false
    },
    "slideshow": {
     "slide_type": "subslide"
    }
   },
   "outputs": [
    {
     "name": "stdout",
     "output_type": "stream",
     "text": [
      "J0WG\u001b[01;31m\u001b[Kignorecase\u001b[m\u001b[Kqrq 9hak97vkCYL0    \r\n",
      "PWPsSOpcgCPM\u001b[01;31m\u001b[Kignorecase\u001b[m\u001b[KvzY7sDxG            \r\n",
      "GZVfLsGkT7vOAeofqO\u001b[01;31m\u001b[Kignorecase\u001b[m\u001b[KKo    Remember that, to continue with the exercise, \r\n",
      "Wc37PlL5LsjqvNrgo\u001b[01;31m\u001b[Kignorecase\u001b[m\u001b[K7jW    you need to do a case-insensitive search for the word\r\n",
      "y3CwhA0YH3v help 0huOOdCCSiWyb    \"\u001b[01;31m\u001b[Kignorecase\u001b[m\u001b[K\", then count the number of lines.\r\n",
      "Ei4dDJ\u001b[01;31m\u001b[Kignorecase\u001b[m\u001b[KL64bJfMudEsq5M    \r\n",
      "ZO3JWg\u001b[01;31m\u001b[Kignorecase\u001b[m\u001b[KAgQb0mUonH3Snj    | itive       |\r\n",
      "rhUDhIJsyq4mYhcPFQo\u001b[01;31m\u001b[Kignorecase\u001b[m\u001b[KN    \\ search      /\r\n"
     ]
    }
   ],
   "source": [
    "# If we do a search for \"ignorecase\" without any option, we only get some of the lines.\n",
    "# You can notice that the cow is not properly displayed :-)\n",
    "grep ignorecase 2_searching_patterns.txt"
   ]
  },
  {
   "cell_type": "code",
   "execution_count": 7,
   "metadata": {
    "collapsed": false,
    "run_control": {
     "frozen": false,
     "read_only": false
    },
    "slideshow": {
     "slide_type": "fragment"
    }
   },
   "outputs": [
    {
     "name": "stdout",
     "output_type": "stream",
     "text": [
      "J0WG\u001b[01;31m\u001b[Kignorecase\u001b[m\u001b[Kqrq 9hak97vkCYL0    \r\n",
      "PWPsSOpcgCPM\u001b[01;31m\u001b[Kignorecase\u001b[m\u001b[KvzY7sDxG            \r\n",
      "GZVfLsGkT7vOAeofqO\u001b[01;31m\u001b[Kignorecase\u001b[m\u001b[KKo    Remember that, to continue with the exercise, \r\n",
      "Wc37PlL5LsjqvNrgo\u001b[01;31m\u001b[Kignorecase\u001b[m\u001b[K7jW    you need to do a case-insensitive search for the word\r\n",
      "y3CwhA0YH3v help 0huOOdCCSiWyb    \"\u001b[01;31m\u001b[Kignorecase\u001b[m\u001b[K\", then count the number of lines.\r\n",
      "Ei4dDJ\u001b[01;31m\u001b[Kignorecase\u001b[m\u001b[KL64bJfMudEsq5M    \r\n",
      "yX6cvAZs\u001b[01;31m\u001b[KIGNORECASE\u001b[m\u001b[Khu3lxg5OTkk9     _____________\r\n",
      "YBgY HtVe6lUjUbhYG\u001b[01;31m\u001b[KIGNORECASE\u001b[m\u001b[KSd    / Good Job!   \\ \r\n",
      "fCkzDFRyUI\u001b[01;31m\u001b[KignOrecase\u001b[m\u001b[KNjeVrQaL V    | You did a   |\r\n",
      "DjP4Qa \u001b[01;31m\u001b[KignOrecase\u001b[m\u001b[K60rD76lrkJlOP    | case-insens |\r\n",
      "ZO3JWg\u001b[01;31m\u001b[Kignorecase\u001b[m\u001b[KAgQb0mUonH3Snj    | itive       |\r\n",
      "rhUDhIJsyq4mYhcPFQo\u001b[01;31m\u001b[Kignorecase\u001b[m\u001b[KN    \\ search      /\r\n",
      "eIb0cb\u001b[01;31m\u001b[KignOrecase\u001b[m\u001b[KrqT99cHXsbazNE     -------------\r\n",
      "dth3agTCwYH0ou\u001b[01;31m\u001b[KignOrecase\u001b[m\u001b[K86d908            \\   ^__^\r\n",
      "n \u001b[01;31m\u001b[KignOrecase\u001b[m\u001b[K8JdVs9NCgrFTRXELXJ             \\  (oo)\\_______\r\n",
      "Il7nHbc\u001b[01;31m\u001b[KIGNORECASE\u001b[m\u001b[KEgUF5IeSoZfT1                (__)\\       )\\/\\ \r\n",
      "E0\u001b[01;31m\u001b[KIGNORECASE\u001b[m\u001b[KQrSNWGlfJITjVutE0q                    ||----w |\r\n",
      "0CSMFb4OUMoaeSjS\u001b[01;31m\u001b[KIGNORECASE\u001b[m\u001b[KBCxr                    ||     ||\r\n",
      "H3FDmXPjSt0\u001b[01;31m\u001b[KIgnorEcase\u001b[m\u001b[KCB7Lfrtoh    \r\n",
      "zjZwttL5RQ\u001b[01;31m\u001b[KignOrecase\u001b[m\u001b[KePhoKUN6lz    \r\n",
      "LvX4RShx95em\u001b[01;31m\u001b[KIgnorEcase\u001b[m\u001b[KQkJNFiqY        \r\n"
     ]
    }
   ],
   "source": [
    "# The -i option allows to do a case-insensitive search.\n",
    "# As you can see, some lines contain upper case characters:\n",
    "grep -i ignorecase 2_searching_patterns.txt"
   ]
  },
  {
   "cell_type": "code",
   "execution_count": 8,
   "metadata": {
    "collapsed": false,
    "run_control": {
     "frozen": false,
     "read_only": false
    },
    "slideshow": {
     "slide_type": "fragment"
    }
   },
   "outputs": [
    {
     "name": "stdout",
     "output_type": "stream",
     "text": [
      "21\r\n"
     ]
    }
   ],
   "source": [
    "# To solve the exercise, we also have to count the number of output lines.\n",
    "# This can be done with the \"-c\" option:\n",
    "grep -i -c ignorecase 2_searching_patterns.txt"
   ]
  },
  {
   "cell_type": "code",
   "execution_count": 9,
   "metadata": {
    "collapsed": false,
    "run_control": {
     "frozen": false,
     "read_only": false
    },
    "slideshow": {
     "slide_type": "fragment"
    }
   },
   "outputs": [
    {
     "name": "stdout",
     "output_type": "stream",
     "text": [
      "XvQkpnuGE76p6e9OIDJDWZocYQq\u001b[01;31m\u001b[K21\u001b[m\u001b[Kz    \r\n",
      "ZzNpBzsof8oCSIXw013oC\u001b[01;31m\u001b[K21\u001b[m\u001b[KFgzjmoY    \r\n",
      "WBOYltyyUdP8\u001b[01;31m\u001b[K21\u001b[m\u001b[KrAGsMzaMqQhXWdlI     ____________________\r\n",
      "\u001b[01;31m\u001b[K21\u001b[m\u001b[KSEAWynnbhHdSgg7t4jb3bTehrDD8    / Congrats! Yes      \\ \r\n",
      "X8ETxBuWCJwnU5SF4eufjXGD0Ol\u001b[01;31m\u001b[K21\u001b[m\u001b[K3    | the answer to the  |\r\n",
      "snaAFxRROH\u001b[01;31m\u001b[K21\u001b[m\u001b[KyfMk4J9py5rHbOdkrp    | case-insensitive   |\r\n",
      "487lJUgZMGuA8xGYFPYMMKPVqp9\u001b[01;31m\u001b[K21\u001b[m\u001b[K8    | and count question |\r\n",
      "CJIWv\u001b[01;31m\u001b[K21\u001b[m\u001b[KyJkeMIAw6WgteBotAN1v8Sy    | is \u001b[01;31m\u001b[K21\u001b[m\u001b[K.             /\r\n",
      "LvPMXrbgI4QG95gZaFCLg\u001b[01;31m\u001b[K21\u001b[m\u001b[KJPMs9TK     --------------------\r\n",
      "NoLOe\u001b[01;31m\u001b[K21\u001b[m\u001b[KxUJXFNVcNnwA6MI3HyBrwng            \\   ^__^\r\n",
      "AxsMe0L0RI5Pt\u001b[01;31m\u001b[K21\u001b[m\u001b[KQGXsExNM3ZUQfwn             \\  (oo)\\_______\r\n",
      "nsg RCxVtQZMzn keLaTzhm kVn\u001b[01;31m\u001b[K21\u001b[m\u001b[KX                (__)\\       )\\/\\  \r\n",
      "qvTkY57v8rSIa5W\u001b[01;31m\u001b[K21\u001b[m\u001b[Ka 0NqNZ jWgCv                    ||----w |\r\n",
      "LjkILyX3X\u001b[01;31m\u001b[K21\u001b[m\u001b[KA98SQrMbRBsKig8AGg9                    ||     ||\r\n",
      "sZWBKGyJ8IurleKipjixQ\u001b[01;31m\u001b[K21\u001b[m\u001b[Kj5euj15    \r\n",
      "UlNkBb 9JIJ7gPFE8a7qcfwSx\u001b[01;31m\u001b[K21\u001b[m\u001b[KjlP    \r\n",
      "IwTSAEw8MLcsEofkQDRsi\u001b[01;31m\u001b[K21\u001b[m\u001b[KYIaA rM    =============\r\n",
      "Q\u001b[01;31m\u001b[K21\u001b[m\u001b[KAFnH5GzPHHCirwoIWJkZdfknt40    Next exercise\r\n",
      "VN6olNG8cw9rw5rcxJeaHckVuztB\u001b[01;31m\u001b[K21\u001b[m\u001b[K    =============\r\n",
      "nj8lvbvU8oDlZbnGUMsC7aw6zGw\u001b[01;31m\u001b[K21\u001b[m\u001b[KM    \r\n",
      "BdQhorRoOCggPSLI4bfMZ\u001b[01;31m\u001b[K21\u001b[m\u001b[K1DwDf4p    Searching in multiple files\r\n",
      "IKdlDTv6cpaLYISjZO\u001b[01;31m\u001b[K21\u001b[m\u001b[Km6oqckkl6i    \r\n",
      "N\u001b[01;31m\u001b[K21\u001b[m\u001b[KwFpJGlRg969qfL kbveWG0slXqe    Grep can search the same pattern\r\n",
      "7NgLAwqDPsMQQxM5TNFXpU30xJ\u001b[01;31m\u001b[K21\u001b[m\u001b[KO     in more than one file at the same time.\r\n",
      " JB9\u001b[01;31m\u001b[K21\u001b[m\u001b[KUtTm9Hdx9OWgIyyDf9NVFA0Y    \r\n",
      "aEhY\u001b[01;31m\u001b[K21\u001b[m\u001b[K0ci75TGjYdmXtylKyDEy7Kfl    The folder data/multiplefiles/ contains hundreds of different files.\r\n",
      "9sW5VuKAnkBUS5tE7PL50Grq\u001b[01;31m\u001b[K21\u001b[m\u001b[KwL4B    \r\n",
      "7oHcn60lBwS QPfile3\u001b[01;31m\u001b[K21\u001b[m\u001b[KmtDvIWy5u    Next Exercise\r\n",
      "qE\u001b[01;31m\u001b[K21\u001b[m\u001b[KlJ1GcXfMkE9Ze8NIYsmV7BWBfL    Can you identify the file containing the word \"regex\"?\r\n",
      "mwvlebf\u001b[01;31m\u001b[K21\u001b[m\u001b[K6dNweaaVwOv6tpp5GXl4t    \r\n",
      "g35\u001b[01;31m\u001b[K21\u001b[m\u001b[KRg3t3wHZxke5exFZaiByZJvvi        \r\n"
     ]
    }
   ],
   "source": [
    "# solution: how to find the instructions for the next exercise\n",
    "grep 21 2_searching_patterns.txt"
   ]
  },
  {
   "cell_type": "markdown",
   "metadata": {
    "slideshow": {
     "slide_type": "slide"
    }
   },
   "source": [
    "## Searching multiple files\n",
    "\n",
    "Grep is useful to search over multiple files in a single command.\n",
    "\n",
    "The folder data/multiplefiles/ contains 50 randomly generated files. You can see their contents with head data/multiplefiles/\\* or with less.\n",
    "\n",
    "One of these files contains the word \"regex\" in it. Are you able to find it?"
   ]
  },
  {
   "cell_type": "code",
   "execution_count": 11,
   "metadata": {
    "collapsed": false,
    "run_control": {
     "frozen": false,
     "read_only": false
    },
    "slideshow": {
     "slide_type": "subslide"
    }
   },
   "outputs": [
    {
     "name": "stdout",
     "output_type": "stream",
     "text": [
      "\u001b[35m\u001b[Kmultiplefiles/file32.txt\u001b[m\u001b[K\u001b[36m\u001b[K:\u001b[m\u001b[K5gsumFTKbKEJv9dD8W94FhoEQU8qf8RMUc\u001b[01;31m\u001b[Kregex\u001b[m\u001b[KR    \r\n",
      "\u001b[35m\u001b[Kmultiplefiles/file32.txt\u001b[m\u001b[K\u001b[36m\u001b[K:\u001b[m\u001b[KYgDiqkA C1o\u001b[01;31m\u001b[Kregex\u001b[m\u001b[K9giqI66c3sOwfLirOsgPpSuq    \r\n",
      "\u001b[35m\u001b[Kmultiplefiles/file32.txt\u001b[m\u001b[K\u001b[36m\u001b[K:\u001b[m\u001b[KIsXSnp 8U8pKR0LsVuK\u001b[01;31m\u001b[Kregex\u001b[m\u001b[KO5GFegOtV4GW4fNQ    Good! You've found the \r\n",
      "\u001b[35m\u001b[Kmultiplefiles/file32.txt\u001b[m\u001b[K\u001b[36m\u001b[K:\u001b[m\u001b[Kl 4px8KhPRmfEJgi5uTuVO1XahG3H1sY\u001b[01;31m\u001b[Kregex\u001b[m\u001b[K4wt    file containing the word \"\u001b[01;31m\u001b[Kregex\u001b[m\u001b[K\"\r\n",
      "\u001b[35m\u001b[Kmultiplefiles/file32.txt\u001b[m\u001b[K\u001b[36m\u001b[K:\u001b[m\u001b[Kyz8P5 HC6N5D XRHPncZjTAeM\u001b[01;31m\u001b[Kregex\u001b[m\u001b[KT9bQUoZdsh    \r\n",
      "\u001b[35m\u001b[Kmultiplefiles/file32.txt\u001b[m\u001b[K\u001b[36m\u001b[K:\u001b[m\u001b[KeWUd18s0MVx5YYrEK KCKeF5hvO\u001b[01;31m\u001b[Kregex\u001b[m\u001b[KIiZbIGUX    To continue, \r\n",
      "\u001b[35m\u001b[Kmultiplefiles/file32.txt\u001b[m\u001b[K\u001b[36m\u001b[K:\u001b[m\u001b[KMLXiKZJ8KyHMou9lYsz4ZjFYJSfB 14t\u001b[01;31m\u001b[Kregex\u001b[m\u001b[KtpJ    grep file32.txt exercises/2_searching_patterns.txt\r\n",
      "\u001b[35m\u001b[Kmultiplefiles/file32.txt\u001b[m\u001b[K\u001b[36m\u001b[K:\u001b[m\u001b[KveFQU\u001b[01;31m\u001b[Kregex\u001b[m\u001b[KfnQxwQw6POJRNvvAeYwToX6ptvN39m    \r\n",
      "\u001b[35m\u001b[Kmultiplefiles/file32.txt\u001b[m\u001b[K\u001b[36m\u001b[K:\u001b[m\u001b[KcHoNv\u001b[01;31m\u001b[Kregex\u001b[m\u001b[KiGjHkmptPVTjOzvWVGbrGoHoywV4Vy    \r\n"
     ]
    }
   ],
   "source": [
    "# solution: you can use the \"*\" character to specify multiple files:\n",
    "grep 'regex' multiplefiles/*"
   ]
  },
  {
   "cell_type": "markdown",
   "metadata": {
    "slideshow": {
     "slide_type": "slide"
    }
   },
   "source": [
    "## Searching multiple patterns and the Unix piping system\n",
    "\n",
    "How can we search that contain two or more patterns?\n",
    "\n",
    "One solution is to use the Unix piping system, executing one grep command, and then another grep on the output.\n",
    "\n",
    "This can be done using the pipe \"|\" symbol, like the following:\n",
    "\n",
    "```\n",
    "$: grep (first pattern) myfile.txt | grep (second pattern)\n",
    "```\n",
    "\n",
    "Press space or the down key for some examples."
   ]
  },
  {
   "cell_type": "markdown",
   "metadata": {
    "slideshow": {
     "slide_type": "subslide"
    }
   },
   "source": [
    "The file data/genes/mgat_genes.gb is a genbank file. Notice how this format is well suited for grep searches:"
   ]
  },
  {
   "cell_type": "code",
   "execution_count": 12,
   "metadata": {
    "collapsed": false,
    "run_control": {
     "frozen": false,
     "read_only": false
    }
   },
   "outputs": [
    {
     "name": "stdout",
     "output_type": "stream",
     "text": [
      "LOCUS       HUMUDPCNA               4705 bp    DNA     linear   PRI 19-SEP-1995\r\n",
      "DEFINITION  Human alpha-1,3-mannosyl-glycoprotein beta-1,\r\n",
      "            2-N-acetylglucosaminyltransferase (MGAT) gene, complete cds.\r\n",
      "ACCESSION   M61829\r\n",
      "VERSION     M61829.1  GI:340075\r\n",
      "KEYWORDS    alpha-1,3-mannosyl-glycoprotein beta-1,2-N-acetylglucosaminyltrae.\r\n",
      "SOURCE      Homo sapiens (human)\r\n",
      "  ORGANISM  Homo sapiens\r\n",
      "            Eukaryota; Metazoa; Chordata; Craniata; Vertebrata; Euteleostomi;\r\n",
      "            Mammalia; Eutheria; Euarchontoglires; Primates; Haplorrhini;\r\n"
     ]
    }
   ],
   "source": [
    "head genes/mgat_genes.gb"
   ]
  },
  {
   "cell_type": "markdown",
   "metadata": {
    "slideshow": {
     "slide_type": "fragment"
    }
   },
   "source": [
    "Let's say we want to search all the lines where \"ORGANISM\" is \"Homo sapiens\". \n",
    "\n",
    "We can do it with two grep commands:\n",
    "\n",
    "```\n",
    "grep ORGANISM genes/mgat_genes.gb | grep 'Homo sapiens'\n",
    "```\n",
    "Notice that searching for \"Homo sapiens\" alone would not be enough, as there are other lines where the word \"Homo sapiens\" is present."
   ]
  },
  {
   "cell_type": "code",
   "execution_count": 13,
   "metadata": {
    "collapsed": false,
    "run_control": {
     "frozen": false,
     "read_only": false
    }
   },
   "outputs": [
    {
     "name": "stdout",
     "output_type": "stream",
     "text": [
      "  ORGANISM  \u001b[01;31m\u001b[KHomo sapiens\u001b[m\u001b[K\r\n",
      "  ORGANISM  \u001b[01;31m\u001b[KHomo sapiens\u001b[m\u001b[K\r\n",
      "  ORGANISM  \u001b[01;31m\u001b[KHomo sapiens\u001b[m\u001b[K\r\n",
      "  ORGANISM  \u001b[01;31m\u001b[KHomo sapiens\u001b[m\u001b[K\r\n",
      "  ORGANISM  \u001b[01;31m\u001b[KHomo sapiens\u001b[m\u001b[K\r\n",
      "  ORGANISM  \u001b[01;31m\u001b[KHomo sapiens\u001b[m\u001b[K\r\n",
      "  ORGANISM  \u001b[01;31m\u001b[KHomo sapiens\u001b[m\u001b[K\r\n",
      "  ORGANISM  \u001b[01;31m\u001b[KHomo sapiens\u001b[m\u001b[K\r\n"
     ]
    }
   ],
   "source": [
    "grep ORGANISM genes/mgat_genes.gb | grep 'Homo sapiens'"
   ]
  },
  {
   "cell_type": "markdown",
   "metadata": {
    "slideshow": {
     "slide_type": "subslide"
    }
   },
   "source": [
    "The file contains sequences from two other organisms apart from Homo sapiens. Can you guess which one to search for the next exercise?"
   ]
  },
  {
   "cell_type": "code",
   "execution_count": 19,
   "metadata": {
    "collapsed": false,
    "run_control": {
     "frozen": false,
     "read_only": false
    },
    "slideshow": {
     "slide_type": "fragment"
    }
   },
   "outputs": [
    {
     "name": "stdout",
     "output_type": "stream",
     "text": [
      "  ORGANISM  Bos \u001b[01;31m\u001b[Ktaurus\u001b[m\u001b[K\r\n",
      "  ORGANISM  Bos \u001b[01;31m\u001b[Ktaurus\u001b[m\u001b[K\r\n",
      "  ORGANISM  Bos \u001b[01;31m\u001b[Ktaurus\u001b[m\u001b[K\r\n",
      "  ORGANISM  Bos \u001b[01;31m\u001b[Ktaurus\u001b[m\u001b[K\t\t\t   _______________\r\n",
      "  ORGANISM  Bos \u001b[01;31m\u001b[Ktaurus\u001b[m\u001b[K\t\t          < Good Guess! >\r\n",
      "  ORGANISM  Bos \u001b[01;31m\u001b[Ktaurus\u001b[m\u001b[K\t\t\t   ---------------\r\n",
      "  ORGANISM  Bos \u001b[01;31m\u001b[Ktaurus\u001b[m\u001b[K\t\t\t\t\t\\   ^__^\r\n",
      "  ORGANISM  Bos \u001b[01;31m\u001b[Ktaurus\u001b[m\u001b[K\t\t\t\t\t \\  (oo)\\_______\r\n",
      "  ORGANISM  Bos \u001b[01;31m\u001b[Ktaurus\u001b[m\u001b[K\t\t\t  \t\t    (__)\\       )\\/\\\r\n",
      "  ORGANISM  Bos \u001b[01;31m\u001b[Ktaurus\u001b[m\u001b[K\t\t\t\t\t\t||----w |\r\n",
      "  ORGANISM  Bos \u001b[01;31m\u001b[Ktaurus\u001b[m\u001b[K\t\t\t\t\t\t||     ||\r\n",
      "  ORGANISM  Bos \u001b[01;31m\u001b[Ktaurus\u001b[m\u001b[K\r\n",
      "  ORGANISM  Bos \u001b[01;31m\u001b[Ktaurus\u001b[m\u001b[K\r\n",
      "  ORGANISM  Bos \u001b[01;31m\u001b[Ktaurus\u001b[m\u001b[K\r\n",
      "  ORGANISM  Bos \u001b[01;31m\u001b[Ktaurus\u001b[m\u001b[K\r\n",
      "  ORGANISM  Bos \u001b[01;31m\u001b[Ktaurus\u001b[m\u001b[K\r\n",
      "  ORGANISM  Bos \u001b[01;31m\u001b[Ktaurus\u001b[m\u001b[K\t\t\t\t===============\r\n",
      "  ORGANISM  Bos \u001b[01;31m\u001b[Ktaurus\u001b[m\u001b[K\t\t\t\tNext Exercise\r\n",
      "  ORGANISM  Bos \u001b[01;31m\u001b[Ktaurus\u001b[m\u001b[K\t\t\t\t===============\r\n",
      "  ORGANISM  Bos \u001b[01;31m\u001b[Ktaurus\u001b[m\u001b[K\r\n",
      "  ORGANISM  Bos \u001b[01;31m\u001b[Ktaurus\u001b[m\u001b[K\t\t\t\tTo continue, grep\r\n",
      "  ORGANISM  Bos \u001b[01;31m\u001b[Ktaurus\u001b[m\u001b[K\t\t\t\t\"regex\" in\r\n",
      "  ORGANISM  Bos \u001b[01;31m\u001b[Ktaurus\u001b[m\u001b[K\t\t\t\tdata/exercise1_grep.txt\r\n",
      "  ORGANISM  Bos \u001b[01;31m\u001b[Ktaurus\u001b[m\u001b[K\r\n"
     ]
    }
   ],
   "source": [
    "# Solution: grep for \"bos taurus\":\n",
    "grep ORGANISM genes/mgat_genes.gb | grep taurus"
   ]
  },
  {
   "cell_type": "markdown",
   "metadata": {
    "slideshow": {
     "slide_type": "slide"
    }
   },
   "source": [
    "## Regular Expressions\n",
    "\n",
    "Regular expressions allow to search for more complex patterns. \n",
    "\n",
    "Here are some simple regular expression examples:\n",
    "\n",
    "| regex    | description |\n",
    "| -------- | ----------- |\n",
    "| .        | matches any character |\n",
    "| [A-Za-z] | matches any of the characters within parenthesis|\n",
    "| .\\*      | matches any character, any number of times| "
   ]
  },
  {
   "cell_type": "markdown",
   "metadata": {
    "slideshow": {
     "slide_type": "subslide"
    }
   },
   "source": [
    "## Regular Expression exercise\n",
    "\n",
    "Let's have a look at the file data/genes/sequences.fasta:"
   ]
  },
  {
   "cell_type": "code",
   "execution_count": 15,
   "metadata": {
    "collapsed": false,
    "run_control": {
     "frozen": false,
     "read_only": false
    }
   },
   "outputs": [
    {
     "name": "stdout",
     "output_type": "stream",
     "text": [
      ">seq000 sequence description\r\n",
      "CGNTTTNTAATTATATANNTAGCGTGATCC\r\n",
      ">seq001 sequence description\r\n",
      "NNCGNANAGCTNGACCTAGTTGAAATTGTG\r\n",
      ">seq002 sequence description\r\n",
      "CGGTATGCAGCCCNNGCGTNGCNTNAATNA\r\n",
      ">seq003 sequence description\r\n",
      "CGCNTCNTNCTTCACCACGCCAGCTTTANC\r\n",
      ">seq004 sequence description\r\n",
      "CGTNGCGNNCGNGAGCCATTANTAGNNCCT\r\n"
     ]
    }
   ],
   "source": [
    "head genes/sequences.fasta "
   ]
  },
  {
   "cell_type": "markdown",
   "metadata": {},
   "source": [
    "Can you use grep to identify all the sequences containing three As, followed by any two characters, followed by three Ts?"
   ]
  },
  {
   "cell_type": "code",
   "execution_count": 16,
   "metadata": {
    "collapsed": false,
    "run_control": {
     "frozen": false,
     "read_only": false
    },
    "slideshow": {
     "slide_type": "subslide"
    }
   },
   "outputs": [
    {
     "name": "stdout",
     "output_type": "stream",
     "text": [
      "TCGACCTGCNNANGGCTNTGT\u001b[01;31m\u001b[KAAAccTTT\u001b[m\u001b[KG\r\n",
      "TNCGTCCGGCCAAA\u001b[01;31m\u001b[KAAAgtTTT\u001b[m\u001b[KNGNGCTTG\r\n",
      "NAAGTTTAAG\u001b[01;31m\u001b[KAAAaaTTT\u001b[m\u001b[KCATGAGCNCGAG\r\n",
      "NCTGCGCNGCGAGCCACAACN\u001b[01;31m\u001b[KAAAgtTTT\u001b[m\u001b[KG\r\n",
      "TAGNGTACTCCTTNTN\u001b[01;31m\u001b[KAAAaaTTT\u001b[m\u001b[KTTCTCG\r\n",
      "ACTNGACGCTTCNCTN\u001b[01;31m\u001b[KAAAccTTT\u001b[m\u001b[KGCNTNT\r\n",
      "GGGN\u001b[01;31m\u001b[KAAAaaTTT\u001b[m\u001b[KCGGCTGNNTGCNCNNTNN\r\n",
      "TNGAACCCNGTNCGGTC\u001b[01;31m\u001b[KAAAccTTT\u001b[m\u001b[KTCNTA\r\n",
      "NGGTACAAAGCNCCCANNNTT\u001b[01;31m\u001b[KAAAgtTTT\u001b[m\u001b[KC\r\n",
      "\u001b[01;31m\u001b[KAAAccTTT\u001b[m\u001b[KNCNGCCNTNCTCANNCGTGNTT\r\n",
      "NTTCACTC\u001b[01;31m\u001b[KAAActTTT\u001b[m\u001b[KNGNGNATTNGGAAT\r\n",
      "GGATG\u001b[01;31m\u001b[KAAAaaTTT\u001b[m\u001b[KNCCAGCCAANNCTTGNA\r\n"
     ]
    }
   ],
   "source": [
    "grep 'AAA..TTT' genes/sequences.fasta"
   ]
  },
  {
   "cell_type": "markdown",
   "metadata": {},
   "source": [
    "Bonus: if we use the -B 1 grep option, we can retrieve the names of these sequences:"
   ]
  },
  {
   "cell_type": "code",
   "execution_count": 17,
   "metadata": {
    "collapsed": false,
    "run_control": {
     "frozen": false,
     "read_only": false
    }
   },
   "outputs": [
    {
     "name": "stdout",
     "output_type": "stream",
     "text": [
      ">seq009 sequence description   \r\n",
      "TCGACCTGCNNANGGCTNTGT\u001b[01;31m\u001b[KAAAccTTT\u001b[m\u001b[KG\r\n",
      "\u001b[36m\u001b[K--\u001b[m\u001b[K\r\n",
      ">seq012 sequence description    ________________\r\n",
      "TNCGTCCGGCCAAA\u001b[01;31m\u001b[KAAAgtTTT\u001b[m\u001b[KNGNGCTTG\r\n",
      "\u001b[36m\u001b[K--\u001b[m\u001b[K\r\n",
      ">seq024 sequence description   / Congrats! This \\ \r\n",
      "NAAGTTTAAG\u001b[01;31m\u001b[KAAAaaTTT\u001b[m\u001b[KCATGAGCNCGAG\r\n",
      ">seq025 sequence description   | was the last  |\r\n",
      "NCTGCGCNGCGAGCCACAACN\u001b[01;31m\u001b[KAAAgtTTT\u001b[m\u001b[KG\r\n",
      ">seq026 sequence description   \\ grep exercise / \r\n",
      "TAGNGTACTCCTTNTN\u001b[01;31m\u001b[KAAAaaTTT\u001b[m\u001b[KTTCTCG\r\n",
      "\u001b[36m\u001b[K--\u001b[m\u001b[K\r\n",
      ">seq030 sequence description    ----------------\r\n",
      "ACTNGACGCTTCNCTN\u001b[01;31m\u001b[KAAAccTTT\u001b[m\u001b[KGCNTNT\r\n",
      "\u001b[36m\u001b[K--\u001b[m\u001b[K\r\n",
      ">seq032 sequence description       \\  ^__^\r\n",
      "GGGN\u001b[01;31m\u001b[KAAAaaTTT\u001b[m\u001b[KCGGCTGNNTGCNCNNTNN\r\n",
      ">seq033 sequence description        \\ (oo)\\_______\r\n",
      "TNGAACCCNGTNCGGTC\u001b[01;31m\u001b[KAAAccTTT\u001b[m\u001b[KTCNTA\r\n",
      "\u001b[36m\u001b[K--\u001b[m\u001b[K\r\n",
      ">seq038 sequence description          (__)\\    )\\/\\ \r\n",
      "NGGTACAAAGCNCCCANNNTT\u001b[01;31m\u001b[KAAAgtTTT\u001b[m\u001b[KC\r\n",
      "\u001b[36m\u001b[K--\u001b[m\u001b[K\r\n",
      ">seq043 sequence description           ||----w |\r\n",
      "\u001b[01;31m\u001b[KAAAccTTT\u001b[m\u001b[KNCNGCCNTNCTCANNCGTGNTT\r\n",
      "\u001b[36m\u001b[K--\u001b[m\u001b[K\r\n",
      ">seq046 sequence description           ||    ||\r\n",
      "NTTCACTC\u001b[01;31m\u001b[KAAActTTT\u001b[m\u001b[KNGNGNATTNGGAAT\r\n",
      "\u001b[36m\u001b[K--\u001b[m\u001b[K\r\n",
      ">seq049 sequence description   \r\n",
      "GGATG\u001b[01;31m\u001b[KAAAaaTTT\u001b[m\u001b[KNCCAGCCAANNCTTGNA\r\n"
     ]
    }
   ],
   "source": [
    "grep -B1 'AAA..TTT' genes/sequences.fasta "
   ]
  },
  {
   "cell_type": "code",
   "execution_count": 18,
   "metadata": {
    "collapsed": false,
    "run_control": {
     "frozen": false,
     "read_only": false
    },
    "slideshow": {
     "slide_type": "fragment"
    }
   },
   "outputs": [
    {
     "name": "stdout",
     "output_type": "stream",
     "text": [
      "\u001b[01;31m\u001b[K>\u001b[m\u001b[Kseq009 sequence description   \r\n",
      "\u001b[01;31m\u001b[K>\u001b[m\u001b[Kseq012 sequence description    ________________\r\n",
      "\u001b[01;31m\u001b[K>\u001b[m\u001b[Kseq024 sequence description   / Congrats! This \\ \r\n",
      "\u001b[01;31m\u001b[K>\u001b[m\u001b[Kseq025 sequence description   | was the last  |\r\n",
      "\u001b[01;31m\u001b[K>\u001b[m\u001b[Kseq026 sequence description   \\ grep exercise / \r\n",
      "\u001b[01;31m\u001b[K>\u001b[m\u001b[Kseq030 sequence description    ----------------\r\n",
      "\u001b[01;31m\u001b[K>\u001b[m\u001b[Kseq032 sequence description       \\  ^__^\r\n",
      "\u001b[01;31m\u001b[K>\u001b[m\u001b[Kseq033 sequence description        \\ (oo)\\_______\r\n",
      "\u001b[01;31m\u001b[K>\u001b[m\u001b[Kseq038 sequence description          (__)\\    )\\/\\ \r\n",
      "\u001b[01;31m\u001b[K>\u001b[m\u001b[Kseq043 sequence description           ||----w |\r\n",
      "\u001b[01;31m\u001b[K>\u001b[m\u001b[Kseq046 sequence description           ||    ||\r\n",
      "\u001b[01;31m\u001b[K>\u001b[m\u001b[Kseq049 sequence description   \r\n"
     ]
    }
   ],
   "source": [
    "# Bonus: pipe an additional grep '>' to see a cow:\n",
    "grep -B1 'AAA..TTT' genes/sequences.fasta  | grep '>'"
   ]
  },
  {
   "cell_type": "markdown",
   "metadata": {
    "slideshow": {
     "slide_type": "slide"
    }
   },
   "source": [
    "# Time for a break!"
   ]
  },
  {
   "cell_type": "code",
   "execution_count": null,
   "metadata": {
    "collapsed": true
   },
   "outputs": [],
   "source": []
  }
 ],
 "metadata": {
  "celltoolbar": "Slideshow",
  "hide_input": false,
  "kernelspec": {
   "display_name": "Bash",
   "language": "bash",
   "name": "bash"
  },
  "language_info": {
   "codemirror_mode": "shell",
   "file_extension": ".sh",
   "mimetype": "text/x-sh",
   "name": "bash"
  },
  "nav_menu": {},
  "toc": {
   "navigate_menu": true,
   "number_sections": true,
   "sideBar": true,
   "threshold": 6,
   "toc_cell": true,
   "toc_section_display": "block",
   "toc_window_display": false
  }
 },
 "nbformat": 4,
 "nbformat_minor": 1
}
