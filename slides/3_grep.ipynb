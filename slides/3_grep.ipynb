{
 "cells": [
  {
   "cell_type": "markdown",
   "metadata": {
    "toc": "true"
   },
   "source": [
    "<h1>Table of Contents<span class=\"tocSkip\"></span></h1>\n",
    "<div class=\"toc\"><ul class=\"toc-item\"><li><span><a href=\"#Introduction-to-Unix,-Part-3---grep-and-regular-expressions\" data-toc-modified-id=\"Introduction-to-Unix,-Part-3---grep-and-regular-expressions-1\"><span class=\"toc-item-num\">1&nbsp;&nbsp;</span>Introduction to Unix, Part 3 - grep and regular expressions</a></span></li><li><span><a href=\"#Searching-patterns-into-file:-grep\" data-toc-modified-id=\"Searching-patterns-into-file:-grep-2\"><span class=\"toc-item-num\">2&nbsp;&nbsp;</span>Searching patterns into file: grep</a></span><ul class=\"toc-item\"><li><span><a href=\"#Accessing-grep-documentation\" data-toc-modified-id=\"Accessing-grep-documentation-2.1\"><span class=\"toc-item-num\">2.1&nbsp;&nbsp;</span>Accessing grep documentation</a></span></li><li><span><a href=\"#Searching-multiple-files\" data-toc-modified-id=\"Searching-multiple-files-2.2\"><span class=\"toc-item-num\">2.2&nbsp;&nbsp;</span>Searching multiple files</a></span></li><li><span><a href=\"#Searching-multiple-patterns-and-the-Unix-piping-system\" data-toc-modified-id=\"Searching-multiple-patterns-and-the-Unix-piping-system-2.3\"><span class=\"toc-item-num\">2.3&nbsp;&nbsp;</span>Searching multiple patterns and the Unix piping system</a></span></li></ul></li><li><span><a href=\"#The-Unix-Philosophy-and-Approach-to-programming\" data-toc-modified-id=\"The-Unix-Philosophy-and-Approach-to-programming-3\"><span class=\"toc-item-num\">3&nbsp;&nbsp;</span>The Unix Philosophy and Approach to programming</a></span></li><li><span><a href=\"#Applying-the-Unix-Philosophy-to-your-programming\" data-toc-modified-id=\"Applying-the-Unix-Philosophy-to-your-programming-4\"><span class=\"toc-item-num\">4&nbsp;&nbsp;</span>Applying the Unix Philosophy to your programming</a></span><ul class=\"toc-item\"><li><span><a href=\"#Example-of-Unix-Approach\" data-toc-modified-id=\"Example-of-Unix-Approach-4.1\"><span class=\"toc-item-num\">4.1&nbsp;&nbsp;</span>Example of Unix Approach</a></span></li></ul></li><li><span><a href=\"#Regular-Expressions\" data-toc-modified-id=\"Regular-Expressions-5\"><span class=\"toc-item-num\">5&nbsp;&nbsp;</span>Regular Expressions</a></span><ul class=\"toc-item\"><li><span><a href=\"#Regular-Expression-exercise\" data-toc-modified-id=\"Regular-Expression-exercise-5.1\"><span class=\"toc-item-num\">5.1&nbsp;&nbsp;</span>Regular Expression exercise</a></span></li></ul></li><li><span><a href=\"#Time-for-a-break!\" data-toc-modified-id=\"Time-for-a-break!-6\"><span class=\"toc-item-num\">6&nbsp;&nbsp;</span>Time for a break!</a></span></li></ul></div>"
   ]
  },
  {
   "cell_type": "markdown",
   "metadata": {
    "slideshow": {
     "slide_type": "slide"
    }
   },
   "source": [
    "# Introduction to Unix, Part 3 - grep and regular expressions\n",
    "\n",
    "**<font color='darkgreen'> Welcome to the Programming for Evolutionary Biology workshop!! </font>** \n",
    "\n",
    "Giovanni M. Dall'Olio. Data Strategy and Design, GSK. March 2020. \n",
    "\n",
    "Quick link to slides online: https://tinyurl.com/evop-unix\n",
    "\n",
    "\n",
    "\n",
    "All materials available here: https://github.com/dalloliogm/peb_unix_intro/archive/master.zip\n",
    "\n",
    "\n",
    "In this third part we will see the **grep** command to search the contents of files, and some basic regular expressions.\n",
    "\n",
    "Press space or down key to continue."
   ]
  },
  {
   "cell_type": "markdown",
   "metadata": {
    "slideshow": {
     "slide_type": "slide"
    }
   },
   "source": [
    "# Summary of the course today\n",
    "\n",
    "- **Morning first half**: Basic Terminal commands, First Login to Linux\n",
    "- **Morning second half**: Login to a Remote Unix server, browsing file contents\n",
    "- **Afternoon first half**: Finding patterns in a file with grep\n",
    "- **Afternoon second half**: awk and sed; makefiles"
   ]
  },
  {
   "cell_type": "code",
   "execution_count": 33,
   "metadata": {
    "run_control": {
     "frozen": false,
     "read_only": false
    },
    "slideshow": {
     "slide_type": "skip"
    }
   },
   "outputs": [],
   "source": [
    "# Configuration - please ignore - this should not appear in the slideshow\n",
    "alias grep='grep --color'\n",
    "cd\n",
    "cd workspace/peb_unix_intro/exercises/\n",
    "# Please do not run this - it is only to format the slides\n",
    "# if you did, type \"unalias less\"\n",
    "alias less=\"head\"  "
   ]
  },
  {
   "cell_type": "markdown",
   "metadata": {
    "slideshow": {
     "slide_type": "slide"
    }
   },
   "source": [
    "# Searching patterns into file: grep\n",
    "\n",
    "The exercises folder contains a file called \"<font color='blue'> **2_searching_patterns.txt** </font>\". \n",
    "\n",
    "Let's have a look at the contents of the file, using less or head. \n",
    "\n",
    "What is going on? The contents of this file are gibberish."
   ]
  },
  {
   "cell_type": "code",
   "execution_count": 2,
   "metadata": {
    "run_control": {
     "frozen": false,
     "read_only": false
    },
    "slideshow": {
     "slide_type": "-"
    }
   },
   "outputs": [
    {
     "name": "stdout",
     "output_type": "stream",
     "text": [
      "P8mW50b1cJWpWZgKFJFwM0s7qC4Zyy    lfNoCAcqioPMpafokl1qbLeviYz8PHay3RG\n",
      "DtfEl1liowE hxskxdy95cmWsVPlFT    PvZ0A0olHEKKofWXaLFRjRMKGwceCEHg144\n",
      "k8g99AzeTeKmOtxbg8Zqd9sPReQ4IV    OgJdwlpzORBuRr9VyMy0Dsqu9 ab743qVIZ\n",
      "cDfibnWrkZtLbJtUgQ6VBtu47Efutj    OPsz9joHgjVsMxXT4wKkrDKJ0K8R09UsegE\n",
      "dLWKo0BZITViH835P88sVxcfDUBkEH    BD8J80icxMHHXxfIgWuHkv5Gw1JajrE8blt\n",
      "tD x0OwbI3BceM6OsnB5z30N7PhzjJ    3Jp8vADVNptAfc3T5DBGUUg1V7BJi4A3NPF\n",
      "AgUGZnR1NvC5kBKQF4fXakZKUJSn1e    EBil5kDuu3DfN6Aiod0Ye3JVKlNyTQY3XE7\n",
      "T89m9 4lo5lrih3sleSItTGRrOqGvH    lZ0G0New O3foaoTzDktlusrewqo6BauYxX\n",
      "FtyTsL9gi7I93hkO8aEODXSngRUNkp    fzXUYW08 jdrc3pvBrRNi4gSSm4iNdwrJMU\n",
      "9hphNi41uXoyi4gXcgC6GhQGDTAbIR    qNGuxDKJ0n9EExyxgFuRxNUW5bDXLxUxCkc\n"
     ]
    }
   ],
   "source": [
    "head 2_searching_patterns.txt"
   ]
  },
  {
   "cell_type": "markdown",
   "metadata": {
    "slideshow": {
     "slide_type": "-"
    }
   },
   "source": [
    "It would seems like the file random characters. In fact, this file contains some hidden messages, which can only be recovered using Unix commands!\n",
    "\n",
    "Press space or the down key to see how to continue."
   ]
  },
  {
   "cell_type": "markdown",
   "metadata": {
    "slideshow": {
     "slide_type": "subslide"
    }
   },
   "source": [
    "The first instruction for the first exercise is in the lines containing the word \"start\" somewhere.\n",
    "\n",
    "To find them, type:\n",
    "\n",
    "```\n",
    "$: grep start 2_searching_patterns.txt\n",
    "```"
   ]
  },
  {
   "cell_type": "code",
   "execution_count": 3,
   "metadata": {
    "run_control": {
     "frozen": false,
     "read_only": false
    },
    "slideshow": {
     "slide_type": "fragment"
    }
   },
   "outputs": [
    {
     "name": "stdout",
     "output_type": "stream",
     "text": [
      "7fJCrbDr7DLtfJWveW\u001b[01;31m\u001b[Kstart\u001b[m\u001b[KhL74o1h    \n",
      "qhgW \u001b[01;31m\u001b[Kstart\u001b[m\u001b[K hTRnNmxXg6 kGBzkblr     ______________________________\n",
      "8cd \u001b[01;31m\u001b[Kstart\u001b[m\u001b[K ZTcMbuwb6uLSp5ne1xlN    / Congrats!                    \\  \n",
      "eeGNJy0Bpis07pPWFPVz4o \u001b[01;31m\u001b[Kstart\u001b[m\u001b[K c    |  You've used grep correctly, |\n",
      "BOqAUjUyE\u001b[01;31m\u001b[Kstart\u001b[m\u001b[KNxNmNMFffaCZBxz8    \\  and found a cow.            /\n",
      "AmHTrLmexhknVNTOY4a \u001b[01;31m\u001b[Kstart\u001b[m\u001b[K 5twO     ------------------------------\n",
      "SJVFTaWdslT0 \u001b[01;31m\u001b[Kstart\u001b[m\u001b[K NKyluwBCkW7            \\   ^__^\n",
      "hUUkV \u001b[01;31m\u001b[Kstart\u001b[m\u001b[KLnJEPKVhgpcZBE03IyA             \\  (oo)\\_______\n",
      "MktM1nrJN070b\u001b[01;31m\u001b[Kstart\u001b[m\u001b[K 3gblKgoXGtT                (__)\\       )\\/\\ \n",
      "m \u001b[01;31m\u001b[Kstart\u001b[m\u001b[KQUb5dmMP7g8Qgj4Ddujwm6q                    ||----w |\n",
      "9\u001b[01;31m\u001b[Kstart\u001b[m\u001b[KUxjf1wcSvST44uLa5uj3EqK7                    ||     ||\n",
      "luD9dPnmva \u001b[01;31m\u001b[Kstart\u001b[m\u001b[K wYKeYCxJPkW7e    \n",
      "AGldtqmouPUUkIQkDn8MS \u001b[01;31m\u001b[Kstart\u001b[m\u001b[K AG    \n",
      "SF0gAZaOT0BF NRmYocCe4Al\u001b[01;31m\u001b[Kstart\u001b[m\u001b[Kt    \n",
      "jP8wri  \u001b[01;31m\u001b[Kstart\u001b[m\u001b[K nGtfuBd4Llqg6ffY    The command grep allows to search\n",
      "ctLAoukXdWPlw5\u001b[01;31m\u001b[Kstart\u001b[m\u001b[K XQUe9nUuzY    for a pattern in a text file.\n",
      "VhR PxIHQtCH0q \u001b[01;31m\u001b[Kstart\u001b[m\u001b[KKpfN MFVXw    \n",
      "YE ompcM7r07X \u001b[01;31m\u001b[Kstart\u001b[m\u001b[K bHUQSQqRbf    It will print all the matching \n",
      "PQZzoD7ut1uD9STr3T4 \u001b[01;31m\u001b[Kstart\u001b[m\u001b[K APwT    lines to the screen.\n",
      "LlOtzZfGLOeRkFvCVrIbBJ \u001b[01;31m\u001b[Kstart\u001b[m\u001b[KHA    \n",
      "6qSv NOG9\u001b[01;31m\u001b[Kstart\u001b[m\u001b[Kv6YoVLHJ7snR69tx    =================\n",
      "PLx5n7xFc3Hh5iwdfarA\u001b[01;31m\u001b[Kstart\u001b[m\u001b[KYNL4A    Next Exercise\n",
      "Qd\u001b[01;31m\u001b[Kstart\u001b[m\u001b[K ZIEshPHzz1usx3ALvEDkeZ    =================\n",
      "SMfbBaI0F\u001b[01;31m\u001b[Kstart\u001b[m\u001b[K EHiw3ISlKRyE Sg    \n",
      "\u001b[01;31m\u001b[Kstart\u001b[m\u001b[KskOYYZ1WOCQcN1os5fg9itzj9    In the next exercise we will see \n",
      "x\u001b[01;31m\u001b[Kstart\u001b[m\u001b[KCyNu6cHxBW0N6pYd9SLPDVuP    how to access grep's documentation.\n",
      "SRw9OvAPFurRTtnfrTPtMik \u001b[01;31m\u001b[Kstart\u001b[m\u001b[Kl    \n",
      "kbmeUmSwdCcR3e81HJl\u001b[01;31m\u001b[Kstart\u001b[m\u001b[Kz4bFgs    Grep the following word to continue:\n",
      "IPW6cn0R4iMTeqUp5lNFT\u001b[01;31m\u001b[Kstart\u001b[m\u001b[K kaZ      _            _        \n",
      " SWyblovzEHStB\u001b[01;31m\u001b[Kstart\u001b[m\u001b[K0Lr5 OzObgD     | |          | |       \n",
      "lhxeRXeOaEFFItdP9MxYvGnp\u001b[01;31m\u001b[Kstart\u001b[m\u001b[K      | |__    ___ | | _ __  \n",
      "4yN0AdOSIB8DG3 \u001b[01;31m\u001b[Kstart\u001b[m\u001b[KGYAs3E5smu     | '_ \\  / _ \\| || '_ \\ \n",
      "h1m68FwK \u001b[01;31m\u001b[Kstart\u001b[m\u001b[K3El5ZEp0qRgW9Raw     | | | ||  __/| || |_) |\n",
      "dEaUW VR0od \u001b[01;31m\u001b[Kstart\u001b[m\u001b[K kKL4SZ3t7Jkj     |_| |_| \\___||_|| .__/ \n",
      "5Q \u001b[01;31m\u001b[Kstart\u001b[m\u001b[K 41c3YSmRKwNvZ1mqqVw6L                     | |    \n",
      "g yGpLHWZWuL \u001b[01;31m\u001b[Kstart\u001b[m\u001b[K BdjB3Z34m7U                     |_|  \n",
      "DUIAnQiz AmLTtwb3sDtZK5 \u001b[01;31m\u001b[Kstart\u001b[m\u001b[K     \n",
      "zq0B\u001b[01;31m\u001b[Kstart\u001b[m\u001b[K lw40BCkw 70AwRVFZn6O    \n"
     ]
    }
   ],
   "source": [
    "grep start 2_searching_patterns.txt"
   ]
  },
  {
   "cell_type": "markdown",
   "metadata": {
    "slideshow": {
     "slide_type": "slide"
    }
   },
   "source": [
    "## Accessing grep documentation\n",
    "\n",
    "To access the documentation of a command, we can use the **man** command.\n",
    "\n",
    "Let's type the following:\n",
    "\n",
    "```\n",
    "$: man grep\n",
    "```\n",
    "\n",
    "This will allow to navigate the documentation for grep, in the same modality as with the **less** command. Use the arrows to scroll, and q to exit.\n",
    "\n",
    "For the next exercise, you will have to identify two options in the man page, and use them to do a case-insensitive search for \"ignorecase\", and count the number of lines."
   ]
  },
  {
   "cell_type": "code",
   "execution_count": 4,
   "metadata": {
    "run_control": {
     "frozen": false,
     "read_only": false
    },
    "slideshow": {
     "slide_type": "subslide"
    }
   },
   "outputs": [
    {
     "name": "stdout",
     "output_type": "stream",
     "text": [
      "B9cFVKf9uA3DkI1PnJC\u001b[01;31m\u001b[Khelp\u001b[m\u001b[KkTNm1dd    \n",
      "3Z0anUCaVbirdioBij\u001b[01;31m\u001b[Khelp\u001b[m\u001b[K7kAVJFxY    The documentation for grep can \n",
      "8KKQR \u001b[01;31m\u001b[Khelp\u001b[m\u001b[K VQsY47 sL9toQT8EY5D    be accessed through man:\n",
      "iyG\u001b[01;31m\u001b[Khelp\u001b[m\u001b[K6dhyXuyWHSaYNtEvoDex Cc    \n",
      "mcKWtNHTui1guXDA EK\u001b[01;31m\u001b[Khelp\u001b[m\u001b[KPWuOIxH        $: man grep\n",
      "UBBMDm0C8l\u001b[01;31m\u001b[Khelp\u001b[m\u001b[KzkZEOBgSXfjXNgrf    \n",
      " \u001b[01;31m\u001b[Khelp\u001b[m\u001b[K 4M TGfdzHR8Yk9i9PwhNn 39    Scroll down to see all the \n",
      "W1cSpeejraQCD1pu \u001b[01;31m\u001b[Khelp\u001b[m\u001b[K WEXDH8 I    parameters for grep and their description.\n",
      "neCvTNSySVYpt0E8SGnXGIc\u001b[01;31m\u001b[Khelp\u001b[m\u001b[K9na    \n",
      "rfwiuKsJtjeHrHoBX9 \u001b[01;31m\u001b[Khelp\u001b[m\u001b[K 0hicjc    Use / to search for text.\n",
      "aMUp4FGgcAHAMoj pzlNQ7Oz9\u001b[01;31m\u001b[Khelp\u001b[m\u001b[Ko    Press the q key to exit.\n",
      "7j \u001b[01;31m\u001b[Khelp\u001b[m\u001b[K rXptYF5IRAXjdK7lukHJWd    \n",
      "YwauUPotI0 \u001b[01;31m\u001b[Khelp\u001b[m\u001b[K ivkaPxkiNvbJrt    \n",
      "FZE \u001b[01;31m\u001b[Khelp\u001b[m\u001b[K lvPb0Yp11UT63FWV586j0    \n",
      "ecQayY\u001b[01;31m\u001b[Khelp\u001b[m\u001b[K FWjb4HhwoHh7eek3yEX    ==============\n",
      "WGj1R9df3ibXDa1exNL\u001b[01;31m\u001b[Khelp\u001b[m\u001b[KY7K9U00    Next exercise\n",
      "OdrqEGoZakN\u001b[01;31m\u001b[Khelp\u001b[m\u001b[K uEm4w7UkGYEkIG    ==============\n",
      "JSKk13GFy \u001b[01;31m\u001b[Khelp\u001b[m\u001b[K hBbPLplm7s5kQSg    \n",
      "g9zHZpIMSthWbx4pU \u001b[01;31m\u001b[Khelp\u001b[m\u001b[K HuIH8GJ    For the next exercise, you will need to open \n",
      "JBDAk9BEjrgSBtOmDgjpwzt9ip\u001b[01;31m\u001b[Khelp\u001b[m\u001b[K    grep's documentation and identify two options:\n",
      "LrYA\u001b[01;31m\u001b[Khelp\u001b[m\u001b[K Uqy7pyCubW73LxjQcGof8    \n",
      "k16pOXOgBlOWKEhOp8iKO \u001b[01;31m\u001b[Khelp\u001b[m\u001b[K 06Y    - the option for case-insensitive searches\n",
      "cMmgFjclS3tGXfAdOwaYu7xgf\u001b[01;31m\u001b[Khelp\u001b[m\u001b[KS    - the option for counting \n",
      "\u001b[01;31m\u001b[Khelp\u001b[m\u001b[K fmv KM614XJ TpZ7QvlfdByjP      the number of matching lines, \n",
      "kF \u001b[01;31m\u001b[Khelp\u001b[m\u001b[K Iz1oBVA3hydzZ8cpW9TMRJ      instead of printing them to the screen.\n",
      "iB5yneSru 5oAis nfaW \u001b[01;31m\u001b[Khelp\u001b[m\u001b[KZtknE    \n",
      "cIZkYsvp5rQN \u001b[01;31m\u001b[Khelp\u001b[m\u001b[K rzRI9iwDL4a5    Once you have identified these options, \n",
      "kX16x7a9PpjXQtoto9zV\u001b[01;31m\u001b[Khelp\u001b[m\u001b[K 9HZij    do a case-insensitive search on this file for the word \n",
      "Ryi5\u001b[01;31m\u001b[Khelp\u001b[m\u001b[KEZziizUlktMJnAEA4IMsnn    \"ignorecase\", then count the number of lines.\n",
      "Up8sg ldoZcxZ3IaxA \u001b[01;31m\u001b[Khelp\u001b[m\u001b[K IepzrB    \n",
      "4FdfFqlAqY93holNMkcmHd7Ni\u001b[01;31m\u001b[Khelp\u001b[m\u001b[K         \n",
      "s9UGvUvcQQxss1ETq21leshRaftsUQ    This will also \u001b[01;31m\u001b[Khelp\u001b[m\u001b[K you reading this\n"
     ]
    }
   ],
   "source": [
    "grep help 2_searching_patterns.txt"
   ]
  },
  {
   "cell_type": "code",
   "execution_count": 5,
   "metadata": {
    "run_control": {
     "frozen": false,
     "read_only": false
    },
    "slideshow": {
     "slide_type": "subslide"
    }
   },
   "outputs": [
    {
     "name": "stdout",
     "output_type": "stream",
     "text": [
      "bp6vV3Fz6zWALIMHr\u001b[01;31m\u001b[Kignorecase\u001b[m\u001b[KXsK    \n",
      "kJodjykBTRy5UsvkN\u001b[01;31m\u001b[Kignorecase\u001b[m\u001b[KlCJ            \n",
      "IQNr\u001b[01;31m\u001b[Kignorecase\u001b[m\u001b[Kt3sSkwItlBqtJ97X    Remember that, to continue with the exercise, \n",
      "\u001b[01;31m\u001b[Kignorecase\u001b[m\u001b[KTiN1A5LE8JprmmIFPtlY    you need to do a case-insensitive search for the word\n",
      "Ryi5helpEZziizUlktMJnAEA4IMsnn    \"\u001b[01;31m\u001b[Kignorecase\u001b[m\u001b[K\", then count the number of lines.\n",
      "gBHJnHXdOKPCuNtl\u001b[01;31m\u001b[Kignorecase\u001b[m\u001b[K0Lhg             \\  (oo)\\_______\n",
      "JpSx4YnQPBZYH\u001b[01;31m\u001b[Kignorecase\u001b[m\u001b[KyAhXUnf    \n",
      "rSncrRqC3QweV\u001b[01;31m\u001b[Kignorecase\u001b[m\u001b[KCJLnZUZ    \n"
     ]
    }
   ],
   "source": [
    "# If we do a search for \"ignorecase\" without any option, we only get some of the lines.\n",
    "# You can notice that the cow is not properly displayed :-)\n",
    "grep ignorecase 2_searching_patterns.txt"
   ]
  },
  {
   "cell_type": "code",
   "execution_count": 6,
   "metadata": {
    "run_control": {
     "frozen": false,
     "read_only": false
    },
    "slideshow": {
     "slide_type": "fragment"
    }
   },
   "outputs": [
    {
     "name": "stdout",
     "output_type": "stream",
     "text": [
      "bp6vV3Fz6zWALIMHr\u001b[01;31m\u001b[Kignorecase\u001b[m\u001b[KXsK    \n",
      "kJodjykBTRy5UsvkN\u001b[01;31m\u001b[Kignorecase\u001b[m\u001b[KlCJ            \n",
      "IQNr\u001b[01;31m\u001b[Kignorecase\u001b[m\u001b[Kt3sSkwItlBqtJ97X    Remember that, to continue with the exercise, \n",
      "\u001b[01;31m\u001b[Kignorecase\u001b[m\u001b[KTiN1A5LE8JprmmIFPtlY    you need to do a case-insensitive search for the word\n",
      "Ryi5helpEZziizUlktMJnAEA4IMsnn    \"\u001b[01;31m\u001b[Kignorecase\u001b[m\u001b[K\", then count the number of lines.\n",
      "uRpe\u001b[01;31m\u001b[KIGNORECASE\u001b[m\u001b[Kwt6VeQSyNEyd7cgV    \n",
      "G19VrSq1\u001b[01;31m\u001b[KignOrecase\u001b[m\u001b[KFl4RySa6iLJi     _____________\n",
      "h1WDPz4C7\u001b[01;31m\u001b[KIgnorEcase\u001b[m\u001b[KvfD0uiSnmxw    / Good Job!   \\ \n",
      "BxTunYQn1giOZdBUuhG\u001b[01;31m\u001b[KIgnorEcase\u001b[m\u001b[K4    | You did a   |\n",
      "\u001b[01;31m\u001b[KignOrecase\u001b[m\u001b[KSWU8Gagvfy vt9SdNj8j    | case-insens |\n",
      "\u001b[01;31m\u001b[KignOrecase\u001b[m\u001b[KyrPZmYffV1 M9djtfz9k    | itive       |\n",
      "3O54VIX8fd3rW\u001b[01;31m\u001b[KIGNORECASE\u001b[m\u001b[KuqpGiSR    \\ search      /\n",
      "ACo8r0nvOfg5iee 7\u001b[01;31m\u001b[KIGNORECASE\u001b[m\u001b[K cF     -------------\n",
      "GajDz7WpdCXaxYC\u001b[01;31m\u001b[KIgnorEcase\u001b[m\u001b[KnHiHl            \\   ^__^\n",
      "gBHJnHXdOKPCuNtl\u001b[01;31m\u001b[Kignorecase\u001b[m\u001b[K0Lhg             \\  (oo)\\_______\n",
      "PHqOtUJp\u001b[01;31m\u001b[KIgnorEcase\u001b[m\u001b[KbiNPUz9HQCdp                (__)\\       )\\/\\ \n",
      "t7w\u001b[01;31m\u001b[KIgnorEcase\u001b[m\u001b[KpUUcgUe1fQSD KGDC                    ||----w |\n",
      "HtdRU3U0sl\u001b[01;31m\u001b[KignOrecase\u001b[m\u001b[KqNi0E0von5                    ||     ||\n",
      "JpSx4YnQPBZYH\u001b[01;31m\u001b[Kignorecase\u001b[m\u001b[KyAhXUnf    \n",
      "rSncrRqC3QweV\u001b[01;31m\u001b[Kignorecase\u001b[m\u001b[KCJLnZUZ    \n",
      "94\u001b[01;31m\u001b[KignOrecase\u001b[m\u001b[KaWpKKR1ND0i5h7bejh        \n"
     ]
    }
   ],
   "source": [
    "# The -i option allows to do a case-insensitive search.\n",
    "# As you can see, some lines contain upper case characters:\n",
    "grep -i ignorecase 2_searching_patterns.txt"
   ]
  },
  {
   "cell_type": "code",
   "execution_count": 7,
   "metadata": {
    "run_control": {
     "frozen": false,
     "read_only": false
    },
    "slideshow": {
     "slide_type": "fragment"
    }
   },
   "outputs": [
    {
     "name": "stdout",
     "output_type": "stream",
     "text": [
      "21\n"
     ]
    }
   ],
   "source": [
    "# To solve the exercise, we also have to count the number of output lines.\n",
    "# This can be done with the \"-c\" option:\n",
    "grep -i -c ignorecase 2_searching_patterns.txt"
   ]
  },
  {
   "cell_type": "code",
   "execution_count": 8,
   "metadata": {
    "run_control": {
     "frozen": false,
     "read_only": false
    },
    "slideshow": {
     "slide_type": "fragment"
    }
   },
   "outputs": [
    {
     "name": "stdout",
     "output_type": "stream",
     "text": [
      "CtDB RLr3x3do9\u001b[01;31m\u001b[K21\u001b[m\u001b[KSqu8iOvohs7vk4    \n",
      "4kUkCECIiM\u001b[01;31m\u001b[K21\u001b[m\u001b[KOY8EcY4TIsPkKLBOmj    \n",
      "Qjk\u001b[01;31m\u001b[K21\u001b[m\u001b[KMQpAeF4VyA8cAlEXfl8wWJzDY     ____________________\n",
      "B363B5byCj1\u001b[01;31m\u001b[K21\u001b[m\u001b[KrzXGoQIiRahUq9zqz    / Congrats! Yes      \\ \n",
      "La8Ku9mjSIpSfVrAgi \u001b[01;31m\u001b[K21\u001b[m\u001b[KDb5puhK65    | the answer to the  |\n",
      "Gc9kKOst\u001b[01;31m\u001b[K21\u001b[m\u001b[KABdPUU5Y6yxvMFbmBEr5    | case-insensitive   |\n",
      "X9ihXj3yFmi\u001b[01;31m\u001b[K21\u001b[m\u001b[KYQ1tRg6pnqhTLWclL    | and count question |\n",
      "Zax\u001b[01;31m\u001b[K21\u001b[m\u001b[K3Y1OJbXitxdyPlXFu0hnNoi6i    | is \u001b[01;31m\u001b[K21\u001b[m\u001b[K.             /\n",
      "tAWUDnEbN1stlEw\u001b[01;31m\u001b[K21\u001b[m\u001b[KJmzgr1mwcr9Ok     --------------------\n",
      "efc\u001b[01;31m\u001b[K21\u001b[m\u001b[K9TYASVKMmFWPOpMXaYCYnN5Nu            \\   ^__^\n",
      "kkzt8YaRyVAtaXiQC7Q9LlFLzFj\u001b[01;31m\u001b[K21\u001b[m\u001b[Ka             \\  (oo)\\_______\n",
      "eELR\u001b[01;31m\u001b[K21\u001b[m\u001b[KQbUm1wLGgQQGN8F A 6HJTq3                (__)\\       )\\/\\  \n",
      "BEN sRlcDIOQPyADwCy3\u001b[01;31m\u001b[K21\u001b[m\u001b[K7naBh8TU                    ||----w |\n",
      "saR SuoPzf5eV\u001b[01;31m\u001b[K21\u001b[m\u001b[Kw5v6sccKkqTJy9U                    ||     ||\n",
      "iYVLEcMjQF\u001b[01;31m\u001b[K21\u001b[m\u001b[KMF1n lvFrFqXfQu1kG    \n",
      "4yQdcMZY97LVuLc9Y4\u001b[01;31m\u001b[K21\u001b[m\u001b[K7zYEzC4ceK    \n",
      "NZdPx\u001b[01;31m\u001b[K21\u001b[m\u001b[K6fVVJ6tc3WMzeIR6f4cHDad    =============\n",
      "Q07zhV\u001b[01;31m\u001b[K21\u001b[m\u001b[Kz1OTJazhH03k4aCpGydFEn    Next topic\n",
      "\u001b[01;31m\u001b[K21\u001b[m\u001b[KPaFNZKqvVZq6bwr6FGI4TA9cy5Zr    =============\n",
      "xGKrwF3tpNVzq8ipAPxPD\u001b[01;31m\u001b[K21\u001b[m\u001b[KpkSJ3XU    \n",
      "3u1FTmdrtZUFB5TAcm9lxbKgdBM\u001b[01;31m\u001b[K21\u001b[m\u001b[Km    We are going to make a break from\n",
      "JsBQ\u001b[01;31m\u001b[K21\u001b[m\u001b[Kj6EGfYMsvRwTfmD Kv8wDJuI    the exercises to talk about the Unix\n",
      "8ay3N5uRdYncy0B8RHV4XcP\u001b[01;31m\u001b[K21\u001b[m\u001b[KsNvak    piping system. \n",
      "s9UGvUvcQQxss1ETq\u001b[01;31m\u001b[K21\u001b[m\u001b[KleshRaftsUQ    This will also help you reading this\n",
      "\u001b[01;31m\u001b[K21\u001b[m\u001b[K7SnZXPGgtIIwQPeyGQ6nYZgZq4wr    output more easily, by piping it into\n",
      "xtSyHNFsQZijEC\u001b[01;31m\u001b[K21\u001b[m\u001b[KckUdzDjaJDboxQ    another Unix command such as less or\n",
      "\u001b[01;31m\u001b[K21\u001b[m\u001b[KdPvDB6tpt7c5eKNz3voR7HbqvVEG    head. \n",
      "8CRaMViZ9m5hQXko\u001b[01;31m\u001b[K21\u001b[m\u001b[KpwgHT6wurX39    \n",
      "QR\u001b[01;31m\u001b[K21\u001b[m\u001b[KgbuUOy67xAVKYyUOeXasfj3L9O    For example, try \n",
      "iLgB tGHDkYZ\u001b[01;31m\u001b[K21\u001b[m\u001b[K iLhgjbFj9GE thp    $: grep \u001b[01;31m\u001b[K21\u001b[m\u001b[K 2_searching_patterns.txt    \n",
      "sabcPdsaGZ\u001b[01;31m\u001b[K21\u001b[m\u001b[KccvLBDgjbFj9GE thp    to read this output easily.\n"
     ]
    }
   ],
   "source": [
    "# solution: how to find the instructions for the next exercise\n",
    "grep 21 2_searching_patterns.txt"
   ]
  },
  {
   "cell_type": "markdown",
   "metadata": {
    "slideshow": {
     "slide_type": "slide"
    }
   },
   "source": [
    "# The Unix Philosophy and Approach to programming\n",
    "\n",
    "Earlier this morning we mentioned the Unix Philosophy:\n",
    "\n",
    "- Make each program do one thing well.\n",
    "- Expect the output of every program to become the input to another, as yet unknown, program.\n",
    "- Work on file streams, reading one line at a time."
   ]
  },
  {
   "cell_type": "markdown",
   "metadata": {
    "slideshow": {
     "slide_type": "fragment"
    }
   },
   "source": [
    "All the commands we saw today follow the Unix philosophy:\n",
    "\n",
    "- **ls** is for listing files\n",
    "- **grep** is for searching patterns in files\n",
    "- **less**, **head**, and others are for seeing the contents of a file\n",
    "\n",
    "So, they all do one single thing, and they do it extremely well. Each tool is well documented and has several parameter options to alter the default behaviour; but overall, each tool focuses on one things only."
   ]
  },
  {
   "cell_type": "markdown",
   "metadata": {
    "slideshow": {
     "slide_type": "slide"
    }
   },
   "source": [
    "## Combining multiple Unix commands with the pipe symbol (|)\n",
    "\n",
    "We can combine multiple commands together using the piping symbol, |.\n",
    "\n",
    "For example, we have seen that the output of grep can be very long and difficult to read on the screen.\n",
    "\n",
    "Thus, we can combine it together with head or less, to read it more easily:\n",
    "\n",
    "```\n",
    "$: grep (first pattern) myfile.txt | head\n",
    "$: grep (first pattern) myfile.txt | less\n",
    "\n",
    "```\n",
    "\n"
   ]
  },
  {
   "cell_type": "code",
   "execution_count": 9,
   "metadata": {
    "slideshow": {
     "slide_type": "fragment"
    }
   },
   "outputs": [
    {
     "name": "stdout",
     "output_type": "stream",
     "text": [
      "CtDB RLr3x3do921Squ8iOvohs7vk4    \n",
      "4kUkCECIiM21OY8EcY4TIsPkKLBOmj    \n",
      "Qjk21MQpAeF4VyA8cAlEXfl8wWJzDY     ____________________\n",
      "B363B5byCj121rzXGoQIiRahUq9zqz    / Congrats! Yes      \\ \n",
      "La8Ku9mjSIpSfVrAgi 21Db5puhK65    | the answer to the  |\n",
      "Gc9kKOst21ABdPUU5Y6yxvMFbmBEr5    | case-insensitive   |\n",
      "X9ihXj3yFmi21YQ1tRg6pnqhTLWclL    | and count question |\n",
      "Zax213Y1OJbXitxdyPlXFu0hnNoi6i    | is 21.             /\n",
      "tAWUDnEbN1stlEw21Jmzgr1mwcr9Ok     --------------------\n",
      "efc219TYASVKMmFWPOpMXaYCYnN5Nu            \\   ^__^\n"
     ]
    }
   ],
   "source": [
    "# \n",
    "grep 21 2_searching_patterns.txt |less\n",
    "#grep 21 2_searching_patterns.txt | less"
   ]
  },
  {
   "cell_type": "markdown",
   "metadata": {
    "slideshow": {
     "slide_type": "slide"
    }
   },
   "source": [
    "## Exercise on Unix pipe: Searching multiple patterns with grep\n",
    "\n",
    "How can we search that contain two or more patterns?\n",
    "\n",
    "One solution is to use the Unix piping system, executing one grep command, and then another grep on the output.\n",
    "\n",
    "This can be done using the pipe \"|\" symbol, like the following:\n",
    "\n",
    "```\n",
    "$: grep (first pattern) myfile.txt | grep (second pattern)\n",
    "```\n",
    "\n",
    "Press space or the down key for some examples."
   ]
  },
  {
   "cell_type": "markdown",
   "metadata": {
    "slideshow": {
     "slide_type": "subslide"
    }
   },
   "source": [
    "The file data/genes/mgat_genes.gb is a genbank file. Notice how this format is well suited for grep searches:"
   ]
  },
  {
   "cell_type": "code",
   "execution_count": 10,
   "metadata": {
    "run_control": {
     "frozen": false,
     "read_only": false
    }
   },
   "outputs": [
    {
     "name": "stdout",
     "output_type": "stream",
     "text": [
      "LOCUS       HUMUDPCNA               4705 bp    DNA     linear   PRI 19-SEP-1995\n",
      "DEFINITION  Human alpha-1,3-mannosyl-glycoprotein beta-1,\n",
      "            2-N-acetylglucosaminyltransferase (MGAT) gene, complete cds.\n",
      "ACCESSION   M61829\n",
      "VERSION     M61829.1  GI:340075\n",
      "KEYWORDS    alpha-1,3-mannosyl-glycoprotein beta-1,2-N-acetylglucosaminyltrae.\n",
      "SOURCE      Homo sapiens (human)\n",
      "  ORGANISM  Homo sapiens\n",
      "            Eukaryota; Metazoa; Chordata; Craniata; Vertebrata; Euteleostomi;\n",
      "            Mammalia; Eutheria; Euarchontoglires; Primates; Haplorrhini;\n"
     ]
    }
   ],
   "source": [
    "head genes/mgat_genes.gb"
   ]
  },
  {
   "cell_type": "markdown",
   "metadata": {
    "slideshow": {
     "slide_type": "fragment"
    }
   },
   "source": [
    "Let's say we want to search all the lines where \"ORGANISM\" is \"Homo sapiens\". \n",
    "\n",
    "We can do it with two grep commands:\n",
    "\n",
    "```\n",
    "grep ORGANISM genes/mgat_genes.gb | grep 'Homo sapiens'\n",
    "```\n",
    "Notice that searching for \"Homo sapiens\" alone would not be enough, as there are other lines where the word \"Homo sapiens\" is present."
   ]
  },
  {
   "cell_type": "code",
   "execution_count": 11,
   "metadata": {
    "run_control": {
     "frozen": false,
     "read_only": false
    }
   },
   "outputs": [
    {
     "name": "stdout",
     "output_type": "stream",
     "text": [
      "  ORGANISM  \u001b[01;31m\u001b[KHomo sapiens\u001b[m\u001b[K\n",
      "  ORGANISM  \u001b[01;31m\u001b[KHomo sapiens\u001b[m\u001b[K\n",
      "  ORGANISM  \u001b[01;31m\u001b[KHomo sapiens\u001b[m\u001b[K\n",
      "  ORGANISM  \u001b[01;31m\u001b[KHomo sapiens\u001b[m\u001b[K\n",
      "  ORGANISM  \u001b[01;31m\u001b[KHomo sapiens\u001b[m\u001b[K\n",
      "  ORGANISM  \u001b[01;31m\u001b[KHomo sapiens\u001b[m\u001b[K\n",
      "  ORGANISM  \u001b[01;31m\u001b[KHomo sapiens\u001b[m\u001b[K\n",
      "  ORGANISM  \u001b[01;31m\u001b[KHomo sapiens\u001b[m\u001b[K\n"
     ]
    }
   ],
   "source": [
    "grep ORGANISM genes/mgat_genes.gb | grep 'Homo sapiens'"
   ]
  },
  {
   "cell_type": "markdown",
   "metadata": {
    "slideshow": {
     "slide_type": "subslide"
    }
   },
   "source": [
    "The file contains sequences from two other organisms apart from Homo sapiens. Can you guess which one to search for the next exercise?"
   ]
  },
  {
   "cell_type": "code",
   "execution_count": 12,
   "metadata": {
    "run_control": {
     "frozen": false,
     "read_only": false
    },
    "slideshow": {
     "slide_type": "subslide"
    }
   },
   "outputs": [
    {
     "name": "stdout",
     "output_type": "stream",
     "text": [
      "  ORGANISM  Bos \u001b[01;31m\u001b[Ktaurus\u001b[m\u001b[K\n",
      "  ORGANISM  Bos \u001b[01;31m\u001b[Ktaurus\u001b[m\u001b[K\n",
      "  ORGANISM  Bos \u001b[01;31m\u001b[Ktaurus\u001b[m\u001b[K\n",
      "  ORGANISM  Bos \u001b[01;31m\u001b[Ktaurus\u001b[m\u001b[K\t\t\t   _______________\n",
      "  ORGANISM  Bos \u001b[01;31m\u001b[Ktaurus\u001b[m\u001b[K\t\t          < Good Guess! >\n",
      "  ORGANISM  Bos \u001b[01;31m\u001b[Ktaurus\u001b[m\u001b[K\t\t\t   ---------------\n",
      "  ORGANISM  Bos \u001b[01;31m\u001b[Ktaurus\u001b[m\u001b[K\t\t\t\t\t\\   ^__^\n",
      "  ORGANISM  Bos \u001b[01;31m\u001b[Ktaurus\u001b[m\u001b[K\t\t\t\t\t \\  (oo)\\_______\n",
      "  ORGANISM  Bos \u001b[01;31m\u001b[Ktaurus\u001b[m\u001b[K\t\t\t  \t\t    (__)\\       )\\/\\\n",
      "  ORGANISM  Bos \u001b[01;31m\u001b[Ktaurus\u001b[m\u001b[K\t\t\t\t\t\t||----w |\n",
      "  ORGANISM  Bos \u001b[01;31m\u001b[Ktaurus\u001b[m\u001b[K\t\t\t\t\t\t||     ||\n",
      "  ORGANISM  Bos \u001b[01;31m\u001b[Ktaurus\u001b[m\u001b[K\n",
      "  ORGANISM  Bos \u001b[01;31m\u001b[Ktaurus\u001b[m\u001b[K\n",
      "  ORGANISM  Bos \u001b[01;31m\u001b[Ktaurus\u001b[m\u001b[K\n",
      "  ORGANISM  Bos \u001b[01;31m\u001b[Ktaurus\u001b[m\u001b[K\n",
      "  ORGANISM  Bos \u001b[01;31m\u001b[Ktaurus\u001b[m\u001b[K\n",
      "  ORGANISM  Bos \u001b[01;31m\u001b[Ktaurus\u001b[m\u001b[K\t\t\t\t===============\n",
      "  ORGANISM  Bos \u001b[01;31m\u001b[Ktaurus\u001b[m\u001b[K\t\t\t\tNext Exercise\n",
      "  ORGANISM  Bos \u001b[01;31m\u001b[Ktaurus\u001b[m\u001b[K\t\t\t\t===============\n",
      "  ORGANISM  Bos \u001b[01;31m\u001b[Ktaurus\u001b[m\u001b[K\n",
      "  ORGANISM  Bos \u001b[01;31m\u001b[Ktaurus\u001b[m\u001b[K\t\t\t\tLet's talk about \n",
      "  ORGANISM  Bos \u001b[01;31m\u001b[Ktaurus\u001b[m\u001b[K\t\t\t\tthe Unix Piping system (|, > and >>), \n",
      "  ORGANISM  Bos \u001b[01;31m\u001b[Ktaurus\u001b[m\u001b[K\t\t\t\tbefore searching multiple files\n",
      "  ORGANISM  Bos \u001b[01;31m\u001b[Ktaurus\u001b[m\u001b[K\n"
     ]
    }
   ],
   "source": [
    "# Solution: grep for \"bos taurus\":\n",
    "grep ORGANISM genes/mgat_genes.gb | grep taurus"
   ]
  },
  {
   "cell_type": "markdown",
   "metadata": {
    "slideshow": {
     "slide_type": "slide"
    }
   },
   "source": [
    "## Redirecting the output to a file, using the redirection symbol (>)\n",
    "\n",
    "Another component of the Unix piping system is the redirection symbol, \">\"\n",
    "\n",
    "This is used to save the output of a command to a file. For example:"
   ]
  },
  {
   "cell_type": "code",
   "execution_count": 13,
   "metadata": {
    "slideshow": {
     "slide_type": "fragment"
    }
   },
   "outputs": [],
   "source": [
    "# Note that no output is shown to the terminal. \n",
    "grep ORGANISM genes/mgat_genes.gb | grep taurus > bos_taurus.txt"
   ]
  },
  {
   "cell_type": "markdown",
   "metadata": {
    "slideshow": {
     "slide_type": "fragment"
    }
   },
   "source": [
    "Note how this creates a new file called **bos_taurus.txt**. If we do \"ls\" again, we will see it:"
   ]
  },
  {
   "cell_type": "code",
   "execution_count": 14,
   "metadata": {
    "slideshow": {
     "slide_type": "fragment"
    }
   },
   "outputs": [
    {
     "name": "stdout",
     "output_type": "stream",
     "text": [
      "total 9879684\n",
      "-rw-r--r--  1 gmd78366         865 Feb 22 16:12 bos_taurus.txt\n",
      "-rw-r--r--  1 gmd78366 10106342987 Feb 21 19:39 'Unconfirmed 563806.crdownload'\n",
      "-rw-r--r--  1 gmd78366          74 Feb 21 18:34 redirect_me_here.txt\n",
      "drwxr-xr-x  7 gmd78366         224 Feb 21 18:32 ngs\n",
      "drwxr-xr-x  8 gmd78366         256 Feb 21 16:15 genes\n",
      "-rw-r--r--  1 gmd78366        7555 Feb 15 11:51 exercise_sequences.fasta\n",
      "-rw-r--r--  1 gmd78366          35 Feb 15 11:51 chr20\n",
      "-rw-r--r--  1 gmd78366          36 Feb 15 11:51 chr8\n",
      "-rw-r--r--  1 gmd78366       37758 Feb 15 11:51 2_searching_patterns.txt\n",
      "-rw-r--r--  1 gmd78366        2642 Feb 15 11:51 1_browsing_textfiles.txt\n",
      "drwxr-xr-x 52 gmd78366        1664 Feb 15 11:51 multiplefiles\n",
      "drwxr-xr-x 10 gmd78366         320 Feb 15 11:51 old_files\n"
     ]
    }
   ],
   "source": [
    "# The -t option in ls sorts the output by modification date\n",
    "ls -l -t"
   ]
  },
  {
   "cell_type": "markdown",
   "metadata": {
    "slideshow": {
     "slide_type": "fragment"
    }
   },
   "source": [
    "we can even use less, head or cat to see its contents:"
   ]
  },
  {
   "cell_type": "code",
   "execution_count": 15,
   "metadata": {
    "slideshow": {
     "slide_type": "-"
    }
   },
   "outputs": [
    {
     "name": "stdout",
     "output_type": "stream",
     "text": [
      "  ORGANISM  Bos taurus\n",
      "  ORGANISM  Bos taurus\n",
      "  ORGANISM  Bos taurus\n",
      "  ORGANISM  Bos taurus\t\t\t   _______________\n",
      "  ORGANISM  Bos taurus\t\t          < Good Guess! >\n",
      "  ORGANISM  Bos taurus\t\t\t   ---------------\n",
      "  ORGANISM  Bos taurus\t\t\t\t\t\\   ^__^\n",
      "  ORGANISM  Bos taurus\t\t\t\t\t \\  (oo)\\_______\n",
      "  ORGANISM  Bos taurus\t\t\t  \t\t    (__)\\       )\\/\\\n",
      "  ORGANISM  Bos taurus\t\t\t\t\t\t||----w |\n",
      "  ORGANISM  Bos taurus\t\t\t\t\t\t||     ||\n",
      "  ORGANISM  Bos taurus\n",
      "  ORGANISM  Bos taurus\n",
      "  ORGANISM  Bos taurus\n",
      "  ORGANISM  Bos taurus\n",
      "  ORGANISM  Bos taurus\n",
      "  ORGANISM  Bos taurus\t\t\t\t===============\n",
      "  ORGANISM  Bos taurus\t\t\t\tNext Exercise\n",
      "  ORGANISM  Bos taurus\t\t\t\t===============\n",
      "  ORGANISM  Bos taurus\n",
      "  ORGANISM  Bos taurus\t\t\t\tLet's talk about \n",
      "  ORGANISM  Bos taurus\t\t\t\tthe Unix Piping system (|, > and >>), \n",
      "  ORGANISM  Bos taurus\t\t\t\tbefore searching multiple files\n",
      "  ORGANISM  Bos taurus\n"
     ]
    }
   ],
   "source": [
    "# cat (concatenate) prints the whole contents to the screen:\n",
    "cat bos_taurus.txt"
   ]
  },
  {
   "cell_type": "markdown",
   "metadata": {
    "slideshow": {
     "slide_type": "subslide"
    }
   },
   "source": [
    "**Note on file extensions**: Unix is agnostic to file extensions (e.g. .txt, .png, .exe). \n",
    "\n",
    "Here we've added the .txt extension to the file, as this is a convention to indicate a text file.\n",
    "\n",
    "However you can run **grep** and any unix command on any file type, and no errors will be shown. However, if you try to run them on binary formats like Word of Excel, you will get back un unintelegible output."
   ]
  },
  {
   "cell_type": "markdown",
   "metadata": {
    "slideshow": {
     "slide_type": "subslide"
    }
   },
   "source": [
    "### Warning on File Redirection and overwriting files\n",
    "\n",
    "Warning - the redirection symbol will overwrite any existing file content, without asking confirmation.\n",
    "\n",
    "The next command uses \"echo\" to print a simple message, which is then redirected to the bos_taurus.txt files created previously."
   ]
  },
  {
   "cell_type": "code",
   "execution_count": 16,
   "metadata": {
    "slideshow": {
     "slide_type": "fragment"
    }
   },
   "outputs": [
    {
     "name": "stdout",
     "output_type": "stream",
     "text": [
      "Simple Text message\n"
     ]
    }
   ],
   "source": [
    "# The echo command prints a message to the screen - or wherever you redirect it\n",
    "echo \"Simple Text message\""
   ]
  },
  {
   "cell_type": "code",
   "execution_count": 17,
   "metadata": {
    "slideshow": {
     "slide_type": "fragment"
    }
   },
   "outputs": [],
   "source": [
    "echo \"All previous contents have been deleted\" > bos_taurus.txt"
   ]
  },
  {
   "cell_type": "code",
   "execution_count": 18,
   "metadata": {
    "slideshow": {
     "slide_type": "fragment"
    }
   },
   "outputs": [
    {
     "name": "stdout",
     "output_type": "stream",
     "text": [
      "All previous contents have been deleted\n"
     ]
    }
   ],
   "source": [
    "head bos_taurus.txt"
   ]
  },
  {
   "cell_type": "markdown",
   "metadata": {
    "slideshow": {
     "slide_type": "fragment"
    }
   },
   "source": [
    "There is now way to retrieve the previous contents of the file, except if you used a version control system (e.g. git) to store them."
   ]
  },
  {
   "cell_type": "markdown",
   "metadata": {
    "slideshow": {
     "slide_type": "slide"
    }
   },
   "source": [
    "## Appending contents to a file, using the double redirection symbol (>>)\n",
    "\n",
    "If we want to append content to a file without deleting the previous contents, we can use the double redirection symbol, **>>**.\n",
    "\n",
    "This will store the new output at the end of the file. Let's try it:"
   ]
  },
  {
   "cell_type": "code",
   "execution_count": 19,
   "metadata": {
    "slideshow": {
     "slide_type": "fragment"
    }
   },
   "outputs": [
    {
     "name": "stdout",
     "output_type": "stream",
     "text": [
      "1_browsing_textfiles.txt\t chr20\t\t\t   multiplefiles\n",
      "2_searching_patterns.txt\t chr8\t\t\t   ngs\n",
      "'Unconfirmed 563806.crdownload'  exercise_sequences.fasta  old_files\n",
      "bos_taurus.txt\t\t\t genes\t\t\t   redirect_me_here.txt\n",
      "My first message\n"
     ]
    }
   ],
   "source": [
    "echo \"My first message\" > redirect_me_here.txt\n",
    "ls\n",
    "cat redirect_me_here.txt # cat is similar to head, but prints the whole contents"
   ]
  },
  {
   "cell_type": "markdown",
   "metadata": {
    "slideshow": {
     "slide_type": "subslide"
    }
   },
   "source": [
    "Let's keep adding messages:"
   ]
  },
  {
   "cell_type": "code",
   "execution_count": 20,
   "metadata": {
    "slideshow": {
     "slide_type": "fragment"
    }
   },
   "outputs": [],
   "source": [
    "echo \"My second message\" >> redirect_me_here.txt\n",
    "echo \"My third message\" >> redirect_me_here.txt\n",
    "echo \"My fourteenth message\" >> redirect_me_here.txt\n"
   ]
  },
  {
   "cell_type": "code",
   "execution_count": 21,
   "metadata": {
    "slideshow": {
     "slide_type": "fragment"
    }
   },
   "outputs": [
    {
     "name": "stdout",
     "output_type": "stream",
     "text": [
      "My first message\n",
      "My second message\n",
      "My third message\n",
      "My fourteenth message\n"
     ]
    }
   ],
   "source": [
    "cat redirect_me_here.txt"
   ]
  },
  {
   "cell_type": "markdown",
   "metadata": {
    "slideshow": {
     "slide_type": "slide"
    }
   },
   "source": [
    "## Searching multiple files\n",
    "\n",
    "Let's go back to our grep exericises.\n",
    "\n",
    "Grep is useful to search over multiple files in a single command.\n",
    "\n",
    "The folder data/multiplefiles/ contains 50 randomly generated files. You can see their contents with head data/multiplefiles/\\* or with less.\n",
    "\n",
    "One of these files contains the word \"regex\" in it. Are you able to find it?"
   ]
  },
  {
   "cell_type": "code",
   "execution_count": 22,
   "metadata": {
    "run_control": {
     "frozen": false,
     "read_only": false
    },
    "slideshow": {
     "slide_type": "subslide"
    }
   },
   "outputs": [
    {
     "name": "stdout",
     "output_type": "stream",
     "text": [
      "multiplefiles/file32.txt:5gsumFTKbKEJv9dD8W94FhoEQU8qf8RMUc\u001b[01;31m\u001b[Kregex\u001b[m\u001b[KR    \n",
      "multiplefiles/file32.txt:YgDiqkA C1o\u001b[01;31m\u001b[Kregex\u001b[m\u001b[K9giqI66c3sOwfLirOsgPpSuq    \n",
      "multiplefiles/file32.txt:IsXSnp 8U8pKR0LsVuK\u001b[01;31m\u001b[Kregex\u001b[m\u001b[KO5GFegOtV4GW4fNQ    Good! You've found the \n",
      "multiplefiles/file32.txt:l 4px8KhPRmfEJgi5uTuVO1XahG3H1sY\u001b[01;31m\u001b[Kregex\u001b[m\u001b[K4wt    file containing the word \"\u001b[01;31m\u001b[Kregex\u001b[m\u001b[K\"\n",
      "multiplefiles/file32.txt:yz8P5 HC6N5D XRHPncZjTAeM\u001b[01;31m\u001b[Kregex\u001b[m\u001b[KT9bQUoZdsh    \n",
      "multiplefiles/file32.txt:lKj\u001b[01;31m\u001b[Kregex\u001b[m\u001b[KMHQbp zJEV xF4EvzMhyCrdYJlUHd4ol    The next lesson will focus on using \n",
      "multiplefiles/file32.txt:zd6C 9\u001b[01;31m\u001b[Kregex\u001b[m\u001b[K sviPg977VRvG  cSC3TPv6E0PDl8    Unix piping system.\n",
      "multiplefiles/file32.txt:eWUd18s0MVx5YYrEK KCKeF5hvO\u001b[01;31m\u001b[Kregex\u001b[m\u001b[KIiZbIGUX    To continue, \n",
      "multiplefiles/file32.txt:MLXiKZJ8KyHMou9lYsz4ZjFYJSfB 14t\u001b[01;31m\u001b[Kregex\u001b[m\u001b[KtpJ    grep file32 2_searching_patterns.txt\n",
      "multiplefiles/file32.txt:veFQU\u001b[01;31m\u001b[Kregex\u001b[m\u001b[KfnQxwQw6POJRNvvAeYwToX6ptvN39m    \n",
      "multiplefiles/file32.txt:cHoNv\u001b[01;31m\u001b[Kregex\u001b[m\u001b[KiGjHkmptPVTjOzvWVGbrGoHoywV4Vy    \n"
     ]
    }
   ],
   "source": [
    "# solution: you can use the \"*\" character to specify multiple files:\n",
    "grep 'regex' multiplefiles/*"
   ]
  },
  {
   "cell_type": "markdown",
   "metadata": {
    "slideshow": {
     "slide_type": "slide"
    }
   },
   "source": [
    "# Regular Expressions\n",
    "\n",
    "Regular expressions allow to search for more complex patterns. \n",
    "\n",
    "Here are some simple regular expression examples:\n",
    "\n",
    "| regex    | description |\n",
    "| -------- | ----------- |\n",
    "| .        | matches any character |\n",
    "| [A-Za-z] | matches any of the characters within parenthesis|\n",
    "| .\\*      | matches any character, any number of times| "
   ]
  },
  {
   "cell_type": "markdown",
   "metadata": {
    "slideshow": {
     "slide_type": "subslide"
    }
   },
   "source": [
    "## Regular Expression exercise\n",
    "\n",
    "Let's have a look at the file data/genes/sequences.fasta.\n",
    "\n",
    "This is a FASTA file, a format used for DNA/RNA and protein sequences."
   ]
  },
  {
   "cell_type": "code",
   "execution_count": 23,
   "metadata": {
    "run_control": {
     "frozen": false,
     "read_only": false
    }
   },
   "outputs": [
    {
     "name": "stdout",
     "output_type": "stream",
     "text": [
      ">seq000 sequence description\n",
      "das$myvarCGNTTTNTAATTATATANNTAGCGTGATCC\n",
      ">seq001 sequence description\n",
      "NNCGNANAGCTNGACCTAGTTGAAATTGTG\n",
      ">seq002 sequence description\n",
      "CGGTATGCAGCCCNNGCGTNGCNTNAATNA\n",
      ">seq003 sequence description\n",
      "CGCNTCNTNCTTCACCACGCCAGCTTTANC\n",
      ">seq004 sequence description\n",
      "CGTNGCGNNCGNGAGCCATTANTAGNNCCT\n"
     ]
    }
   ],
   "source": [
    "less genes/sequences.fasta "
   ]
  },
  {
   "cell_type": "markdown",
   "metadata": {},
   "source": [
    "Can you use grep to identify all the sequences containing three As, followed by any two characters, followed by three Ts?"
   ]
  },
  {
   "cell_type": "code",
   "execution_count": 24,
   "metadata": {
    "run_control": {
     "frozen": false,
     "read_only": false
    },
    "slideshow": {
     "slide_type": "subslide"
    }
   },
   "outputs": [
    {
     "name": "stdout",
     "output_type": "stream",
     "text": [
      "TCGACCTGCNNANGGCTNTGT\u001b[01;31m\u001b[KAAAccTTT\u001b[m\u001b[KG\n",
      "TNCGTCCGGCCAAA\u001b[01;31m\u001b[KAAAgtTTT\u001b[m\u001b[KNGNGCTTG\n",
      "NAAGTTTAAG\u001b[01;31m\u001b[KAAAaaTTT\u001b[m\u001b[KCATGAGCNCGAG\n",
      "NCTGCGCNGCGAGCCACAACN\u001b[01;31m\u001b[KAAAgtTTT\u001b[m\u001b[KG\n",
      "TAGNGTACTCCTTNTN\u001b[01;31m\u001b[KAAAaaTTT\u001b[m\u001b[KTTCTCG\n",
      "ACTNGACGCTTCNCTN\u001b[01;31m\u001b[KAAAccTTT\u001b[m\u001b[KGCNTNT\n",
      "GGGN\u001b[01;31m\u001b[KAAAaaTTT\u001b[m\u001b[KCGGCTGNNTGCNCNNTNN\n",
      "TNGAACCCNGTNCGGTC\u001b[01;31m\u001b[KAAAccTTT\u001b[m\u001b[KTCNTA\n",
      "NGGTACAAAGCNCCCANNNTT\u001b[01;31m\u001b[KAAAgtTTT\u001b[m\u001b[KC\n",
      "\u001b[01;31m\u001b[KAAAccTTT\u001b[m\u001b[KNCNGCCNTNCTCANNCGTGNTT\n",
      "NTTCACTC\u001b[01;31m\u001b[KAAActTTT\u001b[m\u001b[KNGNGNATTNGGAAT\n",
      "GGATG\u001b[01;31m\u001b[KAAAaaTTT\u001b[m\u001b[KNCCAGCCAANNCTTGNA\n"
     ]
    }
   ],
   "source": [
    "grep 'AAA..TTT' genes/sequences.fasta"
   ]
  },
  {
   "cell_type": "markdown",
   "metadata": {
    "slideshow": {
     "slide_type": "fragment"
    }
   },
   "source": [
    "Bonus: if we use the -B 1 grep option, we can retrieve the names of these sequences:"
   ]
  },
  {
   "cell_type": "code",
   "execution_count": 25,
   "metadata": {
    "run_control": {
     "frozen": false,
     "read_only": false
    },
    "slideshow": {
     "slide_type": "fragment"
    }
   },
   "outputs": [
    {
     "name": "stdout",
     "output_type": "stream",
     "text": [
      ">seq009 sequence description   \n",
      "TCGACCTGCNNANGGCTNTGT\u001b[01;31m\u001b[KAAAccTTT\u001b[m\u001b[KG\n",
      "--\n",
      ">seq012 sequence description    ________________\n",
      "TNCGTCCGGCCAAA\u001b[01;31m\u001b[KAAAgtTTT\u001b[m\u001b[KNGNGCTTG\n",
      "--\n",
      ">seq024 sequence description   / Congrats! This \\ \n",
      "NAAGTTTAAG\u001b[01;31m\u001b[KAAAaaTTT\u001b[m\u001b[KCATGAGCNCGAG\n",
      "--\n",
      ">seq025 sequence description   | was the last  |\n",
      "NCTGCGCNGCGAGCCACAACN\u001b[01;31m\u001b[KAAAgtTTT\u001b[m\u001b[KG\n",
      "--\n",
      ">seq026 sequence description   \\ grep exercise / \n",
      "TAGNGTACTCCTTNTN\u001b[01;31m\u001b[KAAAaaTTT\u001b[m\u001b[KTTCTCG\n",
      "--\n",
      ">seq030 sequence description    ----------------\n",
      "ACTNGACGCTTCNCTN\u001b[01;31m\u001b[KAAAccTTT\u001b[m\u001b[KGCNTNT\n",
      "--\n",
      ">seq032 sequence description       \\  ^__^\n",
      "GGGN\u001b[01;31m\u001b[KAAAaaTTT\u001b[m\u001b[KCGGCTGNNTGCNCNNTNN\n",
      "--\n",
      ">seq033 sequence description        \\ (oo)\\_______\n",
      "TNGAACCCNGTNCGGTC\u001b[01;31m\u001b[KAAAccTTT\u001b[m\u001b[KTCNTA\n",
      "--\n",
      ">seq038 sequence description          (__)\\    )\\/\\ \n",
      "NGGTACAAAGCNCCCANNNTT\u001b[01;31m\u001b[KAAAgtTTT\u001b[m\u001b[KC\n",
      "--\n",
      ">seq043 sequence description           ||----w |\n",
      "\u001b[01;31m\u001b[KAAAccTTT\u001b[m\u001b[KNCNGCCNTNCTCANNCGTGNTT\n",
      "--\n",
      ">seq046 sequence description           ||    ||\n",
      "NTTCACTC\u001b[01;31m\u001b[KAAActTTT\u001b[m\u001b[KNGNGNATTNGGAAT\n",
      "--\n",
      ">seq049 sequence description   \n",
      "GGATG\u001b[01;31m\u001b[KAAAaaTTT\u001b[m\u001b[KNCCAGCCAANNCTTGNA\n"
     ]
    }
   ],
   "source": [
    "grep -B1 'AAA..TTT' genes/sequences.fasta "
   ]
  },
  {
   "cell_type": "markdown",
   "metadata": {
    "slideshow": {
     "slide_type": "subslide"
    }
   },
   "source": [
    "## How do we search for the \">\" symbol?\n",
    "\n",
    "From the previous output, it seems like we could see something more in the output, if we manage to print only the lines containing a \">\" at the beginning.\n",
    "\n",
    "However, > is also the redirection symbol, and we are not careful with it, we may overwrite some file or do something even worst.\n",
    "\n",
    "The solution in this case is the quotation. Use '>' to search for a literal >:"
   ]
  },
  {
   "cell_type": "code",
   "execution_count": 26,
   "metadata": {
    "run_control": {
     "frozen": false,
     "read_only": false
    },
    "slideshow": {
     "slide_type": "fragment"
    }
   },
   "outputs": [
    {
     "name": "stdout",
     "output_type": "stream",
     "text": [
      "\u001b[01;31m\u001b[K>\u001b[m\u001b[Kseq009 sequence description   \n",
      "\u001b[01;31m\u001b[K>\u001b[m\u001b[Kseq012 sequence description    ________________\n",
      "\u001b[01;31m\u001b[K>\u001b[m\u001b[Kseq024 sequence description   / Congrats! This \\ \n",
      "\u001b[01;31m\u001b[K>\u001b[m\u001b[Kseq025 sequence description   | was the last  |\n",
      "\u001b[01;31m\u001b[K>\u001b[m\u001b[Kseq026 sequence description   \\ grep exercise / \n",
      "\u001b[01;31m\u001b[K>\u001b[m\u001b[Kseq030 sequence description    ----------------\n",
      "\u001b[01;31m\u001b[K>\u001b[m\u001b[Kseq032 sequence description       \\  ^__^\n",
      "\u001b[01;31m\u001b[K>\u001b[m\u001b[Kseq033 sequence description        \\ (oo)\\_______\n",
      "\u001b[01;31m\u001b[K>\u001b[m\u001b[Kseq038 sequence description          (__)\\    )\\/\\ \n",
      "\u001b[01;31m\u001b[K>\u001b[m\u001b[Kseq043 sequence description           ||----w |\n",
      "\u001b[01;31m\u001b[K>\u001b[m\u001b[Kseq046 sequence description           ||    ||\n",
      "\u001b[01;31m\u001b[K>\u001b[m\u001b[Kseq049 sequence description   \n"
     ]
    }
   ],
   "source": [
    "# To search for a literal >, remember to quote it correctly:\n",
    "grep -B1 'AAA..TTT' genes/sequences.fasta  | grep \">\""
   ]
  },
  {
   "cell_type": "markdown",
   "metadata": {
    "slideshow": {
     "slide_type": "slide"
    }
   },
   "source": [
    "# Working with SAM and BAM files\n",
    "\n",
    "SAM (and its compressed version, BAM) is a popular format for storing NGS data. \n",
    "\n",
    "SAM stands for Sequence Alignment/Map format (https://samtools.github.io/hts-specs/SAMv1.pdf). SAM files contains the output of the alignment of sequences or short reads to a reference genome.\n",
    "\n",
    "The Introduction to NGS session of this course will explore the SAM format in details, and teach you how it is generated from sequencing data. \n",
    "\n",
    "Here we will have a quick preview to it, to help you familiarize with the Unix tools used to handle NGS data"
   ]
  },
  {
   "cell_type": "markdown",
   "metadata": {
    "slideshow": {
     "slide_type": "subslide"
    }
   },
   "source": [
    "## Example SAM file\n",
    "\n",
    "The exercises/ngs folder contains a sample SAM file, 1000G_HG00154_sample.sam:"
   ]
  },
  {
   "cell_type": "code",
   "execution_count": 34,
   "metadata": {},
   "outputs": [
    {
     "name": "stdout",
     "output_type": "stream",
     "text": [
      "@HD\tVN:1.0\tGO:none\tSO:coordinate\n",
      "@SQ\tSN:1\tLN:249250621\tAS:NCBI37\tUR:ftp://ftp.1000genomes.ebi.ac.uk/vol1/ftp/technical/reference/human_g1k_v37.fasta.gz\tM5:1b22b98cdeb4a9304cb5d48026a85128\tSP:Human\n",
      "@SQ\tSN:2\tLN:243199373\tAS:NCBI37\tUR:ftp://ftp.1000genomes.ebi.ac.uk/vol1/ftp/technical/reference/human_g1k_v37.fasta.gz\tM5:a0d9851da00400dec1098a9255ac712e\tSP:Human\n",
      "@SQ\tSN:3\tLN:198022430\tAS:NCBI37\tUR:ftp://ftp.1000genomes.ebi.ac.uk/vol1/ftp/technical/reference/human_g1k_v37.fasta.gz\tM5:fdfd811849cc2fadebc929bb925902e5\tSP:Human\n",
      "@SQ\tSN:4\tLN:191154276\tAS:NCBI37\tUR:ftp://ftp.1000genomes.ebi.ac.uk/vol1/ftp/technical/reference/human_g1k_v37.fasta.gz\tM5:23dccd106897542ad87d2765d28a19a1\tSP:Human\n",
      "@SQ\tSN:5\tLN:180915260\tAS:NCBI37\tUR:ftp://ftp.1000genomes.ebi.ac.uk/vol1/ftp/technical/reference/human_g1k_v37.fasta.gz\tM5:0740173db9ffd264d728f32784845cd7\tSP:Human\n",
      "@SQ\tSN:6\tLN:171115067\tAS:NCBI37\tUR:ftp://ftp.1000genomes.ebi.ac.uk/vol1/ftp/technical/reference/human_g1k_v37.fasta.gz\tM5:1d3a93a248d92a729ee764823acbbc6b\tSP:Human\n",
      "@SQ\tSN:7\tLN:159138663\tAS:NCBI37\tUR:ftp://ftp.1000genomes.ebi.ac.uk/vol1/ftp/technical/reference/human_g1k_v37.fasta.gz\tM5:618366e953d6aaad97dbe4777c29375e\tSP:Human\n",
      "@SQ\tSN:8\tLN:146364022\tAS:NCBI37\tUR:ftp://ftp.1000genomes.ebi.ac.uk/vol1/ftp/technical/reference/human_g1k_v37.fasta.gz\tM5:96f514a9929e410c6651697bded59aec\tSP:Human\n",
      "@SQ\tSN:9\tLN:141213431\tAS:NCBI37\tUR:ftp://ftp.1000genomes.ebi.ac.uk/vol1/ftp/technical/reference/human_g1k_v37.fasta.gz\tM5:3e273117f15e0a400f01055d9f393768\tSP:Human\n"
     ]
    }
   ],
   "source": [
    "cd ngs\n",
    "head 1000G_HG00154_sample.sam"
   ]
  },
  {
   "cell_type": "markdown",
   "metadata": {
    "slideshow": {
     "slide_type": "subslide"
    }
   },
   "source": [
    "## Format of a SAM file\n",
    "\n",
    "### SAM Headers\n",
    "\n",
    "The first lines of a SAM file contain the headers, with information on how the file was generated.\n",
    "\n",
    "This section is optional, but contains information on which tools have been used to generate the file, which reference genome was used, and more.\n",
    "\n",
    "All the header lines begin with the \"@\" character. We can use grep with a regular expression to extract all the lines from the headers.\n",
    "\n",
    "What is the correct regular expression to print all the lines starting with \"@\"? (hint: man grep contains an example, or you can simply google it)"
   ]
  },
  {
   "cell_type": "code",
   "execution_count": 35,
   "metadata": {
    "slideshow": {
     "slide_type": "fragment"
    }
   },
   "outputs": [
    {
     "name": "stdout",
     "output_type": "stream",
     "text": [
      "@HD\tVN:1.0\tGO:none\tSO:coordinate\n",
      "@SQ\tSN:1\tLN:249250621\tAS:NCBI37\tUR:ftp://ftp.1000genomes.ebi.ac.uk/vol1/ftp/technical/reference/human_g1k_v37.fasta.gz\tM5:1b22b98cdeb4a9304cb5d48026a85128\tSP:Human\n",
      "@SQ\tSN:2\tLN:243199373\tAS:NCBI37\tUR:ftp://ftp.1000genomes.ebi.ac.uk/vol1/ftp/technical/reference/human_g1k_v37.fasta.gz\tM5:a0d9851da00400dec1098a9255ac712e\tSP:Human\n",
      "@SQ\tSN:3\tLN:198022430\tAS:NCBI37\tUR:ftp://ftp.1000genomes.ebi.ac.uk/vol1/ftp/technical/reference/human_g1k_v37.fasta.gz\tM5:fdfd811849cc2fadebc929bb925902e5\tSP:Human\n",
      "@SQ\tSN:4\tLN:191154276\tAS:NCBI37\tUR:ftp://ftp.1000genomes.ebi.ac.uk/vol1/ftp/technical/reference/human_g1k_v37.fasta.gz\tM5:23dccd106897542ad87d2765d28a19a1\tSP:Human\n",
      "@SQ\tSN:5\tLN:180915260\tAS:NCBI37\tUR:ftp://ftp.1000genomes.ebi.ac.uk/vol1/ftp/technical/reference/human_g1k_v37.fasta.gz\tM5:0740173db9ffd264d728f32784845cd7\tSP:Human\n",
      "@SQ\tSN:6\tLN:171115067\tAS:NCBI37\tUR:ftp://ftp.1000genomes.ebi.ac.uk/vol1/ftp/technical/reference/human_g1k_v37.fasta.gz\tM5:1d3a93a248d92a729ee764823acbbc6b\tSP:Human\n",
      "@SQ\tSN:7\tLN:159138663\tAS:NCBI37\tUR:ftp://ftp.1000genomes.ebi.ac.uk/vol1/ftp/technical/reference/human_g1k_v37.fasta.gz\tM5:618366e953d6aaad97dbe4777c29375e\tSP:Human\n",
      "@SQ\tSN:8\tLN:146364022\tAS:NCBI37\tUR:ftp://ftp.1000genomes.ebi.ac.uk/vol1/ftp/technical/reference/human_g1k_v37.fasta.gz\tM5:96f514a9929e410c6651697bded59aec\tSP:Human\n",
      "@SQ\tSN:9\tLN:141213431\tAS:NCBI37\tUR:ftp://ftp.1000genomes.ebi.ac.uk/vol1/ftp/technical/reference/human_g1k_v37.fasta.gz\tM5:3e273117f15e0a400f01055d9f393768\tSP:Human\n"
     ]
    }
   ],
   "source": [
    "grep \"@\" 1000G_HG00154_sample.sam | less"
   ]
  },
  {
   "cell_type": "code",
   "execution_count": 36,
   "metadata": {
    "slideshow": {
     "slide_type": "fragment"
    }
   },
   "outputs": [
    {
     "name": "stdout",
     "output_type": "stream",
     "text": [
      "@HD\tVN:1.0\tGO:none\tSO:coordinate\n",
      "@SQ\tSN:1\tLN:249250621\tAS:NCBI37\tUR:ftp://ftp.1000genomes.ebi.ac.uk/vol1/ftp/technical/reference/human_g1k_v37.fasta.gz\tM5:1b22b98cdeb4a9304cb5d48026a85128\tSP:Human\n",
      "@SQ\tSN:2\tLN:243199373\tAS:NCBI37\tUR:ftp://ftp.1000genomes.ebi.ac.uk/vol1/ftp/technical/reference/human_g1k_v37.fasta.gz\tM5:a0d9851da00400dec1098a9255ac712e\tSP:Human\n",
      "@SQ\tSN:3\tLN:198022430\tAS:NCBI37\tUR:ftp://ftp.1000genomes.ebi.ac.uk/vol1/ftp/technical/reference/human_g1k_v37.fasta.gz\tM5:fdfd811849cc2fadebc929bb925902e5\tSP:Human\n",
      "@SQ\tSN:4\tLN:191154276\tAS:NCBI37\tUR:ftp://ftp.1000genomes.ebi.ac.uk/vol1/ftp/technical/reference/human_g1k_v37.fasta.gz\tM5:23dccd106897542ad87d2765d28a19a1\tSP:Human\n",
      "@SQ\tSN:5\tLN:180915260\tAS:NCBI37\tUR:ftp://ftp.1000genomes.ebi.ac.uk/vol1/ftp/technical/reference/human_g1k_v37.fasta.gz\tM5:0740173db9ffd264d728f32784845cd7\tSP:Human\n",
      "@SQ\tSN:6\tLN:171115067\tAS:NCBI37\tUR:ftp://ftp.1000genomes.ebi.ac.uk/vol1/ftp/technical/reference/human_g1k_v37.fasta.gz\tM5:1d3a93a248d92a729ee764823acbbc6b\tSP:Human\n",
      "@SQ\tSN:7\tLN:159138663\tAS:NCBI37\tUR:ftp://ftp.1000genomes.ebi.ac.uk/vol1/ftp/technical/reference/human_g1k_v37.fasta.gz\tM5:618366e953d6aaad97dbe4777c29375e\tSP:Human\n",
      "@SQ\tSN:8\tLN:146364022\tAS:NCBI37\tUR:ftp://ftp.1000genomes.ebi.ac.uk/vol1/ftp/technical/reference/human_g1k_v37.fasta.gz\tM5:96f514a9929e410c6651697bded59aec\tSP:Human\n",
      "@SQ\tSN:9\tLN:141213431\tAS:NCBI37\tUR:ftp://ftp.1000genomes.ebi.ac.uk/vol1/ftp/technical/reference/human_g1k_v37.fasta.gz\tM5:3e273117f15e0a400f01055d9f393768\tSP:Human\n"
     ]
    }
   ],
   "source": [
    "# Grepping for \"@\" is not enough, because some of the Alignment lines contain the same character\n",
    "grep \"^@\" 1000G_HG00154_sample.sam | less"
   ]
  },
  {
   "cell_type": "markdown",
   "metadata": {
    "slideshow": {
     "slide_type": "subslide"
    }
   },
   "source": [
    "## SAM - Alignment section\n",
    "\n",
    "Let's ignore the Headers section of this SAM file for now. The Intro to NGS session of this workshop will explain it more in detail.\n",
    "\n",
    "How can we use grep to print all the lines that are NOT in the headers?"
   ]
  },
  {
   "cell_type": "code",
   "execution_count": 31,
   "metadata": {
    "slideshow": {
     "slide_type": "fragment"
    }
   },
   "outputs": [
    {
     "name": "stdout",
     "output_type": "stream",
     "text": [
      "ERR018419.14029113\t147\t21\t33031576\t60\t6S70M\t=\t33031178\t-467\tCAAGACAAAAAAATGAAAACTACAAAAGCATCCATCTTGGGGCGTCCCAATTGCTGAGTAACAAATGAGACGCTGT\t#######CACCC:34ACCA7470BBBB?<@7@@@>=BA@@@@8=A@@?BABA@>A@B?@B@?BBAB@A?@7?@?><\tX0:i:1\tX1:i:0\tXC:i:70\tMD:Z:70\tRG:Z:ERR018419\tAM:i:37\tNM:i:0\tSM:i:37\tMQ:i:60\tXT:A:U\tBQ:Z:@@@@@@@@@@@@@@@@@@@@@@@@@@@@@@@@@@@@@@@@@@@@@@@@@@@@@@@@@@@@@@@@@@@@@@@@@@@@\n",
      "ERR018419.19261557\t83\t21\t33031576\t60\t76M\t=\t33031160\t-491\tAAAAAAATGAAAACTACAAAAGCATCCTTCTTGGGGCGTCCCAATTGCTGAGTAACGAATGAGACGCTGTGGCCAA\t?CCCCCBB@CBCA@A@@BBCB46639/%53)@@@@?8?B@@@BA@B??B@@4<;?5#<=:0A@A8@:B?BA?<?B>\tX0:i:1\tX1:i:0\tMD:Z:27A28A19\tRG:Z:ERR018419\tAM:i:37\tNM:i:2\tSM:i:37\tMQ:i:60\tXT:A:U\tBQ:Z:BEEDBA@@@@@@@@@@@@@@@@@@@@@@@@@@@@@@@@@@@@@@@@@@@@@@@@@@@@@@@@@@@@@@@@@@@@DC\n",
      "ERR018418.15483761\t99\t21\t33031580\t60\t71M5S\t=\t33032025\t486\tAAATGAAAACTACAAAAGCATCCATCTTGGGGCGTCCCAATTGCTGAGTAACAAATGAGACGCTGTGGCCCAACTC\t;AAA@BBAB?BA?BBCB@@AA@@AA@BB@@8=<5@?@@:B9B@:B@=@@AB?ABBA;>:==2<B:6733?######\tX0:i:1\tX1:i:0\tXC:i:71\tMD:Z:70A0\tRG:Z:ERR018418\tAM:i:37\tNM:i:1\tSM:i:37\tMQ:i:60\tXT:A:U\tBQ:Z:@FC@@@@@@@@@@@@@@@@@@@@@@@@@@@@@@@@@@@@@@@@@@@@@@@@@@@@@@@@@@@@@@@@@@@@@@@@@\n",
      "ERR018420.32040701\t83\t21\t33031606\t60\t76M\t=\t33031211\t-470\tTTGGGGCGTCCCAATTGCTGAGTAACAAATGAGACGCTGTGGCCAAACTCAGTCATAACTAATGACATTTCTAGAC\t@A@A@A8<AA@?B@AA@@A@A??B@@BBAA?A?@8?@A>A??@@BB@@B@A>B@AAB@@ABAA@@@ABBBABB?@@\tX0:i:1\tX1:i:0\tMD:Z:76\tRG:Z:ERR018420\tAM:i:37\tNM:i:0\tSM:i:37\tMQ:i:60\tXT:A:U\tBQ:Z:@@@@@@@@@@@@@@@@@@@@@@@@@@@@@@@@@@@@@@@@@@@@@@@@@@@@@@@@@@@@@@@@@@@@@@@@@@@@\n",
      "ERR018420.24362571\t147\t21\t33031608\t60\t14S62M\t=\t33031194\t-475\tAACGCATCCGTCTTGGGGCGTCCCAATTGCTGAGTAACAAATGAGACGCTGTGGCCAAACTCAGTCATAACTAATG\t###############<>;7;;@??A@@8>@@?A;?B???A@='A;66?>9>A????=B?@A>A>B@@AB@@AB@A<\tX0:i:1\tX1:i:0\tXC:i:62\tMD:Z:62\tRG:Z:ERR018420\tAM:i:37\tNM:i:0\tSM:i:37\tMQ:i:60\tXT:A:U\tBQ:Z:@@@@@@@@@@@@@@@@@@@@@@@@@@@@@@@@@@@@@@@@@@@@@@@@@@@@@@@@@@@@@@@@@@@@@@@@@@@@\n",
      "ERR018418.8551258\t147\t21\t33031642\t60\t76M\t=\t33031240\t-477\tCTGTGGCCAAACTCAGTCATAACTAATGACATTTCTAGACAAAGTGACTTCAGATTTTCAAAGCGTACCCTGTTTA\tBB9B@=@?BBAAA@B>B@AAB@@A@AA?@@ABBB@AB@@@BBA=B?@@BB@B@A@BAB@BBA@8?A?AA@A>BAA<\tX0:i:1\tX1:i:0\tMD:Z:76\tRG:Z:ERR018418\tAM:i:37\tNM:i:0\tSM:i:37\tMQ:i:60\tXT:A:U\tBQ:Z:@@@@@@@@@@@@@@@@@@@@@@@@@@@@@@@@@@@@@@@@@@@@@@@@@@@@@@@@@@@@@@@@@@@@@@@@@@@@\n",
      "ERR018418.12789017\t99\t21\t33031654\t60\t76M\t=\t33032063\t484\tTCAGTCATAACTAATGACATTTCTAGACAAAGTGACTTCAGATTTTCAAAGCGTACCCTGTTTACATCATTTTGCC\t??A@A@B@AB?BABA@B?AABB@BA@B>ABB@@@B>BB?A@BABBB@ABBA@8@@?@@B@AABB?BB@BBCCCA<B\tX0:i:1\tX1:i:0\tMD:Z:76\tRG:Z:ERR018418\tAM:i:37\tNM:i:0\tSM:i:37\tMQ:i:60\tXT:A:U\tBQ:Z:@@@@@@@@@@@@@@@@@@@@@@@@@@@@@@@@@@@@@@@@@@@@@@@@@@@@@@@@@@@@@@@@@@@@@@@@@@@@\n",
      "ERR018418.9132383\t99\t21\t33031729\t60\t36M40S\t=\t33032168\t503\tCAATTTCGCGTACTGCAACCGGCGGGCCACGCCCCCGTGGAAAGAAGGGTGTTTTCTCCCCCTTTCGGGGGTTCGG\t?AAACB@7@9AA?B@@AB?@8@@8AA<@+855<<<#########################################\tX0:i:1\tX1:i:0\tXC:i:36\tMD:Z:36\tRG:Z:ERR018418\tAM:i:37\tNM:i:0\tSM:i:37\tMQ:i:60\tXT:A:U\tBQ:Z:@@@@@@@@@@@@@@@@@@@@@@@@@@@@@@@@@@@@@@@@@@@@@@@@@@@@@@@@@@@@@@@@@@@@@@@@@@@@\n",
      "ERR018419.8913816\t83\t21\t33031868\t60\t41S35M\t=\t33031428\t-474\tGGGGAGCCCCCGGCGCCCGCGCCCCCTTGGCCCCGCCCCCGGTCTTTCCCGGCCACTCGCGACCCGAGGCTGCCGC\t##############################################################;=4;=<;8@<:198\tX0:i:1\tX1:i:0\tXC:i:35\tMD:Z:3A31\tRG:Z:ERR018419\tAM:i:37\tNM:i:1\tSM:i:37\tMQ:i:60\tXT:A:U\tBQ:Z:@@@@@@@@@@@@@@@@@@@@@@@@@@@@@@@@@@@@@@@@@@@@@@@@@@@@@@@@@@@@@@@@@@@@@@@@@@@@\n",
      "ERR018419.25794159\t147\t21\t33031877\t60\t41S35M\t=\t33031430\t-481\tCGGGCGCCCGGCCCCCCTTGCNCCAGCCCGAGGCCATTCCCGGCCACTCGCGGCCCGCGGCTGCCGCAGGGGGCGG\t#####################!################################73-)2.05;</;=41:;;>+:;\tX0:i:1\tX1:i:0\tXC:i:35\tMD:Z:11A4A18\tRG:Z:ERR018419\tAM:i:25\tNM:i:2\tSM:i:25\tMQ:i:60\tXT:A:U\tBQ:Z:@@@@@@@@@@@@@@@@@@@@@@@@@@@@@@@@@@@@@@@@@@@@@@@@@@@@@@@@@@@@@@@@@@@@@@@@@@@@\n"
     ]
    }
   ],
   "source": [
    "grep -v \"^@\" 1000G_HG00154_sample.sam | less"
   ]
  },
  {
   "cell_type": "markdown",
   "metadata": {
    "slideshow": {
     "slide_type": "slide"
    }
   },
   "source": [
    "## Using *cut* to extract columns from a file\n",
    "\n",
    "The alignment section of a SAM file contains information on the mapping of short sequencing reads to a reference genome.\n",
    "\n",
    "\n",
    "\n",
    "The Unix command **cut** allows "
   ]
  },
  {
   "cell_type": "markdown",
   "metadata": {
    "slideshow": {
     "slide_type": "subslide"
    }
   },
   "source": [
    "# Applying the Unix Philosophy to your programming\n",
    "\n",
    "In the following days, when you will learn the basics of Python and R programming, you will be faced with the dilemma of how to organize your scripts.\n",
    "\n",
    "You can use the Unix Philosophy as a guideline to have more versatile files and scripts."
   ]
  },
  {
   "cell_type": "markdown",
   "metadata": {
    "slideshow": {
     "slide_type": "fragment"
    }
   },
   "source": [
    "## Example of Unix Approach\n",
    "\n",
    "Let's immagine we want to plot the CG content of a genome:\n",
    "\n",
    "- **Approach 1 (non-Unix)**: write a single script that downloads the genome, calculates the GC content, and draws a plot\n",
    "- **Approach 2 (Unix)**: write three separate scripts or functions, then pipe them together using the Unix Pipe or with a wrapper script.\n",
    "\n",
    "The Unix Approach requires a bit of extra work, but it is more versatile in case you want to reuse the same scripts."
   ]
  },
  {
   "cell_type": "markdown",
   "metadata": {
    "slideshow": {
     "slide_type": "slide"
    }
   },
   "source": [
    "# Time for a break!"
   ]
  },
  {
   "cell_type": "code",
   "execution_count": null,
   "metadata": {
    "run_control": {
     "frozen": false,
     "read_only": false
    }
   },
   "outputs": [],
   "source": []
  }
 ],
 "metadata": {
  "celltoolbar": "Slideshow",
  "hide_input": false,
  "kernelspec": {
   "display_name": "Bash",
   "language": "bash",
   "name": "bash"
  },
  "language_info": {
   "codemirror_mode": "shell",
   "file_extension": ".sh",
   "mimetype": "text/x-sh",
   "name": "bash"
  },
  "nav_menu": {},
  "toc": {
   "nav_menu": {},
   "number_sections": true,
   "sideBar": true,
   "skip_h1_title": false,
   "title_cell": "Table of Contents",
   "title_sidebar": "Contents",
   "toc_cell": true,
   "toc_position": {},
   "toc_section_display": "block",
   "toc_window_display": true
  }
 },
 "nbformat": 4,
 "nbformat_minor": 1
}
