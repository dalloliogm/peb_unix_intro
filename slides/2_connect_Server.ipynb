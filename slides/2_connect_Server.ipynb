{
 "cells": [
  {
   "cell_type": "markdown",
   "metadata": {
    "toc": "true"
   },
   "source": [
    "<h1>Table of Contents<span class=\"tocSkip\"></span></h1>\n",
    "<div class=\"toc\"><ul class=\"toc-item\"><li><span><a href=\"#Introduction-to-Unix,-Part-2---Connecting-to-a-remote-server\" data-toc-modified-id=\"Introduction-to-Unix,-Part-2---Connecting-to-a-remote-server-1\"><span class=\"toc-item-num\">1&nbsp;&nbsp;</span>Introduction to Unix, Part 2 - Connecting to a remote server</a></span></li><li><span><a href=\"#How-many-computers-are-we-going-to-use-in-this-course?\" data-toc-modified-id=\"How-many-computers-are-we-going-to-use-in-this-course?-2\"><span class=\"toc-item-num\">2&nbsp;&nbsp;</span>How many computers are we going to use in this course?</a></span><ul class=\"toc-item\"><li><span><a href=\"#Our-course---computers-infrastructure\" data-toc-modified-id=\"Our-course---computers-infrastructure-2.1\"><span class=\"toc-item-num\">2.1&nbsp;&nbsp;</span>Our course - computers infrastructure</a></span></li></ul></li><li><span><a href=\"#Connecting-to-a-remote-server\" data-toc-modified-id=\"Connecting-to-a-remote-server-3\"><span class=\"toc-item-num\">3&nbsp;&nbsp;</span>Connecting to a remote server</a></span><ul class=\"toc-item\"><li><span><a href=\"#Connecting-to--evop2018login.imp.fu-berlin.de---RSA-key-fingerprint\" data-toc-modified-id=\"Connecting-to--evop2018login.imp.fu-berlin.de---RSA-key-fingerprint-3.1\"><span class=\"toc-item-num\">3.1&nbsp;&nbsp;</span>Connecting to  evop2018login.imp.fu-berlin.de - RSA key fingerprint</a></span></li><li><span><a href=\"#Connecting-to-evop2018Server---Password\" data-toc-modified-id=\"Connecting-to-evop2018Server---Password-3.2\"><span class=\"toc-item-num\">3.2&nbsp;&nbsp;</span>Connecting to evop2018Server - Password</a></span></li><li><span><a href=\"#Are-you-in-evop2018-Server?\" data-toc-modified-id=\"Are-you-in-evop2018-Server?-3.3\"><span class=\"toc-item-num\">3.3&nbsp;&nbsp;</span>Are you in evop2018 Server?</a></span></li><li><span><a href=\"#Connection-error?\" data-toc-modified-id=\"Connection-error?-3.4\"><span class=\"toc-item-num\">3.4&nbsp;&nbsp;</span>Connection error?</a></span></li><li><span><a href=\"#If-the-connection-doesn't-work-at-all---downloading-the-materials-on-your-computer\" data-toc-modified-id=\"If-the-connection-doesn't-work-at-all---downloading-the-materials-on-your-computer-3.5\"><span class=\"toc-item-num\">3.5&nbsp;&nbsp;</span>If the connection doesn't work at all - downloading the materials on your computer</a></span></li></ul></li><li><span><a href=\"#Executing-graphical-applications-from-a-remote-server\" data-toc-modified-id=\"Executing-graphical-applications-from-a-remote-server-4\"><span class=\"toc-item-num\">4&nbsp;&nbsp;</span>Executing graphical applications from a remote server</a></span></li><li><span><a href=\"#Which-folder-am-I?\" data-toc-modified-id=\"Which-folder-am-I?-5\"><span class=\"toc-item-num\">5&nbsp;&nbsp;</span>Which folder am I?</a></span></li><li><span><a href=\"#Where-can-I-go?\" data-toc-modified-id=\"Where-can-I-go?-6\"><span class=\"toc-item-num\">6&nbsp;&nbsp;</span>Where can I go?</a></span><ul class=\"toc-item\"><li><span><a href=\"#The-'cd'-man-page\" data-toc-modified-id=\"The-'cd'-man-page-6.1\"><span class=\"toc-item-num\">6.1&nbsp;&nbsp;</span>The <strong>'cd'</strong> man page</a></span></li><li><span><a href=\"#If-you-get-lost:-type-&quot;cd&quot;-without-arguments\" data-toc-modified-id=\"If-you-get-lost:-type-&quot;cd&quot;-without-arguments-6.2\"><span class=\"toc-item-num\">6.2&nbsp;&nbsp;</span>If you get lost: type \"cd\" without arguments</a></span></li><li><span><a href=\"#How-to-refer-to-the-current-(.)-and-parent-(..)-folders\" data-toc-modified-id=\"How-to-refer-to-the-current-(.)-and-parent-(..)-folders-6.3\"><span class=\"toc-item-num\">6.3&nbsp;&nbsp;</span>How to refer to the current (.) and parent (..) folders</a></span></li></ul></li><li><span><a href=\"#Structure-of-the-Unix-file-system\" data-toc-modified-id=\"Structure-of-the-Unix-file-system-7\"><span class=\"toc-item-num\">7&nbsp;&nbsp;</span>Structure of the Unix file system</a></span><ul class=\"toc-item\"><li><span><a href=\"#The-Unix-file-tree\" data-toc-modified-id=\"The-Unix-file-tree-7.1\"><span class=\"toc-item-num\">7.1&nbsp;&nbsp;</span>The Unix file tree</a></span></li><li><span><a href=\"#Contents-of-the-/root-directory\" data-toc-modified-id=\"Contents-of-the-/root-directory-7.2\"><span class=\"toc-item-num\">7.2&nbsp;&nbsp;</span>Contents of the /root directory</a></span></li><li><span><a href=\"#The-course-materials\" data-toc-modified-id=\"The-course-materials-7.3\"><span class=\"toc-item-num\">7.3&nbsp;&nbsp;</span>The course materials</a></span></li></ul></li><li><span><a href=\"#Copy-the-course-materials-in-your-home\" data-toc-modified-id=\"Copy-the-course-materials-in-your-home-8\"><span class=\"toc-item-num\">8&nbsp;&nbsp;</span>Copy the course materials in your home</a></span></li><li><span><a href=\"#The-exercises-files\" data-toc-modified-id=\"The-exercises-files-9\"><span class=\"toc-item-num\">9&nbsp;&nbsp;</span>The exercises files</a></span></li><li><span><a href=\"#Accessing-the-contents-of-a-file:-head,-cat,-less\" data-toc-modified-id=\"Accessing-the-contents-of-a-file:-head,-cat,-less-10\"><span class=\"toc-item-num\">10&nbsp;&nbsp;</span>Accessing the contents of a file: head, cat, less</a></span><ul class=\"toc-item\"><li><span><a href=\"#The--n-option-in-head\" data-toc-modified-id=\"The--n-option-in-head-10.1\"><span class=\"toc-item-num\">10.1&nbsp;&nbsp;</span>The -n option in head</a></span></li><li><span><a href=\"#Browsing-the-contents-of-a-file-with-less\" data-toc-modified-id=\"Browsing-the-contents-of-a-file-with-less-10.2\"><span class=\"toc-item-num\">10.2&nbsp;&nbsp;</span>Browsing the contents of a file with less</a></span></li></ul></li><li><span><a href=\"#Editing-files-with-nano\" data-toc-modified-id=\"Editing-files-with-nano-11\"><span class=\"toc-item-num\">11&nbsp;&nbsp;</span>Editing files with nano</a></span><ul class=\"toc-item\"><li><span><a href=\"#The-nano-text-editor\" data-toc-modified-id=\"The-nano-text-editor-11.1\"><span class=\"toc-item-num\">11.1&nbsp;&nbsp;</span>The nano text editor</a></span></li><li><span><a href=\"#How-to-use-nano\" data-toc-modified-id=\"How-to-use-nano-11.2\"><span class=\"toc-item-num\">11.2&nbsp;&nbsp;</span>How to use nano</a></span></li><li><span><a href=\"#Nano-exercise\" data-toc-modified-id=\"Nano-exercise-11.3\"><span class=\"toc-item-num\">11.3&nbsp;&nbsp;</span>Nano exercise</a></span></li></ul></li><li><span><a href=\"#Other-useful-Unix-commands-(moving-and-copying-files)\" data-toc-modified-id=\"Other-useful-Unix-commands-(moving-and-copying-files)-12\"><span class=\"toc-item-num\">12&nbsp;&nbsp;</span>Other useful Unix commands (moving and copying files)</a></span><ul class=\"toc-item\"><li><span><a href=\"#Other-Unix-commands\" data-toc-modified-id=\"Other-Unix-commands-12.1\"><span class=\"toc-item-num\">12.1&nbsp;&nbsp;</span>Other Unix commands</a></span></li></ul></li><li><span><a href=\"#Time-for-lunch!\" data-toc-modified-id=\"Time-for-lunch!-13\"><span class=\"toc-item-num\">13&nbsp;&nbsp;</span>Time for lunch!</a></span></li></ul></div>"
   ]
  },
  {
   "cell_type": "markdown",
   "metadata": {
    "slideshow": {
     "slide_type": "slide"
    }
   },
   "source": [
    "# Introduction to Unix, Part 2 - Connecting to a remote server\n",
    "\n",
    "**<font color='darkgreen'> Welcome to the Programming for Evolutionary Biology workshop!! </font>** \n",
    "\n",
    "\n",
    "Giovanni M. Dall'Olio. Data Strategy and Design, GSK. March 2020. \n",
    "\n",
    "Quick link to slides online: https://tinyurl.com/evop-unix\n",
    "\n",
    "\n",
    "\n",
    "All materials available here: https://github.com/dalloliogm/peb_unix_intro/archive/master.zip\n",
    "\n",
    "\n",
    "\n",
    "**How to use these slides**: Press Space to get to the next slide. Use arrows to navigate the subsections."
   ]
  },
  {
   "cell_type": "markdown",
   "metadata": {
    "slideshow": {
     "slide_type": "slide"
    }
   },
   "source": [
    "# Summary of the course today\n",
    "\n",
    "- **Morning first half**: Basic Terminal commands, First Login to Linux\n",
    "- **Morning second half**: Login to a Remote Unix server, browsing file contents\n",
    "- **Afternoon first half**: Finding patterns in a file with grep\n",
    "- **Afternoon second half**: awk and sed; makefiles"
   ]
  },
  {
   "cell_type": "markdown",
   "metadata": {
    "slideshow": {
     "slide_type": "slide"
    }
   },
   "source": [
    "# How many computers are we going to use in this course?\n",
    "\n",
    "The **classroom computers** are in front of you.\n",
    "- Use them to follow the slides, ~~check emails~~, and connect to the server/ big computer/ cluster....\n",
    "\n",
    "**evop-login.imp.fu-berlin.de** is a remote computer (the login node of a cluster)\n",
    "- These machines are physically located outside of this room \n",
    "- They are only accessible through the terminal\n",
    "- Most exercises will be done in this server, as all the software needed is installed there\n",
    "\n",
    "The method to connect to a remote computer is the same"
   ]
  },
  {
   "cell_type": "markdown",
   "metadata": {
    "slideshow": {
     "slide_type": "subslide"
    }
   },
   "source": [
    "## Our course - computers infrastructure\n",
    "\n",
    "<img src=\"https://raw.githubusercontent.com/dalloliogm/evop2019/master/slides/images/ComputerPool2019.png\" width=\"600\">"
   ]
  },
  {
   "cell_type": "markdown",
   "metadata": {
    "slideshow": {
     "slide_type": "slide"
    }
   },
   "source": [
    "# Connecting to a remote server\n",
    "\n",
    "\n",
    "Please refer to the login sheet **Passwords and Computer Infrastructure** for access credentials\n",
    "\n",
    "To connect to a remote server, we will use the **ssh** bash command:\n",
    "\n",
    "\n",
    "```\n",
    "    ssh -C k00nnnn##@evop-login.imp.fu-berlin.de\n",
    "```\n",
    "\n",
    "Note: the **-C flag** (use compression) is recommended, to reduce the network load"
   ]
  },
  {
   "cell_type": "markdown",
   "metadata": {
    "slideshow": {
     "slide_type": "subslide"
    }
   },
   "source": [
    "## Connecting to  evop-login.imp.fu-berlin.de - RSA key fingerprint\n",
    "\n",
    "\n",
    "The first time you connect to a server, you should see a message like the following:\n",
    "\n",
    "<img src=\"https://raw.githubusercontent.com/dalloliogm/evop2019/master/slides/images/LoginServerMessage1.png\" width=\"800\">\n",
    "Type ** \"yes + Enter\"** to continue. Note that typing \"y\" will not be enough.\n",
    "<img src=\"https://raw.githubusercontent.com/dalloliogm/evop2019/master/slides/images/LoginServerMessage2.png\" width=\"800\">\n"
   ]
  },
  {
   "cell_type": "markdown",
   "metadata": {
    "slideshow": {
     "slide_type": "subslide"
    }
   },
   "source": [
    "## Connecting to evop-login - Password\n",
    "\n",
    "If the connection is working, you should now get a message asking you for the password. \n",
    "<img src=\"https://raw.githubusercontent.com/dalloliogm/evop2019/master/slides/images/Login2.png\" width=\"800\">\n",
    "Type the password and press Enter to continue.\n",
    "\n",
    "** Is it is possible to change the password? Yes:**\n",
    "\n",
    "**use:**\n",
    "<img src=\"https://raw.githubusercontent.com/dalloliogm/evop2019/master/slides/images/ChangePassword.png\" width=\"800\">\n",
    "\n",
    "\n",
    "**Special considerations for the new passwords:** \n",
    "\n",
    "_1. If you change the  password of your **k00nnnn##**'s account, please do it wisely, choose a **strong** one._ \n",
    "\n",
    "_2. The workshop server and the 30 desktop PCs are accessible from \"the world\" via SSH, so chances are that attackers will try out easily guessable passwords on these computers. If you **choose a new and weak** password for your account, **it might get compromised!**_ "
   ]
  },
  {
   "cell_type": "markdown",
   "metadata": {
    "slideshow": {
     "slide_type": "subslide"
    }
   },
   "source": [
    "## Are you in evop-login Server?\n",
    "\n",
    "If the connection worked correctly, you should see something like:\n",
    "\n",
    "<img src=\"https://raw.githubusercontent.com/dalloliogm/evop2019/master/slides/images/LoginServerMessage2.png\" width=\"800\">\n",
    "\n",
    "You can also type **uname -n** to confirm that you are in the correct machine."
   ]
  },
  {
   "cell_type": "markdown",
   "metadata": {
    "slideshow": {
     "slide_type": "subslide"
    }
   },
   "source": [
    "## Connection error?\n",
    "\n",
    "If you get a connection error, try the following:\n",
    "\n",
    "- make sure you are using the -C option\n",
    "- Wait 1-2 minutes and try again\n",
    "- Ask for help (TAs)"
   ]
  },
  {
   "cell_type": "markdown",
   "metadata": {
    "slideshow": {
     "slide_type": "slide"
    }
   },
   "source": [
    "## If the connection doesn't work at all - downloading the materials on your computer\n",
    "\n",
    "If the connection to the server doesn't work at all, you can download the exercises file to your computer directly:\n",
    "\n",
    "```\n",
    "\n",
    "    $: wget https://github.com/dalloliogm/peb_unix_intro/archive/master.zip\n",
    "\n",
    "    $: unzip master.zip\n",
    "\n",
    "```\n",
    "\n",
    "** NOTE**: There is a directory exported via NFS from the login server to the **desktop PCs** (**/opt/evop/public/**) and can be accessed as **read-only** on each machine."
   ]
  },
  {
   "cell_type": "markdown",
   "metadata": {
    "slideshow": {
     "slide_type": "slide"
    }
   },
   "source": [
    "# Executing graphical applications from a remote server\n",
    "\n",
    "\n",
    "Notice that graphical applications like **firefox** or **kate** will not work from remote:\n",
    "\n",
    "<img src=\"https://raw.githubusercontent.com/dalloliogm/evop2019/master/slides/images/ExecGraphicalAppsOnServer.png\" width=\"600\">\n",
    "Executing graphical applications remotely is very demanding for the network, so by default we will use only the command line interface.\n",
    "\n",
    "To run graphical application remotely, you would need to re-login on the server, using the **-X** option in ssh: \n",
    "```\n",
    "    ssh -C -X k00nnnn##@evop-login.imp.fu-berlin.de\n",
    "```"
   ]
  },
  {
   "cell_type": "markdown",
   "metadata": {
    "slideshow": {
     "slide_type": "slide"
    }
   },
   "source": [
    "# Which folder am I?\n",
    "\n",
    "By default, when you login you are positioned in your home folder. \n",
    "\n",
    "Use the **pwd** command to see where are you exactly:\n",
    "\n",
    "<img src=\"https://raw.githubusercontent.com/dalloliogm/evop2019/master/slides/images/pwd.png\" width=\"600\">"
   ]
  },
  {
   "cell_type": "markdown",
   "metadata": {
    "slideshow": {
     "slide_type": "subslide"
    }
   },
   "source": [
    "# Where can I go?\n",
    "The **cd** command allows to navigate the file system, moving to a different folder.\n",
    "<img src=\"https://raw.githubusercontent.com/dalloliogm/evop2019/master/slides/images/ls.png\" width=\"600\">"
   ]
  },
  {
   "cell_type": "markdown",
   "metadata": {
    "slideshow": {
     "slide_type": "subslide"
    }
   },
   "source": [
    "## The **'cd'** man page\n",
    "\n",
    "The **cd** command is documented inside the \"bash\" man page.\n",
    "    - Type **man bash** and then look for cd\n",
    "    \n",
    "You can also look at:\n",
    "    - **man dir**\n",
    "    - **info coreutils cd**\n",
    "\n"
   ]
  },
  {
   "cell_type": "markdown",
   "metadata": {
    "slideshow": {
     "slide_type": "subslide"
    }
   },
   "source": [
    "## If you get lost: type \"cd\" without arguments\n",
    "\n",
    "Typing **cd** without arguments will bring you back to your home directory.\n",
    "\n",
    "Useful if you get lost in the file system!"
   ]
  },
  {
   "cell_type": "markdown",
   "metadata": {
    "slideshow": {
     "slide_type": "subslide"
    }
   },
   "source": [
    "## How to refer to the current (.) and parent (..) folders\n",
    "\n",
    "In Unix the current folder is also referred to as \".\"\n",
    "- **cd .** will move you to.. the current folder again\n",
    "\n",
    "The parent folder is referred to as \"..\"\n",
    "- **cd ..** will bring you to the parent folder "
   ]
  },
  {
   "cell_type": "markdown",
   "metadata": {
    "slideshow": {
     "slide_type": "slide"
    }
   },
   "source": [
    "# Structure of the Unix file system\n",
    "\n",
    "Directories in a Unix file are organized as a \"tree\" of subdirectories.\n",
    "\n",
    "The root folder, equivalent to **C:\\\\** in Windows, is indicated by a single slash, **/**\n",
    "\n",
    "All the other folders are subfolders of the root, e.g. /home/k003192**##**"
   ]
  },
  {
   "cell_type": "markdown",
   "metadata": {
    "hide_input": true,
    "slideshow": {
     "slide_type": "subslide"
    }
   },
   "source": [
    "## The Unix file tree\n",
    "\n",
    "\n",
    "<img src=\"https://raw.githubusercontent.com/dalloliogm/evop2019/master/slides/images/UnixFileTree2.png\" width=\"900\">\n"
   ]
  },
  {
   "cell_type": "markdown",
   "metadata": {
    "slideshow": {
     "slide_type": "subslide"
    }
   },
   "source": [
    "## Contents of the /root directory\n",
    "\n",
    "Type **ls /** to see the contents of the root directory:\n",
    "\n",
    "- **/bin**, **/usr**, **/local**: all the software is usually installed here\n",
    "- **/etc**, **/var**: system-wide configuration\n",
    "- **/homes**, **/home**: Users' private directories"
   ]
  },
  {
   "cell_type": "markdown",
   "metadata": {
    "slideshow": {
     "slide_type": "subslide"
    }
   },
   "source": [
    "## The course materials\n",
    "\n",
    "The **/home/** folder contains a folder **k003192##** for each student in this course\n",
    "\n",
    "There is also a special folder called **/opt/evop/public/**, containing the materials, slides, and **Data sets**\n",
    "```\n",
    "                                      (/opt/evop/public/  )\n",
    "```\n",
    "All the materials for this course are in **/opt/evop/public/unix_intro**\n",
    "```\n",
    "                                      ( /opt/evop/public/unix_intro)\n",
    "```\n",
    "** NOTE**: \n",
    "**/opt/evop/public/** directory is exported via NFS from the login server to the **desktop PCs** and can be accessed as **read-only** on these machines "
   ]
  },
  {
   "cell_type": "markdown",
   "metadata": {
    "slideshow": {
     "slide_type": "slide"
    }
   },
   "source": [
    "# Copy the course materials in your home\n",
    "\n",
    "Let's copy the exercise files to your home folder:\n",
    "\n",
    "``` \n",
    "$  cp -r /opt/evop/public/unix_intro ~\n",
    "\n",
    "```\n",
    "\n",
    "\n",
    "Explanation:\n",
    "\n",
    "- **cp** is the command to copy files\n",
    "- the **-r** (recursive) option is mandatory when copying folders\n",
    "- **/opt/evop/public/unix_intro** is the location of the folder you want to copy\n",
    "- **~** is a short-cut to represent your home folder \n"
   ]
  },
  {
   "cell_type": "markdown",
   "metadata": {
    "slideshow": {
     "slide_type": "skip"
    }
   },
   "source": [
    "**Old path:**\n",
    "\n",
    "```\n",
    "   $  cp -r /homes/evop2019/lectures/unix_intro/ ~\n",
    "    \n",
    "```"
   ]
  },
  {
   "cell_type": "markdown",
   "metadata": {
    "slideshow": {
     "slide_type": "fragment"
    }
   },
   "source": [
    "To make sure the files are copied correctly, you can do:\n",
    "\n",
    "```\n",
    "    cd \n",
    "    cd unix_intro\n",
    "    ls\n",
    "```"
   ]
  },
  {
   "cell_type": "markdown",
   "metadata": {
    "slideshow": {
     "slide_type": "slide"
    }
   },
   "source": [
    "# The exercises files\n",
    "\n",
    "Let's move to the unix_intro/exercises folder to see the exercise files.\n"
   ]
  },
  {
   "cell_type": "code",
   "execution_count": 1,
   "metadata": {
    "run_control": {
     "frozen": false,
     "read_only": false
    }
   },
   "outputs": [
    {
     "ename": "SyntaxError",
     "evalue": "invalid syntax (<ipython-input-1-fd8d3726d8e1>, line 1)",
     "output_type": "error",
     "traceback": [
      "\u001b[0;36m  File \u001b[0;32m\"<ipython-input-1-fd8d3726d8e1>\"\u001b[0;36m, line \u001b[0;32m1\u001b[0m\n\u001b[0;31m    cd exercises\u001b[0m\n\u001b[0m               ^\u001b[0m\n\u001b[0;31mSyntaxError\u001b[0m\u001b[0;31m:\u001b[0m invalid syntax\n"
     ]
    }
   ],
   "source": [
    "cd exercises\n",
    "ls"
   ]
  },
  {
   "cell_type": "markdown",
   "metadata": {},
   "source": [
    "There is a file called 1_browsing_textfiles.txt."
   ]
  },
  {
   "cell_type": "markdown",
   "metadata": {
    "slideshow": {
     "slide_type": "slide"
    }
   },
   "source": [
    "# Accessing the contents of a file: head, cat, less\n",
    "\n",
    "To access the contents of a file, we can use several Unix commands:\n",
    "\n",
    "| command       | description                                   | example             |\n",
    "| :------------:|:-------------------------------------         |:------------------- |\n",
    "| **head**      | print the first lines of the file             | head start_here.txt |\n",
    "| **tail**      | print the last lines of the file              | tail start_here.txt |\n",
    "| **cat**       | print the contents of the file to the screen  | cat start_here.txt  |\n",
    "| **less**      | allows to navigate contents of the file       | less start_here.txt |"
   ]
  },
  {
   "cell_type": "markdown",
   "metadata": {
    "slideshow": {
     "slide_type": "subslide"
    }
   },
   "source": [
    "The **head** command can be used to see the first line of a file. \n",
    "\n",
    "Let's use it on the file 1_browsing_textfiles.txt:"
   ]
  },
  {
   "cell_type": "code",
   "execution_count": null,
   "metadata": {
    "run_control": {
     "frozen": false,
     "read_only": false
    }
   },
   "outputs": [],
   "source": [
    "head 1_browsing_textfiles.txt"
   ]
  },
  {
   "cell_type": "markdown",
   "metadata": {
    "slideshow": {
     "slide_type": "subslide"
    }
   },
   "source": [
    "## The -n option in head\n",
    "\n",
    "The first lines of the file seemed to suggest something. Let's use the -n 40 option to print the first 40 lines of this file:"
   ]
  },
  {
   "cell_type": "code",
   "execution_count": null,
   "metadata": {
    "run_control": {
     "frozen": false,
     "read_only": false
    }
   },
   "outputs": [],
   "source": [
    "head -n 40 1_browsing_textfiles.txt"
   ]
  },
  {
   "cell_type": "markdown",
   "metadata": {
    "slideshow": {
     "slide_type": "subslide"
    }
   },
   "source": [
    "## Browsing the contents of a file with less\n",
    "\n",
    "The **less** unix command allows to browse the contents of file, read-only, in a modality similar to what we saw with the **man** pages:\n",
    "\n",
    "```\n",
    "    less 1_browsing_textfiles.txt\n",
    "```\n",
    "\n",
    "Scroll down and follow the instructions in the file to see more."
   ]
  },
  {
   "cell_type": "markdown",
   "metadata": {
    "slideshow": {
     "slide_type": "slide"
    }
   },
   "source": [
    "# Editing files with nano\n",
    "\n",
    "In the following days you will have to write several scripts into evop2018Server.\n",
    "\n",
    "There are two alternatives:\n",
    "\n",
    "- connect using the -X option, then use **gedit** -> however if too many people use it, the network will crash\n",
    "- **nano** is a powerful command-line editor"
   ]
  },
  {
   "cell_type": "markdown",
   "metadata": {
    "slideshow": {
     "slide_type": "subslide"
    }
   },
   "source": [
    "## The nano text editor\n",
    "\n",
    "Type **nano** on the command line to access the text editor:\n",
    "\n",
    "<img src=\"https://raw.githubusercontent.com/dalloliogm/evop2019/master/slides/images/nano.jpg\" width=\"800\">\n"
   ]
  },
  {
   "cell_type": "markdown",
   "metadata": {
    "slideshow": {
     "slide_type": "subslide"
    }
   },
   "source": [
    "## How to use nano\n",
    "\n",
    "Type **nano** on the command line to access the text editor\n",
    "\n",
    "```\n",
    "    type nano filename.txt to open a file directly\n",
    "```    \n",
    "Keyboard shortcuts:\n",
    "\n",
    "    - save a file: CTRL-o\n",
    "    - read a file: CTRL-r\n",
    "    - exit: CTRL-x\n",
    "    - undo/redo: ALT-u and ALT-e\n",
    "    - Copy/paste: CTRL-SHIFT-c and CTRL-SHIFT-v"
   ]
  },
  {
   "cell_type": "markdown",
   "metadata": {
    "slideshow": {
     "slide_type": "subslide"
    }
   },
   "source": [
    "## Nano exercise\n",
    "\n",
    "Create a file named \"myfile.txt\"\n",
    "\n",
    "Write \"hello world\"\n",
    "- Save it using the CTRL-o shortcut\n",
    "- Exit the editor using CTRL-x"
   ]
  },
  {
   "cell_type": "markdown",
   "metadata": {
    "slideshow": {
     "slide_type": "slide"
    }
   },
   "source": [
    "# Other useful Unix commands (moving and copying files)\n",
    "\n",
    "- **mkdir**: create a folder\n",
    "- **rm**: delete files (note: no trash bin!)\n",
    "- **mv**: move or rename a file (note: overwritten files will be lost)"
   ]
  },
  {
   "cell_type": "markdown",
   "metadata": {
    "slideshow": {
     "slide_type": "subslide"
    }
   },
   "source": [
    "## Other Unix commands\n",
    "\n",
    "- **clear**: clear the terminal output\n",
    "- **history**: see all the commands typed so far\n",
    "- **dos2unix**: clean files edited in MS Windows notepad for Unix (see also unix2dos)\n",
    "- **echo**: print a message (useful in scripts)"
   ]
  },
  {
   "cell_type": "markdown",
   "metadata": {
    "slideshow": {
     "slide_type": "slide"
    }
   },
   "source": [
    "# Time for lunch!\n",
    "\n",
    "See you at 14.00!"
   ]
  }
 ],
 "metadata": {
  "celltoolbar": "Slideshow",
  "hide_input": false,
  "kernelspec": {
   "display_name": "Python 3",
   "language": "python",
   "name": "python3"
  },
  "language_info": {
   "codemirror_mode": {
    "name": "ipython",
    "version": 3
   },
   "file_extension": ".py",
   "mimetype": "text/x-python",
   "name": "python",
   "nbconvert_exporter": "python",
   "pygments_lexer": "ipython3",
   "version": "3.7.1"
  },
  "nav_menu": {},
  "toc": {
   "nav_menu": {},
   "number_sections": true,
   "sideBar": true,
   "skip_h1_title": false,
   "title_cell": "Table of Contents",
   "title_sidebar": "Contents",
   "toc_cell": true,
   "toc_position": {},
   "toc_section_display": "block",
   "toc_window_display": true
  }
 },
 "nbformat": 4,
 "nbformat_minor": 1
}
