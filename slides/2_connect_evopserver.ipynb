{
 "cells": [
  {
   "cell_type": "markdown",
   "metadata": {
    "toc": "true"
   },
   "source": [
    "# Table of Contents\n",
    " <p><div class=\"lev1 toc-item\"><a href=\"#Introduction-to-Unix,-Part-2---Connecting-to-a-remote-server\" data-toc-modified-id=\"Introduction-to-Unix,-Part-2---Connecting-to-a-remote-server-1\"><span class=\"toc-item-num\">1&nbsp;&nbsp;</span>Introduction to Unix, Part 2 - Connecting to a remote server</a></div><div class=\"lev1 toc-item\"><a href=\"#How-many-computers-are-we-going-to-use-in-this-course?\" data-toc-modified-id=\"How-many-computers-are-we-going-to-use-in-this-course?-2\"><span class=\"toc-item-num\">2&nbsp;&nbsp;</span>How many computers are we going to use in this course?</a></div><div class=\"lev2 toc-item\"><a href=\"#Our-course---computers-infrastructure\" data-toc-modified-id=\"Our-course---computers-infrastructure-2.1\"><span class=\"toc-item-num\">2.1&nbsp;&nbsp;</span>Our course - computers infrastructure</a></div><div class=\"lev1 toc-item\"><a href=\"#Connecting-to-a-remote-server\" data-toc-modified-id=\"Connecting-to-a-remote-server-3\"><span class=\"toc-item-num\">3&nbsp;&nbsp;</span>Connecting to a remote server</a></div><div class=\"lev2 toc-item\"><a href=\"#Connecting-to-Evopserver---RSA-key-fingerprint\" data-toc-modified-id=\"Connecting-to-Evopserver---RSA-key-fingerprint-3.1\"><span class=\"toc-item-num\">3.1&nbsp;&nbsp;</span>Connecting to Evopserver - RSA key fingerprint</a></div><div class=\"lev2 toc-item\"><a href=\"#Connecting-to-Evopserver---Password\" data-toc-modified-id=\"Connecting-to-Evopserver---Password-3.2\"><span class=\"toc-item-num\">3.2&nbsp;&nbsp;</span>Connecting to Evopserver - Password</a></div><div class=\"lev2 toc-item\"><a href=\"#Are-you-in-evopserver?\" data-toc-modified-id=\"Are-you-in-evopserver?-3.3\"><span class=\"toc-item-num\">3.3&nbsp;&nbsp;</span>Are you in evopserver?</a></div><div class=\"lev2 toc-item\"><a href=\"#Connection-error?\" data-toc-modified-id=\"Connection-error?-3.4\"><span class=\"toc-item-num\">3.4&nbsp;&nbsp;</span>Connection error?</a></div><div class=\"lev2 toc-item\"><a href=\"#If-the-connection-doesn't-work-at-all---downloading-the-materials-on-your-computer\" data-toc-modified-id=\"If-the-connection-doesn't-work-at-all---downloading-the-materials-on-your-computer-3.5\"><span class=\"toc-item-num\">3.5&nbsp;&nbsp;</span>If the connection doesn't work at all - downloading the materials on your computer</a></div><div class=\"lev1 toc-item\"><a href=\"#Executing-graphical-applications-from-a-remote-server\" data-toc-modified-id=\"Executing-graphical-applications-from-a-remote-server-4\"><span class=\"toc-item-num\">4&nbsp;&nbsp;</span>Executing graphical applications from a remote server</a></div><div class=\"lev1 toc-item\"><a href=\"#Accessing-the-contents-of-a-file:-head,-cat,-less\" data-toc-modified-id=\"Accessing-the-contents-of-a-file:-head,-cat,-less-5\"><span class=\"toc-item-num\">5&nbsp;&nbsp;</span>Accessing the contents of a file: head, cat, less</a></div><div class=\"lev1 toc-item\"><a href=\"#Getting-the-workshop-materials\" data-toc-modified-id=\"Getting-the-workshop-materials-6\"><span class=\"toc-item-num\">6&nbsp;&nbsp;</span>Getting the workshop materials</a></div><div class=\"lev3 toc-item\"><a href=\"#Advanced:-using-git-to-get-the-materials\" data-toc-modified-id=\"Advanced:-using-git-to-get-the-materials-6.0.1\"><span class=\"toc-item-num\">6.0.1&nbsp;&nbsp;</span>Advanced: using git to get the materials</a></div>"
   ]
  },
  {
   "cell_type": "markdown",
   "metadata": {
    "slideshow": {
     "slide_type": "slide"
    }
   },
   "source": [
    "# Introduction to Unix, Part 2 - Connecting to a remote server\n",
    "\n",
    "Giovanni M. Dall'Olio, GlaxoSmithKline, 20/02/2017. All materials available here: https://dalloliogm.github.io/ \n",
    "\n",
    "```\n",
    " _______________\n",
    " / Welcome to    \\\n",
    " \\ PEB Leipzig! /\n",
    "  ---------------\n",
    "         \\   ^__^\n",
    "          \\  (oo)\\_______\n",
    "             (__)\\       )\\/\\\n",
    "                 ||----w |\n",
    "                 ||     ||\n",
    "```\n",
    "\n",
    "Welcome to the Programming for Evoluationary Biology workshop!!\n",
    "\n",
    "Press Space or Down do continue."
   ]
  },
  {
   "cell_type": "code",
   "execution_count": 1,
   "metadata": {
    "collapsed": false,
    "run_control": {
     "frozen": false,
     "read_only": false
    },
    "slideshow": {
     "slide_type": "skip"
    }
   },
   "outputs": [
    {
     "name": "stdout",
     "output_type": "stream",
     "text": []
    }
   ],
   "source": [
    "# Configuration - this will not appear in the slideshow\n",
    "alias grep='grep --color'"
   ]
  },
  {
   "cell_type": "markdown",
   "metadata": {
    "slideshow": {
     "slide_type": "slide"
    }
   },
   "source": [
    "# How many computers are we going to use in this course?\n",
    "\n",
    "The **classroom computers** are in front of you.\n",
    "- Use them to follow the slides, ~~check facebook~~, and connect to the compute servers\n",
    "\n",
    "**evopserver** and **evopcompute** are two remote computer cluster\n",
    "- They are physically located outside of this room \n",
    "- They are only accessible through the terminal\n",
    "- Most exercises will be done in these two servers, as all the software needed is installed there\n",
    "\n",
    "Some lectures will use other servers, but the method to connect to a remote computer is the same"
   ]
  },
  {
   "cell_type": "markdown",
   "metadata": {
    "slideshow": {
     "slide_type": "subslide"
    }
   },
   "source": [
    "## Our course - computers infrastructure\n",
    "\n",
    "<img src=\"https://raw.githubusercontent.com/dalloliogm/peb_unix_intro/master/slides/images/u2_computer_infrastructure.png\" width=\"600\">"
   ]
  },
  {
   "cell_type": "markdown",
   "metadata": {
    "slideshow": {
     "slide_type": "slide"
    }
   },
   "source": [
    "# Connecting to a remote server\n",
    "\n",
    "Please refer to the cheatsheet **Passwords and Computer Infrastructure** for access credentials\n",
    "\n",
    "To connect to a remote server, we will use the **ssh** bash command:\n",
    "\n",
    "```\n",
    "    ssh -C username@evopserver.bioinf.uni-leipzig.de\n",
    "```\n",
    "\n",
    "Please use the -C flag (use compression), to reduce the network load"
   ]
  },
  {
   "cell_type": "markdown",
   "metadata": {
    "slideshow": {
     "slide_type": "subslide"
    }
   },
   "source": [
    "## Connecting to Evopserver - RSA key fingerprint\n",
    "\n",
    "The first time you connect to a server, you should see a message like the following:\n",
    "\n",
    "<img src=\"https://raw.githubusercontent.com/dalloliogm/peb_unix_intro/master/slides/images/u2_ssh2.png\" width=\"600\">\n",
    "\n",
    "Type \"yes<Enter>\" to continue. Note that typing \"y\" will not be enough."
   ]
  },
  {
   "cell_type": "markdown",
   "metadata": {
    "slideshow": {
     "slide_type": "subslide"
    }
   },
   "source": [
    "## Connecting to Evopserver - Password\n",
    "\n",
    "If the connection is working, you should now get a message asking you for the password. \n",
    "\n",
    "<img src=\"https://raw.githubusercontent.com/dalloliogm/peb_unix_intro/master/slides/images/u2_ssh3.png\" width=\"600\">\n",
    "\n",
    "Type the password and press Enter to continue"
   ]
  },
  {
   "cell_type": "markdown",
   "metadata": {
    "slideshow": {
     "slide_type": "subslide"
    }
   },
   "source": [
    "## Are you in evopserver?\n",
    "\n",
    "If the connection worked correctly, you should see a differently colored prompt:\n",
    "\n",
    "<img src=\"https://raw.githubusercontent.com/dalloliogm/peb_unix_intro/master/slides/images/u2_ssh4.png\" width=\"600\">\n",
    "\n",
    "You can also type **uname -n** to confirm that you are in the correct machine."
   ]
  },
  {
   "cell_type": "markdown",
   "metadata": {
    "slideshow": {
     "slide_type": "subslide"
    }
   },
   "source": [
    "## Connection error?\n",
    "\n",
    "If you get a connection error, try the following:\n",
    "\n",
    "- make sure you are using the -C option\n",
    "- Connection to **evopcompute** instead of **evopserver**\n",
    "- Wait 1-2 minutes and try again"
   ]
  },
  {
   "cell_type": "markdown",
   "metadata": {
    "slideshow": {
     "slide_type": "slide"
    }
   },
   "source": [
    "## If the connection doesn't work at all - downloading the materials on your computer\n",
    "\n",
    "If the connection to the server doesn't work at all, you can download the exercises file to your computer directly:\n",
    "\n",
    "```\n",
    "\n",
    "    $: wget  https://github.com/dalloliogm/peb_unix_intro/archive/master.zip\n",
    "\n",
    "    $: unzip master.zip\n",
    "\n",
    "``"
   ]
  },
  {
   "cell_type": "markdown",
   "metadata": {
    "slideshow": {
     "slide_type": "slide"
    }
   },
   "source": [
    "# Executing graphical applications from a remote server\n",
    "\n",
    "Notice that graphical applications like **firefox** or **kate** will not work from remote:\n",
    "\n",
    "```\n",
    "\n",
    "    giovanni@evopserver: firefox\n",
    "    Could not parse arguments: Can not open display\n",
    "    \n",
    "```\n",
    "\n",
    "Executing graphical applications remotely is very demanding for the network, so by default we will use only the command line interface.\n",
    "\n",
    "To run graphical application remotely, you would need to re-login on the server, using the -X option in ssh."
   ]
  },
  {
   "cell_type": "markdown",
   "metadata": {
    "slideshow": {
     "slide_type": "slide"
    }
   },
   "source": [
    "# Which folder am I?\n",
    "\n"
   ]
  },
  {
   "cell_type": "markdown",
   "metadata": {
    "slideshow": {
     "slide_type": "slide"
    }
   },
   "source": [
    "# Accessing the contents of a file: head, cat, less\n",
    "\n",
    "The new folder contains a file named start_here.txt, containing the first instructions for the workshop.\n",
    "\n",
    "To access the contents of a file, we can use several Unix commands:\n",
    "\n",
    "| command       | description                                   | example             |\n",
    "| :------------:|:-------------------------------------         |:------------------- |\n",
    "| **head**      | print the first lines of the file             | head start_here.txt |\n",
    "| **tail**      | print the last lines of the file              | tail start_here.txt |\n",
    "| **cat**       | print the contents of the file to the screen  | cat start_here.txt  |\n",
    "| **less**      | allows to navigate contents of the file       | less start_here.txt |"
   ]
  },
  {
   "cell_type": "markdown",
   "metadata": {
    "slideshow": {
     "slide_type": "skip"
    }
   },
   "source": [
    "# Getting the workshop materials\n",
    "\n",
    "Among these you should see a folder called **belgrade_unix_intro-master**, created by the wget and unzip commands. \n",
    " \n",
    "Let's move to this new directory, and list the files in it:\n",
    " \n",
    "```\n",
    "$: cd belgrade_unix_intro-master/\n",
    "$: ls\n",
    "```\n",
    "\n",
    "This will show a list of files, including a file called **start_here.txt**, a README, a few folders (data/, src/), and some other files.\n",
    "\n",
    "The materials of this workshop are also available online.\n",
    "\n",
    "Open the terminal, and type the following commands (omitting the \"$:\"):\n",
    "\n",
    "```\n",
    "$: wget  https://github.com/dalloliogm/peb_unix_intro/archive/master.zip\n",
    "$: unzip master.zip\n",
    "\n",
    "```\n",
    "\n",
    "\n",
    "Explanation:\n",
    "\n",
    " - the **wget** command downloads a .zip file containing all the materials\n",
    " - the **unzip** command uncompresses the .zip file, creating a new folder in your home area."
   ]
  },
  {
   "cell_type": "markdown",
   "metadata": {},
   "source": [
    "### Advanced: using git to get the materials\n",
    "\n",
    "If the software git is installed, you can get the materials by the following:\n",
    "\n",
    "```\n",
    "git clone git@github.com:dalloliogm/peb_unix_intro.git\n",
    "```"
   ]
  }
 ],
 "metadata": {
  "celltoolbar": "Slideshow",
  "hide_input": false,
  "kernelspec": {
   "display_name": "Bash",
   "language": "bash",
   "name": "bash"
  },
  "language_info": {
   "codemirror_mode": "shell",
   "file_extension": ".sh",
   "mimetype": "text/x-sh",
   "name": "bash"
  },
  "nav_menu": {},
  "toc": {
   "navigate_menu": true,
   "number_sections": true,
   "sideBar": true,
   "threshold": 6,
   "toc_cell": true,
   "toc_section_display": "block",
   "toc_window_display": false
  }
 },
 "nbformat": 4,
 "nbformat_minor": 1
}
