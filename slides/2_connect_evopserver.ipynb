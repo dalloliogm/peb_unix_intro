{
 "cells": [
  {
   "cell_type": "markdown",
   "metadata": {
    "toc": "true"
   },
   "source": [
    "# Table of Contents\n",
    " <p><div class=\"lev1 toc-item\"><a href=\"#Introduction-to-Unix,-Part-2---Connecting-to-a-remote-server\" data-toc-modified-id=\"Introduction-to-Unix,-Part-2---Connecting-to-a-remote-server-1\"><span class=\"toc-item-num\">1&nbsp;&nbsp;</span>Introduction to Unix, Part 2 - Connecting to a remote server</a></div><div class=\"lev1 toc-item\"><a href=\"#How-many-computers-are-we-going-to-use-in-this-course?\" data-toc-modified-id=\"How-many-computers-are-we-going-to-use-in-this-course?-2\"><span class=\"toc-item-num\">2&nbsp;&nbsp;</span>How many computers are we going to use in this course?</a></div><div class=\"lev2 toc-item\"><a href=\"#Our-course---computers-infrastructure\" data-toc-modified-id=\"Our-course---computers-infrastructure-2.1\"><span class=\"toc-item-num\">2.1&nbsp;&nbsp;</span>Our course - computers infrastructure</a></div><div class=\"lev1 toc-item\"><a href=\"#Connecting-to-a-remote-server\" data-toc-modified-id=\"Connecting-to-a-remote-server-3\"><span class=\"toc-item-num\">3&nbsp;&nbsp;</span>Connecting to a remote server</a></div><div class=\"lev2 toc-item\"><a href=\"#Connecting-to-Evopserver---RSA-key-fingerprint\" data-toc-modified-id=\"Connecting-to-Evopserver---RSA-key-fingerprint-3.1\"><span class=\"toc-item-num\">3.1&nbsp;&nbsp;</span>Connecting to Evopserver - RSA key fingerprint</a></div><div class=\"lev2 toc-item\"><a href=\"#Connecting-to-Evopserver---Password\" data-toc-modified-id=\"Connecting-to-Evopserver---Password-3.2\"><span class=\"toc-item-num\">3.2&nbsp;&nbsp;</span>Connecting to Evopserver - Password</a></div><div class=\"lev2 toc-item\"><a href=\"#Are-you-in-evopserver?\" data-toc-modified-id=\"Are-you-in-evopserver?-3.3\"><span class=\"toc-item-num\">3.3&nbsp;&nbsp;</span>Are you in evopserver?</a></div><div class=\"lev2 toc-item\"><a href=\"#Connection-error?\" data-toc-modified-id=\"Connection-error?-3.4\"><span class=\"toc-item-num\">3.4&nbsp;&nbsp;</span>Connection error?</a></div><div class=\"lev2 toc-item\"><a href=\"#If-the-connection-doesn't-work-at-all---downloading-the-materials-on-your-computer\" data-toc-modified-id=\"If-the-connection-doesn't-work-at-all---downloading-the-materials-on-your-computer-3.5\"><span class=\"toc-item-num\">3.5&nbsp;&nbsp;</span>If the connection doesn't work at all - downloading the materials on your computer</a></div><div class=\"lev3 toc-item\"><a href=\"#Advanced:-using-git-to-get-the-materials\" data-toc-modified-id=\"Advanced:-using-git-to-get-the-materials-3.5.1\"><span class=\"toc-item-num\">3.5.1&nbsp;&nbsp;</span>Advanced: using git to get the materials</a></div><div class=\"lev1 toc-item\"><a href=\"#Executing-graphical-applications-from-a-remote-server\" data-toc-modified-id=\"Executing-graphical-applications-from-a-remote-server-4\"><span class=\"toc-item-num\">4&nbsp;&nbsp;</span>Executing graphical applications from a remote server</a></div><div class=\"lev1 toc-item\"><a href=\"#Which-folder-am-I?\" data-toc-modified-id=\"Which-folder-am-I?-5\"><span class=\"toc-item-num\">5&nbsp;&nbsp;</span>Which folder am I?</a></div><div class=\"lev1 toc-item\"><a href=\"#Where-can-I-go?\" data-toc-modified-id=\"Where-can-I-go?-6\"><span class=\"toc-item-num\">6&nbsp;&nbsp;</span>Where can I go?</a></div><div class=\"lev2 toc-item\"><a href=\"#The-cd-man-page\" data-toc-modified-id=\"The-cd-man-page-6.1\"><span class=\"toc-item-num\">6.1&nbsp;&nbsp;</span>The <strong>cd</strong> man page</a></div><div class=\"lev2 toc-item\"><a href=\"#If-you-get-lost:-type-&quot;cd&quot;-without-arguments\" data-toc-modified-id=\"If-you-get-lost:-type-&quot;cd&quot;-without-arguments-6.2\"><span class=\"toc-item-num\">6.2&nbsp;&nbsp;</span>If you get lost: type \"cd\" without arguments</a></div><div class=\"lev2 toc-item\"><a href=\"#How-to-refer-to-the-current-(.)-and-parent-(..)-folders\" data-toc-modified-id=\"How-to-refer-to-the-current-(.)-and-parent-(..)-folders-6.3\"><span class=\"toc-item-num\">6.3&nbsp;&nbsp;</span>How to refer to the current (.) and parent (..) folders</a></div><div class=\"lev1 toc-item\"><a href=\"#Structure-of-the-Unix-file-system\" data-toc-modified-id=\"Structure-of-the-Unix-file-system-7\"><span class=\"toc-item-num\">7&nbsp;&nbsp;</span>Structure of the Unix file system</a></div><div class=\"lev2 toc-item\"><a href=\"#The-Unix-file-tree\" data-toc-modified-id=\"The-Unix-file-tree-7.1\"><span class=\"toc-item-num\">7.1&nbsp;&nbsp;</span>The Unix file tree</a></div><div class=\"lev2 toc-item\"><a href=\"#Contents-of-the-/root-directory\" data-toc-modified-id=\"Contents-of-the-/root-directory-7.2\"><span class=\"toc-item-num\">7.2&nbsp;&nbsp;</span>Contents of the /root directory</a></div><div class=\"lev2 toc-item\"><a href=\"#The-course-materials\" data-toc-modified-id=\"The-course-materials-7.3\"><span class=\"toc-item-num\">7.3&nbsp;&nbsp;</span>The course materials</a></div><div class=\"lev1 toc-item\"><a href=\"#Copy-the-course-materials-in-your-home\" data-toc-modified-id=\"Copy-the-course-materials-in-your-home-8\"><span class=\"toc-item-num\">8&nbsp;&nbsp;</span>Copy the course materials in your home</a></div><div class=\"lev1 toc-item\"><a href=\"#The-exercises-files\" data-toc-modified-id=\"The-exercises-files-9\"><span class=\"toc-item-num\">9&nbsp;&nbsp;</span>The exercises files</a></div><div class=\"lev1 toc-item\"><a href=\"#Accessing-the-contents-of-a-file:-head,-cat,-less\" data-toc-modified-id=\"Accessing-the-contents-of-a-file:-head,-cat,-less-10\"><span class=\"toc-item-num\">10&nbsp;&nbsp;</span>Accessing the contents of a file: head, cat, less</a></div><div class=\"lev2 toc-item\"><a href=\"#The--n-option-in-head\" data-toc-modified-id=\"The--n-option-in-head-10.1\"><span class=\"toc-item-num\">10.1&nbsp;&nbsp;</span>The -n option in head</a></div><div class=\"lev2 toc-item\"><a href=\"#Browsing-the-contents-of-a-file-with-less\" data-toc-modified-id=\"Browsing-the-contents-of-a-file-with-less-10.2\"><span class=\"toc-item-num\">10.2&nbsp;&nbsp;</span>Browsing the contents of a file with less</a></div><div class=\"lev1 toc-item\"><a href=\"#Editing-files-with-nano\" data-toc-modified-id=\"Editing-files-with-nano-11\"><span class=\"toc-item-num\">11&nbsp;&nbsp;</span>Editing files with nano</a></div><div class=\"lev2 toc-item\"><a href=\"#The-nano-text-editor\" data-toc-modified-id=\"The-nano-text-editor-11.1\"><span class=\"toc-item-num\">11.1&nbsp;&nbsp;</span>The nano text editor</a></div><div class=\"lev2 toc-item\"><a href=\"#How-to-use-nano\" data-toc-modified-id=\"How-to-use-nano-11.2\"><span class=\"toc-item-num\">11.2&nbsp;&nbsp;</span>How to use nano</a></div><div class=\"lev2 toc-item\"><a href=\"#Nano-exercise\" data-toc-modified-id=\"Nano-exercise-11.3\"><span class=\"toc-item-num\">11.3&nbsp;&nbsp;</span>Nano exercise</a></div><div class=\"lev1 toc-item\"><a href=\"#Other-useful-Unix-commands-(moving-and-copying-files)\" data-toc-modified-id=\"Other-useful-Unix-commands-(moving-and-copying-files)-12\"><span class=\"toc-item-num\">12&nbsp;&nbsp;</span>Other useful Unix commands (moving and copying files)</a></div><div class=\"lev2 toc-item\"><a href=\"#Other-Unix-commands\" data-toc-modified-id=\"Other-Unix-commands-12.1\"><span class=\"toc-item-num\">12.1&nbsp;&nbsp;</span>Other Unix commands</a></div><div class=\"lev1 toc-item\"><a href=\"#Time-for-lunch!\" data-toc-modified-id=\"Time-for-lunch!-13\"><span class=\"toc-item-num\">13&nbsp;&nbsp;</span>Time for lunch!</a></div>"
   ]
  },
  {
   "cell_type": "markdown",
   "metadata": {
    "slideshow": {
     "slide_type": "slide"
    }
   },
   "source": [
    "# Introduction to Unix, Part 2 - Connecting to a remote server\n",
    "\n",
    "Giovanni M. Dall'Olio, GlaxoSmithKline, 20/02/2017. All materials available here: https://dalloliogm.github.io/ \n",
    "\n",
    "```\n",
    "  ________________________\n",
    " / Part 2                 \\\n",
    " \\ Connecting to a server /\n",
    "  ------------------------\n",
    "         \\   ^__^\n",
    "          \\  (oo)\\_______\n",
    "             (__)\\       )\\/\\\n",
    "                 ||----w |\n",
    "                 ||     ||\n",
    "```\n",
    "\n",
    "Welcome to the Programming for Evoluationary Biology workshop!!\n",
    "\n",
    "**How to use these slides**: Press Space to get to the next slide. Use arrows to navigate the subsections."
   ]
  },
  {
   "cell_type": "markdown",
   "metadata": {
    "slideshow": {
     "slide_type": "slide"
    }
   },
   "source": [
    "# How many computers are we going to use in this course?\n",
    "\n",
    "The **classroom computers** are in front of you.\n",
    "- Use them to follow the slides, ~~check emails~~, and connect to the compute servers\n",
    "\n",
    "**evopserver** and **evopcompute** are two remote computers\n",
    "- They are physically located outside of this room \n",
    "- They are only accessible through the terminal\n",
    "- Most exercises will be done in these two servers, as all the software needed is installed there\n",
    "\n",
    "Some lectures will use other servers, but the method to connect to a remote computer is the same"
   ]
  },
  {
   "cell_type": "markdown",
   "metadata": {
    "slideshow": {
     "slide_type": "subslide"
    }
   },
   "source": [
    "## Our course - computers infrastructure\n",
    "\n",
    "<img src=\"https://raw.githubusercontent.com/dalloliogm/peb_unix_intro/master/slides/images/u2_computer_infrastructure.png\" width=\"600\">"
   ]
  },
  {
   "cell_type": "markdown",
   "metadata": {
    "slideshow": {
     "slide_type": "slide"
    }
   },
   "source": [
    "# Connecting to a remote server\n",
    "\n",
    "Please refer to the cheatsheet **Passwords and Computer Infrastructure** for access credentials\n",
    "\n",
    "To connect to a remote server, we will use the **ssh** bash command:\n",
    "\n",
    "```\n",
    "    ssh -C username@evopserver.bioinf.uni-leipzig.de\n",
    "```\n",
    "\n",
    "Please use the -C flag (use compression), to reduce the network load"
   ]
  },
  {
   "cell_type": "markdown",
   "metadata": {
    "slideshow": {
     "slide_type": "subslide"
    }
   },
   "source": [
    "## Connecting to Evopserver - RSA key fingerprint\n",
    "\n",
    "The first time you connect to a server, you should see a message like the following:\n",
    "\n",
    "<img src=\"https://raw.githubusercontent.com/dalloliogm/peb_unix_intro/master/slides/images/u2_ssh2.png\" width=\"600\">\n",
    "\n",
    "Type \"yes<Enter>\" to continue. Note that typing \"y\" will not be enough."
   ]
  },
  {
   "cell_type": "markdown",
   "metadata": {
    "slideshow": {
     "slide_type": "subslide"
    }
   },
   "source": [
    "## Connecting to Evopserver - Password\n",
    "\n",
    "If the connection is working, you should now get a message asking you for the password. \n",
    "\n",
    "<img src=\"https://raw.githubusercontent.com/dalloliogm/peb_unix_intro/master/slides/images/u2_ssh3.png\" width=\"600\">\n",
    "\n",
    "Type the password and press Enter to continue"
   ]
  },
  {
   "cell_type": "markdown",
   "metadata": {
    "slideshow": {
     "slide_type": "subslide"
    }
   },
   "source": [
    "## Are you in evopserver?\n",
    "\n",
    "If the connection worked correctly, you should see a differently colored prompt:\n",
    "\n",
    "<img src=\"https://raw.githubusercontent.com/dalloliogm/peb_unix_intro/master/slides/images/u2_ssh4.png\" width=\"600\">\n",
    "\n",
    "You can also type **uname -n** to confirm that you are in the correct machine."
   ]
  },
  {
   "cell_type": "markdown",
   "metadata": {
    "slideshow": {
     "slide_type": "subslide"
    }
   },
   "source": [
    "## Connection error?\n",
    "\n",
    "If you get a connection error, try the following:\n",
    "\n",
    "- make sure you are using the -C option\n",
    "- Connection to **evopcompute** instead of **evopserver**\n",
    "- Wait 1-2 minutes and try again"
   ]
  },
  {
   "cell_type": "markdown",
   "metadata": {
    "slideshow": {
     "slide_type": "slide"
    }
   },
   "source": [
    "## If the connection doesn't work at all - downloading the materials on your computer\n",
    "\n",
    "If the connection to the server doesn't work at all, you can download the exercises file to your computer directly:\n",
    "\n",
    "```\n",
    "\n",
    "    $: wget  https://github.com/dalloliogm/peb_unix_intro/archive/master.zip\n",
    "\n",
    "    $: unzip master.zip\n",
    "\n",
    "``"
   ]
  },
  {
   "cell_type": "markdown",
   "metadata": {
    "slideshow": {
     "slide_type": "subslide"
    }
   },
   "source": [
    "### Advanced: using git to get the materials\n",
    "\n",
    "If the software git is installed, you can get the materials by the following:\n",
    "\n",
    "```\n",
    "git clone git@github.com:dalloliogm/peb_unix_intro.git\n",
    "```"
   ]
  },
  {
   "cell_type": "markdown",
   "metadata": {
    "slideshow": {
     "slide_type": "slide"
    }
   },
   "source": [
    "# Executing graphical applications from a remote server\n",
    "\n",
    "Notice that graphical applications like **firefox** or **kate** will not work from remote:\n",
    "\n",
    "```\n",
    "\n",
    "    giovanni@evopserver: firefox\n",
    "    Could not parse arguments: Can not open display\n",
    "    \n",
    "```\n",
    "\n",
    "Executing graphical applications remotely is very demanding for the network, so by default we will use only the command line interface.\n",
    "\n",
    "To run graphical application remotely, you would need to re-login on the server, using the -X option in ssh."
   ]
  },
  {
   "cell_type": "markdown",
   "metadata": {
    "slideshow": {
     "slide_type": "slide"
    }
   },
   "source": [
    "# Which folder am I?\n",
    "\n",
    "By default, when you login you are positioned in your home folder. \n",
    "\n",
    "Use the **pwd** command to see where are you exactly:\n",
    "\n",
    "<img src=\"https://raw.githubusercontent.com/dalloliogm/peb_unix_intro/master/slides/images/u2_pwd.png\" width=\"600\">"
   ]
  },
  {
   "cell_type": "markdown",
   "metadata": {
    "slideshow": {
     "slide_type": "subslide"
    }
   },
   "source": [
    "# Where can I go?\n",
    "\n",
    "The **cd** command allows to navigate the file system, moving to a different folder.\n",
    "\n",
    "<img src=\"https://raw.githubusercontent.com/dalloliogm/peb_unix_intro/master/slides/images/u2_cd1.png\" width=\"600\">"
   ]
  },
  {
   "cell_type": "markdown",
   "metadata": {
    "slideshow": {
     "slide_type": "subslide"
    }
   },
   "source": [
    "## The **cd** man page\n",
    "\n",
    "The **cd** command is documented inside the \"bash\" man page.\n",
    "    - Type **man bash** and then look for cd\n",
    "    \n",
    "You can also look at:\n",
    "    - **man dir**\n",
    "    - **info coreutils cd**\n",
    "\n"
   ]
  },
  {
   "cell_type": "markdown",
   "metadata": {
    "slideshow": {
     "slide_type": "subslide"
    }
   },
   "source": [
    "## If you get lost: type \"cd\" without arguments\n",
    "\n",
    "Typing **cd** without arguments will bring you back to your home directory.\n",
    "\n",
    "Useful if you get lost in the file system!"
   ]
  },
  {
   "cell_type": "markdown",
   "metadata": {
    "slideshow": {
     "slide_type": "subslide"
    }
   },
   "source": [
    "## How to refer to the current (.) and parent (..) folders\n",
    "\n",
    "In Unix the current folder is also referred to as \".\"\n",
    "- **cd .** will move you to.. the current folder again\n",
    "\n",
    "The parent folder is referred to as \"..\"\n",
    "- **cd ..** will bring you to the parent folder "
   ]
  },
  {
   "cell_type": "markdown",
   "metadata": {
    "slideshow": {
     "slide_type": "slide"
    }
   },
   "source": [
    "# Structure of the Unix file system\n",
    "\n",
    "Directories in a Unix file are organized as a \"tree\" of subdirectories.\n",
    "\n",
    "The root folder, equivalent to **C:\\\\** in Windows, is indicated by a single slash, **/**\n",
    "\n",
    "All the other folders are subfolders of the root, e.g. /home/evopserver"
   ]
  },
  {
   "cell_type": "markdown",
   "metadata": {
    "hide_input": true,
    "slideshow": {
     "slide_type": "subslide"
    }
   },
   "source": [
    "## The Unix file tree\n",
    "\n",
    "<img src=\"https://raw.githubusercontent.com/dalloliogm/peb_unix_intro/master/slides/images/u2_unix_tree.png\" width=\"600\">\n"
   ]
  },
  {
   "cell_type": "markdown",
   "metadata": {
    "slideshow": {
     "slide_type": "subslide"
    }
   },
   "source": [
    "## Contents of the /root directory\n",
    "\n",
    "Type **ls /** to see the contents of the root directory:\n",
    "\n",
    "- **/bin**, **/usr**, **/local**: all the software is usually installed here\n",
    "- **/etc**, **/var**: system-wide configuration\n",
    "- **/homes**, **/home**: Users' private directories"
   ]
  },
  {
   "cell_type": "markdown",
   "metadata": {
    "slideshow": {
     "slide_type": "subslide"
    }
   },
   "source": [
    "## The course materials\n",
    "\n",
    "The /homes/evopserver folder contains a folder for each student in this course\n",
    "\n",
    "There is also a special folder called /homes/evopserver/lectures, containing the materials and slides\n",
    "\n",
    "All the materials for this course are in **/homes/evopserver/lectures/unix_intro**"
   ]
  },
  {
   "cell_type": "markdown",
   "metadata": {
    "slideshow": {
     "slide_type": "slide"
    }
   },
   "source": [
    "# Copy the course materials in your home\n",
    "\n",
    "Let's copy the exercise files to your home folder:\n",
    "\n",
    "```\n",
    "    cp -r /homes/evopserver/lectures/unix_intro/ ~\n",
    "    \n",
    "```\n",
    "\n",
    "Explanation:\n",
    "\n",
    "- **cp** is the command to copy files\n",
    "- the **-r** (recursive) option is mandatory when copying folders\n",
    "- **/homes/evopserver/unix_intro** is the location of the folder you want to copy\n",
    "- **~** is a short-cut to represent your home folder \n",
    "\n"
   ]
  },
  {
   "cell_type": "markdown",
   "metadata": {
    "slideshow": {
     "slide_type": "fragment"
    }
   },
   "source": [
    "To make sure the files are copied correctly, you can do:\n",
    "\n",
    "```\n",
    "    cd \n",
    "    cd unix_intro\n",
    "    ls\n",
    "```"
   ]
  },
  {
   "cell_type": "code",
   "execution_count": 14,
   "metadata": {
    "collapsed": false,
    "slideshow": {
     "slide_type": "skip"
    }
   },
   "outputs": [
    {
     "name": "stdout",
     "output_type": "stream",
     "text": [
      "/home/gmd78366\r\n",
      "\u001b[0m\u001b[01;34mexercises\u001b[0m  Makefile  README.md  \u001b[01;34mslides\u001b[0m  \u001b[01;34msrc\u001b[0m\r\n"
     ]
    }
   ],
   "source": [
    "# Please ignore\n",
    "cd \n",
    "pwd\n",
    "cd workspace/peb_unix_intro\n",
    "ls"
   ]
  },
  {
   "cell_type": "markdown",
   "metadata": {
    "slideshow": {
     "slide_type": "slide"
    }
   },
   "source": [
    "# The exercises files\n",
    "\n",
    "Let's move to the unix_intro/exercises folder to see the exercise files.\n"
   ]
  },
  {
   "cell_type": "code",
   "execution_count": 15,
   "metadata": {
    "collapsed": false
   },
   "outputs": [
    {
     "name": "stdout",
     "output_type": "stream",
     "text": [
      "1_browsing_textfiles.txt  chr8.gff            \u001b[0m\u001b[01;34mmultiplefiles\u001b[0m\r\n",
      "2_searching_patterns.txt  exercise1_grep.txt  \u001b[01;34mold_files\u001b[0m\r\n",
      "chr8.bed                  \u001b[01;34mgenes\u001b[0m               sequences.fasta\r\n"
     ]
    }
   ],
   "source": [
    "cd exercises\n",
    "ls"
   ]
  },
  {
   "cell_type": "markdown",
   "metadata": {},
   "source": [
    "There is a file called 1_browsing_textfiles.txt."
   ]
  },
  {
   "cell_type": "markdown",
   "metadata": {
    "slideshow": {
     "slide_type": "slide"
    }
   },
   "source": [
    "# Accessing the contents of a file: head, cat, less\n",
    "\n",
    "To access the contents of a file, we can use several Unix commands:\n",
    "\n",
    "| command       | description                                   | example             |\n",
    "| :------------:|:-------------------------------------         |:------------------- |\n",
    "| **head**      | print the first lines of the file             | head start_here.txt |\n",
    "| **tail**      | print the last lines of the file              | tail start_here.txt |\n",
    "| **cat**       | print the contents of the file to the screen  | cat start_here.txt  |\n",
    "| **less**      | allows to navigate contents of the file       | less start_here.txt |"
   ]
  },
  {
   "cell_type": "markdown",
   "metadata": {
    "slideshow": {
     "slide_type": "subslide"
    }
   },
   "source": [
    "The **head** command can be used to see the first line of a file. \n",
    "\n",
    "Let's use it on the file 1_browsing_textfiles.txt:"
   ]
  },
  {
   "cell_type": "code",
   "execution_count": 19,
   "metadata": {
    "collapsed": false
   },
   "outputs": [
    {
     "name": "stdout",
     "output_type": "stream",
     "text": [
      " ________________________________________________________________________________________\r\n",
      "/ the Unix command \"head\" allows to see the first lines of a file.                       \\\r\n",
      "|                                                 \t\t\t\t\t |\t\r\n",
      "| You can use the -n option to specify how many lines to show. For example, try printing |\r\n",
      "| the first 40 lines of this file.              \t\t\t\t\t |\r\n",
      "\\                                                 \t\t\t\t\t /\r\n",
      " ----------------------------------------------------------------------------------------\r\n",
      "        \\   ^__^\r\n",
      "         \\  (oo)\\_______\r\n",
      "            (__)\\       )\\/\\\r\n"
     ]
    }
   ],
   "source": [
    "head 1_browsing_textfiles.txt"
   ]
  },
  {
   "cell_type": "markdown",
   "metadata": {
    "slideshow": {
     "slide_type": "subslide"
    }
   },
   "source": [
    "## The -n option in head\n",
    "\n",
    "The first lines of the file seemed to suggest something. Let's use the -n 40 option to print the first 40 lines of this file:"
   ]
  },
  {
   "cell_type": "code",
   "execution_count": 20,
   "metadata": {
    "collapsed": false
   },
   "outputs": [
    {
     "name": "stdout",
     "output_type": "stream",
     "text": [
      " ________________________________________________________________________________________\r\n",
      "/ the Unix command \"head\" allows to see the first lines of a file.                       \\\r\n",
      "|                                                 \t\t\t\t\t |\t\r\n",
      "| You can use the -n option to specify how many lines to show. For example, try printing |\r\n",
      "| the first 40 lines of this file.              \t\t\t\t\t |\r\n",
      "\\                                                 \t\t\t\t\t /\r\n",
      " ----------------------------------------------------------------------------------------\r\n",
      "        \\   ^__^\r\n",
      "         \\  (oo)\\_______\r\n",
      "            (__)\\       )\\/\\\r\n",
      "                ||----w |\r\n",
      "                ||     ||\r\n",
      "\r\n",
      "\r\n",
      " _________________________________________________\r\n",
      "/                                                 \\\r\n",
      "| Well Done!                                      |\r\n",
      "|                                                 |\r\n",
      "| Another way to see the contents of a file is    |\r\n",
      "| using the less command. Try typing:             |\r\n",
      "|                                                 |\r\n",
      "|        less start_here.txt                      |\r\n",
      "|                                                 |\r\n",
      "| and scroll down with the arrow keys.            |\r\n",
      "\\                                                 /\r\n",
      " -------------------------------------------------\r\n",
      "        \\   ^__^\r\n",
      "         \\  (oo)\\_______\r\n",
      "            (__)\\       )\\/\\\r\n",
      "                ||----w |\r\n",
      "                ||     ||\r\n",
      "\r\n",
      "\r\n",
      "\r\n",
      "\r\n",
      "\r\n",
      "\r\n",
      "\r\n",
      "\r\n",
      "++++++++++++++++++++++++++\r\n"
     ]
    }
   ],
   "source": [
    "head -n 40 1_browsing_textfiles.txt"
   ]
  },
  {
   "cell_type": "markdown",
   "metadata": {
    "slideshow": {
     "slide_type": "subslide"
    }
   },
   "source": [
    "## Browsing the contents of a file with less\n",
    "\n",
    "The **less** unix command allows to browse the contents of file, read-only, in a modality similar to what we saw with the **man** pages:\n",
    "\n",
    "```\n",
    "    less 1_browsing_textfiles.txt\n",
    "```\n",
    "\n",
    "Scroll down and follow the instructions in the file to see more."
   ]
  },
  {
   "cell_type": "markdown",
   "metadata": {
    "slideshow": {
     "slide_type": "slide"
    }
   },
   "source": [
    "# Editing files with nano\n",
    "\n",
    "In the following days you will have to write several scripts into evopserver.\n",
    "\n",
    "There are two alternatives:\n",
    "\n",
    "- connect using the -X option, then use gedit -> however if too many people use it, the network will crash\n",
    "- **nano** is a powerful command-line editor"
   ]
  },
  {
   "cell_type": "markdown",
   "metadata": {
    "slideshow": {
     "slide_type": "subslide"
    }
   },
   "source": [
    "## The nano text editor\n",
    "\n",
    "Type **nano** on the command line to access the text editor:\n",
    "\n",
    "<img src=\"https://raw.githubusercontent.com/dalloliogm/peb_unix_intro/master/slides/images/u2_nano.png\" width=\"600\">\n"
   ]
  },
  {
   "cell_type": "markdown",
   "metadata": {
    "slideshow": {
     "slide_type": "subslide"
    }
   },
   "source": [
    "## How to use nano\n",
    "\n",
    "Type **nano** on the command line to access the text editor\n",
    "    - type **nano filename.txt** to open a file directly\n",
    "    \n",
    "Keyboard shortcuts:\n",
    "\n",
    "    - save a file: CTRL-o\n",
    "    - read a file: CTRL-r\n",
    "    - exit: CTRL-x\n",
    "    - undo/redo: ALT-u and ALT-e\n",
    "    - Copy/paste: CTRL-SHIFT-c and CTRL-SHIFT-v"
   ]
  },
  {
   "cell_type": "markdown",
   "metadata": {
    "slideshow": {
     "slide_type": "subslide"
    }
   },
   "source": [
    "## Nano exercise\n",
    "\n",
    "Create a file named \"myfile.txt\"\n",
    "\n",
    "Write \"hello world\"\n",
    "- Save it using the CTRL-o shortcut\n",
    "- Exit the editor using CTRL-x"
   ]
  },
  {
   "cell_type": "markdown",
   "metadata": {
    "slideshow": {
     "slide_type": "slide"
    }
   },
   "source": [
    "# Other useful Unix commands (moving and copying files)\n",
    "\n",
    "- **mkdir**: create a folder\n",
    "- **rm**: delete files (note: no trash bin!)\n",
    "- **mv**: move or rename a file (note: overwritten files will be lost)"
   ]
  },
  {
   "cell_type": "markdown",
   "metadata": {
    "slideshow": {
     "slide_type": "subslide"
    }
   },
   "source": [
    "## Other Unix commands\n",
    "\n",
    "- **clear**: clear the terminal output\n",
    "- **history**: see all the commands typed so far\n",
    "- **dos2unix**: clean files edited in MS Windows notepad for Unix (see also unix2dos)\n",
    "- **echo**: print a message (useful in scripts)"
   ]
  },
  {
   "cell_type": "markdown",
   "metadata": {
    "slideshow": {
     "slide_type": "slide"
    }
   },
   "source": [
    "# Time for lunch!\n",
    "\n",
    "See you at 14.00!"
   ]
  }
 ],
 "metadata": {
  "celltoolbar": "Slideshow",
  "hide_input": false,
  "kernelspec": {
   "display_name": "Bash",
   "language": "bash",
   "name": "bash"
  },
  "language_info": {
   "codemirror_mode": "shell",
   "file_extension": ".sh",
   "mimetype": "text/x-sh",
   "name": "bash"
  },
  "nav_menu": {},
  "toc": {
   "navigate_menu": true,
   "number_sections": true,
   "sideBar": true,
   "threshold": 6,
   "toc_cell": true,
   "toc_section_display": "block",
   "toc_window_display": false
  }
 },
 "nbformat": 4,
 "nbformat_minor": 1
}
