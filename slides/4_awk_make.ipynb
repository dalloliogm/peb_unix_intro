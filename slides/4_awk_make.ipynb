{
 "cells": [
  {
   "cell_type": "markdown",
   "metadata": {
    "toc": "true"
   },
   "source": [
    "<h1>Table of Contents<span class=\"tocSkip\"></span></h1>\n",
    "<div class=\"toc\"><ul class=\"toc-item\"><li><span><a href=\"#Introduction-to-Unix---awk-and-Makefiles\" data-toc-modified-id=\"Introduction-to-Unix---awk-and-Makefiles-1\"><span class=\"toc-item-num\">1&nbsp;&nbsp;</span>Introduction to Unix - awk and Makefiles</a></span></li><li><span><a href=\"#Working-with-tabular-files:-Awk\" data-toc-modified-id=\"Working-with-tabular-files:-Awk-2\"><span class=\"toc-item-num\">2&nbsp;&nbsp;</span>Working with tabular files: Awk</a></span><ul class=\"toc-item\"><li><span><a href=\"#Example-of-tabular-file:-the-GFF3-format\" data-toc-modified-id=\"Example-of-tabular-file:-the-GFF3-format-2.1\"><span class=\"toc-item-num\">2.1&nbsp;&nbsp;</span>Example of tabular file: the GFF3 format</a></span></li><li><span><a href=\"#Basic-AWK-syntax:-filters\" data-toc-modified-id=\"Basic-AWK-syntax:-filters-2.2\"><span class=\"toc-item-num\">2.2&nbsp;&nbsp;</span>Basic AWK syntax: filters</a></span><ul class=\"toc-item\"><li><span><a href=\"#Exercise\" data-toc-modified-id=\"Exercise-2.2.1\"><span class=\"toc-item-num\">2.2.1&nbsp;&nbsp;</span>Exercise</a></span></li></ul></li><li><span><a href=\"#Awk:-printing-columns-and-doing-operations\" data-toc-modified-id=\"Awk:-printing-columns-and-doing-operations-2.3\"><span class=\"toc-item-num\">2.3&nbsp;&nbsp;</span>Awk: printing columns and doing operations</a></span><ul class=\"toc-item\"><li><span><a href=\"#Exercise-(difficult)\" data-toc-modified-id=\"Exercise-(difficult)-2.3.1\"><span class=\"toc-item-num\">2.3.1&nbsp;&nbsp;</span>Exercise (difficult)</a></span></li></ul></li><li><span><a href=\"#AWK:-searching-by-regular-expressions\" data-toc-modified-id=\"AWK:-searching-by-regular-expressions-2.4\"><span class=\"toc-item-num\">2.4&nbsp;&nbsp;</span>AWK: searching by regular expressions</a></span><ul class=\"toc-item\"><li><span><a href=\"#Last-exercise!\" data-toc-modified-id=\"Last-exercise!-2.4.1\"><span class=\"toc-item-num\">2.4.1&nbsp;&nbsp;</span>Last exercise!</a></span></li></ul></li></ul></li><li><span><a href=\"#Bonus:-Makefiles\" data-toc-modified-id=\"Bonus:-Makefiles-3\"><span class=\"toc-item-num\">3&nbsp;&nbsp;</span>Bonus: Makefiles</a></span><ul class=\"toc-item\"><li><span><a href=\"#Defining-pipelines-with-Makefiles\" data-toc-modified-id=\"Defining-pipelines-with-Makefiles-3.1\"><span class=\"toc-item-num\">3.1&nbsp;&nbsp;</span>Defining pipelines with Makefiles</a></span></li><li><span><a href=\"#How-to-run-Makefile-rules\" data-toc-modified-id=\"How-to-run-Makefile-rules-3.2\"><span class=\"toc-item-num\">3.2&nbsp;&nbsp;</span>How to run Makefile rules</a></span></li><li><span><a href=\"#Dinner-time!!\" data-toc-modified-id=\"Dinner-time!!-3.3\"><span class=\"toc-item-num\">3.3&nbsp;&nbsp;</span>Dinner time!!</a></span></li></ul></li></ul></div>"
   ]
  },
  {
   "cell_type": "code",
   "execution_count": 67,
   "metadata": {},
   "outputs": [],
   "source": [
    "# Configuration - please ignore - this should not appear in the slideshow\n",
    "alias grep='grep --color'\n",
    "cd\n",
    "cd workspace/Peb2019/exercises/"
   ]
  },
  {
   "cell_type": "markdown",
   "metadata": {
    "slideshow": {
     "slide_type": "slide"
    }
   },
   "source": [
    "# Introduction to Unix - awk and Makefiles\n",
    "\n",
    "**<font color='darkgreen'> Welcome to the Programming for Evolutionary Biology workshop!! </font>** \n",
    "\n",
    "\n",
    "Giovanni M. Dall'Olio. Data Strategy and Design, GSK. March 2020. \n",
    "\n",
    "Quick link to slides online: https://tinyurl.com/evop-unix\n",
    "\n",
    "\n",
    "\n",
    "All materials available here: https://github.com/dalloliogm/peb_unix_intro/archive/master.zip\n",
    "\n",
    "\n",
    "In this fourth part we will use the **awk** command to excplore the contents of files, and some basic regular expressions.\n",
    "\n",
    "Press space or down key to continue."
   ]
  },
  {
   "cell_type": "markdown",
   "metadata": {
    "slideshow": {
     "slide_type": "slide"
    }
   },
   "source": [
    "# Summary of the course today\n",
    "\n",
    "- **Morning first half**: Basic Terminal commands, First Login to Linux\n",
    "- **Morning second half**: Login to a Remote Unix server, browsing file contents\n",
    "- **Afternoon first half**: Finding patterns in a file with grep\n",
    "- **Afternoon second half**: awk and sed; makefiles"
   ]
  },
  {
   "cell_type": "markdown",
   "metadata": {
    "slideshow": {
     "slide_type": "slide"
    }
   },
   "source": [
    "# Working with tabular files: Awk\n",
    "\n",
    "\n",
    "The **awk** command allows to search and manipulate tabular files from the command line.\n",
    "\n",
    "Imagine it as the equivalent of Excel/Calc for the command line. It allows to do search on specific columns of a file, to do numerical operations, or to change the order of the columns.\n",
    "\n",
    "The advantage of a command-line tool over graphical software is that the memory footprint is much lower. So you can access and modify large files in a fraction of the time that it would take with Excel."
   ]
  },
  {
   "cell_type": "markdown",
   "metadata": {
    "slideshow": {
     "slide_type": "slide"
    }
   },
   "source": [
    "## Example of tabular file: the GFF3 format\n",
    "\n",
    "The file genes/chr8.gff contains an example of file in the GFF3 format:"
   ]
  },
  {
   "cell_type": "code",
   "execution_count": 68,
   "metadata": {
    "run_control": {
     "frozen": false,
     "read_only": false
    },
    "slideshow": {
     "slide_type": "-"
    }
   },
   "outputs": [
    {
     "name": "stdout",
     "output_type": "stream",
     "text": [
      "##gff-version 3\n",
      "##source-version rtracklayer 1.34.1\n",
      "##date 2017-02-27\n",
      "##genome-build .\thg19\n",
      "chr8\trtracklayer\tsequence_feature\t18248755\t18258723\t.\t+\t.\tgene_id=10;symbol=NAT2;exerc1=FALSE;ID=10\n",
      "chr8\trtracklayer\tsequence_feature\t100549014\t100549089\t.\t-\t.\tgene_id=100126309;symbol=MIR875;exerc1=FALSE;ID=100126309\n",
      "chr8\trtracklayer\tsequence_feature\t144895127\t144895212\t.\t-\t.\tgene_id=100126338;symbol=MIR937;exerc1=FALSE;ID=100126338\n",
      "chr8\trtracklayer\tsequence_feature\t145619364\t145619445\t.\t-\t.\tgene_id=100126351;symbol=MIR939;exerc1=FALSE;ID=100126351\n",
      "chr8\trtracklayer\tsequence_feature\t91970706\t91997485\t.\t-\t.\tgene_id=100127983;symbol=C8orf88;exerc1=FALSE;ID=100127983\n",
      "chr8\trtracklayer\tsequence_feature\t74332309\t74353753\t.\t+\t.\tgene_id=100128126;symbol=STAU2-AS1;exerc1=FALSE;ID=100128126\n"
     ]
    }
   ],
   "source": [
    "head genes/chr8.gff"
   ]
  },
  {
   "cell_type": "markdown",
   "metadata": {
    "slideshow": {
     "slide_type": "-"
    }
   },
   "source": [
    "As you can see it is a tab-separated file, which we could easily read in Excel or Calc.\n",
    "\n",
    "The **GFF** (General Feature Format) format specifications are defined [here](https://genome.ucsc.edu/FAQ/FAQformat.html#format3), but in short:\n",
    "\n",
    "- the **col1**, **col4** and **col5** contain the chromosome name and genomic coordinates (start and end),\n",
    "- the **col2** describes the tool or resource that generated the annotation,\n",
    "- the **col3** describe the type of feature (e.g. gene, transcript, exon, TF binding site, Histone Acetylation mark, etc...\n",
    "- the **col9** column contains several fields, separated by a semicolon\n"
   ]
  },
  {
   "cell_type": "markdown",
   "metadata": {
    "slideshow": {
     "slide_type": "subslide"
    }
   },
   "source": [
    "## Basic AWK syntax: filters\n",
    "\n",
    "The basic AWK syntax is the following:\n",
    "\n",
    "\n",
    "    awk 'PATTERN {ACTION}' filename\n",
    "\n",
    "Awk is quite smart at recognizing the field separator, and by default assumes they are separated by tabs.\n",
    "\n",
    "    - PATTERN: select which rows to print\n",
    "        e.g. print only the rows that contain a specific pattern\n",
    "        \n",
    "    - ACTION: what to do on each line (e.g. print a specific column, sum them, etc..)\n",
    "        Columns are identified by $column_number, e.g. $2 refers to the second column, and so on. \n",
    "        $0 refers to all columns\n",
    "\n",
    "The following code filters all the lines belonging to chromosome 8, between the coordinates 100000 and 200000:"
   ]
  },
  {
   "cell_type": "code",
   "execution_count": 72,
   "metadata": {
    "run_control": {
     "frozen": false,
     "read_only": false
    },
    "slideshow": {
     "slide_type": "-"
    }
   },
   "outputs": [
    {
     "name": "stdout",
     "output_type": "stream",
     "text": [
      "chr8\trtracklayer\tsequence_feature\t182200\t197339\t.\t+\t.\tgene_id=169270;symbol=ZNF596;exerc1=FALSE;ID=169270\n",
      "chr8\trtracklayer\tsequence_feature\t116086\t117024\t.\t-\t.\tgene_id=441308;symbol=OR4F21;exerc1=FALSE;ID=441308\n",
      "chr8\trtracklayer\tsequence_feature\t158345\t182318\t.\t-\t.\tgene_id=644128;symbol=RPL23AP53;exerc1=FALSE;ID=644128\n"
     ]
    }
   ],
   "source": [
    "# This prints all the lines on chromosome 8 and with chromosomal position between 10000 and 20000\n",
    "# Don't be scared by this long statement, we will explain it step by step\n",
    "# \n",
    "awk '$1==\"chr8\" && $4>100000 && $5<200000 {print $0}' genes/chr8.gff"
   ]
  },
  {
   "cell_type": "markdown",
   "metadata": {
    "slideshow": {
     "slide_type": "subslide"
    }
   },
   "source": [
    "### Exercise\n",
    "\n",
    "Can you print all the lines between chromosomal positions 5,000,000 and 10,000,000 (columns 4 and 5)?"
   ]
  },
  {
   "cell_type": "code",
   "execution_count": 70,
   "metadata": {
    "run_control": {
     "frozen": false,
     "read_only": false
    },
    "slideshow": {
     "slide_type": "fragment"
    }
   },
   "outputs": [
    {
     "name": "stdout",
     "output_type": "stream",
     "text": [
      "chr8\trtracklayer\tsequence_feature\t7143733\t7212876\t.\t-\t.\tgene_id=100128890;symbol=FAM66B;exerc1=TRUE;ID=100128890\n",
      "chr8\trtracklayer\tsequence_feature\t7215498\t7220490\t.\t-\t.\tgene_id=100131980;symbol=ZNF705G;exerc1=TRUE;ID=100131980\n",
      "chr8\trtracklayer\tsequence_feature\t7812535\t7866277\t.\t+\t.\tgene_id=100132103;symbol=FAM66E;exerc1=TRUE;ID=100132103\n",
      "chr8\trtracklayer\tsequence_feature\t7783859\t7809935\t.\t+       / Cows in \\\n",
      "chr8\trtracklayer\tsequence_feature\t6261077\t6264069\t.\t        | the      |\n",
      "chr8\trtracklayer\tsequence_feature\t7272385\t7274354\t.\t-       \\ Genome!  /\n",
      "chr8\trtracklayer\tsequence_feature\t7946463\t7946611\t.\t.\t  ---------\n",
      "chr8\trtracklayer\tsequence_feature\t6602685\t6602765\t.\t+\t ||  ^__^\n",
      "chr8\trtracklayer\tsequence_feature\t8905955\t8906028\t.\t+\t ||  (oo)\\\\_______\n",
      "chr8\trtracklayer\tsequence_feature\t6602689\t6602761\t.\t-\t     (__)\\\\       )\\\\/\\\n"
     ]
    }
   ],
   "source": [
    "awk '$4 > 5000000 && $5 < 10000000 ' genes/chr8.gff | head\n"
   ]
  },
  {
   "cell_type": "markdown",
   "metadata": {
    "slideshow": {
     "slide_type": "subslide"
    }
   },
   "source": [
    "## How many genes there are?\n",
    "\n",
    "In the previous exercises we've found all the genes on chr8 and between position 5000,000 and 10,000,000.\n",
    "\n",
    "How many genes are these?\n"
   ]
  },
  {
   "cell_type": "markdown",
   "metadata": {
    "slideshow": {
     "slide_type": "fragment"
    }
   },
   "source": [
    "With grep, we've used the -c option to count the output lines. However, awk doesn't have a -c option. \n",
    "\n",
    "How to count the output lines, then?"
   ]
  },
  {
   "cell_type": "markdown",
   "metadata": {
    "slideshow": {
     "slide_type": "fragment"
    }
   },
   "source": [
    "A solution is to use the **wc** unix command, which stands for \"word-count\":"
   ]
  },
  {
   "cell_type": "code",
   "execution_count": 71,
   "metadata": {
    "slideshow": {
     "slide_type": "-"
    }
   },
   "outputs": [
    {
     "name": "stdout",
     "output_type": "stream",
     "text": [
      "      47     425    4709\n"
     ]
    }
   ],
   "source": [
    "awk '$4 > 5000000 && $5 < 10000000 ' genes/chr8.gff | wc \n"
   ]
  },
  {
   "cell_type": "markdown",
   "metadata": {
    "slideshow": {
     "slide_type": "-"
    }
   },
   "source": [
    "The first number is the number of rows; the other numbers are the number of words, and the number of characters in total.\n"
   ]
  },
  {
   "cell_type": "markdown",
   "metadata": {
    "slideshow": {
     "slide_type": "slide"
    }
   },
   "source": [
    "## Awk: printing columns and doing operations\n",
    "\n",
    "Awk also allows to print only specific columns, and do algebraic operations on them.\n",
    "\n",
    "Remember that each column can be referred as \\\\$1, \\\\$2, \\\\$3, etc...\n",
    "\n",
    "For example the following code prints the chromosome, start and end position for each gene (columns 1, 4 and 5), as well as column 9 which contains the gene symbol and ids. We can pipe the output to head or less, to make it easier to visualize:"
   ]
  },
  {
   "cell_type": "code",
   "execution_count": 62,
   "metadata": {
    "run_control": {
     "frozen": false,
     "read_only": false
    }
   },
   "outputs": [
    {
     "name": "stdout",
     "output_type": "stream",
     "text": [
      "##gff-version   \n",
      "##source-version   \n",
      "##date   \n",
      "##genome-build   \n",
      "chr8 18248755 18258723 gene_id=10;symbol=NAT2;exerc1=FALSE;ID=10\n",
      "chr8 100549014 100549089 gene_id=100126309;symbol=MIR875;exerc1=FALSE;ID=100126309\n",
      "chr8 144895127 144895212 gene_id=100126338;symbol=MIR937;exerc1=FALSE;ID=100126338\n",
      "chr8 145619364 145619445 gene_id=100126351;symbol=MIR939;exerc1=FALSE;ID=100126351\n",
      "chr8 91970706 91997485 gene_id=100127983;symbol=C8orf88;exerc1=FALSE;ID=100127983\n",
      "chr8 74332309 74353753 gene_id=100128126;symbol=STAU2-AS1;exerc1=FALSE;ID=100128126\n"
     ]
    }
   ],
   "source": [
    "awk '{print $1, $4, $5, $9}' genes/chr8.gff | head\n"
   ]
  },
  {
   "cell_type": "markdown",
   "metadata": {
    "slideshow": {
     "slide_type": "fragment"
    }
   },
   "source": [
    "Notice how this also prints the headers of the file. We can exclude these by adding a grep condition:"
   ]
  },
  {
   "cell_type": "code",
   "execution_count": 64,
   "metadata": {
    "run_control": {
     "frozen": false,
     "read_only": false
    },
    "slideshow": {
     "slide_type": "-"
    }
   },
   "outputs": [
    {
     "name": "stdout",
     "output_type": "stream",
     "text": [
      "chr8 18248755 18258723 gene_id=10;symbol=NAT2;exerc1=FALSE;ID=10\n",
      "chr8 100549014 100549089 gene_id=100126309;symbol=MIR875;exerc1=FALSE;ID=100126309\n",
      "chr8 144895127 144895212 gene_id=100126338;symbol=MIR937;exerc1=FALSE;ID=100126338\n",
      "chr8 145619364 145619445 gene_id=100126351;symbol=MIR939;exerc1=FALSE;ID=100126351\n",
      "chr8 91970706 91997485 gene_id=100127983;symbol=C8orf88;exerc1=FALSE;ID=100127983\n",
      "chr8 74332309 74353753 gene_id=100128126;symbol=STAU2-AS1;exerc1=FALSE;ID=100128126\n",
      "chr8 144816310 144828507 gene_id=100128338;symbol=FAM83H-AS1;exerc1=FALSE;ID=100128338\n",
      "chr8 144077245 144079080 gene_id=100128627;symbol=CDC42P3;exerc1=FALSE;ID=100128627\n",
      "chr8 30239635 30242917 gene_id=100128750;symbol=RBPMS-AS1;exerc1=FALSE;ID=100128750\n",
      "chr8 7143733 7212876 gene_id=100128890;symbol=FAM66B;exerc1=TRUE;ID=100128890\n"
     ]
    }
   ],
   "source": [
    "# Let's use grep and the -v option to exclude all the lines containing #\n",
    "grep -v '#' genes/chr8.gff |  awk '{print $1, $4, $5, $9}'  |  head"
   ]
  },
  {
   "cell_type": "markdown",
   "metadata": {
    "slideshow": {
     "slide_type": "subslide"
    }
   },
   "source": [
    "### Doing operations on awk columns (adding gene length)\n",
    "\n",
    "We can also do operations on the columns printed by awk.\n",
    "\n",
    "For example, we can calculate the gene length by subtracting the gene start position from the gene end"
   ]
  },
  {
   "cell_type": "code",
   "execution_count": 65,
   "metadata": {},
   "outputs": [
    {
     "name": "stdout",
     "output_type": "stream",
     "text": [
      "chr8 18248755 18258723 9968 gene_id=10;symbol=NAT2;exerc1=FALSE;ID=10\n",
      "chr8 100549014 100549089 75 gene_id=100126309;symbol=MIR875;exerc1=FALSE;ID=100126309\n",
      "chr8 144895127 144895212 85 gene_id=100126338;symbol=MIR937;exerc1=FALSE;ID=100126338\n",
      "chr8 145619364 145619445 81 gene_id=100126351;symbol=MIR939;exerc1=FALSE;ID=100126351\n",
      "chr8 91970706 91997485 26779 gene_id=100127983;symbol=C8orf88;exerc1=FALSE;ID=100127983\n",
      "chr8 74332309 74353753 21444 gene_id=100128126;symbol=STAU2-AS1;exerc1=FALSE;ID=100128126\n",
      "chr8 144816310 144828507 12197 gene_id=100128338;symbol=FAM83H-AS1;exerc1=FALSE;ID=100128338\n",
      "chr8 144077245 144079080 1835 gene_id=100128627;symbol=CDC42P3;exerc1=FALSE;ID=100128627\n",
      "chr8 30239635 30242917 3282 gene_id=100128750;symbol=RBPMS-AS1;exerc1=FALSE;ID=100128750\n",
      "chr8 7143733 7212876 69143 gene_id=100128890;symbol=FAM66B;exerc1=TRUE;ID=100128890\n"
     ]
    }
   ],
   "source": [
    "# Calculating gene length\n",
    "grep -v '#' genes/chr8.gff |  awk '{print $1, $4, $5, $5-$4, $9}'  |  head"
   ]
  },
  {
   "cell_type": "markdown",
   "metadata": {
    "slideshow": {
     "slide_type": "slide"
    }
   },
   "source": [
    "## AWK: searching by regular expressions\n",
    "\n",
    "Awk can also be used to search by regular expression.\n",
    "\n",
    "For example, the following code will print all the lines in which coumn \\\\$9 contains \"MIR\":"
   ]
  },
  {
   "cell_type": "code",
   "execution_count": 73,
   "metadata": {
    "run_control": {
     "frozen": false,
     "read_only": false
    },
    "slideshow": {
     "slide_type": "-"
    }
   },
   "outputs": [
    {
     "name": "stdout",
     "output_type": "stream",
     "text": [
      "chr8\trtracklayer\tsequence_feature\t100549014\t100549089\t.\t-\t.\tgene_id=100126309;symbol=MIR875;exerc1=FALSE;ID=100126309\n",
      "chr8\trtracklayer\tsequence_feature\t144895127\t144895212\t.\t-\t.\tgene_id=100126338;symbol=MIR937;exerc1=FALSE;ID=100126338\n",
      "chr8\trtracklayer\tsequence_feature\t145619364\t145619445\t.\t-\t.\tgene_id=100126351;symbol=MIR939;exerc1=FALSE;ID=100126351\n",
      "chr8\trtracklayer\tsequence_feature\t65285775\t65295842\t.\t+\t.\tgene_id=100130155;symbol=MIR124-2HG;exerc1=FALSE;ID=100130155\n",
      "chr8\trtracklayer\tsequence_feature\t128972879\t128972941\t.\t+\t.\tgene_id=100302161;symbol=MIR1205;exerc1=FALSE;ID=100302161\n",
      "chr8\trtracklayer\tsequence_feature\t10682883\t10682953\t.\t-\t.\tgene_id=100302166;symbol=MIR1322;exerc1=FALSE;ID=100302166\n",
      "chr8\trtracklayer\tsequence_feature\t129021144\t129021202\t.\t+\t.\tgene_id=100302170;symbol=MIR1206;exerc1=FALSE;ID=100302170\n",
      "chr8\trtracklayer\tsequence_feature\t129061398\t129061484\t.\t+\t.\tgene_id=100302175;symbol=MIR1207;exerc1=FALSE;ID=100302175\n",
      "chr8\trtracklayer\tsequence_feature\t128808208\t128808274\t.\t+\t.\tgene_id=100302185;symbol=MIR1204;exerc1=FALSE;ID=100302185\n",
      "chr8\trtracklayer\tsequence_feature\t145625476\t145625559\t.\t-\t.\tgene_id=100302196;symbol=MIR1234;exerc1=FALSE;ID=100302196\n"
     ]
    }
   ],
   "source": [
    "awk '$9 ~ /MIR/ {print $0}' genes/chr8.gff  | head"
   ]
  },
  {
   "cell_type": "markdown",
   "metadata": {
    "slideshow": {
     "slide_type": "subslide"
    }
   },
   "source": [
    "### Exercise!\n",
    "\n",
    "Calculate the lenght of the gene POU5F1B.\n",
    "\n",
    "Find the Gene whose gene_id is equal to that number."
   ]
  },
  {
   "cell_type": "code",
   "execution_count": 13,
   "metadata": {
    "run_control": {
     "frozen": false,
     "read_only": false
    },
    "slideshow": {
     "slide_type": "fragment"
    }
   },
   "outputs": [
    {
     "name": "stdout",
     "output_type": "stream",
     "text": [
      "chr8\tWell_done\tGreat_job\t143953773\t143961236\t.\t-\t.\tgene_id=1584;symbol=CYP11B1;exerc1=FALSE;ID=1584\n"
     ]
    }
   ],
   "source": [
    "awk '$9 ~ /gene_id=1584/ {print $0}' genes/chr8.gff "
   ]
  },
  {
   "cell_type": "code",
   "execution_count": 12,
   "metadata": {
    "run_control": {
     "frozen": false,
     "read_only": false
    },
    "slideshow": {
     "slide_type": "fragment"
    }
   },
   "outputs": [
    {
     "name": "stdout",
     "output_type": "stream",
     "text": [
      "1584\n"
     ]
    }
   ],
   "source": [
    "awk '$9 ~ /POU5F1B/ {print $5-$4}' genes/chr8.gff \n"
   ]
  },
  {
   "cell_type": "markdown",
   "metadata": {
    "slideshow": {
     "slide_type": "slide"
    }
   },
   "source": [
    "## Splitting a file in multiple files, according to value of a column\n",
    "\n",
    "The example.bed file contains lines belonging to different chromosomes (column 1). \n",
    "\n",
    "We can split these in separate files, using the following syntax:"
   ]
  },
  {
   "cell_type": "code",
   "execution_count": 75,
   "metadata": {},
   "outputs": [],
   "source": [
    "#awk '{print>$1\".txt\"}' example.bed # doesn't work on MacBooc\n",
    "awk '{print>$1}' genes/example.bed"
   ]
  },
  {
   "cell_type": "code",
   "execution_count": 76,
   "metadata": {},
   "outputs": [
    {
     "name": "stdout",
     "output_type": "stream",
     "text": [
      "1_browsing_textfiles.txt\tchr8\n",
      "2_searching_patterns.txt\tgenes\n",
      "bos_taurus.txt\t\t\tmultiplefiles\n",
      "chr20\t\t\t\told_files\n"
     ]
    }
   ],
   "source": [
    "ls"
   ]
  },
  {
   "cell_type": "code",
   "execution_count": null,
   "metadata": {},
   "outputs": [],
   "source": []
  },
  {
   "cell_type": "markdown",
   "metadata": {
    "slideshow": {
     "slide_type": "subslide"
    }
   },
   "source": [
    "### Extracting gene symbols from a string in awk\n",
    "\n",
    "Notice how in in this file the gene symbols are embedded in a long string containing other information:\n",
    "\n",
    "    gene_id=10;symbol=NAT2;exerc1=FALSE;ID=10\n",
    "\n",
    "\n",
    "Is there a way to extract just the gene ID and Symbols from this text, while also keeping the gene coordinates?\n"
   ]
  },
  {
   "cell_type": "markdown",
   "metadata": {
    "slideshow": {
     "slide_type": "fragment"
    }
   },
   "source": [
    "Extracting the gene symbols in this case is not trivial, but this example applies to several formats in bioinformatics, so it is useful to see how to do it.\n",
    "\n",
    "The first step is to use the -F operator in awk to specify a different fields separator - in this case, the semicolon:\n",
    "\n"
   ]
  },
  {
   "cell_type": "code",
   "execution_count": 54,
   "metadata": {
    "slideshow": {
     "slide_type": "-"
    }
   },
   "outputs": [
    {
     "name": "stdout",
     "output_type": "stream",
     "text": [
      "symbol=NAT2\n",
      "symbol=MIR875\n",
      "symbol=MIR937\n",
      "symbol=MIR939\n",
      "symbol=C8orf88\n",
      "symbol=STAU2-AS1\n",
      "symbol=FAM83H-AS1\n",
      "symbol=CDC42P3\n",
      "symbol=RBPMS-AS1\n",
      "symbol=FAM66B\n"
     ]
    }
   ],
   "source": [
    "grep -v '^#' genes/chr8.gff | awk -F';' '{print $2}' | head"
   ]
  },
  {
   "cell_type": "markdown",
   "metadata": {
    "slideshow": {
     "slide_type": "subslide"
    }
   },
   "source": [
    "### How to print both gene coordinates and gene symbols?\n",
    "\n",
    "We have to use two consecutive awk searches. \n",
    "\n",
    "- in the first awk statement, we will extract the chromosome, start, end columns, as well as the string containing the symbol string (column 1, 4,5, and 9);\n",
    "- in the second statement, we will split the symbol string to extract the symbol id  "
   ]
  },
  {
   "cell_type": "code",
   "execution_count": 58,
   "metadata": {
    "run_control": {
     "frozen": false,
     "read_only": false
    }
   },
   "outputs": [
    {
     "name": "stdout",
     "output_type": "stream",
     "text": [
      "chr8 18248755 18258723 gene_id=10 symbol=NAT2\n",
      "chr8 100549014 100549089 gene_id=100126309 symbol=MIR875\n",
      "chr8 144895127 144895212 gene_id=100126338 symbol=MIR937\n",
      "chr8 145619364 145619445 gene_id=100126351 symbol=MIR939\n",
      "chr8 91970706 91997485 gene_id=100127983 symbol=C8orf88\n",
      "chr8 74332309 74353753 gene_id=100128126 symbol=STAU2-AS1\n",
      "chr8 144816310 144828507 gene_id=100128338 symbol=FAM83H-AS1\n",
      "chr8 144077245 144079080 gene_id=100128627 symbol=CDC42P3\n",
      "chr8 30239635 30242917 gene_id=100128750 symbol=RBPMS-AS1\n",
      "chr8 7143733 7212876 gene_id=100128890 symbol=FAM66B\n"
     ]
    }
   ],
   "source": [
    "grep -v '^#' genes/chr8.gff | awk '{print $1, $4, $5, $9}' | grep -v '^#' | awk -F';' '{print $1, $2}' | head"
   ]
  },
  {
   "cell_type": "markdown",
   "metadata": {
    "slideshow": {
     "slide_type": "slide"
    }
   },
   "source": [
    "# Bonus: Makefiles\n",
    "\n",
    "\n",
    "You may have noticed that the unix_intro folder contains a file called Makefile. \n",
    " \n",
    "What is a Makefile? Let's have a look at its contents first: "
   ]
  },
  {
   "cell_type": "code",
   "execution_count": 14,
   "metadata": {
    "run_control": {
     "frozen": false,
     "read_only": false
    }
   },
   "outputs": [
    {
     "name": "stdout",
     "output_type": "stream",
     "text": [
      "# This is a Makefile, which will be explained later in the course.\n",
      "# Please don't look at it yet :-)\n",
      "\n",
      "publish: slides_bash commit\n",
      "\techo \"convert the slides to pdf, commit, and push to github\"\n",
      "\tgit push\n",
      "\n",
      "\n",
      "test_exercises: start help ignorecase multiplefiles\n",
      "generate_exercises: generate_grep generate_awk\n"
     ]
    }
   ],
   "source": [
    "cd ..\n",
    "head Makefile"
   ]
  },
  {
   "cell_type": "markdown",
   "metadata": {},
   "source": [
    "Press space or the down key to continue"
   ]
  },
  {
   "cell_type": "markdown",
   "metadata": {
    "slideshow": {
     "slide_type": "subslide"
    }
   },
   "source": [
    "## Defining pipelines with Makefiles\n",
    "\n",
    "Makefiles are a basic way to define pipelines of shell commands.\n",
    "\n",
    "Nowadays there are more sophisticated tools available, but most of these are based on Makefiles.\n"
   ]
  },
  {
   "cell_type": "markdown",
   "metadata": {
    "slideshow": {
     "slide_type": "fragment"
    }
   },
   "source": [
    "A Makefile is a collection of \"rules\".\n",
    "\n",
    "Each of these rules follows this basic syntax is:\n",
    "\n",
    "```\n",
    "target: prerequisites\n",
    "    commands to execute\n",
    "```\n",
    "\n",
    "As you can see in the Makefile included, most of the rules allow to regenerate the exercise files, or to execute some commands without having to type them everytime.\n",
    "\n",
    "For example, the rule \"testrule\" is associated to two echo commands."
   ]
  },
  {
   "cell_type": "markdown",
   "metadata": {
    "slideshow": {
     "slide_type": "subslide"
    }
   },
   "source": [
    "## How to run Makefile rules\n",
    "\n",
    "To execute a rule in the Makefile, simply type:\n",
    "\n",
    "```\n",
    "make [name of the rule]\n",
    "```\n",
    "\n",
    "For example:\n",
    "\n"
   ]
  },
  {
   "cell_type": "code",
   "execution_count": 25,
   "metadata": {
    "run_control": {
     "frozen": false,
     "read_only": false
    }
   },
   "outputs": [
    {
     "name": "stdout",
     "output_type": "stream",
     "text": [
      "echo this is a Makefile rule\r\n",
      "this is a Makefile rule\r\n",
      "echo You can associate it to as many commands you want\r\n",
      "You can associate it to as many commands you want\r\n"
     ]
    }
   ],
   "source": [
    "make testrule"
   ]
  },
  {
   "cell_type": "markdown",
   "metadata": {},
   "source": [
    "The program \"make\" will automatically detect any file named \"Makefile\" in the current directory, and execute any rule with the specific name."
   ]
  },
  {
   "cell_type": "markdown",
   "metadata": {},
   "source": [
    "Rules can also be nested together. For example the two rules \"test_exercises\" and \"generate_exercises\" at the beginning of the file are a way to call several other rules together."
   ]
  },
  {
   "cell_type": "markdown",
   "metadata": {
    "slideshow": {
     "slide_type": "slide"
    }
   },
   "source": [
    "# What have you learned today?\n",
    "\n",
    "- Login to a Linux machine\n",
    "- There are so many ways to edit text files from the command line, streaming them one line at a time, without loading all the contents in memory\n",
    "- The Unix philosophy is based on simple tools specialized in single tasks, which can be concatenated using the Unix Pipe system"
   ]
  },
  {
   "cell_type": "markdown",
   "metadata": {
    "slideshow": {
     "slide_type": "subslide"
    }
   },
   "source": [
    "## Dinner time!!\n"
   ]
  }
 ],
 "metadata": {
  "celltoolbar": "Slideshow",
  "hide_input": false,
  "kernelspec": {
   "display_name": "Bash",
   "language": "bash",
   "name": "bash"
  },
  "language_info": {
   "codemirror_mode": "shell",
   "file_extension": ".sh",
   "mimetype": "text/x-sh",
   "name": "bash"
  },
  "nav_menu": {},
  "toc": {
   "nav_menu": {},
   "number_sections": true,
   "sideBar": true,
   "skip_h1_title": false,
   "title_cell": "Table of Contents",
   "title_sidebar": "Contents",
   "toc_cell": true,
   "toc_position": {},
   "toc_section_display": "block",
   "toc_window_display": true
  }
 },
 "nbformat": 4,
 "nbformat_minor": 1
}
