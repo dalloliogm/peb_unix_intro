{
 "cells": [
  {
   "cell_type": "markdown",
   "metadata": {
    "toc": "true"
   },
   "source": [
    "# Table of Contents\n",
    " <p><div class=\"lev1 toc-item\"><a href=\"#Introduction-to-Unix---awk-and-Makefiles\" data-toc-modified-id=\"Introduction-to-Unix---awk-and-Makefiles-1\"><span class=\"toc-item-num\">1&nbsp;&nbsp;</span>Introduction to Unix - awk and Makefiles</a></div><div class=\"lev1 toc-item\"><a href=\"#Working-with-tabular-files:-Awk\" data-toc-modified-id=\"Working-with-tabular-files:-Awk-2\"><span class=\"toc-item-num\">2&nbsp;&nbsp;</span>Working with tabular files: Awk</a></div><div class=\"lev2 toc-item\"><a href=\"#Example-of-tabular-file:-the-GFF3-format\" data-toc-modified-id=\"Example-of-tabular-file:-the-GFF3-format-2.1\"><span class=\"toc-item-num\">2.1&nbsp;&nbsp;</span>Example of tabular file: the GFF3 format</a></div><div class=\"lev2 toc-item\"><a href=\"#Basic-AWK-syntax:-filters\" data-toc-modified-id=\"Basic-AWK-syntax:-filters-2.2\"><span class=\"toc-item-num\">2.2&nbsp;&nbsp;</span>Basic AWK syntax: filters</a></div><div class=\"lev4 toc-item\"><a href=\"#Exercise\" data-toc-modified-id=\"Exercise-2.2.0.1\"><span class=\"toc-item-num\">2.2.0.1&nbsp;&nbsp;</span>Exercise</a></div><div class=\"lev2 toc-item\"><a href=\"#Awk:-printing-columns-and-doing-operations\" data-toc-modified-id=\"Awk:-printing-columns-and-doing-operations-2.3\"><span class=\"toc-item-num\">2.3&nbsp;&nbsp;</span>Awk: printing columns and doing operations</a></div><div class=\"lev3 toc-item\"><a href=\"#Exercise-(difficult)\" data-toc-modified-id=\"Exercise-(difficult)-2.3.1\"><span class=\"toc-item-num\">2.3.1&nbsp;&nbsp;</span>Exercise (difficult)</a></div><div class=\"lev2 toc-item\"><a href=\"#AWK:-searching-by-regular-expressions\" data-toc-modified-id=\"AWK:-searching-by-regular-expressions-2.4\"><span class=\"toc-item-num\">2.4&nbsp;&nbsp;</span>AWK: searching by regular expressions</a></div><div class=\"lev3 toc-item\"><a href=\"#Last-exercise!\" data-toc-modified-id=\"Last-exercise!-2.4.1\"><span class=\"toc-item-num\">2.4.1&nbsp;&nbsp;</span>Last exercise!</a></div><div class=\"lev1 toc-item\"><a href=\"#Bonus:-Makefiles\" data-toc-modified-id=\"Bonus:-Makefiles-3\"><span class=\"toc-item-num\">3&nbsp;&nbsp;</span>Bonus: Makefiles</a></div><div class=\"lev2 toc-item\"><a href=\"#Defining-pipelines-with-Makefiles\" data-toc-modified-id=\"Defining-pipelines-with-Makefiles-3.1\"><span class=\"toc-item-num\">3.1&nbsp;&nbsp;</span>Defining pipelines with Makefiles</a></div><div class=\"lev2 toc-item\"><a href=\"#How-to-run-Makefile-rules\" data-toc-modified-id=\"How-to-run-Makefile-rules-3.2\"><span class=\"toc-item-num\">3.2&nbsp;&nbsp;</span>How to run Makefile rules</a></div><div class=\"lev1 toc-item\"><a href=\"#The-last-slide\" data-toc-modified-id=\"The-last-slide-4\"><span class=\"toc-item-num\">4&nbsp;&nbsp;</span>The last slide</a></div>"
   ]
  },
  {
   "cell_type": "markdown",
   "metadata": {
    "slideshow": {
     "slide_type": "slide"
    }
   },
   "source": [
    "# Introduction to Unix - awk and Makefiles\n",
    "\n",
    "Giovanni M. Dall'Olio, 20/02/2017. All materials available here: https://dalloliogm.github.io/ \n",
    "\n",
    "```\n",
    "  _______________\n",
    " / Part 4        \\\n",
    " \\ awk and make  /\n",
    "  ---------------\n",
    "         \\   ^__^\n",
    "          \\  (oo)\\_______\n",
    "             (__)\\       )\\/\\\n",
    "                 ||----w |\n",
    "                 ||     ||\n",
    "```\n",
    "\n",
    "Welcome to the Programming for Evoluationary Biology workshop!!\n",
    "\n",
    "**How to use these slides**: Press Space to get to the next slide. Use arrows to navigate the subsections.\n"
   ]
  },
  {
   "cell_type": "code",
   "execution_count": 13,
   "metadata": {
    "collapsed": false,
    "run_control": {
     "frozen": false,
     "read_only": false
    },
    "slideshow": {
     "slide_type": "skip"
    }
   },
   "outputs": [
    {
     "name": "stdout",
     "output_type": "stream",
     "text": [
      "/home/gmd78366/workspace/peb_unix_intro/exercises\r\n"
     ]
    }
   ],
   "source": [
    "# Configuration - this will not appear in the slideshow\n",
    "alias grep='grep --color'\n",
    "pwd\n",
    "cd ../exercises"
   ]
  },
  {
   "cell_type": "markdown",
   "metadata": {
    "slideshow": {
     "slide_type": "slide"
    }
   },
   "source": [
    "# Working with tabular files: Awk\n",
    "\n",
    "\n",
    "The **awk** command allows to search and manipulate tabular files from the command line.\n",
    "\n",
    "Imagine it as the equivalent of Excel/Calc for the command line. It allows to do search on specific columns of a file, to do numerical operations, or to change the order of the columns.\n",
    "\n",
    "The advantage of a command-line tool over graphical software is that the memory footprint is much lower. So you can access and modify large files in a fraction of the time that it would take with Excel."
   ]
  },
  {
   "cell_type": "markdown",
   "metadata": {
    "slideshow": {
     "slide_type": "slide"
    }
   },
   "source": [
    "## Example of tabular file: the GFF3 format\n",
    "\n",
    "The file genes/chr8.gff contains an example of file in the GFF3 format:"
   ]
  },
  {
   "cell_type": "code",
   "execution_count": 14,
   "metadata": {
    "collapsed": false,
    "run_control": {
     "frozen": false,
     "read_only": false
    }
   },
   "outputs": [
    {
     "name": "stdout",
     "output_type": "stream",
     "text": [
      "##gff-version 3\r\n",
      "##source-version refgene 1.28.10\r\n",
      "##date 2016-09-08\r\n",
      "##genome-build .\thg19\r\n",
      "chr8\trefgene\tgene\t18248755\t18258723\t.\t+\t.\tgene_id=10;symbol=NAT2;;ID=10\r\n",
      "chr8\trefgene\tgene\t100549014\t100549089\t.\t-\t.\tgene_id=100126309;symbol=MIR875;;ID=100126309    \r\n",
      "chr8\trefgene\tgene\t144895127\t144895212\t.\t-\t.\tgene_id=100126338;symbol=MIR937;;ID=100126338\r\n",
      "chr8\trefgene\tgene\t145619364\t145619445\t.\t-\t.\tgene_id=100126351;symbol=MIR939;;ID=100126351\r\n",
      "chr8\trefgene\tgene\t91970706\t91997485\t.\t-\t.\tgene_id=100127983;symbol=C8orf88;;ID=100127983\r\n",
      "chr8\trefgene\tgene\t74332309\t74353753\t.\t+\t.\tgene_id=100128126;symbol=STAU2-AS1;;ID=100128126\r\n"
     ]
    }
   ],
   "source": [
    "head genes/chr8.gff"
   ]
  },
  {
   "cell_type": "markdown",
   "metadata": {},
   "source": [
    "As you can see it is a tab-separated file, which we could easily read in Excel or Calc.\n",
    "\n",
    "The format specifications are defined [here](https://genome.ucsc.edu/FAQ/FAQformat.html#format3), but in short:\n",
    "\n",
    "- the first, fourth and fifth columns contain the chromosome name and coordinates\n",
    "- the second column describes the tool or resource that generated the annotation\n",
    "- the third column describe the type of feature (e.g. gene, transcript, exon, TF binding site, Histone Acetylation mark, etc...\n",
    "- the ninth column contains several fields, separated by a semicolon\n"
   ]
  },
  {
   "cell_type": "markdown",
   "metadata": {
    "slideshow": {
     "slide_type": "subslide"
    }
   },
   "source": [
    "## Basic AWK syntax: filters\n",
    "\n",
    "The basic AWK syntax is the following:\n",
    "\n",
    "```\n",
    "awk 'filters {print statements}' filename\n",
    "```\n",
    "\n",
    "Awk is quite smart at recognizing the field separator, and by default assumes they are separated by tabs.\n",
    "\n",
    "Each column of the file can be referred to with the dollar sign followed by the number of column.\n",
    "\n",
    "For example $2 refers to the second column, and so on.\n",
    "\n",
    "The following code filters all the lines belonging to chromosome 8, between the coordinates 100000 and 200000:"
   ]
  },
  {
   "cell_type": "code",
   "execution_count": 15,
   "metadata": {
    "collapsed": false,
    "run_control": {
     "frozen": false,
     "read_only": false
    }
   },
   "outputs": [
    {
     "name": "stdout",
     "output_type": "stream",
     "text": [
      "chr8\trefgene\tgene\t182200\t197339\t.\t+\t.\tgene_id=169270;symbol=ZNF596;;ID=169270\r\n",
      "chr8\trefgene\tgene\t116086\t117024\t.\t-\t.\tgene_id=441308;symbol=OR4F21;;ID=441308\r\n",
      "chr8\trefgene\tgene\t158345\t182318\t.\t-\t.\tgene_id=644128;symbol=RPL23AP53;;ID=644128\r\n"
     ]
    }
   ],
   "source": [
    "awk '$1==\"chr8\" && $4>100000 && $5<200000 ' genes/chr8.gff"
   ]
  },
  {
   "cell_type": "markdown",
   "metadata": {
    "slideshow": {
     "slide_type": "subslide"
    }
   },
   "source": [
    "#### Exercise\n",
    "\n",
    "Can you print all the lines between 5000000 and 10000000 ?"
   ]
  },
  {
   "cell_type": "code",
   "execution_count": 16,
   "metadata": {
    "collapsed": false,
    "run_control": {
     "frozen": false,
     "read_only": false
    },
    "slideshow": {
     "slide_type": "fragment"
    }
   },
   "outputs": [
    {
     "name": "stdout",
     "output_type": "stream",
     "text": [
      "chr8\trefgene\tgene\t7143733\t7212876\t.\t-\t.\tgene_id=100128890;symbol=FAM66B;ID=100128890\r\n",
      "chr8\trefgene\tgene\t7215498\t7220490\t.\t-\t.\tgene_id=100131980;symbol=ZNF705G;ID=100131980\r\n",
      "chr8\trefgene\tgene\t7812535\t7866277\t.\t+\t.\tgene_id=100132103;symbol=FAM66E;ID=100132103\r\n",
      "chr8\trefgene\tgene\t7783859\t7809935\t.\t+\t.\t             _________\r\n",
      "chr8\trefgene\tgene\t6261077\t6264069\t.\t-\t.\t            / Cows in \\\r\n",
      "chr8\trefgene\tgene\t7272385\t7274354\t.\t-\t.\t            | the     |\r\n",
      "chr8\trefgene\tgene\t7946463\t7946611\t.\t-\t.\t            \\ Genome! /\r\n",
      "chr8\trefgene\tgene\t6602685\t6602765\t.\t+\t.\t             ---------\r\n",
      "chr8\trefgene\tgene\t8905955\t8906028\t.\t+\t.\t                      \\   ^__^\r\n",
      "chr8\trefgene\tgene\t6602689\t6602761\t.\t-\t.\t                       \\  (oo)\\_______\r\n",
      "chr8\trefgene\tgene\t6693076\t6699975\t.\t+\t.\t                          (__)\\       )\\/\\\r\n",
      "chr8\trefgene\tgene\t8559666\t8561617\t.\t+\t.\t                              ||----w |\r\n",
      "chr8\trefgene\tgene\t9182561\t9192590\t.\t+\t.\t                              ||      |\r\n",
      "chr8\trefgene\tgene\t8175258\t8239257\t.\t-\t.\tgene_id=157285;symbol=SGK223;ID=157285\r\n",
      "chr8\trefgene\tgene\t9757574\t9760839\t.\t-\t.\tgene_id=157627;symbol=LINC00599;ID=157627\r\n",
      "chr8\trefgene\tgene\t6835171\t6856724\t.\t-\t.\tgene_id=1667;symbol=DEFA1;ID=1667\r\n",
      "chr8\trefgene\tgene\t6793345\t6795786\t.\t-\t.\tgene_id=1669;symbol=DEFA4;ID=1669\r\n",
      "chr8\trefgene\tgene\t6912829\t6914259\t.\t-\t.\tgene_id=1670;symbol=DEFA5;ID=1670\r\n",
      "chr8\trefgene\tgene\t6782216\t6783598\t.\t-\t.\tgene_id=1671;symbol=DEFA6;ID=1671\r\n",
      "chr8\trefgene\tgene\t6728097\t6735529\t.\t-\t.\tgene_id=1672;symbol=DEFB1;ID=1672\r\n",
      "chr8\trefgene\tgene\t7752199\t7754237\t.\t+\t.\tgene_id=1673;symbol=DEFB4A;ID=1673\r\n",
      "chr8\trefgene\tgene\t6844700\t6866346\t.\t-\t.\tgene_id=170949;symbol=DEFT1P;ID=170949\r\n",
      "chr8\trefgene\tgene\t7353368\t7366833\t.\t+\t.\tgene_id=245910;symbol=DEFB107A;ID=245910\r\n",
      "chr8\trefgene\tgene\t6357175\t6420784\t.\t-\t.\tgene_id=285;symbol=ANGPT2;ID=285\r\n",
      "chr8\trefgene\tgene\t8086092\t8102387\t.\t+\t.\tgene_id=286042;symbol=FAM86B3P;ID=286042\r\n",
      "chr8\trefgene\tgene\t6666041\t6693166\t.\t-\t.\tgene_id=389610;symbol=XKR5;ID=389610\r\n",
      "chr8\trefgene\tgene\t7829183\t7830775\t.\t-\t.\tgene_id=392188;symbol=USP17L8;ID=392188\r\n",
      "chr8\trefgene\tgene\t7189909\t7191501\t.\t+\t.\tgene_id=401447;symbol=USP17L1;ID=401447\r\n",
      "chr8\trefgene\tgene\t9760898\t9760982\t.\t-\t.\tgene_id=406907;symbol=MIR124-1;ID=406907\r\n",
      "chr8\trefgene\tgene\t7413660\t7431920\t.\t-\t.\tgene_id=441317;symbol=FAM90A7P;ID=441317\r\n",
      "chr8\trefgene\tgene\t7627106\t7628835\t.\t+\t.\tgene_id=441328;symbol=FAM90A10P;ID=441328\r\n",
      "chr8\trefgene\tgene\t6808248\t6809121\t.\t-\t.\tgene_id=449491;symbol=DEFA8P;ID=449491\r\n",
      "chr8\trefgene\tgene\t6816811\t6817683\t.\t-\t.\tgene_id=449492;symbol=DEFA9P;ID=449492\r\n",
      "chr8\trefgene\tgene\t6825663\t6826635\t.\t-\t.\tgene_id=449493;symbol=DEFA10P;ID=449493\r\n",
      "chr8\trefgene\tgene\t7669242\t7673238\t.\t-\t.\tgene_id=503614;symbol=DEFB107B;ID=503614\r\n",
      "chr8\trefgene\tgene\t6565878\t6619021\t.\t+\t.\tgene_id=55326;symbol=AGPAT5;ID=55326\r\n",
      "chr8\trefgene\tgene\t7194637\t7196229\t.\t+\t.\tgene_id=645402;symbol=USP17L4;ID=645402\r\n",
      "chr8\trefgene\tgene\t7833915\t7835507\t.\t-\t.\tgene_id=645836;symbol=USP17L3;ID=645836\r\n",
      "chr8\trefgene\tgene\t7705402\t7721319\t.\t+\t.\tgene_id=653423;symbol=SPAG11A;ID=653423\r\n",
      "chr8\trefgene\tgene\t9599182\t9599278\t.\t+\t.\tgene_id=693182;symbol=MIR597;ID=693182\r\n",
      "chr8\trefgene\tgene\t6886123\t6887011\t.\t-\t.\tgene_id=724068;symbol=DEFA11P;ID=724068\r\n",
      "chr8\trefgene\tgene\t6873391\t6875823\t.\t-\t.\tgene_id=728358;symbol=DEFA1B;ID=728358\r\n",
      "chr8\trefgene\tgene\t6264113\t6501140\t.\t+\t.\tgene_id=79648;symbol=MCPH1;ID=79648\r\n",
      "chr8\trefgene\tgene\t8993764\t9009152\t.\t-\t.\tgene_id=79660;symbol=PPP1R3B;ID=79660\r\n",
      "chr8\trefgene\tgene\t9413445\t9639856\t.\t+\t.\tgene_id=8658;symbol=TNKS;ID=8658\r\n",
      "chr8\trefgene\tgene\t8860314\t8890849\t.\t+\t.\tgene_id=90459;symbol=ERI1;ID=90459\r\n",
      "chr8\trefgene\tgene\t8641999\t8751131\t.\t-\t.\tgene_id=9258;symbol=MFHAS1;ID=9258\r\n"
     ]
    }
   ],
   "source": [
    "awk '$4 > 5000000 && $5 < 10000000 ' genes/chr8.gff\n"
   ]
  },
  {
   "cell_type": "markdown",
   "metadata": {
    "slideshow": {
     "slide_type": "slide"
    }
   },
   "source": [
    "## Awk: printing columns and doing operations\n",
    "\n",
    "Awk also allows to print only specific columns, and do algebraic operations on them.\n",
    "\n",
    "Remember that each column can be referred as \\$1, \\$2, \\$3, etc...\n",
    "\n",
    "For example the following code prints the first column, and the sum of the fourth and third. We can pipe the output to head or less, to make it easier to visualize:"
   ]
  },
  {
   "cell_type": "code",
   "execution_count": 17,
   "metadata": {
    "collapsed": false,
    "run_control": {
     "frozen": false,
     "read_only": false
    }
   },
   "outputs": [
    {
     "name": "stdout",
     "output_type": "stream",
     "text": [
      "##gff-version 0\r\n",
      "##source-version 0\r\n",
      "##date 0\r\n",
      "##genome-build 0\r\n",
      "chr8 9968\r\n",
      "chr8 75\r\n",
      "chr8 85\r\n",
      "chr8 81\r\n",
      "chr8 26779\r\n",
      "chr8 21444\r\n"
     ]
    }
   ],
   "source": [
    "awk '{print $1, $5-$4}' genes/chr8.gff | head\n"
   ]
  },
  {
   "cell_type": "markdown",
   "metadata": {
    "slideshow": {
     "slide_type": "fragment"
    }
   },
   "source": [
    "Notice how this also prints the headers of the file. We can exclude these by adding a grep condition:"
   ]
  },
  {
   "cell_type": "code",
   "execution_count": 18,
   "metadata": {
    "collapsed": false,
    "run_control": {
     "frozen": false,
     "read_only": false
    }
   },
   "outputs": [
    {
     "name": "stdout",
     "output_type": "stream",
     "text": [
      "chr8 9968 gene_id=10;symbol=NAT2;;ID=10\r\n",
      "chr8 75 gene_id=100126309;symbol=MIR875;;ID=100126309\r\n",
      "chr8 85 gene_id=100126338;symbol=MIR937;;ID=100126338\r\n",
      "chr8 81 gene_id=100126351;symbol=MIR939;;ID=100126351\r\n",
      "chr8 26779 gene_id=100127983;symbol=C8orf88;;ID=100127983\r\n",
      "chr8 21444 gene_id=100128126;symbol=STAU2-AS1;;ID=100128126\r\n",
      "chr8 12197 gene_id=100128338;symbol=FAM83H-AS1;;ID=100128338\r\n",
      "chr8 1835 gene_id=100128627;symbol=CDC42P3;;ID=100128627\r\n",
      "chr8 3282 gene_id=100128750;symbol=RBPMS-AS1;;ID=100128750\r\n",
      "chr8 69143 gene_id=100128890;symbol=FAM66B;ID=100128890\r\n",
      "grep: write error: Broken pipe\r\n"
     ]
    }
   ],
   "source": [
    "awk '{print $1, $5-$4, $9}' genes/chr8.gff | grep -v '^#' |  head"
   ]
  },
  {
   "cell_type": "markdown",
   "metadata": {
    "slideshow": {
     "slide_type": "subslide"
    }
   },
   "source": [
    "### Exercise (difficult)\n",
    "\n",
    "Starting from the previous command, can you extract the gene symbol into a separate column?\n",
    "\n",
    "Hints: pipe an additional awk statement after the first. Use the -F option to specify a different field separator."
   ]
  },
  {
   "cell_type": "code",
   "execution_count": 19,
   "metadata": {
    "collapsed": false,
    "run_control": {
     "frozen": false,
     "read_only": false
    }
   },
   "outputs": [
    {
     "name": "stdout",
     "output_type": "stream",
     "text": [
      "chr8 9968 gene_id=10 symbol=NAT2\r\n",
      "chr8 75 gene_id=100126309 symbol=MIR875\r\n",
      "chr8 85 gene_id=100126338 symbol=MIR937\r\n",
      "chr8 81 gene_id=100126351 symbol=MIR939\r\n",
      "chr8 26779 gene_id=100127983 symbol=C8orf88\r\n",
      "chr8 21444 gene_id=100128126 symbol=STAU2-AS1\r\n",
      "chr8 12197 gene_id=100128338 symbol=FAM83H-AS1\r\n",
      "chr8 1835 gene_id=100128627 symbol=CDC42P3\r\n",
      "chr8 3282 gene_id=100128750 symbol=RBPMS-AS1\r\n",
      "chr8 69143 gene_id=100128890 symbol=FAM66B\r\n"
     ]
    }
   ],
   "source": [
    "awk '{print $1, $5-$4, $9}' genes/chr8.gff | grep -v '^#' | awk -F';' '{print $1, $2}' | head"
   ]
  },
  {
   "cell_type": "markdown",
   "metadata": {
    "slideshow": {
     "slide_type": "slide"
    }
   },
   "source": [
    "## AWK: searching by regular expressions\n",
    "\n",
    "Awk can also be used to search by regular expression.\n",
    "\n",
    "For example, the following code will print all the lines in which the symbol starts with \"MIR\":"
   ]
  },
  {
   "cell_type": "code",
   "execution_count": 20,
   "metadata": {
    "collapsed": false,
    "run_control": {
     "frozen": false,
     "read_only": false
    }
   },
   "outputs": [
    {
     "name": "stdout",
     "output_type": "stream",
     "text": [
      "chr8\trefgene\tgene\t100549014\t100549089\t.\t-\t.\tgene_id=100126309;symbol=MIR875;;ID=100126309    \r\n",
      "chr8\trefgene\tgene\t144895127\t144895212\t.\t-\t.\tgene_id=100126338;symbol=MIR937;;ID=100126338\r\n",
      "chr8\trefgene\tgene\t145619364\t145619445\t.\t-\t.\tgene_id=100126351;symbol=MIR939;;ID=100126351\r\n",
      "chr8\trefgene\tgene\t65285775\t65295842\t.\t+\t.\tgene_id=100130155;symbol=MIR124-2HG;;ID=100130155\r\n",
      "chr8\trefgene\tgene\t128972879\t128972941\t.\t+\t.\tgene_id=100302161;symbol=MIR1205;;ID=100302161\r\n",
      "chr8\trefgene\tgene\t10682883\t10682953\t.\t-\t.\tgene_id=100302166;symbol=MIR1322;;ID=100302166\r\n",
      "chr8\trefgene\tgene\t129021144\t129021202\t.\t+\t.\tgene_id=100302170;symbol=MIR1206;;ID=100302170\r\n",
      "chr8\trefgene\tgene\t129061398\t129061484\t.\t+\t.\tgene_id=100302175;symbol=MIR1207;;ID=100302175\r\n",
      "chr8\trefgene\tgene\t128808208\t128808274\t.\t+\t.\tgene_id=100302185;symbol=MIR1204;;ID=100302185\r\n",
      "chr8\trefgene\tgene\t145625476\t145625559\t.\t-\t.\tgene_id=100302196;symbol=MIR1234;;ID=100302196\r\n",
      "chr8\trefgene\tgene\t113655722\t113655812\t.\t+\t.\tgene_id=100302225;symbol=MIR2053;;ID=100302225\r\n",
      "chr8\trefgene\tgene\t27743556\t27743633\t.\t-\t.\tgene_id=100422828;symbol=MIR4287;;ID=100422828\r\n",
      "chr8\trefgene\tgene\t29814788\t29814864\t.\t-\t.\tgene_id=100422876;symbol=MIR3148;;ID=100422876\r\n",
      "chr8\trefgene\tgene\t28362633\t28362699\t.\t-\t.\tgene_id=100422903;symbol=MIR4288;;ID=100422903\r\n",
      "chr8\trefgene\tgene\t96085142\t96085221\t.\t+\t.\tgene_id=100422964;symbol=MIR3150A;;ID=100422964\r\n",
      "chr8\trefgene\tgene\t104166842\t104166917\t.\t+\t.\tgene_id=100422992;symbol=MIR3151;;ID=100422992\r\n",
      "chr8\trefgene\tgene\t12584746\t12584808\t.\t+\t.\tgene_id=100500838;symbol=MIR3926-2;;ID=100500838\r\n",
      "chr8\trefgene\tgene\t27559194\t27559276\t.\t+\t.\tgene_id=100500858;symbol=MIR3622A;;ID=100500858\r\n",
      "chr8\trefgene\tgene\t12584741\t12584813\t.\t-\t.\tgene_id=100500870;symbol=MIR3926-1;;ID=100500870\r\n",
      "chr8\trefgene\tgene\t27559190\t27559284\t.\t-\t.\tgene_id=100500871;symbol=MIR3622B;;ID=100500871\r\n",
      "chr8\trefgene\tgene\t96085139\t96085224\t.\t-\t.\tgene_id=100500907;symbol=MIR3150B;;ID=100500907\r\n",
      "chr8\trefgene\tgene\t117886967\t117887039\t.\t-\t.\tgene_id=100500914;symbol=MIR3610;;ID=100500914\r\n",
      "chr8\trefgene\tgene\t42751340\t42751418\t.\t-\t.\tgene_id=100616115;symbol=MIR4469;;ID=100616115\r\n",
      "chr8\trefgene\tgene\t94928250\t94928347\t.\t-\t.\tgene_id=100616169;symbol=MIR378D2;;ID=100616169\r\n",
      "chr8\trefgene\tgene\t29920258\t30108213\t.\t-\t.\tgene_id=100616190;symbol=MIR548O2;;ID=100616190\r\n",
      "chr8\trefgene\tgene\t92217713\t92217786\t.\t+\t.\tgene_id=100616245;symbol=MIR4661;;ID=100616245\r\n",
      "chr8\trefgene\tgene\t124228028\t124228103\t.\t-\t.\tgene_id=100616260;symbol=MIR4663;;ID=100616260\r\n",
      "chr8\trefgene\tgene\t143257700\t143257779\t.\t+\t.\tgene_id=100616268;symbol=MIR4472-1;;ID=100616268\r\n",
      "chr8\trefgene\tgene\t144815253\t144815323\t.\t-\t.\tgene_id=100616318;symbol=MIR4664;;ID=100616318\r\n",
      "chr8\trefgene\tgene\t101394991\t101395073\t.\t+\t.\tgene_id=100616451;symbol=MIR4471;;ID=100616451\r\n",
      "chr8\trefgene\tgene\t62627347\t62627418\t.\t+\t.\tgene_id=100616484;symbol=MIR4470;;ID=100616484\r\n",
      "chr8\trefgene\tgene\t103137660\t103137743\t.\t+\t.\tgene_id=100847001;symbol=MIR5680;;ID=100847001\r\n",
      "chr8\trefgene\tgene\t131020580\t131020699\t.\t-\t.\tgene_id=100847051;symbol=MIR5194;;ID=100847051\r\n",
      "chr8\trefgene\tgene\t81153624\t81153708\t.\t+\t.\tgene_id=100847056;symbol=MIR5708;;ID=100847056\r\n",
      "chr8\trefgene\tgene\t75460778\t75460852\t.\t+\t.\tgene_id=100847058;symbol=MIR5681A;;ID=100847058\r\n",
      "chr8\trefgene\tgene\t75460785\t75460844\t.\t-\t.\tgene_id=100847091;symbol=MIR5681B;;ID=100847091\r\n",
      "chr8\trefgene\tgene\t9760898\t9760982\t.\t-\t.\tgene_id=406907;symbol=MIR124-1;ID=406907\r\n",
      "chr8\trefgene\tgene\t65291706\t65291814\t.\t+\t.\tgene_id=406908;symbol=MIR124-2;;ID=406908\r\n",
      "chr8\trefgene\tgene\t135812763\t135812850\t.\t-\t.\tgene_id=407030;symbol=MIR30B;;ID=407030\r\n",
      "chr8\trefgene\tgene\t135817119\t135817188\t.\t-\t.\tgene_id=407033;symbol=MIR30D;;ID=407033\r\n",
      "chr8\trefgene\tgene\t22102475\t22102556\t.\t-\t.\tgene_id=407037;symbol=MIR320A;;ID=407037\r\n",
      "chr8\trefgene\tgene\t75512101\t75670587\t.\t+\t.\tgene_id=441355;symbol=MIR2052HG;;ID=441355\r\n",
      "chr8\trefgene\tgene\t14710947\t14711019\t.\t-\t.\tgene_id=494332;symbol=MIR383;;ID=494332\r\n",
      "chr8\trefgene\tgene\t41517959\t41518026\t.\t-\t.\tgene_id=619554;symbol=MIR486-1;;ID=619554\r\n",
      "chr8\trefgene\tgene\t1765397\t1765473\t.\t+\t.\tgene_id=693181;symbol=MIR596;;ID=693181\r\n",
      "chr8\trefgene\tgene\t9599182\t9599278\t.\t+\t.\tgene_id=693182;symbol=MIR597;ID=693182\r\n",
      "chr8\trefgene\tgene\t10892716\t10892812\t.\t-\t.\tgene_id=693183;symbol=MIR598;;ID=693183\r\n",
      "chr8\trefgene\tgene\t100548864\t100548958\t.\t-\t.\tgene_id=693184;symbol=MIR599;;ID=693184\r\n",
      "chr8\trefgene\tgene\t145019359\t145019447\t.\t-\t.\tgene_id=724031;symbol=MIR661;;ID=724031\r\n"
     ]
    }
   ],
   "source": [
    "awk '$9 ~ /symbol=MIR/ {print $0}' genes/chr8.gff "
   ]
  },
  {
   "cell_type": "markdown",
   "metadata": {
    "slideshow": {
     "slide_type": "subslide"
    }
   },
   "source": [
    "### Last exercise!\n",
    "\n",
    "Calculate the lenght of the gene POU5F1B.\n",
    "\n",
    "Find the Gene whose gene_id is equal to that number."
   ]
  },
  {
   "cell_type": "code",
   "execution_count": 21,
   "metadata": {
    "collapsed": false,
    "run_control": {
     "frozen": false,
     "read_only": false
    },
    "slideshow": {
     "slide_type": "fragment"
    }
   },
   "outputs": [
    {
     "name": "stdout",
     "output_type": "stream",
     "text": [
      "1584\r\n"
     ]
    }
   ],
   "source": [
    "awk '$9 ~ /POU5F1B/ {print $5-$4}' genes/chr8.gff \n"
   ]
  },
  {
   "cell_type": "code",
   "execution_count": 22,
   "metadata": {
    "collapsed": false,
    "run_control": {
     "frozen": false,
     "read_only": false
    },
    "slideshow": {
     "slide_type": "fragment"
    }
   },
   "outputs": [
    {
     "name": "stdout",
     "output_type": "stream",
     "text": [
      "chr8\trefgene\tGood_Job!\t143953773\t143961236\t.\t-\t.\tgene_id=1584;symbol=CYP11B1;;ID=1584\r\n"
     ]
    }
   ],
   "source": [
    "awk '$9 ~ /gene_id=1584/ {print $0}' genes/chr8.gff "
   ]
  },
  {
   "cell_type": "markdown",
   "metadata": {
    "slideshow": {
     "slide_type": "slide"
    }
   },
   "source": [
    "# Bonus: Makefiles\n",
    "\n",
    "Let's have a look at the file called Makefile in the unix_intro directory:"
   ]
  },
  {
   "cell_type": "code",
   "execution_count": 24,
   "metadata": {
    "collapsed": false,
    "run_control": {
     "frozen": false,
     "read_only": false
    }
   },
   "outputs": [
    {
     "name": "stdout",
     "output_type": "stream",
     "text": [
      "# This is a Makefile, which will be explained later in the course.\r\n",
      "# Please don't look at it yet :-)\r\n",
      "\r\n",
      "publish: slides_bash commit\r\n",
      "\techo \"convert the slides to pdf, commit, and push to github\"\r\n",
      "\tgit push\r\n",
      "\r\n",
      "\r\n",
      "test_exercises: start help ignorecase multiplefiles\r\n",
      "generate_exercises: generate_grep generate_awk\r\n"
     ]
    }
   ],
   "source": [
    "cd ..\n",
    "head Makefile"
   ]
  },
  {
   "cell_type": "markdown",
   "metadata": {},
   "source": [
    "Press space or the down key to continue"
   ]
  },
  {
   "cell_type": "markdown",
   "metadata": {
    "slideshow": {
     "slide_type": "subslide"
    }
   },
   "source": [
    "## Defining pipelines with Makefiles\n",
    "\n",
    "Makefiles are a basic way to define pipelines of shell commands.\n",
    "\n",
    "Nowadays there are more sophisticated tools available, but most of these are based on Makefiles.\n"
   ]
  },
  {
   "cell_type": "markdown",
   "metadata": {
    "slideshow": {
     "slide_type": "fragment"
    }
   },
   "source": [
    "A Makefile is a collection of \"rules\".\n",
    "\n",
    "Each of these rules follows this basic syntax is:\n",
    "\n",
    "```\n",
    "target: prerequisites\n",
    "    commands to execute\n",
    "```\n",
    "\n",
    "As you can see in the Makefile included, most of the rules allow to regenerate the exercise files, or to execute some commands without having to type them everytime.\n",
    "\n",
    "For example, the rule \"testrule\" is associated to two echo commands."
   ]
  },
  {
   "cell_type": "markdown",
   "metadata": {
    "slideshow": {
     "slide_type": "subslide"
    }
   },
   "source": [
    "## How to run Makefile rules\n",
    "\n",
    "To execute a rule in the Makefile, simply type:\n",
    "\n",
    "```\n",
    "make [name of the rule]\n",
    "```\n",
    "\n",
    "For example:\n",
    "\n"
   ]
  },
  {
   "cell_type": "code",
   "execution_count": 25,
   "metadata": {
    "collapsed": false,
    "run_control": {
     "frozen": false,
     "read_only": false
    }
   },
   "outputs": [
    {
     "name": "stdout",
     "output_type": "stream",
     "text": [
      "echo this is a Makefile rule\r\n",
      "this is a Makefile rule\r\n",
      "echo You can associate it to as many commands you want\r\n",
      "You can associate it to as many commands you want\r\n"
     ]
    }
   ],
   "source": [
    "make testrule"
   ]
  },
  {
   "cell_type": "markdown",
   "metadata": {},
   "source": [
    "The program \"make\" will automatically detect any file named \"Makefile\" in the current directory, and execute any rule with the specific name."
   ]
  },
  {
   "cell_type": "markdown",
   "metadata": {},
   "source": [
    "Rules can also be nested together. For example the two rules \"test_exercises\" and \"generate_exercises\" at the beginning of the file are a way to call several other rules together."
   ]
  },
  {
   "cell_type": "markdown",
   "metadata": {
    "slideshow": {
     "slide_type": "slide"
    }
   },
   "source": [
    "# The last slide\n",
    "\n",
    "This is the last slide of the workshop. To finish, try to execute the rule \"cow\" in the Makefile."
   ]
  },
  {
   "cell_type": "code",
   "execution_count": 26,
   "metadata": {
    "collapsed": false,
    "run_control": {
     "frozen": false,
     "read_only": false
    },
    "slideshow": {
     "slide_type": "fragment"
    }
   },
   "outputs": [
    {
     "name": "stdout",
     "output_type": "stream",
     "text": [
      " _____________ \r\n",
      "/ I hope you  \\\r\n",
      "| have        |\r\n",
      "| enjoyed the |\r\n",
      "| workshop    |\r\n",
      "\\ :-)         /\r\n",
      " ------------- \r\n",
      "        \\   ^__^\r\n",
      "         \\  (oo)\\_______\r\n",
      "            (__)\\       )\\/\\\r\n",
      "                ||----w |\r\n",
      "                ||     ||\r\n",
      " ___________ \r\n",
      "( Now let's )\r\n",
      "( go for    )\r\n",
      "( dinner    )\r\n",
      " ----------- \r\n",
      "        o   ^__^\r\n",
      "         o  (oo)\\_______\r\n",
      "            (__)\\       )\\/\\\r\n",
      "                ||----w |\r\n",
      "                ||     ||\r\n",
      " _______________________ \r\n",
      "/ Note: real genomes do \\\r\n",
      "| not contain hidden    |\r\n",
      "\\ cows                  /\r\n",
      " ----------------------- \r\n",
      "        \\   ^__^\r\n",
      "         \\  (oo)\\_______\r\n",
      "            (__)\\       )\\/\\\r\n",
      "                ||----w |\r\n",
      "                ||     ||\r\n"
     ]
    }
   ],
   "source": [
    "make goodbye"
   ]
  }
 ],
 "metadata": {
  "celltoolbar": "Slideshow",
  "hide_input": false,
  "kernelspec": {
   "display_name": "Bash",
   "language": "bash",
   "name": "bash"
  },
  "nav_menu": {},
  "toc": {
   "navigate_menu": true,
   "number_sections": true,
   "sideBar": true,
   "threshold": 6,
   "toc_cell": true,
   "toc_section_display": "block",
   "toc_window_display": false
  }
 },
 "nbformat": 4,
 "nbformat_minor": 1
}
