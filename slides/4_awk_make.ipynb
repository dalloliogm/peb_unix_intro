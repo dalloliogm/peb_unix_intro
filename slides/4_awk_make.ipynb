{
 "cells": [
  {
   "cell_type": "markdown",
   "metadata": {
    "toc": "true"
   },
   "source": [
    "<h1>Table of Contents<span class=\"tocSkip\"></span></h1>\n",
    "<div class=\"toc\"><ul class=\"toc-item\"><li><span><a href=\"#Introduction-to-Unix---awk,-sed-and-Makefiles\" data-toc-modified-id=\"Introduction-to-Unix---awk,-sed-and-Makefiles-1\"><span class=\"toc-item-num\">1&nbsp;&nbsp;</span>Introduction to Unix - awk, sed and Makefiles</a></span><ul class=\"toc-item\"><li><span><a href=\"#Summary-of-the-course-today\" data-toc-modified-id=\"Summary-of-the-course-today-1.1\"><span class=\"toc-item-num\">1.1&nbsp;&nbsp;</span>Summary of the course today</a></span></li></ul></li><li><span><a href=\"#Working-with-tabular-files:-Awk\" data-toc-modified-id=\"Working-with-tabular-files:-Awk-2\"><span class=\"toc-item-num\">2&nbsp;&nbsp;</span>Working with tabular files: Awk</a></span><ul class=\"toc-item\"><li><span><a href=\"#Pros-of-awk-vs-Excel:\" data-toc-modified-id=\"Pros-of-awk-vs-Excel:-2.1\"><span class=\"toc-item-num\">2.1&nbsp;&nbsp;</span>Pros of awk vs Excel:</a></span></li><li><span><a href=\"#Cons-of-awk:\" data-toc-modified-id=\"Cons-of-awk:-2.2\"><span class=\"toc-item-num\">2.2&nbsp;&nbsp;</span>Cons of awk:</a></span></li><li><span><a href=\"#the-GFF3-format-for-Genomic-Annotations\" data-toc-modified-id=\"the-GFF3-format-for-Genomic-Annotations-2.3\"><span class=\"toc-item-num\">2.3&nbsp;&nbsp;</span>the GFF3 format for Genomic Annotations</a></span></li><li><span><a href=\"#Basic-AWK-syntax\" data-toc-modified-id=\"Basic-AWK-syntax-2.4\"><span class=\"toc-item-num\">2.4&nbsp;&nbsp;</span>Basic AWK syntax</a></span></li><li><span><a href=\"#Awk---the-ACTION-component\" data-toc-modified-id=\"Awk---the-ACTION-component-2.5\"><span class=\"toc-item-num\">2.5&nbsp;&nbsp;</span>Awk - the ACTION component</a></span><ul class=\"toc-item\"><li><span><a href=\"#Exercise---compare-awk-with-cut\" data-toc-modified-id=\"Exercise---compare-awk-with-cut-2.5.1\"><span class=\"toc-item-num\">2.5.1&nbsp;&nbsp;</span>Exercise - compare awk with cut</a></span></li><li><span><a href=\"#Operations-between-columns\" data-toc-modified-id=\"Operations-between-columns-2.5.2\"><span class=\"toc-item-num\">2.5.2&nbsp;&nbsp;</span>Operations between columns</a></span></li><li><span><a href=\"#Exercise:-calculating-gene-center\" data-toc-modified-id=\"Exercise:-calculating-gene-center-2.5.3\"><span class=\"toc-item-num\">2.5.3&nbsp;&nbsp;</span>Exercise: calculating gene center</a></span></li></ul></li><li><span><a href=\"#Awk---the-PATTERN-component\" data-toc-modified-id=\"Awk---the-PATTERN-component-2.6\"><span class=\"toc-item-num\">2.6&nbsp;&nbsp;</span>Awk - the PATTERN component</a></span><ul class=\"toc-item\"><li><span><a href=\"#Filtering-by-a-string\" data-toc-modified-id=\"Filtering-by-a-string-2.6.1\"><span class=\"toc-item-num\">2.6.1&nbsp;&nbsp;</span>Filtering by a string</a></span></li><li><span><a href=\"#Exercise:-How-many-chromosomes-there-are-in-the-file?\" data-toc-modified-id=\"Exercise:-How-many-chromosomes-there-are-in-the-file?-2.6.2\"><span class=\"toc-item-num\">2.6.2&nbsp;&nbsp;</span>Exercise: How many chromosomes there are in the file?</a></span></li><li><span><a href=\"#Filtering-by-numerical-conditions\" data-toc-modified-id=\"Filtering-by-numerical-conditions-2.6.3\"><span class=\"toc-item-num\">2.6.3&nbsp;&nbsp;</span>Filtering by numerical conditions</a></span></li><li><span><a href=\"#Exercise---Find-chr8-sub-region\" data-toc-modified-id=\"Exercise---Find-chr8-sub-region-2.6.4\"><span class=\"toc-item-num\">2.6.4&nbsp;&nbsp;</span>Exercise - Find chr8 sub-region</a></span></li><li><span><a href=\"#Exercise---final-awk-test\" data-toc-modified-id=\"Exercise---final-awk-test-2.6.5\"><span class=\"toc-item-num\">2.6.5&nbsp;&nbsp;</span>Exercise - final awk test</a></span></li></ul></li><li><span><a href=\"#Splitting-a-file-in-multiple-files,-according-to-value-of-a-column\" data-toc-modified-id=\"Splitting-a-file-in-multiple-files,-according-to-value-of-a-column-2.7\"><span class=\"toc-item-num\">2.7&nbsp;&nbsp;</span>Splitting a file in multiple files, according to value of a column</a></span></li><li><span><a href=\"#Extracting-gene-symbols-from-a-string-in-awk\" data-toc-modified-id=\"Extracting-gene-symbols-from-a-string-in-awk-2.8\"><span class=\"toc-item-num\">2.8&nbsp;&nbsp;</span>Extracting gene symbols from a string in awk</a></span></li></ul></li><li><span><a href=\"#Editing-Text:-sed\" data-toc-modified-id=\"Editing-Text:-sed-3\"><span class=\"toc-item-num\">3&nbsp;&nbsp;</span>Editing Text: sed</a></span><ul class=\"toc-item\"><li><span><a href=\"#Pros-of-sed-vs-Word\" data-toc-modified-id=\"Pros-of-sed-vs-Word-3.1\"><span class=\"toc-item-num\">3.1&nbsp;&nbsp;</span>Pros of sed vs Word</a></span></li><li><span><a href=\"#Cons-of-sed\" data-toc-modified-id=\"Cons-of-sed-3.2\"><span class=\"toc-item-num\">3.2&nbsp;&nbsp;</span>Cons of sed</a></span></li><li><span><a href=\"#Basic-sed-syntax\" data-toc-modified-id=\"Basic-sed-syntax-3.3\"><span class=\"toc-item-num\">3.3&nbsp;&nbsp;</span>Basic sed syntax</a></span><ul class=\"toc-item\"><li><span><a href=\"#Find-&amp;-Replace-with-sed\" data-toc-modified-id=\"Find-&amp;-Replace-with-sed-3.3.1\"><span class=\"toc-item-num\">3.3.1&nbsp;&nbsp;</span>Find &amp; Replace with sed</a></span></li><li><span><a href=\"#Exercise---Find&amp;Replace-with-sed\" data-toc-modified-id=\"Exercise---Find&amp;Replace-with-sed-3.3.2\"><span class=\"toc-item-num\">3.3.2&nbsp;&nbsp;</span>Exercise - Find&amp;Replace with sed</a></span></li></ul></li></ul></li><li><span><a href=\"#Makefiles\" data-toc-modified-id=\"Makefiles-4\"><span class=\"toc-item-num\">4&nbsp;&nbsp;</span>Makefiles</a></span><ul class=\"toc-item\"><li><span><a href=\"#Defining-pipelines-with-Makefiles\" data-toc-modified-id=\"Defining-pipelines-with-Makefiles-4.1\"><span class=\"toc-item-num\">4.1&nbsp;&nbsp;</span>Defining pipelines with Makefiles</a></span></li><li><span><a href=\"#How-to-run-Makefile-rules\" data-toc-modified-id=\"How-to-run-Makefile-rules-4.2\"><span class=\"toc-item-num\">4.2&nbsp;&nbsp;</span>How to run Makefile rules</a></span><ul class=\"toc-item\"><li><span><a href=\"#Exercise!\" data-toc-modified-id=\"Exercise!-4.2.1\"><span class=\"toc-item-num\">4.2.1&nbsp;&nbsp;</span>Exercise!</a></span></li></ul></li></ul></li><li><span><a href=\"#What-have-you-learned-today?\" data-toc-modified-id=\"What-have-you-learned-today?-5\"><span class=\"toc-item-num\">5&nbsp;&nbsp;</span>What have you learned today?</a></span><ul class=\"toc-item\"><li><span><a href=\"#Dinner-time!!\" data-toc-modified-id=\"Dinner-time!!-5.1\"><span class=\"toc-item-num\">5.1&nbsp;&nbsp;</span>Dinner time!!</a></span></li></ul></li></ul></div>"
   ]
  },
  {
   "cell_type": "code",
   "execution_count": 181,
   "metadata": {
    "slideshow": {
     "slide_type": "skip"
    }
   },
   "outputs": [],
   "source": [
    "# Configuration - please ignore - this should not appear in the slideshow\n",
    "alias grep='grep --color'\n",
    "cd\n",
    "cd workspace/peb_unix_intro/exercises/\n",
    "# Please do not run this - it is only to format the slides\n",
    "# if you did, type \"unalias less\"\n",
    "alias less=\"head\"  "
   ]
  },
  {
   "cell_type": "markdown",
   "metadata": {
    "slideshow": {
     "slide_type": "slide"
    }
   },
   "source": [
    "# Introduction to Unix - awk, sed and Makefiles\n",
    "\n",
    "**<font color='darkgreen'> Welcome to the Programming for Evolutionary Biology workshop!! </font>** \n",
    "\n",
    "\n",
    "Giovanni M. Dall'Olio. Data Strategy and Design, GSK. March 2020. \n",
    "\n",
    "Quick link to slides online: https://tinyurl.com/evop-unix\n",
    "\n",
    "\n",
    "\n",
    "All materials available here: https://github.com/dalloliogm/peb_unix_intro/archive/master.zip\n",
    "\n",
    "Press space or down key to continue."
   ]
  },
  {
   "cell_type": "markdown",
   "metadata": {
    "slideshow": {
     "slide_type": "slide"
    }
   },
   "source": [
    "## Summary of the course today\n",
    "\n",
    "- Morning first half: Basic Terminal commands, First Login to Linux\n",
    "- Morning second half: Login to a Remote Unix server, browsing file contents\n",
    "- Afternoon first half: Finding patterns in a file with grep; piping commands; cut, sort and uniq\n",
    "- <font color=\"blue\">Afternoon second half</font>: awk and sed; makefiles"
   ]
  },
  {
   "cell_type": "markdown",
   "metadata": {
    "slideshow": {
     "slide_type": "slide"
    }
   },
   "source": [
    "# Working with tabular files: Awk\n",
    "\n",
    "\n",
    "The `awk` command is the equivalent of Excel/Calc for the command line. \n",
    "\n",
    "It allows to filter files by specific columns, execute numerical operations, or change to the order of the columns.\n"
   ]
  },
  {
   "cell_type": "markdown",
   "metadata": {
    "slideshow": {
     "slide_type": "subslide"
    }
   },
   "source": [
    "\n",
    "## Pros of awk vs Excel:\n",
    "- Very low memory requirements\n",
    "- Only one line at a time is processed, so `awk` can parse very large files without using resources\n",
    "\n",
    "## Cons of awk:\n",
    "- Need to define operations before opening the file\n",
    "- large I/O usage\n",
    "- only works on Text files"
   ]
  },
  {
   "cell_type": "markdown",
   "metadata": {
    "slideshow": {
     "slide_type": "slide"
    }
   },
   "source": [
    "## the GFF3 format for Genomic Annotations\n",
    "\n",
    "These `awk` exercises are based on GFF3, which is another format to store gene annotations. It's similar to BED, but the column order is different.\n",
    "\n",
    "The file `genes/human_genome_subset.gff` contains an example:"
   ]
  },
  {
   "cell_type": "code",
   "execution_count": 182,
   "metadata": {
    "run_control": {
     "frozen": false,
     "read_only": false
    },
    "slideshow": {
     "slide_type": "-"
    }
   },
   "outputs": [
    {
     "name": "stdout",
     "output_type": "stream",
     "text": [
      "##gff-version 3\n",
      "##source-version rtracklayer 1.42.1\n",
      "##date 2020-02-24\n",
      "##genome-build .\thg19\n",
      "chr22\trtracklayer\tsequence_feature\t24309026\t24314748\t.\t+\t.\tgene_id=100037417;symbol=DDTL;ID=100037417\n",
      "chr22\trtracklayer\tsequence_feature\t22007270\t22007347\t.\t+\t.\tgene_id=100126318;symbol=MIR301B;ID=100126318\n",
      "chr22\trtracklayer\tsequence_feature\t25498384\t25508659\t.\t-\t.\tgene_id=100128531;symbol=LOC100128531;ID=100128531\n",
      "chr22\trtracklayer\tsequence_feature\t49262582\t49294198\t.\t+\t.\tgene_id=100128946;symbol=LINC01310;ID=100128946\n",
      "chr21\trtracklayer\tsequence_feature\t47247755\t47256333\t.\t-\t.\tgene_id=100129027;symbol=LOC100129027;ID=100129027\n",
      "chr22\trtracklayer\tsequence_feature\t17517460\t17539682\t.\t+\t.\tgene_id=100130418;symbol=CECR7;ID=100130418\n"
     ]
    }
   ],
   "source": [
    "less genes/human_genome_subset.gff"
   ]
  },
  {
   "cell_type": "markdown",
   "metadata": {
    "slideshow": {
     "slide_type": "-"
    }
   },
   "source": [
    "As you can see it is a tab-separated file.\n",
    "\n",
    "The **GFF3** (General Feature Format) format specifications are defined [here](https://genome.ucsc.edu/FAQ/FAQformat.html#format3), but in short:\n",
    "\n",
    "- `col1`, `col4` and `col5` contain the chromosome name and genomic coordinates (start and end),\n",
    "- `col2` describes the tool or resource that generated the annotation,\n",
    "- `col3` describe the type of feature (e.g. gene, transcript, exon, TF binding site, Histone Acetylation mark, etc...\n",
    "- `col9` column contains several fields, separated by a semicolon\n"
   ]
  },
  {
   "cell_type": "markdown",
   "metadata": {
    "slideshow": {
     "slide_type": "subslide"
    }
   },
   "source": [
    "## Basic AWK syntax\n",
    "\n",
    "The basic AWK syntax is the following:\n",
    "\n",
    "\n",
    "    awk 'PATTERN {ACTION}' filename\n",
    "\n",
    "\n",
    "- **PATTERN**: select which rows to print\n",
    "        e.g. print only rows containing a specific word or pattern\n",
    "        \n",
    "- **ACTION**: what to do on each line (e.g. print a specific column, sum them, etc..)\n",
    "        e.g. print only column #1 and #2\n",
    "\n",
    "Here is an example awk command:"
   ]
  },
  {
   "cell_type": "code",
   "execution_count": 183,
   "metadata": {
    "run_control": {
     "frozen": false,
     "read_only": false
    },
    "slideshow": {
     "slide_type": "-"
    }
   },
   "outputs": [
    {
     "name": "stdout",
     "output_type": "stream",
     "text": [
      "chr21 31661463 31661832 .\n",
      "chr21 37441940 37498938 .\n",
      "chr21 31992946 31993169 .\n",
      "chr21 31962424 31962716 .\n",
      "chr21 32090843 32091095 .\n",
      "chr21 34637937 34638565 .\n",
      "chr21 30968360 31003067 .\n",
      "chr21 31747612 31747696 .\n",
      "chr21 14778705 14778781 .\n",
      "chr21 42539484 42539556 .\n"
     ]
    }
   ],
   "source": [
    "# This prints all the lines on chromosome 21 and with chromosomal position between 10000 and 20000\n",
    "# Don't need to type it yet - We'll go through this code in a minute\n",
    "# \n",
    "awk '$1 ~ /chr21/ && $4>11223344 && $5<44332211 {print $1, $4, $5, $6}' genes/human_genome_subset.gff | less"
   ]
  },
  {
   "cell_type": "markdown",
   "metadata": {
    "slideshow": {
     "slide_type": "slide"
    }
   },
   "source": [
    "## Awk - the ACTION component\n",
    "\n",
    "    awk 'PATTERN {ACTION}' filename\n",
    "\n",
    "The **ACTION** component of an awk command describes what to do with each line.\n",
    "\n",
    "- Actions must be included in curly brackets { }\n",
    "- The first column is `$1`; the second `$2`; and so on. `$0` to print everything\n",
    "- The whole `awk` statement must be included in quotes (pref single quotes)\n"
   ]
  },
  {
   "cell_type": "code",
   "execution_count": 184,
   "metadata": {
    "run_control": {
     "frozen": false,
     "read_only": false
    },
    "slideshow": {
     "slide_type": "subslide"
    }
   },
   "outputs": [
    {
     "name": "stdout",
     "output_type": "stream",
     "text": [
      "##gff-version   \n",
      "##source-version   \n",
      "##date   \n",
      "##genome-build   \n",
      "chr22 24309026 24314748 gene_id=100037417;symbol=DDTL;ID=100037417\n",
      "chr22 22007270 22007347 gene_id=100126318;symbol=MIR301B;ID=100126318\n",
      "chr22 25498384 25508659 gene_id=100128531;symbol=LOC100128531;ID=100128531\n",
      "chr22 49262582 49294198 gene_id=100128946;symbol=LINC01310;ID=100128946\n",
      "chr21 47247755 47256333 gene_id=100129027;symbol=LOC100129027;ID=100129027\n",
      "chr22 17517460 17539682 gene_id=100130418;symbol=CECR7;ID=100130418\n"
     ]
    }
   ],
   "source": [
    "# Basic awk command - similar to using cut -f 1,4,5,9\n",
    "awk '{print $1, $4, $5, $9}' genes/human_genome_subset.gff | head"
   ]
  },
  {
   "cell_type": "markdown",
   "metadata": {
    "slideshow": {
     "slide_type": "subslide"
    }
   },
   "source": [
    "### Exercise - compare awk with cut\n",
    "\n",
    "Use `cut` to print columns 1,4,5,9 of the `genes/human_genome_subset.gff` file, and compare it with the `awk` statement"
   ]
  },
  {
   "cell_type": "code",
   "execution_count": 185,
   "metadata": {
    "slideshow": {
     "slide_type": "fragment"
    }
   },
   "outputs": [
    {
     "name": "stdout",
     "output_type": "stream",
     "text": [
      "Printing columns 1,4,5,9 with awk\n",
      "##gff-version   \n",
      "##source-version   \n",
      "##date   \n",
      "##genome-build   \n",
      "chr22 24309026 24314748 gene_id=100037417;symbol=DDTL;ID=100037417\n",
      "chr22 22007270 22007347 gene_id=100126318;symbol=MIR301B;ID=100126318\n",
      "chr22 25498384 25508659 gene_id=100128531;symbol=LOC100128531;ID=100128531\n",
      "chr22 49262582 49294198 gene_id=100128946;symbol=LINC01310;ID=100128946\n",
      "chr21 47247755 47256333 gene_id=100129027;symbol=LOC100129027;ID=100129027\n",
      "chr22 17517460 17539682 gene_id=100130418;symbol=CECR7;ID=100130418\n",
      "\n",
      "Printing columns 1,4,5,9 with cut\n",
      "##gff-version 3\n",
      "##source-version rtracklayer 1.34.1\n",
      "##date 2017-02-27\n",
      "##genome-build .\n",
      "chr8\t18248755\t18258723\tgene_id=10;symbol=NAT2;exerc1=FALSE;ID=10\n",
      "chr8\t100549014\t100549089\tgene_id=100126309;symbol=MIR875;exerc1=FALSE;ID=100126309\n",
      "chr8\t144895127\t144895212\tgene_id=100126338;symbol=MIR937;exerc1=FALSE;ID=100126338\n",
      "chr8\t145619364\t145619445\tgene_id=100126351;symbol=MIR939;exerc1=FALSE;ID=100126351\n",
      "chr8\t91970706\t91997485\tgene_id=100127983;symbol=C8orf88;exerc1=FALSE;ID=100127983\n",
      "chr8\t74332309\t74353753\tgene_id=100128126;symbol=STAU2-AS1;exerc1=FALSE;ID=100128126\n"
     ]
    }
   ],
   "source": [
    "echo \"Printing columns 1,4,5,9 with awk\"\n",
    "awk '{print $1, $4, $5, $9}' genes/human_genome_subset.gff | head\n",
    "echo \"\" # empty line\n",
    "echo \"Printing columns 1,4,5,9 with cut\"\n",
    "cut -f 1,4,5,9  genes/chr8.gff  | head"
   ]
  },
  {
   "cell_type": "code",
   "execution_count": 186,
   "metadata": {
    "run_control": {
     "frozen": false,
     "read_only": false
    },
    "slideshow": {
     "slide_type": "skip"
    }
   },
   "outputs": [],
   "source": [
    "# To skip the headers, use grep with the -v option \n",
    "# grep -v '#' genes/human_genome_subset.gff |  awk '{print $1, $4, $5, $9}'  |  head"
   ]
  },
  {
   "cell_type": "markdown",
   "metadata": {
    "slideshow": {
     "slide_type": "subslide"
    }
   },
   "source": [
    "###  Operations between columns\n",
    "\n",
    "`awk` allows to do mathematical operations between columns.\n",
    "\n",
    "For example we can calculate the gene length, from gene start/end.\n",
    "\n",
    "Coordinates in GFF files are **1-based**, so we need to add 1 to the formula."
   ]
  },
  {
   "cell_type": "code",
   "execution_count": 187,
   "metadata": {},
   "outputs": [
    {
     "name": "stdout",
     "output_type": "stream",
     "text": [
      "##gff-version   1 \n",
      "##source-version   1 \n",
      "##date   1 \n",
      "##genome-build   1 \n",
      "chr22 24309026 24314748 5723 gene_id=100037417;symbol=DDTL;ID=100037417\n",
      "chr22 22007270 22007347 78 gene_id=100126318;symbol=MIR301B;ID=100126318\n",
      "chr22 25498384 25508659 10276 gene_id=100128531;symbol=LOC100128531;ID=100128531\n",
      "chr22 49262582 49294198 31617 gene_id=100128946;symbol=LINC01310;ID=100128946\n",
      "chr21 47247755 47256333 8579 gene_id=100129027;symbol=LOC100129027;ID=100129027\n",
      "chr22 17517460 17539682 22223 gene_id=100130418;symbol=CECR7;ID=100130418\n"
     ]
    }
   ],
   "source": [
    "# Calculating gene length\n",
    "awk '{print $1, $4, $5, $5-$4+1, $9}' genes/human_genome_subset.gff  |  head"
   ]
  },
  {
   "cell_type": "markdown",
   "metadata": {
    "slideshow": {
     "slide_type": "subslide"
    }
   },
   "source": [
    "### Exercise: calculating gene center\n",
    "\n",
    "Use `awk` to calculate the gene center for every row.\\|"
   ]
  },
  {
   "cell_type": "code",
   "execution_count": 188,
   "metadata": {
    "slideshow": {
     "slide_type": "fragment"
    }
   },
   "outputs": [
    {
     "name": "stdout",
     "output_type": "stream",
     "text": [
      "##gff-version   center:0 length:1\n",
      "##source-version   center:0 length:1\n",
      "##date   center:0 length:1\n",
      "##genome-build   center:0 length:1\n",
      "chr22 24309026 24314748 center:24311887 length:5723\n",
      "chr22 22007270 22007347 center:2.20073e+07 length:78\n",
      "chr22 25498384 25508659 center:2.55035e+07 length:10276\n",
      "chr22 49262582 49294198 center:49278390 length:31617\n",
      "chr21 47247755 47256333 center:47252044 length:8579\n",
      "chr22 17517460 17539682 center:17528571 length:22223\n"
     ]
    }
   ],
   "source": [
    "awk '{print $1, $4, $5, \"center:\"($5+$4)/2, \"length:\" $5-$4+1}' genes/human_genome_subset.gff  |  head"
   ]
  },
  {
   "cell_type": "markdown",
   "metadata": {
    "slideshow": {
     "slide_type": "slide"
    }
   },
   "source": [
    "## Awk - the PATTERN component\n",
    "\n",
    "    awk 'PATTERN {ACTION}' filename\n",
    "\n",
    "The PATTERN component of an awk command specifies filtering conditions.\n",
    "\n",
    "- Filter rows where a specific column matches a string, or values are higher than a cut-off\n",
    "- Columns can be referred as `$1`, `$2`, etc\n",
    "- The whole awk statement must be included in quotes"
   ]
  },
  {
   "cell_type": "markdown",
   "metadata": {
    "slideshow": {
     "slide_type": "subslide"
    }
   },
   "source": [
    "### Filtering by a string\n",
    "\n",
    "The `awk` statement below will filter all the lines where the first column is `chr22`.\n",
    "\n",
    "Note the syntax to match a specific string: `$COLUMN_NUMBER ~ /PATTERN/`"
   ]
  },
  {
   "cell_type": "code",
   "execution_count": 189,
   "metadata": {},
   "outputs": [
    {
     "name": "stdout",
     "output_type": "stream",
     "text": [
      "chr22\trtracklayer\tsequence_feature\t24309026\t24314748\t.\t+\t.\tgene_id=100037417;symbol=DDTL;ID=100037417\n",
      "chr22\trtracklayer\tsequence_feature\t22007270\t22007347\t.\t+\t.\tgene_id=100126318;symbol=MIR301B;ID=100126318\n",
      "chr22\trtracklayer\tsequence_feature\t25498384\t25508659\t.\t-\t.\tgene_id=100128531;symbol=LOC100128531;ID=100128531\n",
      "chr22\trtracklayer\tsequence_feature\t49262582\t49294198\t.\t+\t.\tgene_id=100128946;symbol=LINC01310;ID=100128946\n",
      "chr22\trtracklayer\tsequence_feature\t17517460\t17539682\t.\t+\t.\tgene_id=100130418;symbol=CECR7;ID=100130418\n",
      "chr22\trtracklayer\tsequence_feature\t17640279\t17646335\t.\t+\t.\tgene_id=100130717;symbol=HDHD5-AS1;ID=100130717\n",
      "chr22\trtracklayer\tsequence_feature\t40428336\t40432581\t.\t+\t.\tgene_id=100130899;symbol=LOC100130899;ID=100130899\n",
      "chr22\trtracklayer\tsequence_feature\t42486937\t42532702\t.\t+\t.\tgene_id=100132273;symbol=NDUFA6-DT;ID=100132273\n",
      "chr22\trtracklayer\tsequence_feature\t51021455\t51022355\t.\t+\t.\tgene_id=100144603;symbol=CHKB-DT;ID=100144603\n",
      "chr22\trtracklayer\tsequence_feature\t18512151\t18520734\t.\t+\t.\tgene_id=100192420;symbol=LINC01634;ID=100192420\n"
     ]
    }
   ],
   "source": [
    "awk '$1 ~ /chr22/ ' genes/human_genome_subset.gff | head\n"
   ]
  },
  {
   "cell_type": "markdown",
   "metadata": {
    "slideshow": {
     "slide_type": "subslide"
    }
   },
   "source": [
    "### Exercise: How many chromosomes there are in the file?\n",
    "\n",
    "- Use `awk` to print all the lines that match the string `chr`\n",
    "- Use `wc` to count how many lines there are (see `man wc`)\n",
    "- Bonus: Use `sort` and `uniq` to find how many unique chromosomes are present (don't need `cut` this time)\n",
    "- Bonus: Use the `-c` flag in `uniq` to count # of rows per chromosome"
   ]
  },
  {
   "cell_type": "code",
   "execution_count": 190,
   "metadata": {
    "slideshow": {
     "slide_type": "fragment"
    }
   },
   "outputs": [
    {
     "name": "stdout",
     "output_type": "stream",
     "text": [
      "   1649   14866  169483\n"
     ]
    }
   ],
   "source": [
    "awk '$1 ~ /chr/ ' genes/human_genome_subset.gff | wc"
   ]
  },
  {
   "cell_type": "code",
   "execution_count": 191,
   "metadata": {},
   "outputs": [
    {
     "name": "stdout",
     "output_type": "stream",
     "text": [
      "    296 chr21\n",
      "    535 chr22\n",
      "    818 chr8\n"
     ]
    }
   ],
   "source": [
    "awk '$1 ~ /chr/ {print $1}' genes/human_genome_subset.gff | sort | uniq -c"
   ]
  },
  {
   "cell_type": "markdown",
   "metadata": {
    "slideshow": {
     "slide_type": "subslide"
    }
   },
   "source": [
    "### Filtering by numerical conditions\n",
    "\n",
    "`awk` can also filter by numerical conditions.\n",
    "\n",
    "We can also specify multiple conditions, using `&&` (AND) and `||` (OR).\n",
    "\n",
    "The following will filter genes on `chr21`, from `11,223,344` to `44,332,211`:"
   ]
  },
  {
   "cell_type": "code",
   "execution_count": 192,
   "metadata": {
    "run_control": {
     "frozen": false,
     "read_only": false
    },
    "slideshow": {
     "slide_type": "fragment"
    }
   },
   "outputs": [
    {
     "name": "stdout",
     "output_type": "stream",
     "text": [
      "chr21\trtracklayer\tsequence_feature\t31661463\t31661832\t.\t-\t.\tgene_id=100131902;symbol=KRTAP25-1;ID=100131902\n",
      "chr21\trtracklayer\tsequence_feature\t37441940\t37498938\t.\t-\t.\tgene_id=100133286;symbol=LOC100133286;ID=100133286\n",
      "chr21\trtracklayer\tsequence_feature\t31992946\t31993169\t.\t+\t.\tgene_id=100151643;symbol=KRTAP20-4;ID=100151643\n",
      "chr21\trtracklayer\tsequence_feature\t31962424\t31962716\t.\t-\t.\tgene_id=100288287;symbol=KRTAP22-2;ID=100288287\n",
      "chr21\trtracklayer\tsequence_feature\t32090843\t32091095\t.\t-\t.\tgene_id=100288323;symbol=KRTAP21-3;ID=100288323\n",
      "chr21\trtracklayer\tsequence_feature\t34637937\t34638565\t.\t-\t.\tgene_id=100288432;symbol=IL10RB-DT;ID=100288432\n",
      "chr21\trtracklayer\tsequence_feature\t30968360\t31003067\t.\t+\t.\tgene_id=100379661;symbol=GRIK1-AS2;ID=100379661\n",
      "chr21\trtracklayer\tsequence_feature\t31747612\t31747696\t.\t-\t.\tgene_id=100422891;symbol=MIR4327;ID=100422891\n",
      "chr21\trtracklayer\tsequence_feature\t14778705\t14778781\t.\t-\t.\tgene_id=100423018;symbol=MIR3156-3;ID=100423018\n",
      "chr21\trtracklayer\tsequence_feature\t42539484\t42539556\t.\t+\t.\tgene_id=100423023;symbol=MIR3197;ID=100423023\n"
     ]
    }
   ],
   "source": [
    "awk '$1 ~ /chr21/ && $4>11223344 && $5<44332211' genes/human_genome_subset.gff | less"
   ]
  },
  {
   "cell_type": "markdown",
   "metadata": {
    "slideshow": {
     "slide_type": "subslide"
    }
   },
   "source": [
    "### Exercise - Find chr8 sub-region\n",
    "\n",
    "Print all the lines between for chromosome 8, between positions 5,000,000 and 10,000,000 (columns 4 and 5)\n",
    "\n",
    "- Use the syntax ```awk 'PATTERN' filename```\n",
    "- PATTERN is a condition to filter column `$1 ~ /chr8/`, `$4 > 5000000` and column `$5 < 10000000`\n",
    "- filename is `genes/human_genome_subset.gff`"
   ]
  },
  {
   "cell_type": "code",
   "execution_count": 193,
   "metadata": {
    "slideshow": {
     "slide_type": "-"
    }
   },
   "outputs": [
    {
     "name": "stdout",
     "output_type": "stream",
     "text": [
      "chr8\trtracklayer\tsequence_feature\t7143733\t7212876\t.\t-\t.\tgene_id=100128890;symbol=FAM66B;exerc1=TRUE;ID=100128890\n",
      "chr8\trtracklayer\tsequence_feature\t7215498\t7220490\t.\t-\t.\tgene_id=100131980;symbol=ZNF705G;exerc1=TRUE;ID=100131980\n",
      "chr8\trtracklayer\tsequence_feature\t7812535\t7866277\t.\t+\t.\tgene_id=100132103;symbol=FAM66E;exerc1=TRUE;ID=100132103\n",
      "chr8\trtracklayer\tsequence_feature\t7783859\t7809935\t.\t+       / Cows in \\\n",
      "chr8\trtracklayer\tsequence_feature\t6261077\t6264069\t.\t        | the      |\n",
      "chr8\trtracklayer\tsequence_feature\t7272385\t7274354\t.\t-       \\ Genome!  /\n",
      "chr8\trtracklayer\tsequence_feature\t7946463\t7946611\t.\t.\t  ---------\n",
      "chr8\trtracklayer\tsequence_feature\t6602685\t6602765\t.\t+\t ||  ^__^\n",
      "chr8\trtracklayer\tsequence_feature\t8905955\t8906028\t.\t+\t ||  (oo)\\\\_______\n",
      "chr8\trtracklayer\tsequence_feature\t6602689\t6602761\t.\t-\t     (__)\\\\       )\\\\/\\\n"
     ]
    }
   ],
   "source": [
    "awk '$1 ~ /chr8/ && $4 > 5000000 && $5 < 10000000 ' genes/human_genome_subset.gff  | head \n"
   ]
  },
  {
   "cell_type": "markdown",
   "metadata": {
    "slideshow": {
     "slide_type": "subslide"
    }
   },
   "source": [
    "### Exercise - final awk test\n",
    "\n",
    "- Find the line in `genes/human_genome_subset.gff` for the `POU5F1B` gene\n",
    "\n",
    "- Calculate the length of the gene, using columns `$4` and `$5`. This will give you a number.\n",
    "\n",
    "- Do another `awk` search to find the line of genes/chr8.gff where column `$9` contains such number"
   ]
  },
  {
   "cell_type": "code",
   "execution_count": 194,
   "metadata": {
    "run_control": {
     "frozen": false,
     "read_only": false
    },
    "slideshow": {
     "slide_type": "fragment"
    }
   },
   "outputs": [
    {
     "name": "stdout",
     "output_type": "stream",
     "text": [
      "gene length of POU5F1B is 1585\n"
     ]
    }
   ],
   "source": [
    "awk '$9 ~ /POU5F1B/ {print \"gene length of POU5F1B is \" $5-$4+1}' genes/human_genome_subset.gff \n"
   ]
  },
  {
   "cell_type": "code",
   "execution_count": 195,
   "metadata": {
    "run_control": {
     "frozen": false,
     "read_only": false
    },
    "slideshow": {
     "slide_type": "fragment"
    }
   },
   "outputs": [
    {
     "name": "stdout",
     "output_type": "stream",
     "text": [
      "chr8\tCorrect\tThis_is_the_correct_answer\t143991975\t143999259\t.\t-\t.\tgene_id=1585; Correct, this is the right answer\n"
     ]
    }
   ],
   "source": [
    "awk '$9 ~ /gene_id=1585/ {print $0}' genes/human_genome_subset.gff "
   ]
  },
  {
   "cell_type": "markdown",
   "metadata": {
    "slideshow": {
     "slide_type": "skip"
    }
   },
   "source": [
    "(skip)\n",
    "\n",
    "## Splitting a file in multiple files, according to value of a column\n",
    "\n",
    "The example.bed file contains lines belonging to different chromosomes (column 1). \n",
    "\n",
    "We can split these in separate files, using the following syntax:"
   ]
  },
  {
   "cell_type": "code",
   "execution_count": 196,
   "metadata": {
    "slideshow": {
     "slide_type": "skip"
    }
   },
   "outputs": [],
   "source": [
    "#(skip)\n",
    "\n",
    "#awk '{print>$1\".txt\"}' example.bed # doesn't work on MacBooc\n",
    "awk '{print>$1}' genes/example.bed"
   ]
  },
  {
   "cell_type": "markdown",
   "metadata": {
    "slideshow": {
     "slide_type": "subslide"
    }
   },
   "source": [
    "## Extracting gene symbols from a string in awk\n",
    "\n",
    "How to extract the gene IDs and Symbols from the GFF file?\n",
    "\n",
    "    gene_id=10;symbol=NAT2;exerc1=FALSE;ID=10\n",
    "\n",
    "\n",
    "We need to concatenate two awk commands, using a different Field Separator for each (`-F` flag)."
   ]
  },
  {
   "cell_type": "code",
   "execution_count": 216,
   "metadata": {
    "slideshow": {
     "slide_type": "-"
    }
   },
   "outputs": [
    {
     "name": "stdout",
     "output_type": "stream",
     "text": [
      "chr22 24309026 24314748 gene_id=100037417 symbol=DDTL\n",
      "chr22 22007270 22007347 gene_id=100126318 symbol=MIR301B\n",
      "chr22 25498384 25508659 gene_id=100128531 symbol=LOC100128531\n",
      "chr22 49262582 49294198 gene_id=100128946 symbol=LINC01310\n",
      "chr21 47247755 47256333 gene_id=100129027 symbol=LOC100129027\n",
      "chr22 17517460 17539682 gene_id=100130418 symbol=CECR7\n",
      "chr22 17640279 17646335 gene_id=100130717 symbol=HDHD5-AS1\n",
      "chr22 40428336 40432581 gene_id=100130899 symbol=LOC100130899\n",
      "chr21 31661463 31661832 gene_id=100131902 symbol=KRTAP25-1\n",
      "chr22 42486937 42532702 gene_id=100132273 symbol=NDUFA6-DT\n"
     ]
    }
   ],
   "source": [
    "awk '$1 ~ /chr/ {print $1, $4, $5, $9}' genes/human_genome_subset.gff | \n",
    "  awk -F';' '{print $1, $2}' | \n",
    "  head"
   ]
  },
  {
   "cell_type": "markdown",
   "metadata": {
    "slideshow": {
     "slide_type": "slide"
    }
   },
   "source": [
    "# Editing Text: sed\n",
    "\n",
    "The Unix command `sed` is a streaming Text Editor for the command line.\n",
    "\n",
    "It allows to modify text in a file and remove/add rows on text files\n"
   ]
  },
  {
   "cell_type": "markdown",
   "metadata": {
    "slideshow": {
     "slide_type": "subslide"
    }
   },
   "source": [
    "## Pros of sed vs Word\n",
    "\n",
    "- `sed` can modify large files without using much memory\n",
    "- Don't need to keep the full file contents in memory\n",
    "\n",
    "## Cons of sed\n",
    "\n",
    "- You need to define the operations before opening the contents\n",
    "- Imagine editing a file without looking at it!\n"
   ]
  },
  {
   "cell_type": "markdown",
   "metadata": {
    "slideshow": {
     "slide_type": "subslide"
    }
   },
   "source": [
    "## Basic sed syntax\n",
    "\n",
    "The `sed` syntax is:\n",
    "\n",
    "```\n",
    "    sed \"OPERATION\" FILENAME\n",
    "    \n",
    "```\n",
    "\n",
    "Today we are going to see only the basic usage of `sed`, which is Find&Replace\n",
    "\n",
    "The syntax is:\n",
    "\n",
    "```\n",
    "     sed \"s/FIND/REPLACE/\" FILENAME\n",
    "```"
   ]
  },
  {
   "cell_type": "markdown",
   "metadata": {
    "slideshow": {
     "slide_type": "subslide"
    }
   },
   "source": [
    "### Find & Replace with sed\n",
    "\n",
    "This will replace all the lower case instances of `chr` with upper case `CHR`:"
   ]
  },
  {
   "cell_type": "code",
   "execution_count": 207,
   "metadata": {},
   "outputs": [
    {
     "name": "stdout",
     "output_type": "stream",
     "text": [
      "##gff-version 3\n",
      "##source-version rtracklayer 1.42.1\n",
      "##date 2020-02-24\n",
      "##genome-build .\thg19\n",
      "CHR22\trtracklayer\tsequence_feature\t24309026\t24314748\t.\t+\t.\tgene_id=100037417;symbol=DDTL;ID=100037417\n",
      "CHR22\trtracklayer\tsequence_feature\t22007270\t22007347\t.\t+\t.\tgene_id=100126318;symbol=MIR301B;ID=100126318\n",
      "CHR22\trtracklayer\tsequence_feature\t25498384\t25508659\t.\t-\t.\tgene_id=100128531;symbol=LOC100128531;ID=100128531\n",
      "CHR22\trtracklayer\tsequence_feature\t49262582\t49294198\t.\t+\t.\tgene_id=100128946;symbol=LINC01310;ID=100128946\n",
      "CHR21\trtracklayer\tsequence_feature\t47247755\t47256333\t.\t-\t.\tgene_id=100129027;symbol=LOC100129027;ID=100129027\n",
      "CHR22\trtracklayer\tsequence_feature\t17517460\t17539682\t.\t+\t.\tgene_id=100130418;symbol=CECR7;ID=100130418\n"
     ]
    }
   ],
   "source": [
    "\n",
    "sed \"s/chr/CHR/\" genes/human_genome_subset.gff | head"
   ]
  },
  {
   "cell_type": "markdown",
   "metadata": {
    "slideshow": {
     "slide_type": "subslide"
    }
   },
   "source": [
    "### Exercise - Find&Replace with sed\n",
    "\n",
    "Starting from the query from the last awk exercise:\n",
    "\n",
    "`awk '$1 ~ /chr/ {print $1, $4, $5, $9}' genes/human_genome_subset.gff |\n",
    "awk -F';' '{print $1, $2}' \n",
    "`\n",
    "\n",
    "Add a `sed` statement to replace `gene_id=` and `symbol=` with empty strings"
   ]
  },
  {
   "cell_type": "code",
   "execution_count": 215,
   "metadata": {
    "slideshow": {
     "slide_type": "fragment"
    }
   },
   "outputs": [
    {
     "name": "stdout",
     "output_type": "stream",
     "text": [
      "chr22 24309026 24314748 100037417 DDTL\n",
      "chr22 22007270 22007347 100126318 MIR301B\n",
      "chr22 25498384 25508659 100128531 LOC100128531\n",
      "chr22 49262582 49294198 100128946 LINC01310\n",
      "chr21 47247755 47256333 100129027 LOC100129027\n",
      "chr22 17517460 17539682 100130418 CECR7\n",
      "chr22 17640279 17646335 100130717 HDHD5-AS1\n",
      "chr22 40428336 40432581 100130899 LOC100130899\n",
      "chr21 31661463 31661832 100131902 KRTAP25-1\n",
      "chr22 42486937 42532702 100132273 NDUFA6-DT\n"
     ]
    }
   ],
   "source": [
    "awk '$1 ~ /chr/ {print $1, $4, $5, $9}' genes/human_genome_subset.gff | \n",
    "  awk -F';' '{print $1, $2}' | \n",
    "  sed \"s/gene_id=//\" | \n",
    "  sed \"s/symbol=//\" | head"
   ]
  },
  {
   "cell_type": "markdown",
   "metadata": {
    "slideshow": {
     "slide_type": "slide"
    }
   },
   "source": [
    "# Makefiles\n",
    "\n",
    "\n",
    "The main `peb_unix_intro` contains a file called `Makefile`. \n",
    " \n",
    "Let's have a look at its contents: "
   ]
  },
  {
   "cell_type": "code",
   "execution_count": 198,
   "metadata": {
    "run_control": {
     "frozen": false,
     "read_only": false
    }
   },
   "outputs": [
    {
     "name": "stdout",
     "output_type": "stream",
     "text": [
      "# This is a Makefile, which will be explained later in the course.\n",
      "# Please don't look at it yet :-)\n",
      "\n",
      "explain: explain_text\n",
      "\t@echo Try running \"make explain\" to read an explanation\n",
      "publish: slides_bash commit\n",
      "\techo \"convert the slides to pdf, commit, and push to github\"\n",
      "\tgit push\n",
      "\n",
      "\n"
     ]
    }
   ],
   "source": [
    "cd\n",
    "cd workspace/peb_unix_intro  # Adjust this path to your system\n",
    "head Makefile"
   ]
  },
  {
   "cell_type": "markdown",
   "metadata": {
    "slideshow": {
     "slide_type": "subslide"
    }
   },
   "source": [
    "## Defining pipelines with Makefiles\n",
    "\n",
    "`Makefiles` are files describing pipelines of shell commands.\n",
    "\n",
    "Today you have typed many Unix commands, with different options and target. Would you remember what you typed and which options you have used?\n",
    "\n",
    "Writing them into a `Makefile` would make it easier to reproduce them."
   ]
  },
  {
   "cell_type": "markdown",
   "metadata": {
    "slideshow": {
     "slide_type": "fragment"
    }
   },
   "source": [
    "A Makefile is a collection of \"rules\".\n",
    "\n",
    "Each of these rules follows this basic syntax is:\n",
    "\n",
    "```\n",
    "target: prerequisites\n",
    "    commands to execute\n",
    "```\n",
    "\n",
    "As you can see in the Makefile included, most of the rules allow to regenerate the exercise files, or to execute some commands without having to type them everytime.\n",
    "\n",
    "For example, the rule \"testrule\" is associated to two echo commands."
   ]
  },
  {
   "cell_type": "markdown",
   "metadata": {
    "slideshow": {
     "slide_type": "subslide"
    }
   },
   "source": [
    "## How to run Makefile rules\n",
    "\n",
    "To execute a rule in the Makefile, simply type:\n",
    "\n",
    "```\n",
    "make [name of the rule]\n",
    "```\n",
    "\n",
    "For example:\n",
    "\n"
   ]
  },
  {
   "cell_type": "code",
   "execution_count": 199,
   "metadata": {
    "run_control": {
     "frozen": false,
     "read_only": false
    }
   },
   "outputs": [
    {
     "name": "stdout",
     "output_type": "stream",
     "text": [
      "echo this is a Makefile rule\n",
      "this is a Makefile rule\n",
      "echo You can associate it to as many commands you want\n",
      "You can associate it to as many commands you want\n"
     ]
    }
   ],
   "source": [
    "make testrule"
   ]
  },
  {
   "cell_type": "code",
   "execution_count": null,
   "metadata": {},
   "outputs": [],
   "source": []
  },
  {
   "cell_type": "markdown",
   "metadata": {
    "slideshow": {
     "slide_type": "fragment"
    }
   },
   "source": [
    "The program \"make\" will automatically detect any file named \"Makefile\" in the current directory, and execute any rule with the specific name."
   ]
  },
  {
   "cell_type": "markdown",
   "metadata": {},
   "source": [
    "Rules can also be nested together. For example the two rules \"test_exercises\" and \"generate_exercises\" at the beginning of the file are a way to call several other rules together."
   ]
  },
  {
   "cell_type": "markdown",
   "metadata": {
    "slideshow": {
     "slide_type": "subslide"
    }
   },
   "source": [
    "### Exercise!\n",
    "\n",
    "Explore the Makefile in the exercises folder.\n",
    "\n",
    "Run the rule for the awk1 exercise, and check if it is correct.\n",
    "\n",
    "- cd into the main folder for these exercises (peb_unix_intro)\n",
    "- Open the `Makefile` with `less`, to see the contents\n",
    "- Return to the terminal, and run the \"awk1\" rule\n",
    "- To run a `Makefile` rule, type ```make RULE```"
   ]
  },
  {
   "cell_type": "markdown",
   "metadata": {
    "slideshow": {
     "slide_type": "slide"
    }
   },
   "source": [
    "# What have you learned today?\n",
    "\n",
    "- The Unix command line is fun! (hopefully)\n",
    "- There is an incredible number of many Unix Commands to deal with text files\n",
    "- Unix commands are specialized to do single task, and are meant to be combined together with the pipe operator"
   ]
  },
  {
   "cell_type": "markdown",
   "metadata": {
    "slideshow": {
     "slide_type": "subslide"
    }
   },
   "source": [
    "## Dinner time!!\n"
   ]
  },
  {
   "cell_type": "code",
   "execution_count": 205,
   "metadata": {},
   "outputs": [],
   "source": [
    "cd ~/workspace/peb_unix_intro/exercises"
   ]
  }
 ],
 "metadata": {
  "celltoolbar": "Slideshow",
  "hide_input": false,
  "kernelspec": {
   "display_name": "Bash",
   "language": "bash",
   "name": "bash"
  },
  "language_info": {
   "codemirror_mode": "shell",
   "file_extension": ".sh",
   "mimetype": "text/x-sh",
   "name": "bash"
  },
  "nav_menu": {},
  "toc": {
   "base_numbering": 1,
   "nav_menu": {},
   "number_sections": true,
   "sideBar": true,
   "skip_h1_title": false,
   "title_cell": "Table of Contents",
   "title_sidebar": "Contents",
   "toc_cell": true,
   "toc_position": {
    "height": "calc(100% - 180px)",
    "left": "10px",
    "top": "150px",
    "width": "307.2px"
   },
   "toc_section_display": "block",
   "toc_window_display": false
  }
 },
 "nbformat": 4,
 "nbformat_minor": 1
}
