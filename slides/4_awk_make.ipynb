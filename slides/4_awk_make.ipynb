{
 "cells": [
  {
   "cell_type": "markdown",
   "metadata": {
    "toc": "true"
   },
   "source": [
    "<h1>Table of Contents<span class=\"tocSkip\"></span></h1>\n",
    "<div class=\"toc\"><ul class=\"toc-item\"><li><span><a href=\"#Introduction-to-Unix---awk-and-Makefiles\" data-toc-modified-id=\"Introduction-to-Unix---awk-and-Makefiles-1\"><span class=\"toc-item-num\">1&nbsp;&nbsp;</span>Introduction to Unix - awk and Makefiles</a></span><ul class=\"toc-item\"><li><span><a href=\"#Summary-of-the-course-today\" data-toc-modified-id=\"Summary-of-the-course-today-1.1\"><span class=\"toc-item-num\">1.1&nbsp;&nbsp;</span>Summary of the course today</a></span></li></ul></li><li><span><a href=\"#Working-with-tabular-files:-Awk\" data-toc-modified-id=\"Working-with-tabular-files:-Awk-2\"><span class=\"toc-item-num\">2&nbsp;&nbsp;</span>Working with tabular files: Awk</a></span><ul class=\"toc-item\"><li><span><a href=\"#Pros-of-awk-vs-Excel:\" data-toc-modified-id=\"Pros-of-awk-vs-Excel:-2.1\"><span class=\"toc-item-num\">2.1&nbsp;&nbsp;</span>Pros of awk vs Excel:</a></span></li><li><span><a href=\"#Cons-of-awk:\" data-toc-modified-id=\"Cons-of-awk:-2.2\"><span class=\"toc-item-num\">2.2&nbsp;&nbsp;</span>Cons of awk:</a></span></li><li><span><a href=\"#the-GFF3-format-for-Genomic-Annotations\" data-toc-modified-id=\"the-GFF3-format-for-Genomic-Annotations-2.3\"><span class=\"toc-item-num\">2.3&nbsp;&nbsp;</span>the GFF3 format for Genomic Annotations</a></span></li><li><span><a href=\"#Basic-AWK-syntax:-filters\" data-toc-modified-id=\"Basic-AWK-syntax:-filters-2.4\"><span class=\"toc-item-num\">2.4&nbsp;&nbsp;</span>Basic AWK syntax: filters</a></span></li><li><span><a href=\"#Awk---the-ACTION-component\" data-toc-modified-id=\"Awk---the-ACTION-component-2.5\"><span class=\"toc-item-num\">2.5&nbsp;&nbsp;</span>Awk - the ACTION component</a></span><ul class=\"toc-item\"><li><span><a href=\"#Operations-between-columns\" data-toc-modified-id=\"Operations-between-columns-2.5.1\"><span class=\"toc-item-num\">2.5.1&nbsp;&nbsp;</span>Operations between columns</a></span></li></ul></li><li><span><a href=\"#Awk---the-PATTERN-component\" data-toc-modified-id=\"Awk---the-PATTERN-component-2.6\"><span class=\"toc-item-num\">2.6&nbsp;&nbsp;</span>Awk - the PATTERN component</a></span><ul class=\"toc-item\"><li><span><a href=\"#Filtering-by-a-string\" data-toc-modified-id=\"Filtering-by-a-string-2.6.1\"><span class=\"toc-item-num\">2.6.1&nbsp;&nbsp;</span>Filtering by a string</a></span></li><li><span><a href=\"#Exercise:-How-many-chromosomes-there-are-in-the-file?\" data-toc-modified-id=\"Exercise:-How-many-chromosomes-there-are-in-the-file?-2.6.2\"><span class=\"toc-item-num\">2.6.2&nbsp;&nbsp;</span>Exercise: How many chromosomes there are in the file?</a></span></li><li><span><a href=\"#Filtering-by-numerical-conditions\" data-toc-modified-id=\"Filtering-by-numerical-conditions-2.6.3\"><span class=\"toc-item-num\">2.6.3&nbsp;&nbsp;</span>Filtering by numerical conditions</a></span></li><li><span><a href=\"#Exercise\" data-toc-modified-id=\"Exercise-2.6.4\"><span class=\"toc-item-num\">2.6.4&nbsp;&nbsp;</span>Exercise</a></span></li><li><span><a href=\"#Exercise!\" data-toc-modified-id=\"Exercise!-2.6.5\"><span class=\"toc-item-num\">2.6.5&nbsp;&nbsp;</span>Exercise!</a></span></li></ul></li><li><span><a href=\"#Splitting-a-file-in-multiple-files,-according-to-value-of-a-column\" data-toc-modified-id=\"Splitting-a-file-in-multiple-files,-according-to-value-of-a-column-2.7\"><span class=\"toc-item-num\">2.7&nbsp;&nbsp;</span>Splitting a file in multiple files, according to value of a column</a></span><ul class=\"toc-item\"><li><span><a href=\"#Extracting-gene-symbols-from-a-string-in-awk\" data-toc-modified-id=\"Extracting-gene-symbols-from-a-string-in-awk-2.7.1\"><span class=\"toc-item-num\">2.7.1&nbsp;&nbsp;</span>Extracting gene symbols from a string in awk</a></span></li><li><span><a href=\"#How-to-print-both-gene-coordinates-and-gene-symbols?\" data-toc-modified-id=\"How-to-print-both-gene-coordinates-and-gene-symbols?-2.7.2\"><span class=\"toc-item-num\">2.7.2&nbsp;&nbsp;</span>How to print both gene coordinates and gene symbols?</a></span></li></ul></li></ul></li><li><span><a href=\"#Makefiles\" data-toc-modified-id=\"Makefiles-3\"><span class=\"toc-item-num\">3&nbsp;&nbsp;</span>Makefiles</a></span><ul class=\"toc-item\"><li><span><a href=\"#Defining-pipelines-with-Makefiles\" data-toc-modified-id=\"Defining-pipelines-with-Makefiles-3.1\"><span class=\"toc-item-num\">3.1&nbsp;&nbsp;</span>Defining pipelines with Makefiles</a></span></li><li><span><a href=\"#How-to-run-Makefile-rules\" data-toc-modified-id=\"How-to-run-Makefile-rules-3.2\"><span class=\"toc-item-num\">3.2&nbsp;&nbsp;</span>How to run Makefile rules</a></span><ul class=\"toc-item\"><li><span><a href=\"#Exercise!\" data-toc-modified-id=\"Exercise!-3.2.1\"><span class=\"toc-item-num\">3.2.1&nbsp;&nbsp;</span>Exercise!</a></span></li></ul></li></ul></li><li><span><a href=\"#What-have-you-learned-today?\" data-toc-modified-id=\"What-have-you-learned-today?-4\"><span class=\"toc-item-num\">4&nbsp;&nbsp;</span>What have you learned today?</a></span><ul class=\"toc-item\"><li><span><a href=\"#Dinner-time!!\" data-toc-modified-id=\"Dinner-time!!-4.1\"><span class=\"toc-item-num\">4.1&nbsp;&nbsp;</span>Dinner time!!</a></span></li></ul></li></ul></div>"
   ]
  },
  {
   "cell_type": "code",
   "execution_count": 21,
   "metadata": {
    "slideshow": {
     "slide_type": "skip"
    }
   },
   "outputs": [],
   "source": [
    "# Configuration - please ignore - this should not appear in the slideshow\n",
    "alias grep='grep --color'\n",
    "cd\n",
    "cd workspace/peb_unix_intro/exercises/\n",
    "# Please do not run this - it is only to format the slides\n",
    "# if you did, type \"unalias less\"\n",
    "alias less=\"head\"  "
   ]
  },
  {
   "cell_type": "markdown",
   "metadata": {
    "slideshow": {
     "slide_type": "slide"
    }
   },
   "source": [
    "# Introduction to Unix - awk and Makefiles\n",
    "\n",
    "**<font color='darkgreen'> Welcome to the Programming for Evolutionary Biology workshop!! </font>** \n",
    "\n",
    "\n",
    "Giovanni M. Dall'Olio. Data Strategy and Design, GSK. March 2020. \n",
    "\n",
    "Quick link to slides online: https://tinyurl.com/evop-unix\n",
    "\n",
    "\n",
    "\n",
    "All materials available here: https://github.com/dalloliogm/peb_unix_intro/archive/master.zip\n",
    "\n",
    "Press space or down key to continue."
   ]
  },
  {
   "cell_type": "markdown",
   "metadata": {
    "slideshow": {
     "slide_type": "slide"
    }
   },
   "source": [
    "## Summary of the course today\n",
    "\n",
    "- Morning first half: Basic Terminal commands, First Login to Linux\n",
    "- Morning second half: Login to a Remote Unix server, browsing file contents\n",
    "- Afternoon first half: Finding patterns in a file with grep; piping commands; cut, sort and uniq\n",
    "- <font color=\"blue\">Afternoon second half</font>: awk and sed; makefiles"
   ]
  },
  {
   "cell_type": "markdown",
   "metadata": {
    "slideshow": {
     "slide_type": "slide"
    }
   },
   "source": [
    "# Working with tabular files: Awk\n",
    "\n",
    "\n",
    "The `awk` command is the equivalent of Excel/Calc for the command line. \n",
    "\n",
    "It allows to filter files by specific columns, execute numerical operations, or change to the order of the columns.\n"
   ]
  },
  {
   "cell_type": "markdown",
   "metadata": {
    "slideshow": {
     "slide_type": "subslide"
    }
   },
   "source": [
    "\n",
    "## Pros of awk vs Excel:\n",
    "- Very low memory requirements\n",
    "- Only one line at a time is processed, so `awk` can parse very large files without using resources\n",
    "\n",
    "## Cons of awk:\n",
    "- Need to define operations before opening the file\n",
    "- large I/O usage\n",
    "- only works on Text files"
   ]
  },
  {
   "cell_type": "markdown",
   "metadata": {
    "slideshow": {
     "slide_type": "slide"
    }
   },
   "source": [
    "## the GFF3 format for Genomic Annotations\n",
    "\n",
    "The exercises on `awk` will be based on GFF3, which is another format to store gene annotations. It's similar to BED, but the column order is different.\n",
    "\n",
    "The file `genes/chr8.gff` contains an example:"
   ]
  },
  {
   "cell_type": "code",
   "execution_count": 5,
   "metadata": {
    "run_control": {
     "frozen": false,
     "read_only": false
    },
    "slideshow": {
     "slide_type": "-"
    }
   },
   "outputs": [
    {
     "name": "stdout",
     "output_type": "stream",
     "text": [
      "##gff-version 3\n",
      "##source-version rtracklayer 1.34.1\n",
      "##date 2017-02-27\n",
      "##genome-build .\thg19\n",
      "chr8\trtracklayer\tsequence_feature\t18248755\t18258723\t.\t+\t.\tgene_id=10;symbol=NAT2;exerc1=FALSE;ID=10\n",
      "chr8\trtracklayer\tsequence_feature\t100549014\t100549089\t.\t-\t.\tgene_id=100126309;symbol=MIR875;exerc1=FALSE;ID=100126309\n",
      "chr8\trtracklayer\tsequence_feature\t144895127\t144895212\t.\t-\t.\tgene_id=100126338;symbol=MIR937;exerc1=FALSE;ID=100126338\n",
      "chr8\trtracklayer\tsequence_feature\t145619364\t145619445\t.\t-\t.\tgene_id=100126351;symbol=MIR939;exerc1=FALSE;ID=100126351\n",
      "chr8\trtracklayer\tsequence_feature\t91970706\t91997485\t.\t-\t.\tgene_id=100127983;symbol=C8orf88;exerc1=FALSE;ID=100127983\n",
      "chr8\trtracklayer\tsequence_feature\t74332309\t74353753\t.\t+\t.\tgene_id=100128126;symbol=STAU2-AS1;exerc1=FALSE;ID=100128126\n"
     ]
    }
   ],
   "source": [
    "head genes/chr8.gff"
   ]
  },
  {
   "cell_type": "markdown",
   "metadata": {
    "slideshow": {
     "slide_type": "-"
    }
   },
   "source": [
    "As you can see it is a tab-separated file.\n",
    "\n",
    "The **GFF** (General Feature Format) format specifications are defined [here](https://genome.ucsc.edu/FAQ/FAQformat.html#format3), but in short:\n",
    "\n",
    "- `col1`, `col4` and `col5` contain the chromosome name and genomic coordinates (start and end),\n",
    "- `col2` describes the tool or resource that generated the annotation,\n",
    "- `col3` describe the type of feature (e.g. gene, transcript, exon, TF binding site, Histone Acetylation mark, etc...\n",
    "- `col9` column contains several fields, separated by a semicolon\n"
   ]
  },
  {
   "cell_type": "markdown",
   "metadata": {
    "slideshow": {
     "slide_type": "subslide"
    }
   },
   "source": [
    "## Basic AWK syntax: filters\n",
    "\n",
    "The basic AWK syntax is the following:\n",
    "\n",
    "\n",
    "    awk 'PATTERN {ACTION}' filename\n",
    "\n",
    "\n",
    "- **PATTERN**: select which rows to print\n",
    "        e.g. print only rows containing a specific word or pattern\n",
    "        \n",
    "- **ACTION**: what to do on each line (e.g. print a specific column, sum them, etc..)\n",
    "        e.g. print only column #1 and #2\n",
    "\n",
    "Here is an example awk command:"
   ]
  },
  {
   "cell_type": "code",
   "execution_count": 9,
   "metadata": {
    "run_control": {
     "frozen": false,
     "read_only": false
    },
    "slideshow": {
     "slide_type": "-"
    }
   },
   "outputs": [
    {
     "name": "stdout",
     "output_type": "stream",
     "text": [
      "chr8\trtracklayer\tsequence_feature\t182200\t197339\t.\t+\t.\tgene_id=169270;symbol=ZNF596;exerc1=FALSE;ID=169270\n",
      "chr8\trtracklayer\tsequence_feature\t116086\t117024\t.\t-\t.\tgene_id=441308;symbol=OR4F21;exerc1=FALSE;ID=441308\n",
      "chr8\trtracklayer\tsequence_feature\t158345\t182318\t.\t-\t.\tgene_id=644128;symbol=RPL23AP53;exerc1=FALSE;ID=644128\n"
     ]
    }
   ],
   "source": [
    "# This prints all the lines on chromosome 8 and with chromosomal position between 10000 and 20000\n",
    "# We'll go through this code in a minute\n",
    "# \n",
    "awk '$1==\"chr8\" && $4>100000 && $5<200000 {print $0}' genes/chr8.gff"
   ]
  },
  {
   "cell_type": "markdown",
   "metadata": {
    "slideshow": {
     "slide_type": "slide"
    }
   },
   "source": [
    "## Awk - the ACTION component\n",
    "\n",
    "    awk 'PATTERN {ACTION}' filename\n",
    "\n",
    "The **ACTION** component of an awk command describes what to do with each line.\n",
    "\n",
    "- Actions must be included in curly brackets { }\n",
    "- The first column is `$1`; the second `$2`; and so on. `$0` to print everything\n",
    "- The whole `awk` statement must be included in quotes (pref single quotes)\n"
   ]
  },
  {
   "cell_type": "code",
   "execution_count": 51,
   "metadata": {
    "run_control": {
     "frozen": false,
     "read_only": false
    },
    "slideshow": {
     "slide_type": "subslide"
    }
   },
   "outputs": [
    {
     "name": "stdout",
     "output_type": "stream",
     "text": [
      "##gff-version   \n",
      "##source-version   \n",
      "##date   \n",
      "##genome-build   \n",
      "chr8 18248755 18258723 gene_id=10;symbol=NAT2;exerc1=FALSE;ID=10\n",
      "chr8 100549014 100549089 gene_id=100126309;symbol=MIR875;exerc1=FALSE;ID=100126309\n",
      "chr8 144895127 144895212 gene_id=100126338;symbol=MIR937;exerc1=FALSE;ID=100126338\n",
      "chr8 145619364 145619445 gene_id=100126351;symbol=MIR939;exerc1=FALSE;ID=100126351\n",
      "chr8 91970706 91997485 gene_id=100127983;symbol=C8orf88;exerc1=FALSE;ID=100127983\n",
      "chr8 74332309 74353753 gene_id=100128126;symbol=STAU2-AS1;exerc1=FALSE;ID=100128126\n"
     ]
    }
   ],
   "source": [
    "# Basic awk command - similar to using cut -f 1,4,5,9\n",
    "awk '{print $1, $4, $5, $9}' genes/chr8.gff | head\n",
    "# Try comparing with:\n",
    "# cut -f 1,4,5,9  genes/chr8.gff  | head"
   ]
  },
  {
   "cell_type": "code",
   "execution_count": 54,
   "metadata": {
    "run_control": {
     "frozen": false,
     "read_only": false
    },
    "slideshow": {
     "slide_type": "skip"
    }
   },
   "outputs": [],
   "source": [
    "# To skip the headers, use grep with the -v option \n",
    "# grep -v '#' genes/chr8.gff |  awk '{print $1, $4, $5, $9}'  |  head"
   ]
  },
  {
   "cell_type": "markdown",
   "metadata": {
    "slideshow": {
     "slide_type": "subslide"
    }
   },
   "source": [
    "###  Operations between columns\n",
    "\n",
    "`awk` allows to do mathematical operations between columns.\n",
    "\n",
    "For example we can calculate the gene length, from gene start/end.\n",
    "\n",
    "Note: GFF files are 1-based, so we need to add 1 to the formula"
   ]
  },
  {
   "cell_type": "code",
   "execution_count": 22,
   "metadata": {},
   "outputs": [
    {
     "name": "stdout",
     "output_type": "stream",
     "text": [
      "##gff-version   1 \n",
      "##source-version   1 \n",
      "##date   1 \n",
      "##genome-build   1 \n",
      "chr8 18248755 18258723 9969 gene_id=10;symbol=NAT2;exerc1=FALSE;ID=10\n",
      "chr8 100549014 100549089 76 gene_id=100126309;symbol=MIR875;exerc1=FALSE;ID=100126309\n",
      "chr8 144895127 144895212 86 gene_id=100126338;symbol=MIR937;exerc1=FALSE;ID=100126338\n",
      "chr8 145619364 145619445 82 gene_id=100126351;symbol=MIR939;exerc1=FALSE;ID=100126351\n",
      "chr8 91970706 91997485 26780 gene_id=100127983;symbol=C8orf88;exerc1=FALSE;ID=100127983\n",
      "chr8 74332309 74353753 21445 gene_id=100128126;symbol=STAU2-AS1;exerc1=FALSE;ID=100128126\n"
     ]
    }
   ],
   "source": [
    "# Calculating gene length\n",
    "awk '{print $1, $4, $5, $5-$4+1, $9}' genes/chr8.gff  |  head"
   ]
  },
  {
   "cell_type": "markdown",
   "metadata": {
    "slideshow": {
     "slide_type": "slide"
    }
   },
   "source": [
    "## Awk - the PATTERN component\n",
    "\n",
    "    awk 'PATTERN {ACTION}' filename\n",
    "\n",
    "The PATTERN component of an awk command specifies filtering conditions.\n",
    "\n",
    "- Filter rows where a specific column matches a string, or values are higher than a cut-off\n",
    "- Columns can be referred as `$1`, `$2`, etc\n",
    "- The whole awk statement must be included in quotes"
   ]
  },
  {
   "cell_type": "markdown",
   "metadata": {
    "slideshow": {
     "slide_type": "subslide"
    }
   },
   "source": [
    "### Filtering by a string\n",
    "\n",
    "The `awk` statement below will filter all the lines where the first column is `chr8`.\n",
    "\n",
    "Note the syntax to match a specific string: `$COLUMN_NUMBER ~ /PATTERN/`"
   ]
  },
  {
   "cell_type": "code",
   "execution_count": 23,
   "metadata": {},
   "outputs": [
    {
     "name": "stdout",
     "output_type": "stream",
     "text": [
      "chr8\trtracklayer\tsequence_feature\t18248755\t18258723\t.\t+\t.\tgene_id=10;symbol=NAT2;exerc1=FALSE;ID=10\n",
      "chr8\trtracklayer\tsequence_feature\t100549014\t100549089\t.\t-\t.\tgene_id=100126309;symbol=MIR875;exerc1=FALSE;ID=100126309\n",
      "chr8\trtracklayer\tsequence_feature\t144895127\t144895212\t.\t-\t.\tgene_id=100126338;symbol=MIR937;exerc1=FALSE;ID=100126338\n",
      "chr8\trtracklayer\tsequence_feature\t145619364\t145619445\t.\t-\t.\tgene_id=100126351;symbol=MIR939;exerc1=FALSE;ID=100126351\n",
      "chr8\trtracklayer\tsequence_feature\t91970706\t91997485\t.\t-\t.\tgene_id=100127983;symbol=C8orf88;exerc1=FALSE;ID=100127983\n",
      "chr8\trtracklayer\tsequence_feature\t74332309\t74353753\t.\t+\t.\tgene_id=100128126;symbol=STAU2-AS1;exerc1=FALSE;ID=100128126\n",
      "chr8\trtracklayer\tsequence_feature\t144816310\t144828507\t.\t+\t.\tgene_id=100128338;symbol=FAM83H-AS1;exerc1=FALSE;ID=100128338\n",
      "chr8\trtracklayer\tsequence_feature\t144077245\t144079080\t.\t+\t.\tgene_id=100128627;symbol=CDC42P3;exerc1=FALSE;ID=100128627\n",
      "chr8\trtracklayer\tsequence_feature\t30239635\t30242917\t.\t-\t.\tgene_id=100128750;symbol=RBPMS-AS1;exerc1=FALSE;ID=100128750\n",
      "chr8\trtracklayer\tsequence_feature\t7143733\t7212876\t.\t-\t.\tgene_id=100128890;symbol=FAM66B;exerc1=TRUE;ID=100128890\n"
     ]
    }
   ],
   "source": [
    "awk '$1 ~ /chr8/ ' genes/chr8.gff | head\n"
   ]
  },
  {
   "cell_type": "markdown",
   "metadata": {
    "slideshow": {
     "slide_type": "subslide"
    }
   },
   "source": [
    "### Exercise: How many chromosomes there are in the file?\n",
    "\n",
    "- Use `awk` to print all the lines that match the string `chr`\n",
    "- Use `wc` to count how many lines there are (see `man wc`)\n",
    "- Bonus: Use `cut`, `sort` and `uniq` to find how many unique chromosomes are present"
   ]
  },
  {
   "cell_type": "code",
   "execution_count": 33,
   "metadata": {
    "slideshow": {
     "slide_type": "fragment"
    }
   },
   "outputs": [
    {
     "name": "stdout",
     "output_type": "stream",
     "text": [
      "    818    7364   88987\n"
     ]
    }
   ],
   "source": [
    "awk '$1 ~ /chr/ ' genes/chr8.gff | wc"
   ]
  },
  {
   "cell_type": "code",
   "execution_count": 35,
   "metadata": {},
   "outputs": [
    {
     "name": "stdout",
     "output_type": "stream",
     "text": [
      "    818 chr8\n"
     ]
    }
   ],
   "source": [
    "awk '$1 ~ /chr/' genes/chr8.gff | cut -f 1 | sort | uniq -c"
   ]
  },
  {
   "cell_type": "markdown",
   "metadata": {
    "slideshow": {
     "slide_type": "subslide"
    }
   },
   "source": [
    "### Filtering by numerical conditions\n",
    "\n",
    "`awk` can also filter by numerical conditions.\n",
    "\n",
    "We can also specify multiple conditions, using `&&` (AND) and `||` (OR).\n",
    "\n",
    "The following will filter genes on chr8, from 5,000,000 to 10,000,000:"
   ]
  },
  {
   "cell_type": "code",
   "execution_count": 55,
   "metadata": {
    "run_control": {
     "frozen": false,
     "read_only": false
    },
    "slideshow": {
     "slide_type": "fragment"
    }
   },
   "outputs": [
    {
     "name": "stdout",
     "output_type": "stream",
     "text": [
      "chr8\trtracklayer\tsequence_feature\t7143733\t7212876\t.\t-\t.\tgene_id=100128890;symbol=FAM66B;exerc1=TRUE;ID=100128890\n",
      "chr8\trtracklayer\tsequence_feature\t7215498\t7220490\t.\t-\t.\tgene_id=100131980;symbol=ZNF705G;exerc1=TRUE;ID=100131980\n",
      "chr8\trtracklayer\tsequence_feature\t7812535\t7866277\t.\t+\t.\tgene_id=100132103;symbol=FAM66E;exerc1=TRUE;ID=100132103\n",
      "chr8\trtracklayer\tsequence_feature\t7783859\t7809935\t.\t+       / Cows in \\\n",
      "chr8\trtracklayer\tsequence_feature\t6261077\t6264069\t.\t        | the      |\n",
      "chr8\trtracklayer\tsequence_feature\t7272385\t7274354\t.\t-       \\ Genome!  /\n",
      "chr8\trtracklayer\tsequence_feature\t7946463\t7946611\t.\t.\t  ---------\n",
      "chr8\trtracklayer\tsequence_feature\t6602685\t6602765\t.\t+\t ||  ^__^\n",
      "chr8\trtracklayer\tsequence_feature\t8905955\t8906028\t.\t+\t ||  (oo)\\\\_______\n",
      "chr8\trtracklayer\tsequence_feature\t6602689\t6602761\t.\t-\t     (__)\\\\       )\\\\/\\\n"
     ]
    }
   ],
   "source": [
    "awk '$1 ~ /chr8/ && $4 > 5000000 && $5 < 10000000 ' genes/chr8.gff | head\n"
   ]
  },
  {
   "cell_type": "markdown",
   "metadata": {
    "slideshow": {
     "slide_type": "subslide"
    }
   },
   "source": [
    "### Exercise\n",
    "\n",
    "Print all the lines between chromosomal positions 5,000,000 and 10,000,000 (columns 4 and 5)\n",
    "\n",
    "- Use the syntax ```awk 'PATTERN' filename```\n",
    "- PATTERN is a condition to filter column \\\\$4 > 5000000 and column \\\\$5 < 10000000\n",
    "- filename is genes/chr8.gff"
   ]
  },
  {
   "cell_type": "code",
   "execution_count": 71,
   "metadata": {
    "slideshow": {
     "slide_type": "-"
    }
   },
   "outputs": [
    {
     "name": "stdout",
     "output_type": "stream",
     "text": [
      "      47     425    4709\n"
     ]
    }
   ],
   "source": [
    "awk '$4 > 5000000 && $5 < 10000000 ' genes/chr8.gff | wc \n"
   ]
  },
  {
   "cell_type": "markdown",
   "metadata": {
    "slideshow": {
     "slide_type": "-"
    }
   },
   "source": [
    "The first number is the number of rows; the other numbers are the number of words, and the number of characters in total.\n"
   ]
  },
  {
   "cell_type": "markdown",
   "metadata": {
    "slideshow": {
     "slide_type": "subslide"
    }
   },
   "source": [
    "### Exercise!\n",
    "\n",
    "Calculate the lenght of the gene POU5F1B.\n",
    "\n",
    "Find the Gene whose gene_id is equal to that number.\n",
    "\n",
    "- Find all the lines of genes/chr8.gff where column \\$9 ~ \\/POU5F1B\\/\n",
    "\n",
    "- Print the length of the gene, by subtracting column \\\\$4 from column \\$5. This will give you a number.\n",
    "\n",
    "- Find the line of genes/chr8.gff where column $9 contains such number"
   ]
  },
  {
   "cell_type": "code",
   "execution_count": 12,
   "metadata": {
    "run_control": {
     "frozen": false,
     "read_only": false
    },
    "slideshow": {
     "slide_type": "fragment"
    }
   },
   "outputs": [
    {
     "name": "stdout",
     "output_type": "stream",
     "text": [
      "1584\n"
     ]
    }
   ],
   "source": [
    "awk '$9 ~ /POU5F1B/ {print $5-$4}' genes/chr8.gff \n"
   ]
  },
  {
   "cell_type": "code",
   "execution_count": 8,
   "metadata": {
    "run_control": {
     "frozen": false,
     "read_only": false
    },
    "slideshow": {
     "slide_type": "fragment"
    }
   },
   "outputs": [
    {
     "name": "stdout",
     "output_type": "stream",
     "text": [
      "chr8\tWell_done\tGreat_job\t143953773\t143961236\t.\t-\t.\tgene_id=1584;symbol=CYP11B1;exerc1=FALSE;ID=1584\n"
     ]
    }
   ],
   "source": [
    "awk '$9 ~ /gene_id=1584/ {print $0}' genes/chr8.gff "
   ]
  },
  {
   "cell_type": "markdown",
   "metadata": {
    "slideshow": {
     "slide_type": "slide"
    }
   },
   "source": [
    "## Splitting a file in multiple files, according to value of a column\n",
    "\n",
    "The example.bed file contains lines belonging to different chromosomes (column 1). \n",
    "\n",
    "We can split these in separate files, using the following syntax:"
   ]
  },
  {
   "cell_type": "code",
   "execution_count": 75,
   "metadata": {},
   "outputs": [],
   "source": [
    "#awk '{print>$1\".txt\"}' example.bed # doesn't work on MacBooc\n",
    "awk '{print>$1}' genes/example.bed"
   ]
  },
  {
   "cell_type": "code",
   "execution_count": 76,
   "metadata": {},
   "outputs": [
    {
     "name": "stdout",
     "output_type": "stream",
     "text": [
      "1_browsing_textfiles.txt\tchr8\n",
      "2_searching_patterns.txt\tgenes\n",
      "bos_taurus.txt\t\t\tmultiplefiles\n",
      "chr20\t\t\t\told_files\n"
     ]
    }
   ],
   "source": [
    "ls"
   ]
  },
  {
   "cell_type": "markdown",
   "metadata": {
    "slideshow": {
     "slide_type": "subslide"
    }
   },
   "source": [
    "### Extracting gene symbols from a string in awk\n",
    "\n",
    "Notice how in in this file the gene symbols are embedded in a long string containing other information:\n",
    "\n",
    "    gene_id=10;symbol=NAT2;exerc1=FALSE;ID=10\n",
    "\n",
    "\n",
    "Is there a way to extract just the gene ID and Symbols from this text, while also keeping the gene coordinates?\n"
   ]
  },
  {
   "cell_type": "markdown",
   "metadata": {
    "slideshow": {
     "slide_type": "fragment"
    }
   },
   "source": [
    "Extracting the gene symbols in this case is not trivial, but this example applies to several formats in bioinformatics, so it is useful to see how to do it.\n",
    "\n",
    "The first step is to use the -F operator in awk to specify a different fields separator - in this case, the semicolon:\n",
    "\n"
   ]
  },
  {
   "cell_type": "code",
   "execution_count": 54,
   "metadata": {
    "slideshow": {
     "slide_type": "-"
    }
   },
   "outputs": [
    {
     "name": "stdout",
     "output_type": "stream",
     "text": [
      "symbol=NAT2\n",
      "symbol=MIR875\n",
      "symbol=MIR937\n",
      "symbol=MIR939\n",
      "symbol=C8orf88\n",
      "symbol=STAU2-AS1\n",
      "symbol=FAM83H-AS1\n",
      "symbol=CDC42P3\n",
      "symbol=RBPMS-AS1\n",
      "symbol=FAM66B\n"
     ]
    }
   ],
   "source": [
    "grep -v '^#' genes/chr8.gff | awk -F';' '{print $2}' | head"
   ]
  },
  {
   "cell_type": "markdown",
   "metadata": {
    "slideshow": {
     "slide_type": "subslide"
    }
   },
   "source": [
    "### How to print both gene coordinates and gene symbols?\n",
    "\n",
    "We have to use two consecutive awk searches. \n",
    "\n",
    "- in the first awk statement, we will extract the chromosome, start, end columns, as well as the string containing the symbol string (column 1, 4,5, and 9);\n",
    "- in the second statement, we will split the symbol string to extract the symbol id  "
   ]
  },
  {
   "cell_type": "code",
   "execution_count": 58,
   "metadata": {
    "run_control": {
     "frozen": false,
     "read_only": false
    }
   },
   "outputs": [
    {
     "name": "stdout",
     "output_type": "stream",
     "text": [
      "chr8 18248755 18258723 gene_id=10 symbol=NAT2\n",
      "chr8 100549014 100549089 gene_id=100126309 symbol=MIR875\n",
      "chr8 144895127 144895212 gene_id=100126338 symbol=MIR937\n",
      "chr8 145619364 145619445 gene_id=100126351 symbol=MIR939\n",
      "chr8 91970706 91997485 gene_id=100127983 symbol=C8orf88\n",
      "chr8 74332309 74353753 gene_id=100128126 symbol=STAU2-AS1\n",
      "chr8 144816310 144828507 gene_id=100128338 symbol=FAM83H-AS1\n",
      "chr8 144077245 144079080 gene_id=100128627 symbol=CDC42P3\n",
      "chr8 30239635 30242917 gene_id=100128750 symbol=RBPMS-AS1\n",
      "chr8 7143733 7212876 gene_id=100128890 symbol=FAM66B\n"
     ]
    }
   ],
   "source": [
    "grep -v '^#' genes/chr8.gff | awk '{print $1, $4, $5, $9}' | grep -v '^#' | awk -F';' '{print $1, $2}' | head"
   ]
  },
  {
   "cell_type": "markdown",
   "metadata": {
    "slideshow": {
     "slide_type": "slide"
    }
   },
   "source": [
    "# Makefiles\n",
    "\n",
    "\n",
    "You may have noticed that the unix_intro folder contains a file called Makefile. \n",
    " \n",
    "What is a Makefile? Let's have a look at its contents first: "
   ]
  },
  {
   "cell_type": "code",
   "execution_count": 14,
   "metadata": {
    "run_control": {
     "frozen": false,
     "read_only": false
    }
   },
   "outputs": [
    {
     "name": "stdout",
     "output_type": "stream",
     "text": [
      "# This is a Makefile, which will be explained later in the course.\n",
      "# Please don't look at it yet :-)\n",
      "\n",
      "publish: slides_bash commit\n",
      "\techo \"convert the slides to pdf, commit, and push to github\"\n",
      "\tgit push\n",
      "\n",
      "\n",
      "test_exercises: start help ignorecase multiplefiles\n",
      "generate_exercises: generate_grep generate_awk\n"
     ]
    }
   ],
   "source": [
    "cd ..\n",
    "head Makefile"
   ]
  },
  {
   "cell_type": "markdown",
   "metadata": {},
   "source": [
    "Press space or the down key to continue"
   ]
  },
  {
   "cell_type": "markdown",
   "metadata": {
    "slideshow": {
     "slide_type": "subslide"
    }
   },
   "source": [
    "## Defining pipelines with Makefiles\n",
    "\n",
    "Makefiles are a basic way to define pipelines of shell commands.\n",
    "\n",
    "Nowadays there are more sophisticated tools available, but most of these are based on Makefiles.\n"
   ]
  },
  {
   "cell_type": "markdown",
   "metadata": {
    "slideshow": {
     "slide_type": "fragment"
    }
   },
   "source": [
    "A Makefile is a collection of \"rules\".\n",
    "\n",
    "Each of these rules follows this basic syntax is:\n",
    "\n",
    "```\n",
    "target: prerequisites\n",
    "    commands to execute\n",
    "```\n",
    "\n",
    "As you can see in the Makefile included, most of the rules allow to regenerate the exercise files, or to execute some commands without having to type them everytime.\n",
    "\n",
    "For example, the rule \"testrule\" is associated to two echo commands."
   ]
  },
  {
   "cell_type": "markdown",
   "metadata": {
    "slideshow": {
     "slide_type": "subslide"
    }
   },
   "source": [
    "## How to run Makefile rules\n",
    "\n",
    "To execute a rule in the Makefile, simply type:\n",
    "\n",
    "```\n",
    "make [name of the rule]\n",
    "```\n",
    "\n",
    "For example:\n",
    "\n"
   ]
  },
  {
   "cell_type": "code",
   "execution_count": 25,
   "metadata": {
    "run_control": {
     "frozen": false,
     "read_only": false
    }
   },
   "outputs": [
    {
     "name": "stdout",
     "output_type": "stream",
     "text": [
      "echo this is a Makefile rule\r\n",
      "this is a Makefile rule\r\n",
      "echo You can associate it to as many commands you want\r\n",
      "You can associate it to as many commands you want\r\n"
     ]
    }
   ],
   "source": [
    "make testrule"
   ]
  },
  {
   "cell_type": "markdown",
   "metadata": {
    "slideshow": {
     "slide_type": "fragment"
    }
   },
   "source": [
    "The program \"make\" will automatically detect any file named \"Makefile\" in the current directory, and execute any rule with the specific name."
   ]
  },
  {
   "cell_type": "markdown",
   "metadata": {},
   "source": [
    "Rules can also be nested together. For example the two rules \"test_exercises\" and \"generate_exercises\" at the beginning of the file are a way to call several other rules together."
   ]
  },
  {
   "cell_type": "markdown",
   "metadata": {
    "slideshow": {
     "slide_type": "subslide"
    }
   },
   "source": [
    "### Exercise!\n",
    "\n",
    "Explore the Makefile in the exercises folder.\n",
    "\n",
    "Run the rule for the awk1 exercise, and check if it is correct.\n",
    "\n",
    "- cd into the main folder for these exercises (peb_unix_intro)\n",
    "- Open the Makefile with less, to see the contents\n",
    "- Return to the terminal, and run the \"awk1\" rule\n",
    "- To run a Makefile rule, type ```make RULE```"
   ]
  },
  {
   "cell_type": "markdown",
   "metadata": {
    "slideshow": {
     "slide_type": "slide"
    }
   },
   "source": [
    "# What have you learned today?\n",
    "\n",
    "- The Unix command line is fun! (hopefully)\n",
    "- There is an incredible number of many Unix Commands to deal with text files\n",
    "- Unix commands are specialized to do single task, and are meant to be combined together with the pipe operator"
   ]
  },
  {
   "cell_type": "markdown",
   "metadata": {
    "slideshow": {
     "slide_type": "subslide"
    }
   },
   "source": [
    "## Dinner time!!\n"
   ]
  }
 ],
 "metadata": {
  "celltoolbar": "Slideshow",
  "hide_input": false,
  "kernelspec": {
   "display_name": "Bash",
   "language": "bash",
   "name": "bash"
  },
  "language_info": {
   "codemirror_mode": "shell",
   "file_extension": ".sh",
   "mimetype": "text/x-sh",
   "name": "bash"
  },
  "nav_menu": {},
  "toc": {
   "base_numbering": 1,
   "nav_menu": {},
   "number_sections": true,
   "sideBar": true,
   "skip_h1_title": false,
   "title_cell": "Table of Contents",
   "title_sidebar": "Contents",
   "toc_cell": true,
   "toc_position": {},
   "toc_section_display": "block",
   "toc_window_display": false
  }
 },
 "nbformat": 4,
 "nbformat_minor": 1
}
